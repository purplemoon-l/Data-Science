{
  "nbformat": 4,
  "nbformat_minor": 0,
  "metadata": {
    "kernelspec": {
      "display_name": "Python 3",
      "language": "python",
      "name": "python3"
    },
    "language_info": {
      "codemirror_mode": {
        "name": "ipython",
        "version": 3
      },
      "file_extension": ".py",
      "mimetype": "text/x-python",
      "name": "python",
      "nbconvert_exporter": "python",
      "pygments_lexer": "ipython3",
      "version": "3.7.6"
    },
    "colab": {
      "provenance": []
    }
  },
  "cells": [
    {
      "cell_type": "markdown",
      "source": [
        "# **NumPy Basics**"
      ],
      "metadata": {
        "id": "P98cft9EkYsh"
      }
    },
    {
      "cell_type": "markdown",
      "source": [
        "\n",
        "\n",
        "\n",
        "\n",
        "*   The core data type in Numpy is the **ndarray**, which enables fast and space-efficient multidimensional array processing.\n",
        "\n",
        "\n",
        "\n",
        ">> Note: This notebook is adapted from chapter 4 Python for Data Analysis by Wes McKinney and O'Reilly publishing( You may access this book online using NYU Libraries website here: https://tinyurl.com/2jj97cr7)\n",
        "\n",
        ">> NumPy has many, many features that won't be covered here. \n",
        "The following snippets in this notebook are just to illustrate basic data types and operations within numpy.\n",
        "\n",
        ">> Another good resource for learning more about ndarrays is here:\n",
        "http://docs.scipy.org/doc/numpy/reference/arrays.html\n"
      ],
      "metadata": {
        "id": "desMVcg0VmTY"
      }
    },
    {
      "cell_type": "code",
      "metadata": {
        "id": "WoKDerQzQxYq",
        "outputId": "f31886ab-fc77-4eb0-e7a9-21af88e41e22",
        "colab": {
          "base_uri": "https://localhost:8080/"
        }
      },
      "source": [
        "'''\n",
        "- The 'import numpy' portion of the code tells Python to bring the NumPy library into your current environment. \n",
        "- The 'as np' portion of the code then tells Python to give NumPy the alias(namespace) of np. This allows you to use NumPy functions by simply typing 'np.foo' rather than 'numpy.foo'\n",
        "- Good reference: http://docs.python-guide.org/en/latest/writing/structure/#modules\n",
        "- \"from numpy import *\" --> imports all objects from the numpy module into your current namespace (in this case, to \"np\"), which allows you to call objects within numpy using only 'foo' instead \n",
        "  'np.foo'\n",
        "- Task: Do you know what 'foo' means here?\n",
        "'''\n",
        "import numpy as np\n",
        "\n",
        "# It is easy to create N*1 and N*M arrays from standard Python lists\n",
        "l1 = [0,1,2]    \n",
        "l2 = [3,4,5]    \n",
        "\n",
        "nd1 = np.array(l1)  #creates N*1 numpy array\n",
        "print('shape of nd1: \\n',nd1.shape)\n",
        "print(\"nd1:\\n\", nd1)\n",
        "\n",
        "nd2 = np.array([l1,  l2])\n",
        "print(\"\\nshape of nd2: \\n\", nd2.shape)\n",
        "print(\"nd2:\\n\",nd2)"
      ],
      "execution_count": null,
      "outputs": [
        {
          "output_type": "stream",
          "name": "stdout",
          "text": [
            "shape of nd1: \n",
            " (3,)\n",
            "nd1:\n",
            " [0 1 2]\n",
            "\n",
            "shape of nd2: \n",
            " (2, 3)\n",
            "nd2:\n",
            " [[0 1 2]\n",
            " [3 4 5]]\n"
          ]
        }
      ]
    },
    {
      "cell_type": "code",
      "metadata": {
        "colab": {
          "base_uri": "https://localhost:8080/"
        },
        "id": "1zc6jhjEQxYt",
        "outputId": "a6d53248-04c5-4ef6-f628-4794c381491b"
      },
      "source": [
        "#Now, we can ask for some basic info to describe the ndarray\n",
        "def desc_ndarray(nd):\n",
        "    try:\n",
        "        print(\"\\nThe ndarray has dimension n=%s and m=%s\" % (nd.shape[0],nd.shape[1]))\n",
        "    except:\n",
        "        print(\"\\nThe ndarray has dimension n=%s and m=1\" % nd.shape[0])\n",
        "    print(\"\\nThe ndarray has elements of type: %s\" % nd.dtype)\n",
        "\n",
        "desc_ndarray(nd1)\n",
        "desc_ndarray(nd2)"
      ],
      "execution_count": null,
      "outputs": [
        {
          "output_type": "stream",
          "name": "stdout",
          "text": [
            "\n",
            "The ndarray has dimension n=3 and m=1\n",
            "\n",
            "The ndarray has elements of type: int64\n",
            "\n",
            "The ndarray has dimension n=2 and m=3\n",
            "\n",
            "The ndarray has elements of type: int64\n"
          ]
        }
      ]
    },
    {
      "cell_type": "code",
      "metadata": {
        "colab": {
          "base_uri": "https://localhost:8080/"
        },
        "id": "kZMdI4-WQxYu",
        "outputId": "2d0eb322-2722-4a45-a381-2c7277b9801f"
      },
      "source": [
        "#There are shortcuts for creating certain frequently used special ndarrays, i.e.,\n",
        "\n",
        "k=4\n",
        "\n",
        "#1. an ndarray of all zeros\n",
        "zero = np.zeros(k, dtype= int)\n",
        "\n",
        "#2. an ndarray of all ones\n",
        "one = np.ones(k, dtype=int)\n",
        "\n",
        "#3. an ndarray of random elements (this one is standard normal, but there are many distributions to choose from)\n",
        "rand = np.random.randn(k)\n",
        "\n",
        "print('\\n 4*1 array of zeroes: ',zero)\n",
        "print('\\n 4*1 array of zeroes: ',one)\n",
        "print('\\n 4*1 array of random numbers: ',rand)"
      ],
      "execution_count": null,
      "outputs": [
        {
          "output_type": "stream",
          "name": "stdout",
          "text": [
            "\n",
            " 4*1 array of zeroes:  [0 0 0 0]\n",
            "\n",
            " 4*1 array of zeroes:  [1 1 1 1]\n",
            "\n",
            " 4*1 array of random numbers:  [-1.24961888 -0.20150501 -2.32807664 -0.88559706]\n"
          ]
        }
      ]
    },
    {
      "cell_type": "markdown",
      "source": [
        "###**For indexing an array:**\n",
        "\n",
        "---\n",
        "\n",
        "\n",
        "*   If nx1 array, follow the same protocol as a regular Python list\n",
        "*   If nxm array, use the following examples\n",
        "\n",
        "\n",
        "\n",
        "\n",
        "\n"
      ],
      "metadata": {
        "id": "bduzoVlJX2lE"
      }
    },
    {
      "cell_type": "code",
      "metadata": {
        "colab": {
          "base_uri": "https://localhost:8080/"
        },
        "id": "_4PTipflQxYu",
        "outputId": "fe585b52-e80b-4624-f241-3653f7ecd404"
      },
      "source": [
        "arr2d = np.random.randn(4,2)\n",
        "arr1d = np.random.randn(5)\n",
        "#A single index gets a full row\n",
        "print('One-dimensional array:\\n', arr1d, '- index 1', arr1d[1])\n",
        "#2 indexes returns a value\n",
        "print('Two-dimensional array:\\n',arr2d, ' - row 1', arr2d[1], '- item 1 in row 1', arr2d[1,1])"
      ],
      "execution_count": null,
      "outputs": [
        {
          "output_type": "stream",
          "name": "stdout",
          "text": [
            "One-dimensional array:\n",
            " [ 0.61544049  0.10920879 -0.76540262  0.27717638 -1.09998579] - index 1 0.10920878607786678\n",
            "Two-dimensional array:\n",
            " [[ 0.43839145 -0.27920369]\n",
            " [ 2.39582278 -2.24461473]\n",
            " [-0.7494258   0.89455722]\n",
            " [ 0.66360035  0.37911042]]  - row 1 [ 2.39582278 -2.24461473] - item 1 in row 1 -2.244614734759653\n"
          ]
        }
      ]
    },
    {
      "cell_type": "markdown",
      "source": [
        "###**Operations between Arrays and Scalars**\n",
        "\n",
        "---\n",
        "\n",
        "\n",
        "\n",
        "*   An important feature of ndarrays is they allow batch operations on data without writing any for loops.  This is called vectorization.\n",
        "*   Any arithmetic operations between equal-size arrays applies the operation **elementwise**. \n",
        "\n",
        "\n",
        "\n",
        "\n"
      ],
      "metadata": {
        "id": "VU5ihEMIYnwK"
      }
    },
    {
      "cell_type": "code",
      "metadata": {
        "colab": {
          "base_uri": "https://localhost:8080/"
        },
        "id": "5d47ge0nQxYv",
        "outputId": "fa3bd235-8308-4762-e0f0-07220465210b"
      },
      "source": [
        "#examples\n",
        "\n",
        "k = 4\n",
        "rand = np.random.randn(k)\n",
        "print('\\n rand: ',rand)\n",
        "print('\\n rand + rand: ',rand + rand)\n",
        "print('\\n 2*rand: ',2*rand)\n",
        "print('\\n rand * Array of zeroes: ',rand*np.zeros(4,dtype =int))"
      ],
      "execution_count": null,
      "outputs": [
        {
          "output_type": "stream",
          "name": "stdout",
          "text": [
            "\n",
            " rand:  [ 2.00698201 -1.31052577 -1.10558503  0.04297226]\n",
            "\n",
            " rand + rand:  [ 4.01396402 -2.62105153 -2.21117006  0.08594452]\n",
            "\n",
            " 2*rand:  [ 4.01396402 -2.62105153 -2.21117006  0.08594452]\n",
            "\n",
            " rand * Array of zeroes:  [ 0. -0. -0.  0.]\n"
          ]
        }
      ]
    },
    {
      "cell_type": "markdown",
      "source": [
        "###**Matrix operations**\n",
        "\n",
        "---\n",
        "\n",
        "\n",
        "*   It is easy to do matrix operations with nd-arrays. \n",
        "*   It is important to make sure that the matrix shapes are compatible, for standard addition, subtraction,multiplication and division to work.\n",
        "\n",
        "\n",
        "\n",
        "\n",
        "\n"
      ],
      "metadata": {
        "id": "x_JuExUbZJxx"
      }
    },
    {
      "cell_type": "markdown",
      "source": [
        ">>> **Matrix Addition**\n",
        "\n",
        ">>> ---\n",
        "\n",
        "\n",
        "\n",
        "\n"
      ],
      "metadata": {
        "id": "0Crn410lsSPQ"
      }
    },
    {
      "cell_type": "code",
      "metadata": {
        "colab": {
          "base_uri": "https://localhost:8080/"
        },
        "id": "7kbMRtGoQxYv",
        "outputId": "fd3361be-7594-4ce4-ad61-0e14175afaa7"
      },
      "source": [
        "k = 3\n",
        "r1 = np.random.randn(k)\n",
        "r2 = np.random.randn(k)\n",
        "\n",
        "# Matrix addition is the standard matrix operator\n",
        "print('\\n r1: ',r1)\n",
        "print('\\n r2: ',r2) \n",
        "print('\\n r1+r2: ',r1+r2)\n"
      ],
      "execution_count": null,
      "outputs": [
        {
          "output_type": "stream",
          "name": "stdout",
          "text": [
            "\n",
            " r1:  [-1.14866978  0.98204882 -0.6878008 ]\n",
            "\n",
            " r2:  [ 0.13861476  0.55329297 -0.26109188]\n",
            "\n",
            " r1+r2:  [-1.01005502  1.5353418  -0.94889268]\n"
          ]
        }
      ]
    },
    {
      "cell_type": "markdown",
      "source": [
        ">>> **Transpose of a Matrix**\n",
        "\n",
        ">>> ---\n",
        "\n"
      ],
      "metadata": {
        "id": "I33Le7IWsW4J"
      }
    },
    {
      "cell_type": "code",
      "metadata": {
        "colab": {
          "base_uri": "https://localhost:8080/"
        },
        "id": "vSsXCjG0QxYw",
        "outputId": "eb82ea89-2a4f-453f-84c0-9474f3eca0e2"
      },
      "source": [
        "# The Transpose can be taken with the attribute T\n",
        "arr2d = np.array([r1, r2])\n",
        "print('\\n arr2d: \\n',arr2d)\n",
        "print('\\n Transpose: \\n',arr2d.T)"
      ],
      "execution_count": null,
      "outputs": [
        {
          "output_type": "stream",
          "name": "stdout",
          "text": [
            "\n",
            " arr2d: \n",
            " [[-1.14866978  0.98204882 -0.6878008 ]\n",
            " [ 0.13861476  0.55329297 -0.26109188]]\n",
            "\n",
            " Transpose: \n",
            " [[-1.14866978  0.13861476]\n",
            " [ 0.98204882  0.55329297]\n",
            " [-0.6878008  -0.26109188]]\n"
          ]
        }
      ]
    },
    {
      "cell_type": "markdown",
      "source": [
        ">>> **Matrix Multiplication**\n",
        "\n",
        ">>>---"
      ],
      "metadata": {
        "id": "ijY4nRyksgRb"
      }
    },
    {
      "cell_type": "code",
      "metadata": {
        "colab": {
          "base_uri": "https://localhost:8080/"
        },
        "id": "KJxnVTwNQxYw",
        "outputId": "21a86eb8-a120-4eda-dddc-206d342c5875"
      },
      "source": [
        "'''\n",
        "  - Matrix multiplication, like inner products, can be done on arrays.\n",
        "  - Just remember that the standard multiplication operator does elementwise multiplication (provided they are of the same shape).\n",
        "  - We need the dot method in order to do an inner product\n",
        "\n",
        "  - Numpy has a linalg library that can run most matrix operations on ndarrays: \n",
        "    http://docs.scipy.org/doc/numpy/reference/routines.linalg.html\n",
        "\n",
        "  - One can also create a matrix object and use the methods in numpy.matrix to achieve the same thing:\n",
        "    http://docs.scipy.org/doc/numpy/reference/generated/numpy.matrix.html\n",
        "'''\n",
        "print('\\n arr2d: \\n',arr2d) \n",
        "print('\\n arr2d * arr2d: \\n',arr2d * arr2d) \n",
        "print('\\n Inner Product: \\n',arr2d.dot(arr2d.T))"
      ],
      "execution_count": null,
      "outputs": [
        {
          "output_type": "stream",
          "name": "stdout",
          "text": [
            "\n",
            " arr2d: \n",
            " [[-1.14866978  0.98204882 -0.6878008 ]\n",
            " [ 0.13861476  0.55329297 -0.26109188]]\n",
            "\n",
            " arr2d * arr2d: \n",
            " [[1.31944226 0.96441989 0.47306994]\n",
            " [0.01921405 0.30613311 0.06816897]]\n",
            "\n",
            " Inner Product: \n",
            " [[2.7569321  0.56371733]\n",
            " [0.56371733 0.39351613]]\n"
          ]
        }
      ]
    },
    {
      "cell_type": "markdown",
      "source": [
        ">>> **Why vectorization?**\n",
        "\n",
        ">>> ---\n",
        "\n",
        "*   One important feature of vectorization is that it allows elementwise processing that is much faster than writing a traditional loop.\n",
        "\n",
        "\n",
        "\n"
      ],
      "metadata": {
        "id": "WXBUnlim-Q7Z"
      }
    },
    {
      "cell_type": "code",
      "metadata": {
        "colab": {
          "base_uri": "https://localhost:8080/"
        },
        "id": "9AM5MOBEQxYx",
        "outputId": "4fb96517-8d6c-4ad5-88fb-00562d38ef4b"
      },
      "source": [
        "import math\n",
        "\n",
        "#show an example and profile i\n",
        "%timeit [math.sqrt(x) for x in range(1000)]\n"
      ],
      "execution_count": null,
      "outputs": [
        {
          "output_type": "stream",
          "name": "stdout",
          "text": [
            "278 µs ± 57.5 µs per loop (mean ± std. dev. of 7 runs, 1000 loops each)\n"
          ]
        }
      ]
    },
    {
      "cell_type": "code",
      "metadata": {
        "colab": {
          "base_uri": "https://localhost:8080/"
        },
        "id": "lq_sFQ76QxYx",
        "outputId": "f2a82ed3-3b38-4206-f3c4-57e771fb755e"
      },
      "source": [
        "%timeit np.sqrt(np.arange(1000))"
      ],
      "execution_count": null,
      "outputs": [
        {
          "output_type": "stream",
          "name": "stdout",
          "text": [
            "8.23 µs ± 1.68 µs per loop (mean ± std. dev. of 7 runs, 100000 loops each)\n"
          ]
        }
      ]
    },
    {
      "cell_type": "markdown",
      "source": [
        "### **NumPy random Library**\n",
        "---\n",
        "\n",
        "\n",
        "\n",
        "*   The last thing we'll cover in this module is the numpy.random library. In general, it is advised to use numpy for random number generation as opposed to python's built in random module.\n",
        "*   Random number generation has many uses. One common use is generating fake (i.e. random) data to test modeling procedures or to do Monte Carlo Simulations\n",
        "\n",
        "\n",
        "\n",
        "\n"
      ],
      "metadata": {
        "id": "kgQ5jKnW-XL6"
      }
    },
    {
      "cell_type": "code",
      "metadata": {
        "id": "lMscvU4DQxYx"
      },
      "source": [
        "import matplotlib.pyplot as plt"
      ],
      "execution_count": null,
      "outputs": []
    },
    {
      "cell_type": "code",
      "metadata": {
        "id": "bsUvNoTfQxYy"
      },
      "source": [
        "#Generate random pairs that have a multivariate normal distribution\n",
        "N = 1000 #Number of pairs of points\n",
        "mu = np.array([0,0]) #mean\n",
        "cov = 0.5\n",
        "sig = np.array([[1, cov],[cov, 1]]) #covariance matrix must be square, symmetric and non-negative definite"
      ],
      "execution_count": null,
      "outputs": []
    },
    {
      "cell_type": "code",
      "metadata": {
        "id": "J0v4ejwJQxYy"
      },
      "source": [
        "#unpacking the x and y elements from the array transpose\n",
        "x, y = np.random.multivariate_normal(mu, sig, N).T"
      ],
      "execution_count": null,
      "outputs": []
    },
    {
      "cell_type": "code",
      "metadata": {
        "scrolled": true,
        "id": "a4chMgnoQxYz",
        "outputId": "113bba08-34f8-4e6f-f0a9-dd11e89575ea",
        "colab": {
          "base_uri": "https://localhost:8080/",
          "height": 265
        }
      },
      "source": [
        "#Now let's plot and see what that looks like\n",
        "\n",
        "plt.plot(x, y,'x')\n",
        "plt.axis('equal') \n",
        "plt.show()\n"
      ],
      "execution_count": null,
      "outputs": [
        {
          "output_type": "display_data",
          "data": {
            "text/plain": [
              "<Figure size 432x288 with 1 Axes>"
            ],
            "image/png": "[encoded data removed]"
          },
          "metadata": {
            "needs_background": "light"
          }
        }
      ]
    }
  ]
}