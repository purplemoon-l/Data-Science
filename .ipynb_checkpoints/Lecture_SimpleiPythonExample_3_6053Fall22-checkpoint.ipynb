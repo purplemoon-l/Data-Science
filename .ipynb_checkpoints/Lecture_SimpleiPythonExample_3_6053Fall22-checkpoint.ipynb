{
  "nbformat": 4,
  "nbformat_minor": 0,
  "metadata": {
    "kernelspec": {
      "display_name": "Python 3",
      "language": "python",
      "name": "python3"
    },
    "language_info": {
      "codemirror_mode": {
        "name": "ipython",
        "version": 3
      },
      "file_extension": ".py",
      "mimetype": "text/x-python",
      "name": "python",
      "nbconvert_exporter": "python",
      "pygments_lexer": "ipython3",
      "version": "3.7.6"
    },
    "colab": {
      "provenance": [],
      "collapsed_sections": []
    }
  },
  "cells": [
    {
      "cell_type": "markdown",
      "source": [
        "# **Pandas example**"
      ],
      "metadata": {
        "id": "e1jTso1ZnWYi"
      }
    },
    {
      "cell_type": "markdown",
      "source": [
        "\n",
        "*   Pandas is a widely popular library in the Data Science world.\n",
        "\n",
        "  It allows for data manipulation and analysis, offering data structures \n",
        "and operations for manipulating numerical tables and time series. \n",
        "\n",
        "The following snippets are just to illustrate some of its basic operations.\n",
        "\n",
        ">> To learn more about pandas, see:\n",
        "https://pandas.pydata.org/docs/\n"
      ],
      "metadata": {
        "id": "DGDWgaVqND7O"
      }
    },
    {
      "cell_type": "code",
      "metadata": {
        "id": "TnKGx1wiQ3w9"
      },
      "source": [
        "# Importing libraries\n",
        "import pandas as pd\n",
        "import matplotlib.pyplot as plt\n",
        "from numpy import math"
      ],
      "execution_count": 2,
      "outputs": []
    },
    {
      "cell_type": "code",
      "source": [
        "# Loading data\n",
        "loansData = pd.read_csv('loansData.csv')\n",
        "\n",
        "# note, the data and schema can be found in the data folder on NYU Classes"
      ],
      "metadata": {
        "id": "MoLxH0nGn34N"
      },
      "execution_count": 3,
      "outputs": []
    },
    {
      "cell_type": "code",
      "metadata": {
        "id": "4qjXqdA5t8XI"
      },
      "source": [
        "from google.colab import drive\n",
        "drive.mount('/content/drive')"
      ],
      "execution_count": null,
      "outputs": []
    },
    {
      "cell_type": "code",
      "metadata": {
        "id": "gGjHGK4zQ3xA",
        "outputId": "e8c9b19a-2e8b-408a-a951-9e442457f10d",
        "colab": {
          "base_uri": "https://localhost:8080/"
        }
      },
      "source": [
        "loansData.columns.values # the names of the columns in the dataset"
      ],
      "execution_count": 5,
      "outputs": [
        {
          "output_type": "execute_result",
          "data": {
            "text/plain": [
              "array(['Amount.Requested', 'Amount.Funded.By.Investors', 'Interest.Rate',\n",
              "       'Loan.Length', 'Loan.Purpose', 'Debt.To.Income.Ratio', 'State',\n",
              "       'Home.Ownership', 'Monthly.Income', 'FICO.Range',\n",
              "       'Open.CREDIT.Lines', 'Revolving.CREDIT.Balance',\n",
              "       'Inquiries.in.the.Last.6.Months', 'Employment.Length'],\n",
              "      dtype=object)"
            ]
          },
          "metadata": {},
          "execution_count": 5
        }
      ]
    },
    {
      "cell_type": "code",
      "metadata": {
        "id": "hIED4S3tQ3xB",
        "outputId": "81f71a8d-5c45-492a-db6e-48b6ae967968",
        "colab": {
          "base_uri": "https://localhost:8080/",
          "height": 270
        }
      },
      "source": [
        "loansData.head() # initial lines of the dataset; gives an idea of how it looks"
      ],
      "execution_count": 6,
      "outputs": [
        {
          "output_type": "execute_result",
          "data": {
            "text/plain": [
              "       Amount.Requested  Amount.Funded.By.Investors Interest.Rate Loan.Length  \\\n",
              "81174             20000                     20000.0         8.90%   36 months   \n",
              "99592             19200                     19200.0        12.12%   36 months   \n",
              "80059             35000                     35000.0        21.98%   60 months   \n",
              "15825             10000                      9975.0         9.99%   36 months   \n",
              "33182             12000                     12000.0        11.71%   36 months   \n",
              "\n",
              "             Loan.Purpose Debt.To.Income.Ratio State Home.Ownership  \\\n",
              "81174  debt_consolidation               14.90%    SC       MORTGAGE   \n",
              "99592  debt_consolidation               28.36%    TX       MORTGAGE   \n",
              "80059  debt_consolidation               23.81%    CA       MORTGAGE   \n",
              "15825  debt_consolidation               14.30%    KS       MORTGAGE   \n",
              "33182         credit_card               18.78%    NJ           RENT   \n",
              "\n",
              "       Monthly.Income FICO.Range  Open.CREDIT.Lines  Revolving.CREDIT.Balance  \\\n",
              "81174         6541.67    735-739               14.0                   14272.0   \n",
              "99592         4583.33    715-719               12.0                   11140.0   \n",
              "80059        11500.00    690-694               14.0                   21977.0   \n",
              "15825         3833.33    695-699               10.0                    9346.0   \n",
              "33182         3195.00    695-699               11.0                   14469.0   \n",
              "\n",
              "       Inquiries.in.the.Last.6.Months Employment.Length  \n",
              "81174                             2.0          < 1 year  \n",
              "99592                             1.0           2 years  \n",
              "80059                             1.0           2 years  \n",
              "15825                             0.0           5 years  \n",
              "33182                             0.0           9 years  "
            ],
            "text/html": [
              "\n",
              "  <div id=\"df-f4bd6fad-c1af-4ec7-8945-2cd09814080c\">\n",
              "    <div class=\"colab-df-container\">\n",
              "      <div>\n",
              "<style scoped>\n",
              "    .dataframe tbody tr th:only-of-type {\n",
              "        vertical-align: middle;\n",
              "    }\n",
              "\n",
              "    .dataframe tbody tr th {\n",
              "        vertical-align: top;\n",
              "    }\n",
              "\n",
              "    .dataframe thead th {\n",
              "        text-align: right;\n",
              "    }\n",
              "</style>\n",
              "<table border=\"1\" class=\"dataframe\">\n",
              "  <thead>\n",
              "    <tr style=\"text-align: right;\">\n",
              "      <th></th>\n",
              "      <th>Amount.Requested</th>\n",
              "      <th>Amount.Funded.By.Investors</th>\n",
              "      <th>Interest.Rate</th>\n",
              "      <th>Loan.Length</th>\n",
              "      <th>Loan.Purpose</th>\n",
              "      <th>Debt.To.Income.Ratio</th>\n",
              "      <th>State</th>\n",
              "      <th>Home.Ownership</th>\n",
              "      <th>Monthly.Income</th>\n",
              "      <th>FICO.Range</th>\n",
              "      <th>Open.CREDIT.Lines</th>\n",
              "      <th>Revolving.CREDIT.Balance</th>\n",
              "      <th>Inquiries.in.the.Last.6.Months</th>\n",
              "      <th>Employment.Length</th>\n",
              "    </tr>\n",
              "  </thead>\n",
              "  <tbody>\n",
              "    <tr>\n",
              "      <th>81174</th>\n",
              "      <td>20000</td>\n",
              "      <td>20000.0</td>\n",
              "      <td>8.90%</td>\n",
              "      <td>36 months</td>\n",
              "      <td>debt_consolidation</td>\n",
              "      <td>14.90%</td>\n",
              "      <td>SC</td>\n",
              "      <td>MORTGAGE</td>\n",
              "      <td>6541.67</td>\n",
              "      <td>735-739</td>\n",
              "      <td>14.0</td>\n",
              "      <td>14272.0</td>\n",
              "      <td>2.0</td>\n",
              "      <td>&lt; 1 year</td>\n",
              "    </tr>\n",
              "    <tr>\n",
              "      <th>99592</th>\n",
              "      <td>19200</td>\n",
              "      <td>19200.0</td>\n",
              "      <td>12.12%</td>\n",
              "      <td>36 months</td>\n",
              "      <td>debt_consolidation</td>\n",
              "      <td>28.36%</td>\n",
              "      <td>TX</td>\n",
              "      <td>MORTGAGE</td>\n",
              "      <td>4583.33</td>\n",
              "      <td>715-719</td>\n",
              "      <td>12.0</td>\n",
              "      <td>11140.0</td>\n",
              "      <td>1.0</td>\n",
              "      <td>2 years</td>\n",
              "    </tr>\n",
              "    <tr>\n",
              "      <th>80059</th>\n",
              "      <td>35000</td>\n",
              "      <td>35000.0</td>\n",
              "      <td>21.98%</td>\n",
              "      <td>60 months</td>\n",
              "      <td>debt_consolidation</td>\n",
              "      <td>23.81%</td>\n",
              "      <td>CA</td>\n",
              "      <td>MORTGAGE</td>\n",
              "      <td>11500.00</td>\n",
              "      <td>690-694</td>\n",
              "      <td>14.0</td>\n",
              "      <td>21977.0</td>\n",
              "      <td>1.0</td>\n",
              "      <td>2 years</td>\n",
              "    </tr>\n",
              "    <tr>\n",
              "      <th>15825</th>\n",
              "      <td>10000</td>\n",
              "      <td>9975.0</td>\n",
              "      <td>9.99%</td>\n",
              "      <td>36 months</td>\n",
              "      <td>debt_consolidation</td>\n",
              "      <td>14.30%</td>\n",
              "      <td>KS</td>\n",
              "      <td>MORTGAGE</td>\n",
              "      <td>3833.33</td>\n",
              "      <td>695-699</td>\n",
              "      <td>10.0</td>\n",
              "      <td>9346.0</td>\n",
              "      <td>0.0</td>\n",
              "      <td>5 years</td>\n",
              "    </tr>\n",
              "    <tr>\n",
              "      <th>33182</th>\n",
              "      <td>12000</td>\n",
              "      <td>12000.0</td>\n",
              "      <td>11.71%</td>\n",
              "      <td>36 months</td>\n",
              "      <td>credit_card</td>\n",
              "      <td>18.78%</td>\n",
              "      <td>NJ</td>\n",
              "      <td>RENT</td>\n",
              "      <td>3195.00</td>\n",
              "      <td>695-699</td>\n",
              "      <td>11.0</td>\n",
              "      <td>14469.0</td>\n",
              "      <td>0.0</td>\n",
              "      <td>9 years</td>\n",
              "    </tr>\n",
              "  </tbody>\n",
              "</table>\n",
              "</div>\n",
              "      <button class=\"colab-df-convert\" onclick=\"convertToInteractive('df-f4bd6fad-c1af-4ec7-8945-2cd09814080c')\"\n",
              "              title=\"Convert this dataframe to an interactive table.\"\n",
              "              style=\"display:none;\">\n",
              "        \n",
              "  <svg xmlns=\"http://www.w3.org/2000/svg\" height=\"24px\"viewBox=\"0 0 24 24\"\n",
              "       width=\"24px\">\n",
              "    <path d=\"M0 0h24v24H0V0z\" fill=\"none\"/>\n",
              "    <path d=\"M18.56 5.44l.94 2.06.94-2.06 2.06-.94-2.06-.94-.94-2.06-.94 2.06-2.06.94zm-11 1L8.5 8.5l.94-2.06 2.06-.94-2.06-.94L8.5 2.5l-.94 2.06-2.06.94zm10 10l.94 2.06.94-2.06 2.06-.94-2.06-.94-.94-2.06-.94 2.06-2.06.94z\"/><path d=\"M17.41 7.96l-1.37-1.37c-.4-.4-.92-.59-1.43-.59-.52 0-1.04.2-1.43.59L10.3 9.45l-7.72 7.72c-.78.78-.78 2.05 0 2.83L4 21.41c.39.39.9.59 1.41.59.51 0 1.02-.2 1.41-.59l7.78-7.78 2.81-2.81c.8-.78.8-2.07 0-2.86zM5.41 20L4 18.59l7.72-7.72 1.47 1.35L5.41 20z\"/>\n",
              "  </svg>\n",
              "      </button>\n",
              "      \n",
              "  <style>\n",
              "    .colab-df-container {\n",
              "      display:flex;\n",
              "      flex-wrap:wrap;\n",
              "      gap: 12px;\n",
              "    }\n",
              "\n",
              "    .colab-df-convert {\n",
              "      background-color: #E8F0FE;\n",
              "      border: none;\n",
              "      border-radius: 50%;\n",
              "      cursor: pointer;\n",
              "      display: none;\n",
              "      fill: #1967D2;\n",
              "      height: 32px;\n",
              "      padding: 0 0 0 0;\n",
              "      width: 32px;\n",
              "    }\n",
              "\n",
              "    .colab-df-convert:hover {\n",
              "      background-color: #E2EBFA;\n",
              "      box-shadow: 0px 1px 2px rgba(60, 64, 67, 0.3), 0px 1px 3px 1px rgba(60, 64, 67, 0.15);\n",
              "      fill: #174EA6;\n",
              "    }\n",
              "\n",
              "    [theme=dark] .colab-df-convert {\n",
              "      background-color: #3B4455;\n",
              "      fill: #D2E3FC;\n",
              "    }\n",
              "\n",
              "    [theme=dark] .colab-df-convert:hover {\n",
              "      background-color: #434B5C;\n",
              "      box-shadow: 0px 1px 3px 1px rgba(0, 0, 0, 0.15);\n",
              "      filter: drop-shadow(0px 1px 2px rgba(0, 0, 0, 0.3));\n",
              "      fill: #FFFFFF;\n",
              "    }\n",
              "  </style>\n",
              "\n",
              "      <script>\n",
              "        const buttonEl =\n",
              "          document.querySelector('#df-f4bd6fad-c1af-4ec7-8945-2cd09814080c button.colab-df-convert');\n",
              "        buttonEl.style.display =\n",
              "          google.colab.kernel.accessAllowed ? 'block' : 'none';\n",
              "\n",
              "        async function convertToInteractive(key) {\n",
              "          const element = document.querySelector('#df-f4bd6fad-c1af-4ec7-8945-2cd09814080c');\n",
              "          const dataTable =\n",
              "            await google.colab.kernel.invokeFunction('convertToInteractive',\n",
              "                                                     [key], {});\n",
              "          if (!dataTable) return;\n",
              "\n",
              "          const docLinkHtml = 'Like what you see? Visit the ' +\n",
              "            '<a target=\"_blank\" href=https://colab.research.google.com/notebooks/data_table.ipynb>data table notebook</a>'\n",
              "            + ' to learn more about interactive tables.';\n",
              "          element.innerHTML = '';\n",
              "          dataTable['output_type'] = 'display_data';\n",
              "          await google.colab.output.renderOutput(dataTable, element);\n",
              "          const docLink = document.createElement('div');\n",
              "          docLink.innerHTML = docLinkHtml;\n",
              "          element.appendChild(docLink);\n",
              "        }\n",
              "      </script>\n",
              "    </div>\n",
              "  </div>\n",
              "  "
            ]
          },
          "metadata": {},
          "execution_count": 6
        }
      ]
    },
    {
      "cell_type": "code",
      "metadata": {
        "colab": {
          "base_uri": "https://localhost:8080/"
        },
        "id": "QPfpAGdeQ3xB",
        "outputId": "072f6b6c-e4f2-42f5-9b45-feaa06461b3e"
      },
      "source": [
        "loansData['Monthly.Income'][0:5] # first five rows of Monthly.Income\n",
        "loansData.shape"
      ],
      "execution_count": 7,
      "outputs": [
        {
          "output_type": "execute_result",
          "data": {
            "text/plain": [
              "(2500, 14)"
            ]
          },
          "metadata": {},
          "execution_count": 7
        }
      ]
    },
    {
      "cell_type": "code",
      "metadata": {
        "colab": {
          "base_uri": "https://localhost:8080/",
          "height": 281
        },
        "id": "aGrY1r0hQ3xC",
        "outputId": "527501bd-0361-49e2-9a79-3f027413ff0a"
      },
      "source": [
        "plt.figure()\n",
        "inc = loansData['Monthly.Income']\n",
        "h = inc.hist()\n",
        "plt.title('Histogram of Monthly Income')\n",
        "plt.show()"
      ],
      "execution_count": 8,
      "outputs": [
        {
          "output_type": "display_data",
          "data": {
            "text/plain": [
              "<Figure size 432x288 with 1 Axes>"
            ],
            "image/png": "[encoded data removed]"
          },
          "metadata": {
            "needs_background": "light"
          }
        }
      ]
    },
    {
      "cell_type": "code",
      "metadata": {
        "colab": {
          "base_uri": "https://localhost:8080/",
          "height": 281
        },
        "id": "bXPy2wLfQ3xD",
        "outputId": "13e66859-cbf5-4d95-982f-0a6396069c80"
      },
      "source": [
        "h = loansData['Monthly.LogIncome'].hist()\n",
        "plt.title('Histogram of Log(Monthly Income)')\n",
        "plt.show()"
      ],
      "execution_count": 10,
      "outputs": [
        {
          "output_type": "display_data",
          "data": {
            "text/plain": [
              "<Figure size 432x288 with 1 Axes>"
            ],
            "image/png": "[encoded data removed]"
          },
          "metadata": {
            "needs_background": "light"
          }
        }
      ]
    },
    {
      "cell_type": "code",
      "metadata": {
        "colab": {
          "base_uri": "https://localhost:8080/"
        },
        "id": "hwNsG6FSQ3xD",
        "outputId": "f3eff55c-c356-4421-897e-db002e2ab9e3"
      },
      "source": [
        "loansData['Monthly.LogIncome'].describe()"
      ],
      "execution_count": null,
      "outputs": [
        {
          "output_type": "execute_result",
          "data": {
            "text/plain": [
              "count    2499.000000\n",
              "mean        8.501915\n",
              "std         0.523019\n",
              "min         6.377577\n",
              "25%         8.160518\n",
              "50%         8.517193\n",
              "75%         8.824678\n",
              "max        11.540054\n",
              "Name: Monthly.LogIncome, dtype: float64"
            ]
          },
          "metadata": {},
          "execution_count": 13
        }
      ]
    },
    {
      "cell_type": "code",
      "metadata": {
        "id": "ufL7GXhJQ3xE"
      },
      "source": [],
      "execution_count": null,
      "outputs": []
    }
  ]
}