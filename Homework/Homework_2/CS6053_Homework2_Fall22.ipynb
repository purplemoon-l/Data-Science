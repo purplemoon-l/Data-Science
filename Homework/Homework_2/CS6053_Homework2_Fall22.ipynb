{
 "cells": [
  {
   "cell_type": "markdown",
   "metadata": {
    "id": "1_FqNipzW5lv"
   },
   "source": [
    "# **Foundations of Data Science Fall 2022 - Homework 2 (30 points)**\n",
    "\n",
    "### Student Name: Yamini Lakshmi Narasimhan\n",
    "### Student Net Id: yl9822\n",
    "\n",
    "---"
   ]
  },
  {
   "cell_type": "markdown",
   "metadata": {
    "id": "XRYNUuouW5lz"
   },
   "source": [
    "### **Part 1: Preparing a Training Set and Training a Decision Tree (10 Points)**\n",
    "\n",
    "---\n",
    "\n",
    "\n"
   ]
  },
  {
   "cell_type": "markdown",
   "metadata": {
    "id": "JQwmLw2bNlc9"
   },
   "source": [
    "This is a hands-on task where we build a predictive model using Decision Trees discussed in class. For this part, we will be using the data in `cell2cell_data.csv` (you can find this on NYU Brightspace).\n",
    "\n",
    "These historical data consist of 39,859 customers: 19,901 customers that churned (i.e., left the company) and 19,958 that did not churn (see the `\"churndep\"` variable). Here are the data set's 11 possible predictor variables for churning behavior: \n",
    "\n",
    "```\n",
    "Pos.  Var. Name  Var. Description\n",
    "----- ---------- --------------------------------------------------------------\n",
    "1     revenue    Mean monthly revenue in dollars\n",
    "2     outcalls   Mean number of outbound voice calls\n",
    "3     incalls    Mean number of inbound voice calls\n",
    "4     months     Months in Service\n",
    "5     eqpdays    Number of days the customer has had his/her current equipment\n",
    "6     webcap     Handset is web capable\n",
    "7     marryyes   Married (1=Yes; 0=No)\n",
    "8     travel     Has traveled to non-US country (1=Yes; 0=No)\n",
    "9     pcown      Owns a personal computer (1=Yes; 0=No)\n",
    "10    creditcd   Possesses a credit card (1=Yes; 0=No)\n",
    "11    retcalls   Number of calls previously made to retention team\n",
    "```\n",
    "\n",
    "The 12th column, the dependent variable `\"churndep\"`, equals 1 if the customer churned, and 0 otherwise. "
   ]
  },
  {
   "cell_type": "code",
   "execution_count": 1,
   "metadata": {
    "id": "fW7Wkd0EM9uF"
   },
   "outputs": [],
   "source": [
    "import warnings\n",
    "from pprint import pprint\n",
    "warnings.filterwarnings('ignore')\n",
    "warnings.filterwarnings(action='once')"
   ]
  },
  {
   "cell_type": "markdown",
   "metadata": {
    "id": "eOZYR7zgW5l0"
   },
   "source": [
    "1\\. Load the data and prepare it for modeling. Note that the features are already processed for you, so the only thing needed here is split the data into training and testing. Use pandas to create two data frames: train_df and test_df, where train_df has 80% of the data chosen uniformly at random without replacement (test_df should have the other 20%). Also, make sure to write your own code to do the splits. You may use any random() function numpy but do not use the data splitting functions from Sklearn.<br><br>\n",
    "\n",
    "(2 Points)"
   ]
  },
  {
   "cell_type": "code",
   "execution_count": 2,
   "metadata": {
    "id": "kdsRU6YtW5l0"
   },
   "outputs": [
    {
     "name": "stdout",
     "output_type": "stream",
     "text": [
      "Total data 39833\n",
      "Train df 31951\n",
      "Test df 7882\n"
     ]
    }
   ],
   "source": [
    "# Place your code here\n",
    "import pandas as pd\n",
    "import numpy as np\n",
    "\n",
    "df = pd.read_csv(\"./cell2cell_data.csv\")\n",
    "\n",
    "print(\"Total data\",len(df))\n",
    "percent = np.random.rand(len(df)) <= 0.8\n",
    "train_df = df[percent]\n",
    "test_df = df[~percent]\n",
    "\n",
    "print(\"Train df\",len(train_df))\n",
    "print(\"Test df\",len(test_df))\n",
    "\n",
    "train_X = train_df.loc[:, train_df.columns != \"churndep\"]\n",
    "train_Y = train_df[\"churndep\"]\n",
    "\n",
    "\n",
    "test_X = test_df.loc[:, test_df.columns != \"churndep\"]\n",
    "test_Y = test_df[\"churndep\"]"
   ]
  },
  {
   "cell_type": "code",
   "execution_count": 3,
   "metadata": {},
   "outputs": [
    {
     "name": "stdout",
     "output_type": "stream",
     "text": [
      "0    15977\n",
      "1    15974\n",
      "Name: churndep, dtype: int64\n",
      "0    3973\n",
      "1    3909\n",
      "Name: churndep, dtype: int64\n"
     ]
    }
   ],
   "source": [
    "print(train_df[\"churndep\"].value_counts())\n",
    "print(test_df[\"churndep\"].value_counts())"
   ]
  },
  {
   "cell_type": "code",
   "execution_count": 4,
   "metadata": {},
   "outputs": [
    {
     "data": {
      "text/html": [
       "<div>\n",
       "<style scoped>\n",
       "    .dataframe tbody tr th:only-of-type {\n",
       "        vertical-align: middle;\n",
       "    }\n",
       "\n",
       "    .dataframe tbody tr th {\n",
       "        vertical-align: top;\n",
       "    }\n",
       "\n",
       "    .dataframe thead th {\n",
       "        text-align: right;\n",
       "    }\n",
       "</style>\n",
       "<table border=\"1\" class=\"dataframe\">\n",
       "  <thead>\n",
       "    <tr style=\"text-align: right;\">\n",
       "      <th></th>\n",
       "      <th>revenue</th>\n",
       "      <th>outcalls</th>\n",
       "      <th>incalls</th>\n",
       "      <th>months</th>\n",
       "      <th>eqpdays</th>\n",
       "      <th>webcap</th>\n",
       "      <th>marryyes</th>\n",
       "      <th>travel</th>\n",
       "      <th>pcown</th>\n",
       "      <th>creditcd</th>\n",
       "      <th>retcalls</th>\n",
       "      <th>churndep</th>\n",
       "    </tr>\n",
       "  </thead>\n",
       "  <tbody>\n",
       "    <tr>\n",
       "      <th>0</th>\n",
       "      <td>48.82</td>\n",
       "      <td>10.00</td>\n",
       "      <td>3.0</td>\n",
       "      <td>26</td>\n",
       "      <td>780</td>\n",
       "      <td>0</td>\n",
       "      <td>0</td>\n",
       "      <td>0</td>\n",
       "      <td>0</td>\n",
       "      <td>1</td>\n",
       "      <td>4</td>\n",
       "      <td>1</td>\n",
       "    </tr>\n",
       "    <tr>\n",
       "      <th>1</th>\n",
       "      <td>83.53</td>\n",
       "      <td>20.00</td>\n",
       "      <td>1.0</td>\n",
       "      <td>31</td>\n",
       "      <td>745</td>\n",
       "      <td>1</td>\n",
       "      <td>0</td>\n",
       "      <td>0</td>\n",
       "      <td>0</td>\n",
       "      <td>0</td>\n",
       "      <td>4</td>\n",
       "      <td>1</td>\n",
       "    </tr>\n",
       "    <tr>\n",
       "      <th>2</th>\n",
       "      <td>29.99</td>\n",
       "      <td>0.00</td>\n",
       "      <td>0.0</td>\n",
       "      <td>52</td>\n",
       "      <td>1441</td>\n",
       "      <td>0</td>\n",
       "      <td>0</td>\n",
       "      <td>0</td>\n",
       "      <td>1</td>\n",
       "      <td>1</td>\n",
       "      <td>3</td>\n",
       "      <td>1</td>\n",
       "    </tr>\n",
       "    <tr>\n",
       "      <th>3</th>\n",
       "      <td>51.42</td>\n",
       "      <td>0.00</td>\n",
       "      <td>0.0</td>\n",
       "      <td>36</td>\n",
       "      <td>59</td>\n",
       "      <td>1</td>\n",
       "      <td>0</td>\n",
       "      <td>0</td>\n",
       "      <td>0</td>\n",
       "      <td>0</td>\n",
       "      <td>4</td>\n",
       "      <td>1</td>\n",
       "    </tr>\n",
       "    <tr>\n",
       "      <th>4</th>\n",
       "      <td>37.75</td>\n",
       "      <td>2.67</td>\n",
       "      <td>0.0</td>\n",
       "      <td>25</td>\n",
       "      <td>572</td>\n",
       "      <td>0</td>\n",
       "      <td>0</td>\n",
       "      <td>0</td>\n",
       "      <td>1</td>\n",
       "      <td>1</td>\n",
       "      <td>3</td>\n",
       "      <td>1</td>\n",
       "    </tr>\n",
       "  </tbody>\n",
       "</table>\n",
       "</div>"
      ],
      "text/plain": [
       "   revenue  outcalls  incalls  months  eqpdays  webcap  marryyes  travel  \\\n",
       "0    48.82     10.00      3.0      26      780       0         0       0   \n",
       "1    83.53     20.00      1.0      31      745       1         0       0   \n",
       "2    29.99      0.00      0.0      52     1441       0         0       0   \n",
       "3    51.42      0.00      0.0      36       59       1         0       0   \n",
       "4    37.75      2.67      0.0      25      572       0         0       0   \n",
       "\n",
       "   pcown  creditcd  retcalls  churndep  \n",
       "0      0         1         4         1  \n",
       "1      0         0         4         1  \n",
       "2      1         1         3         1  \n",
       "3      0         0         4         1  \n",
       "4      1         1         3         1  "
      ]
     },
     "execution_count": 4,
     "metadata": {},
     "output_type": "execute_result"
    }
   ],
   "source": [
    "df.head()"
   ]
  },
  {
   "cell_type": "markdown",
   "metadata": {
    "id": "UFVzQ0DoW5l2"
   },
   "source": [
    "2\\. Now build and train a decision tree classifier using `DecisionTreeClassifier()` [(manual page)](http://scikit-learn.org/stable/modules/generated/sklearn.tree.DecisionTreeClassifier.html) on train_df to predict the `\"churndep\"` target variable. Make sure to use `criterion='entropy'` when instantiating an instance of `DecisionTreeClassifier()`. For all other settings you should use all of the default options.\n",
    "\n",
    "(1 Point)"
   ]
  },
  {
   "cell_type": "code",
   "execution_count": 5,
   "metadata": {
    "id": "v2-FPpHjW5l3"
   },
   "outputs": [
    {
     "data": {
      "text/html": [
       "<style>#sk-container-id-1 {color: black;background-color: white;}#sk-container-id-1 pre{padding: 0;}#sk-container-id-1 div.sk-toggleable {background-color: white;}#sk-container-id-1 label.sk-toggleable__label {cursor: pointer;display: block;width: 100%;margin-bottom: 0;padding: 0.3em;box-sizing: border-box;text-align: center;}#sk-container-id-1 label.sk-toggleable__label-arrow:before {content: \"▸\";float: left;margin-right: 0.25em;color: #696969;}#sk-container-id-1 label.sk-toggleable__label-arrow:hover:before {color: black;}#sk-container-id-1 div.sk-estimator:hover label.sk-toggleable__label-arrow:before {color: black;}#sk-container-id-1 div.sk-toggleable__content {max-height: 0;max-width: 0;overflow: hidden;text-align: left;background-color: #f0f8ff;}#sk-container-id-1 div.sk-toggleable__content pre {margin: 0.2em;color: black;border-radius: 0.25em;background-color: #f0f8ff;}#sk-container-id-1 input.sk-toggleable__control:checked~div.sk-toggleable__content {max-height: 200px;max-width: 100%;overflow: auto;}#sk-container-id-1 input.sk-toggleable__control:checked~label.sk-toggleable__label-arrow:before {content: \"▾\";}#sk-container-id-1 div.sk-estimator input.sk-toggleable__control:checked~label.sk-toggleable__label {background-color: #d4ebff;}#sk-container-id-1 div.sk-label input.sk-toggleable__control:checked~label.sk-toggleable__label {background-color: #d4ebff;}#sk-container-id-1 input.sk-hidden--visually {border: 0;clip: rect(1px 1px 1px 1px);clip: rect(1px, 1px, 1px, 1px);height: 1px;margin: -1px;overflow: hidden;padding: 0;position: absolute;width: 1px;}#sk-container-id-1 div.sk-estimator {font-family: monospace;background-color: #f0f8ff;border: 1px dotted black;border-radius: 0.25em;box-sizing: border-box;margin-bottom: 0.5em;}#sk-container-id-1 div.sk-estimator:hover {background-color: #d4ebff;}#sk-container-id-1 div.sk-parallel-item::after {content: \"\";width: 100%;border-bottom: 1px solid gray;flex-grow: 1;}#sk-container-id-1 div.sk-label:hover label.sk-toggleable__label {background-color: #d4ebff;}#sk-container-id-1 div.sk-serial::before {content: \"\";position: absolute;border-left: 1px solid gray;box-sizing: border-box;top: 0;bottom: 0;left: 50%;z-index: 0;}#sk-container-id-1 div.sk-serial {display: flex;flex-direction: column;align-items: center;background-color: white;padding-right: 0.2em;padding-left: 0.2em;position: relative;}#sk-container-id-1 div.sk-item {position: relative;z-index: 1;}#sk-container-id-1 div.sk-parallel {display: flex;align-items: stretch;justify-content: center;background-color: white;position: relative;}#sk-container-id-1 div.sk-item::before, #sk-container-id-1 div.sk-parallel-item::before {content: \"\";position: absolute;border-left: 1px solid gray;box-sizing: border-box;top: 0;bottom: 0;left: 50%;z-index: -1;}#sk-container-id-1 div.sk-parallel-item {display: flex;flex-direction: column;z-index: 1;position: relative;background-color: white;}#sk-container-id-1 div.sk-parallel-item:first-child::after {align-self: flex-end;width: 50%;}#sk-container-id-1 div.sk-parallel-item:last-child::after {align-self: flex-start;width: 50%;}#sk-container-id-1 div.sk-parallel-item:only-child::after {width: 0;}#sk-container-id-1 div.sk-dashed-wrapped {border: 1px dashed gray;margin: 0 0.4em 0.5em 0.4em;box-sizing: border-box;padding-bottom: 0.4em;background-color: white;}#sk-container-id-1 div.sk-label label {font-family: monospace;font-weight: bold;display: inline-block;line-height: 1.2em;}#sk-container-id-1 div.sk-label-container {text-align: center;}#sk-container-id-1 div.sk-container {/* jupyter's `normalize.less` sets `[hidden] { display: none; }` but bootstrap.min.css set `[hidden] { display: none !important; }` so we also need the `!important` here to be able to override the default hidden behavior on the sphinx rendered scikit-learn.org. See: https://github.com/scikit-learn/scikit-learn/issues/21755 */display: inline-block !important;position: relative;}#sk-container-id-1 div.sk-text-repr-fallback {display: none;}</style><div id=\"sk-container-id-1\" class=\"sk-top-container\"><div class=\"sk-text-repr-fallback\"><pre>DecisionTreeClassifier(criterion=&#x27;entropy&#x27;)</pre><b>In a Jupyter environment, please rerun this cell to show the HTML representation or trust the notebook. <br />On GitHub, the HTML representation is unable to render, please try loading this page with nbviewer.org.</b></div><div class=\"sk-container\" hidden><div class=\"sk-item\"><div class=\"sk-estimator sk-toggleable\"><input class=\"sk-toggleable__control sk-hidden--visually\" id=\"sk-estimator-id-1\" type=\"checkbox\" checked><label for=\"sk-estimator-id-1\" class=\"sk-toggleable__label sk-toggleable__label-arrow\">DecisionTreeClassifier</label><div class=\"sk-toggleable__content\"><pre>DecisionTreeClassifier(criterion=&#x27;entropy&#x27;)</pre></div></div></div></div></div>"
      ],
      "text/plain": [
       "DecisionTreeClassifier(criterion='entropy')"
      ]
     },
     "execution_count": 5,
     "metadata": {},
     "output_type": "execute_result"
    }
   ],
   "source": [
    "# Place your code here\n",
    "from sklearn.tree import DecisionTreeClassifier\n",
    "from sklearn.tree import DecisionTreeClassifier\n",
    "dtc = DecisionTreeClassifier(criterion='entropy')\n",
    "dtc.fit(train_X, train_Y)\n"
   ]
  },
  {
   "cell_type": "markdown",
   "metadata": {
    "id": "urJi_aG2W5l4"
   },
   "source": [
    "3\\. Using the resulting model from 1.2, show a bar plot of feature names and their feature importance (hint: check the attributes of the `DecisionTreeClassifier()` object directly in IPython or check the manual!).\n",
    "\n",
    "(3 Points)"
   ]
  },
  {
   "cell_type": "code",
   "execution_count": 6,
   "metadata": {
    "id": "yZPfCT4oW5l4"
   },
   "outputs": [
    {
     "name": "stdout",
     "output_type": "stream",
     "text": [
      "{'revenue': 0.26670740553298816, 'eqpdays': 0.245072683351932, 'outcalls': 0.18701913166536377, 'incalls': 0.12688332321334495, 'months': 0.08860387604425378, 'marryyes': 0.025770329551172436, 'creditcd': 0.019889645830896786, 'pcown': 0.01882041242271449, 'travel': 0.010798514227739033, 'retcalls': 0.005260469301682941, 'webcap': 0.0051742088579116476}\n"
     ]
    },
    {
     "data": {
      "text/plain": [
       "<BarContainer object of 11 artists>"
      ]
     },
     "execution_count": 6,
     "metadata": {},
     "output_type": "execute_result"
    },
    {
     "data": {
      "image/png": "[encoded data removed]",
      "text/plain": [
       "<Figure size 2500x800 with 1 Axes>"
      ]
     },
     "metadata": {},
     "output_type": "display_data"
    }
   ],
   "source": [
    "# Place your code here\n",
    "import matplotlib.pyplot as plt\n",
    "feature_importance = {}\n",
    "for importance, name in sorted(zip(dtc.feature_importances_, train_X),reverse=True):\n",
    "    feature_importance[name]=importance\n",
    "    \n",
    "plt.figure(figsize=(25,8))\n",
    "print(feature_importance)\n",
    "plt.bar(feature_importance.keys(), feature_importance.values(), color ='purple', width = 0.4)"
   ]
  },
  {
   "cell_type": "markdown",
   "metadata": {
    "id": "qrtv9VFZW5l5"
   },
   "source": [
    "4\\. Is the relationship between the top 3 most important features (as measured here) negative or positive? If your marketing director asked you to explain the top 3 drivers of churn, how would you interpret the relationship between these 3 features and the churn outcome?  What \"real-life\" connection can you draw between each variable and churn?\n",
    "\n",
    "(2 Points)"
   ]
  },
  {
   "cell_type": "code",
   "execution_count": 7,
   "metadata": {},
   "outputs": [
    {
     "data": {
      "text/html": [
       "<div>\n",
       "<style scoped>\n",
       "    .dataframe tbody tr th:only-of-type {\n",
       "        vertical-align: middle;\n",
       "    }\n",
       "\n",
       "    .dataframe tbody tr th {\n",
       "        vertical-align: top;\n",
       "    }\n",
       "\n",
       "    .dataframe thead th {\n",
       "        text-align: right;\n",
       "    }\n",
       "</style>\n",
       "<table border=\"1\" class=\"dataframe\">\n",
       "  <thead>\n",
       "    <tr style=\"text-align: right;\">\n",
       "      <th></th>\n",
       "      <th>revenue</th>\n",
       "      <th>eqpdays</th>\n",
       "      <th>outcalls</th>\n",
       "      <th>churndep</th>\n",
       "    </tr>\n",
       "  </thead>\n",
       "  <tbody>\n",
       "    <tr>\n",
       "      <th>revenue</th>\n",
       "      <td>1.000000</td>\n",
       "      <td>-0.222074</td>\n",
       "      <td>0.500709</td>\n",
       "      <td>-0.013370</td>\n",
       "    </tr>\n",
       "    <tr>\n",
       "      <th>eqpdays</th>\n",
       "      <td>-0.222074</td>\n",
       "      <td>1.000000</td>\n",
       "      <td>-0.244112</td>\n",
       "      <td>0.112821</td>\n",
       "    </tr>\n",
       "    <tr>\n",
       "      <th>outcalls</th>\n",
       "      <td>0.500709</td>\n",
       "      <td>-0.244112</td>\n",
       "      <td>1.000000</td>\n",
       "      <td>-0.037071</td>\n",
       "    </tr>\n",
       "    <tr>\n",
       "      <th>churndep</th>\n",
       "      <td>-0.013370</td>\n",
       "      <td>0.112821</td>\n",
       "      <td>-0.037071</td>\n",
       "      <td>1.000000</td>\n",
       "    </tr>\n",
       "  </tbody>\n",
       "</table>\n",
       "</div>"
      ],
      "text/plain": [
       "           revenue   eqpdays  outcalls  churndep\n",
       "revenue   1.000000 -0.222074  0.500709 -0.013370\n",
       "eqpdays  -0.222074  1.000000 -0.244112  0.112821\n",
       "outcalls  0.500709 -0.244112  1.000000 -0.037071\n",
       "churndep -0.013370  0.112821 -0.037071  1.000000"
      ]
     },
     "execution_count": 7,
     "metadata": {},
     "output_type": "execute_result"
    }
   ],
   "source": [
    "df_corr = df[[\"revenue\",\"eqpdays\", \"outcalls\",\"churndep\"]]\n",
    "df_corr.corr()"
   ]
  },
  {
   "cell_type": "markdown",
   "metadata": {},
   "source": [
    "Top 3 drivers of churn are revenue, outcalls and eqpdays of the company \n",
    "revenue <-> churndep  -0.013370    negative\n",
    "outcalls<-> churndep  -0.037071    negative\n",
    "eqpdays <-> churndep  +0.112821    positive\n",
    "\n",
    "Revenue is negatively correlated that means higher the revenue(Mean monthly revenue in dollars) lower the churndep, \n",
    "similarly outcalls and churndep are also negatively correlated,\n",
    "eqpdays and churndep are positively correlated that is higher eqpdays then higher churndep\n",
    "\n",
    "Revenue:\n",
    "Revenue is negatively correlated that means higher the revenue lower the churndep\n",
    "It makes sense that if the revenue is high for the company then churndep is low as the clients will trust the company lot more since profits are flowing in\n",
    "Another relation could be that if revenue is flowing in it means clients are flushing the money in so high revenue means low number of clients are leaving and lot of clients are currently paying\n",
    "\n",
    "Outcalls:\n",
    "Outcalls being negatively correlated also makes sense as it means Mean number of outbound voice calls with the client is lot so client feels a lot more reliable of the company so churndep is lower.\n",
    "\n",
    "Eqpdays:\n",
    "Number of days the customer has had his/her current equipment : positively correlated which means higher the no of days the customer has their equipment, higher the churndep. May be the equipment becomes faulty after few days and there are no proper customer service because of which the customer tends to leave.\n"
   ]
  },
  {
   "cell_type": "markdown",
   "metadata": {
    "id": "COSPdyw6W5l6"
   },
   "source": [
    "5\\. Using the classifier built in 1.2, try predicting `\"churndep\"` on both the train_df and test_df data sets. What is the accuracy on each?\n",
    "\n",
    "(2 Points)"
   ]
  },
  {
   "cell_type": "code",
   "execution_count": 8,
   "metadata": {
    "id": "Y82nH7NnW5l7"
   },
   "outputs": [
    {
     "name": "stdout",
     "output_type": "stream",
     "text": [
      "Test Accuracy 0.5409794468409034\n",
      "Train Accuracy 0.999780914525367\n"
     ]
    }
   ],
   "source": [
    "# Place your code here\n",
    "# Place your code here\n",
    "from sklearn.metrics import accuracy_score\n",
    "predtest_Y = dtc.predict(test_X)\n",
    "print(\"Test Accuracy\", accuracy_score(test_Y, predtest_Y))\n",
    "\n",
    "predtrain_Y = dtc.predict(train_X)\n",
    "print(\"Train Accuracy\", accuracy_score(train_Y, predtrain_Y))"
   ]
  },
  {
   "cell_type": "markdown",
   "metadata": {
    "id": "rj8ABZTZW5l7"
   },
   "source": [
    "### **Part 2 - Finding a Good Decision Tree (Total 10 Points)**\n"
   ]
  },
  {
   "cell_type": "markdown",
   "metadata": {
    "id": "0uBeh5FLOKxS"
   },
   "source": [
    "The default options for your decision tree may not be optimal. We need to analyze whether tuning the parameters can improve the accuracy of the classifier.  For the following options `min_samples_split` and `min_samples_leaf`:"
   ]
  },
  {
   "cell_type": "markdown",
   "metadata": {
    "id": "43jCpTXKW5l7"
   },
   "source": [
    "1\\. Generate a list of 10 values of each for the parameters min_samples_split and min_samples_leaf. \n",
    "\n",
    "(1 Point)"
   ]
  },
  {
   "cell_type": "markdown",
   "metadata": {},
   "source": [
    "```\n",
    "min_samples_leaf: int, float, optional (default=1)\n",
    "The minimum number of samples required to be at a leaf node. A split point at any depth will only be considered if it leaves at least min_samples_leaf training samples in each of the left and right branches. This may have the effect of smoothing the model, especially in regression.\n",
    "min_samples_leaf is also used to control over-fitting by defining that each leaf has more than one element. Thus ensuring that the tree cannot overfit the training dataset by creating a bunch of small branches exclusively for one sample each. In reality, what this is actually doing is simply just telling the tree that each leaf doesn’t have to have an impurity of 0\n",
    "\n",
    "min_samples_split: int or float, default=2\n",
    "The minimum number of samples required to split an internal node:\n",
    "If int, then consider min_samples_split as the minimum number.\n",
    "If float, then min_samples_split is a fraction and ceil(min_samples_split * n_samples) are the minimum number of samples for each split.\n",
    "\n",
    "\n",
    "\n",
    "```"
   ]
  },
  {
   "cell_type": "markdown",
   "metadata": {
    "id": "J5-iUr7gW5l8"
   },
   "source": [
    "2\\. Explain in words your reasoning for choosing the above ranges.\n"
   ]
  },
  {
   "cell_type": "markdown",
   "metadata": {},
   "source": [
    "```\n",
    "min_samples_leaf\n",
    "Chose a range between 100-1750 with a difference of 250 because since we have a dataset of 22k and only 2 classes to predict with only 5 features that contribute to the predictions - revenue, eqpdays, outcalls, incalls and months - the child nodes definitely can have a minimum of range 100 and can go higher as the dataset will be majorly split by 5 features split - this will also prevent overfitting and generalising the model\n",
    "\n",
    "min_samples_split\n",
    "Chose the same range as we don't want the dataset to overfit on the training sample and having the less than 100 would not only overfit but will also create a complex tree with multiple nodes and for 5 contributing features a shallow tree would be sufficient with multiple samples grouped together in a node\n",
    "```"
   ]
  },
  {
   "cell_type": "markdown",
   "metadata": {
    "id": "Fs6wgdg9M8t_"
   },
   "source": [
    "*Place your response here*\n"
   ]
  },
  {
   "cell_type": "markdown",
   "metadata": {
    "id": "eN8_nlYPW5l8"
   },
   "source": [
    "3\\. For each combination of values in 3.1 (there should be 100), build a new classifier and check the classifier's accuracy on the test data. Plot the test set accuracy for these options. Use the values of `min_samples_split` as the x-axis and generate a new series (line) for each of `min_samples_leaf`.\n",
    "\n",
    "(5 Points)"
   ]
  },
  {
   "cell_type": "code",
   "execution_count": 9,
   "metadata": {
    "id": "e5HkS_nyW5l9"
   },
   "outputs": [
    {
     "data": {
      "image/png": "[encoded data removed]",
      "text/plain": [
       "<Figure size 640x480 with 1 Axes>"
      ]
     },
     "metadata": {},
     "output_type": "display_data"
    }
   ],
   "source": [
    "# Place your code here\n",
    "min_samples_split = [100, 250, 500, 750, 1000, 1250, 1500, 1750, 2000, 2250] \n",
    "min_samples_leaf =[100, 250, 500, 750, 1000, 1250, 1500, 1750, 2000, 2250] \n",
    "j=0\n",
    "\n",
    "\n",
    "for i in range(len(min_samples_leaf)):\n",
    "    acc_lis = []\n",
    "    for j in range(len(min_samples_split)):\n",
    "        dtc = DecisionTreeClassifier(random_state=0, min_samples_split=min_samples_split[j],min_samples_leaf=min_samples_leaf[i]).fit(train_X, train_Y)\n",
    "        predtest_Y = dtc.predict(test_X)\n",
    "        acc = accuracy_score(test_Y, predtest_Y)\n",
    "        acc_lis.append(acc)\n",
    "    \n",
    "    line = plt.plot(min_samples_split, acc_lis, label = str(min_samples_leaf[i]))\n",
    "    \n",
    "plt.xlabel(\"min_samples_split\")\n",
    "plt.ylabel(\"acc\")\n",
    "plt.legend()\n",
    "plt.title(\"Test Accuracy\")\n",
    "plt.show()\n"
   ]
  },
  {
   "cell_type": "markdown",
   "metadata": {
    "id": "HWgFUXK-W5l9"
   },
   "source": [
    "4\\. Which configuration returns the best accuracy? What is this accuracy? (Note, if you don't see much variation in the test set accuracy across values of min_samples_split or min_samples_leaf, try redoing the above steps with a different range of values).\n",
    "\n",
    "(1 Point)"
   ]
  },
  {
   "cell_type": "markdown",
   "metadata": {},
   "source": [
    "Best configuration is when min_samples_split is 2000 and min_samples_leaf is 100 \n",
    "and accuracy is around 60.5%"
   ]
  },
  {
   "cell_type": "markdown",
   "metadata": {
    "id": "goSHZNjGMg5u"
   },
   "source": [
    "*Place your response here*"
   ]
  },
  {
   "cell_type": "markdown",
   "metadata": {
    "id": "6K6oetWeW5l-"
   },
   "source": [
    "5\\. If you were working for a marketing department, how would you use your churn production model in a real business environment? Explain why churn prediction might be good for the business and how one might improve churn by using this model.\n",
    "\n",
    "(2 Points)"
   ]
  },
  {
   "cell_type": "markdown",
   "metadata": {},
   "source": [
    "I would use this model to periodically check which customer/client might have a tendency to get churned and take precautionary measure beforehand.\n",
    "For example if the model predicts a client/customer is going to leave and then we can always increase outbound and inbound calls as that might make the customer feel they're appreciated and stay with the company for longer\n",
    "or bring in more revenue by transparently showing them how we can improve\n",
    "\n",
    "I can change my focus to companies that have a greater tendency to drop working with us there by giving them a better service and better deal for them to stay with us longer"
   ]
  },
  {
   "cell_type": "markdown",
   "metadata": {
    "id": "Lkz5xJiWW5l-"
   },
   "source": [
    "### **Part 3: Model selection with cross-validation (5 points)**\n"
   ]
  },
  {
   "cell_type": "markdown",
   "metadata": {
    "id": "BAu5rwsQOQir"
   },
   "source": [
    "In this part, we will focus on cross-validation to find a good value for parameter `max_depth`.\n"
   ]
  },
  {
   "cell_type": "markdown",
   "metadata": {
    "id": "RORjY0z4W5l-"
   },
   "source": [
    "1\\. Write a cross-validation function that does the following:\n",
    "- Takes as inputs a dataset, a label name, # of splits/folds (`k`), and a sequence of values for the maximum depth of the tree (`max_depth`). \n",
    "- Shuffles the data.\n",
    "- Splits the data into `k` folds according to the cross-validation logic\n",
    "- Performs two loops\n",
    "  - Outer Loop: `for each f in range(k)`:\n",
    "    - Inner Loop: `for each value in max_depth_sequence`:\n",
    "      - Trains a Decision Tree on the training split with the `max_depth=value` (USE criterion='entropy' BUT DO NOT ALTER THE OTHER PARAMETERS)\n",
    "      - Computes accuracy_value_f on test split\n",
    "      - Stores accuracy_value_f in a  dictionary of values\n",
    "- Returns a dictionary, where each key-value pair is: `value:[accuracy_value_1,...,accuracy_value_k]`\n",
    "\n",
    "(2 Points)"
   ]
  },
  {
   "cell_type": "code",
   "execution_count": 10,
   "metadata": {
    "id": "ueSTmrufMEE7"
   },
   "outputs": [],
   "source": [
    "from random import randrange\n",
    "\n",
    "def xValDecisionTree(dataset, label, k, max_depth_sequence):\n",
    "    dataset = dataset.sample(frac=1).reset_index(drop=True)\n",
    "    df_split = np.array_split(dataset, k)\n",
    "    train_split = pd.DataFrame()\n",
    "    acc_dict = {}\n",
    "    for i in range(0,k):\n",
    "        test_split = pd.DataFrame(df_split[i])\n",
    "        for j in range(k):\n",
    "            if i!= j:\n",
    "                train_split = pd.concat([pd.DataFrame(df_split[j]), train_split])\n",
    "        acc_lis = []        \n",
    "        depth_lis = []\n",
    "        \n",
    "        train_X = train_split.loc[:, train_split.columns != label]\n",
    "        train_Y = train_split[label]\n",
    "\n",
    "\n",
    "        test_X = test_split.loc[:, test_split.columns != label]\n",
    "        test_Y = test_split[label]\n",
    "\n",
    "\n",
    "        for value in max_depth_sequence:\n",
    "            dtc = DecisionTreeClassifier(random_state=0, max_depth=value,  criterion='entropy' ).fit(train_X, train_Y)\n",
    "            predtest_Y = dtc.predict(test_X)\n",
    "            acc = accuracy_score(test_Y, predtest_Y)\n",
    "            acc_lis.append(acc)\n",
    "            depth_lis.append(value)\n",
    "            if value not in acc_dict.keys():\n",
    "                acc_dict[value] = []\n",
    "            acc_dict[value].append(acc)\n",
    "        plt.show()\n",
    "        \n",
    "    return acc_dict\n"
   ]
  },
  {
   "cell_type": "markdown",
   "metadata": {
    "id": "_mVjLoczW5l_"
   },
   "source": [
    "2\\. Using the function written above, do the following:\n",
    "- Generate a sequence `max_depth_sequence = [None, 2, 4, 8, 16, 32, 128, 256, 512]` (Note that None is the default value for this parameter).\n",
    "2.\tCall accs = xValDecisionTree(dataset, 'churndep', 10, `max_depth_sequence`)\n",
    "3.  For each value in accs.keys(), calculate mean(accs[value]). What value is associated with the highest accuracy mean?\n",
    "4.  For each value in accs.keys(), calculate the ranges mean(accs[value]) +/- std(accs[value]). Do the ranges associated with the value that has the highest mean(accs[value]) overlap with ranges for other values? What may this suggest and what are the limitations of a standard deviation based analysis in this scenario?\n",
    "\n",
    "5.  Which depth value would you pick, if any, and why?\n",
    "\n",
    "(3 Points)"
   ]
  },
  {
   "cell_type": "code",
   "execution_count": 11,
   "metadata": {
    "id": "vhxqce5FMFRF"
   },
   "outputs": [
    {
     "name": "stdout",
     "output_type": "stream",
     "text": [
      "{None: [0.5261044176706827,\n",
      "        1.0,\n",
      "        0.9997489959839357,\n",
      "        0.9997489329651017,\n",
      "        1.0,\n",
      "        0.9994978659302034,\n",
      "        0.9992467988953051,\n",
      "        1.0,\n",
      "        0.9997489329651017,\n",
      "        0.9994978659302034],\n",
      " 2: [0.5911144578313253,\n",
      "     0.5753012048192772,\n",
      "     0.5700301204819277,\n",
      "     0.5761988450916394,\n",
      "     0.5842329902083856,\n",
      "     0.5819733868943008,\n",
      "     0.5721817725332664,\n",
      "     0.5902585990459452,\n",
      "     0.6010544815465729,\n",
      "     0.5824755209640974],\n",
      " 4: [0.6019076305220884,\n",
      "     0.5896084337349398,\n",
      "     0.5868473895582329,\n",
      "     0.5877479286969621,\n",
      "     0.5912628671855386,\n",
      "     0.5972884760230982,\n",
      "     0.5937735375345217,\n",
      "     0.6073311574190309,\n",
      "     0.6118503640472006,\n",
      "     0.5937735375345217],\n",
      " 8: [0.5971385542168675,\n",
      "     0.5946285140562249,\n",
      "     0.6069277108433735,\n",
      "     0.5980416771277931,\n",
      "     0.6015566156163695,\n",
      "     0.6073311574190309,\n",
      "     0.5997991463720813,\n",
      "     0.62239517951293,\n",
      "     0.6201355761988451,\n",
      "     0.6108460959076073],\n",
      " 16: [0.5740461847389559,\n",
      "      0.6646586345381527,\n",
      "      0.6814759036144579,\n",
      "      0.6721064524227969,\n",
      "      0.6829023349234246,\n",
      "      0.6889279437609842,\n",
      "      0.7034898317850866,\n",
      "      0.7122771780065278,\n",
      "      0.707004770273663,\n",
      "      0.6969620888777304],\n",
      " 32: [0.5306224899598394,\n",
      "      0.9299698795180723,\n",
      "      0.9362449799196787,\n",
      "      0.9357268390660306,\n",
      "      0.9440120512176752,\n",
      "      0.9467737886015566,\n",
      "      0.9452673863921667,\n",
      "      0.9485312578458448,\n",
      "      0.9492844589505398,\n",
      "      0.94627165453176],\n",
      " 128: [0.5261044176706827,\n",
      "       1.0,\n",
      "       0.9997489959839357,\n",
      "       0.9997489329651017,\n",
      "       1.0,\n",
      "       0.9994978659302034,\n",
      "       0.9992467988953051,\n",
      "       1.0,\n",
      "       0.9997489329651017,\n",
      "       0.9994978659302034],\n",
      " 256: [0.5261044176706827,\n",
      "       1.0,\n",
      "       0.9997489959839357,\n",
      "       0.9997489329651017,\n",
      "       1.0,\n",
      "       0.9994978659302034,\n",
      "       0.9992467988953051,\n",
      "       1.0,\n",
      "       0.9997489329651017,\n",
      "       0.9994978659302034],\n",
      " 512: [0.5261044176706827,\n",
      "       1.0,\n",
      "       0.9997489959839357,\n",
      "       0.9997489329651017,\n",
      "       1.0,\n",
      "       0.9994978659302034,\n",
      "       0.9992467988953051,\n",
      "       1.0,\n",
      "       0.9997489329651017,\n",
      "       0.9994978659302034]}\n"
     ]
    }
   ],
   "source": [
    "# Place your code here\n",
    "#2.\n",
    "max_depth_sequence = [None, 2, 4, 8, 16, 32, 128, 256, 512]\n",
    "accs_dict = xValDecisionTree(df, \"churndep\", 10,  max_depth_sequence)\n",
    "pprint(accs_dict)"
   ]
  },
  {
   "cell_type": "code",
   "execution_count": 12,
   "metadata": {},
   "outputs": [
    {
     "data": {
      "text/html": [
       "<div>\n",
       "<style scoped>\n",
       "    .dataframe tbody tr th:only-of-type {\n",
       "        vertical-align: middle;\n",
       "    }\n",
       "\n",
       "    .dataframe tbody tr th {\n",
       "        vertical-align: top;\n",
       "    }\n",
       "\n",
       "    .dataframe thead th {\n",
       "        text-align: right;\n",
       "    }\n",
       "</style>\n",
       "<table border=\"1\" class=\"dataframe\">\n",
       "  <thead>\n",
       "    <tr style=\"text-align: right;\">\n",
       "      <th></th>\n",
       "      <th>NaN</th>\n",
       "      <th>2.0</th>\n",
       "      <th>4.0</th>\n",
       "      <th>8.0</th>\n",
       "      <th>16.0</th>\n",
       "      <th>32.0</th>\n",
       "      <th>128.0</th>\n",
       "      <th>256.0</th>\n",
       "      <th>512.0</th>\n",
       "    </tr>\n",
       "  </thead>\n",
       "  <tbody>\n",
       "    <tr>\n",
       "      <th>0</th>\n",
       "      <td>0.526104</td>\n",
       "      <td>0.591114</td>\n",
       "      <td>0.601908</td>\n",
       "      <td>0.597139</td>\n",
       "      <td>0.574046</td>\n",
       "      <td>0.530622</td>\n",
       "      <td>0.526104</td>\n",
       "      <td>0.526104</td>\n",
       "      <td>0.526104</td>\n",
       "    </tr>\n",
       "    <tr>\n",
       "      <th>1</th>\n",
       "      <td>1.000000</td>\n",
       "      <td>0.575301</td>\n",
       "      <td>0.589608</td>\n",
       "      <td>0.594629</td>\n",
       "      <td>0.664659</td>\n",
       "      <td>0.929970</td>\n",
       "      <td>1.000000</td>\n",
       "      <td>1.000000</td>\n",
       "      <td>1.000000</td>\n",
       "    </tr>\n",
       "    <tr>\n",
       "      <th>2</th>\n",
       "      <td>0.999749</td>\n",
       "      <td>0.570030</td>\n",
       "      <td>0.586847</td>\n",
       "      <td>0.606928</td>\n",
       "      <td>0.681476</td>\n",
       "      <td>0.936245</td>\n",
       "      <td>0.999749</td>\n",
       "      <td>0.999749</td>\n",
       "      <td>0.999749</td>\n",
       "    </tr>\n",
       "    <tr>\n",
       "      <th>3</th>\n",
       "      <td>0.999749</td>\n",
       "      <td>0.576199</td>\n",
       "      <td>0.587748</td>\n",
       "      <td>0.598042</td>\n",
       "      <td>0.672106</td>\n",
       "      <td>0.935727</td>\n",
       "      <td>0.999749</td>\n",
       "      <td>0.999749</td>\n",
       "      <td>0.999749</td>\n",
       "    </tr>\n",
       "    <tr>\n",
       "      <th>4</th>\n",
       "      <td>1.000000</td>\n",
       "      <td>0.584233</td>\n",
       "      <td>0.591263</td>\n",
       "      <td>0.601557</td>\n",
       "      <td>0.682902</td>\n",
       "      <td>0.944012</td>\n",
       "      <td>1.000000</td>\n",
       "      <td>1.000000</td>\n",
       "      <td>1.000000</td>\n",
       "    </tr>\n",
       "    <tr>\n",
       "      <th>5</th>\n",
       "      <td>0.999498</td>\n",
       "      <td>0.581973</td>\n",
       "      <td>0.597288</td>\n",
       "      <td>0.607331</td>\n",
       "      <td>0.688928</td>\n",
       "      <td>0.946774</td>\n",
       "      <td>0.999498</td>\n",
       "      <td>0.999498</td>\n",
       "      <td>0.999498</td>\n",
       "    </tr>\n",
       "    <tr>\n",
       "      <th>6</th>\n",
       "      <td>0.999247</td>\n",
       "      <td>0.572182</td>\n",
       "      <td>0.593774</td>\n",
       "      <td>0.599799</td>\n",
       "      <td>0.703490</td>\n",
       "      <td>0.945267</td>\n",
       "      <td>0.999247</td>\n",
       "      <td>0.999247</td>\n",
       "      <td>0.999247</td>\n",
       "    </tr>\n",
       "    <tr>\n",
       "      <th>7</th>\n",
       "      <td>1.000000</td>\n",
       "      <td>0.590259</td>\n",
       "      <td>0.607331</td>\n",
       "      <td>0.622395</td>\n",
       "      <td>0.712277</td>\n",
       "      <td>0.948531</td>\n",
       "      <td>1.000000</td>\n",
       "      <td>1.000000</td>\n",
       "      <td>1.000000</td>\n",
       "    </tr>\n",
       "    <tr>\n",
       "      <th>8</th>\n",
       "      <td>0.999749</td>\n",
       "      <td>0.601054</td>\n",
       "      <td>0.611850</td>\n",
       "      <td>0.620136</td>\n",
       "      <td>0.707005</td>\n",
       "      <td>0.949284</td>\n",
       "      <td>0.999749</td>\n",
       "      <td>0.999749</td>\n",
       "      <td>0.999749</td>\n",
       "    </tr>\n",
       "    <tr>\n",
       "      <th>9</th>\n",
       "      <td>0.999498</td>\n",
       "      <td>0.582476</td>\n",
       "      <td>0.593774</td>\n",
       "      <td>0.610846</td>\n",
       "      <td>0.696962</td>\n",
       "      <td>0.946272</td>\n",
       "      <td>0.999498</td>\n",
       "      <td>0.999498</td>\n",
       "      <td>0.999498</td>\n",
       "    </tr>\n",
       "  </tbody>\n",
       "</table>\n",
       "</div>"
      ],
      "text/plain": [
       "      NaN       2.0       4.0       8.0       16.0      32.0      128.0  \\\n",
       "0  0.526104  0.591114  0.601908  0.597139  0.574046  0.530622  0.526104   \n",
       "1  1.000000  0.575301  0.589608  0.594629  0.664659  0.929970  1.000000   \n",
       "2  0.999749  0.570030  0.586847  0.606928  0.681476  0.936245  0.999749   \n",
       "3  0.999749  0.576199  0.587748  0.598042  0.672106  0.935727  0.999749   \n",
       "4  1.000000  0.584233  0.591263  0.601557  0.682902  0.944012  1.000000   \n",
       "5  0.999498  0.581973  0.597288  0.607331  0.688928  0.946774  0.999498   \n",
       "6  0.999247  0.572182  0.593774  0.599799  0.703490  0.945267  0.999247   \n",
       "7  1.000000  0.590259  0.607331  0.622395  0.712277  0.948531  1.000000   \n",
       "8  0.999749  0.601054  0.611850  0.620136  0.707005  0.949284  0.999749   \n",
       "9  0.999498  0.582476  0.593774  0.610846  0.696962  0.946272  0.999498   \n",
       "\n",
       "      256.0     512.0  \n",
       "0  0.526104  0.526104  \n",
       "1  1.000000  1.000000  \n",
       "2  0.999749  0.999749  \n",
       "3  0.999749  0.999749  \n",
       "4  1.000000  1.000000  \n",
       "5  0.999498  0.999498  \n",
       "6  0.999247  0.999247  \n",
       "7  1.000000  1.000000  \n",
       "8  0.999749  0.999749  \n",
       "9  0.999498  0.999498  "
      ]
     },
     "execution_count": 12,
     "metadata": {},
     "output_type": "execute_result"
    }
   ],
   "source": [
    "accs_df = pd.DataFrame.from_dict(accs_dict)\n",
    "accs_df"
   ]
  },
  {
   "cell_type": "markdown",
   "metadata": {},
   "source": [
    "3. The maximum accuracy in the val set is 0.999498 when max_depth = None, 128, 256, 512"
   ]
  },
  {
   "cell_type": "code",
   "execution_count": 13,
   "metadata": {},
   "outputs": [
    {
     "data": {
      "text/html": [
       "<div>\n",
       "<style scoped>\n",
       "    .dataframe tbody tr th:only-of-type {\n",
       "        vertical-align: middle;\n",
       "    }\n",
       "\n",
       "    .dataframe tbody tr th {\n",
       "        vertical-align: top;\n",
       "    }\n",
       "\n",
       "    .dataframe thead th {\n",
       "        text-align: right;\n",
       "    }\n",
       "</style>\n",
       "<table border=\"1\" class=\"dataframe\">\n",
       "  <thead>\n",
       "    <tr style=\"text-align: right;\">\n",
       "      <th></th>\n",
       "      <th>NaN</th>\n",
       "      <th>2.0</th>\n",
       "      <th>4.0</th>\n",
       "      <th>8.0</th>\n",
       "      <th>16.0</th>\n",
       "      <th>32.0</th>\n",
       "      <th>128.0</th>\n",
       "      <th>256.0</th>\n",
       "      <th>512.0</th>\n",
       "    </tr>\n",
       "  </thead>\n",
       "  <tbody>\n",
       "    <tr>\n",
       "      <th>count</th>\n",
       "      <td>10.000000</td>\n",
       "      <td>10.000000</td>\n",
       "      <td>10.000000</td>\n",
       "      <td>10.000000</td>\n",
       "      <td>10.000000</td>\n",
       "      <td>10.000000</td>\n",
       "      <td>10.000000</td>\n",
       "      <td>10.000000</td>\n",
       "      <td>10.000000</td>\n",
       "    </tr>\n",
       "    <tr>\n",
       "      <th>mean</th>\n",
       "      <td>0.952359</td>\n",
       "      <td>0.582482</td>\n",
       "      <td>0.596139</td>\n",
       "      <td>0.605880</td>\n",
       "      <td>0.678385</td>\n",
       "      <td>0.901270</td>\n",
       "      <td>0.952359</td>\n",
       "      <td>0.952359</td>\n",
       "      <td>0.952359</td>\n",
       "    </tr>\n",
       "    <tr>\n",
       "      <th>std</th>\n",
       "      <td>0.149771</td>\n",
       "      <td>0.009635</td>\n",
       "      <td>0.008440</td>\n",
       "      <td>0.009568</td>\n",
       "      <td>0.039719</td>\n",
       "      <td>0.130389</td>\n",
       "      <td>0.149771</td>\n",
       "      <td>0.149771</td>\n",
       "      <td>0.149771</td>\n",
       "    </tr>\n",
       "    <tr>\n",
       "      <th>min</th>\n",
       "      <td>0.526104</td>\n",
       "      <td>0.570030</td>\n",
       "      <td>0.586847</td>\n",
       "      <td>0.594629</td>\n",
       "      <td>0.574046</td>\n",
       "      <td>0.530622</td>\n",
       "      <td>0.526104</td>\n",
       "      <td>0.526104</td>\n",
       "      <td>0.526104</td>\n",
       "    </tr>\n",
       "    <tr>\n",
       "      <th>25%</th>\n",
       "      <td>0.999498</td>\n",
       "      <td>0.575526</td>\n",
       "      <td>0.590022</td>\n",
       "      <td>0.598481</td>\n",
       "      <td>0.674449</td>\n",
       "      <td>0.935856</td>\n",
       "      <td>0.999498</td>\n",
       "      <td>0.999498</td>\n",
       "      <td>0.999498</td>\n",
       "    </tr>\n",
       "    <tr>\n",
       "      <th>50%</th>\n",
       "      <td>0.999749</td>\n",
       "      <td>0.582224</td>\n",
       "      <td>0.593774</td>\n",
       "      <td>0.604242</td>\n",
       "      <td>0.685915</td>\n",
       "      <td>0.944640</td>\n",
       "      <td>0.999749</td>\n",
       "      <td>0.999749</td>\n",
       "      <td>0.999749</td>\n",
       "    </tr>\n",
       "    <tr>\n",
       "      <th>75%</th>\n",
       "      <td>0.999937</td>\n",
       "      <td>0.588752</td>\n",
       "      <td>0.600753</td>\n",
       "      <td>0.609967</td>\n",
       "      <td>0.701858</td>\n",
       "      <td>0.946648</td>\n",
       "      <td>0.999937</td>\n",
       "      <td>0.999937</td>\n",
       "      <td>0.999937</td>\n",
       "    </tr>\n",
       "    <tr>\n",
       "      <th>max</th>\n",
       "      <td>1.000000</td>\n",
       "      <td>0.601054</td>\n",
       "      <td>0.611850</td>\n",
       "      <td>0.622395</td>\n",
       "      <td>0.712277</td>\n",
       "      <td>0.949284</td>\n",
       "      <td>1.000000</td>\n",
       "      <td>1.000000</td>\n",
       "      <td>1.000000</td>\n",
       "    </tr>\n",
       "    <tr>\n",
       "      <th>mean-std</th>\n",
       "      <td>0.802588</td>\n",
       "      <td>0.572847</td>\n",
       "      <td>0.587699</td>\n",
       "      <td>0.596312</td>\n",
       "      <td>0.638666</td>\n",
       "      <td>0.770882</td>\n",
       "      <td>0.802588</td>\n",
       "      <td>0.802588</td>\n",
       "      <td>0.802588</td>\n",
       "    </tr>\n",
       "    <tr>\n",
       "      <th>mean+std</th>\n",
       "      <td>1.102130</td>\n",
       "      <td>0.592117</td>\n",
       "      <td>0.604579</td>\n",
       "      <td>0.615448</td>\n",
       "      <td>0.718105</td>\n",
       "      <td>1.031659</td>\n",
       "      <td>1.102130</td>\n",
       "      <td>1.102130</td>\n",
       "      <td>1.102130</td>\n",
       "    </tr>\n",
       "  </tbody>\n",
       "</table>\n",
       "</div>"
      ],
      "text/plain": [
       "              NaN        2.0        4.0        8.0        16.0       32.0   \\\n",
       "count     10.000000  10.000000  10.000000  10.000000  10.000000  10.000000   \n",
       "mean       0.952359   0.582482   0.596139   0.605880   0.678385   0.901270   \n",
       "std        0.149771   0.009635   0.008440   0.009568   0.039719   0.130389   \n",
       "min        0.526104   0.570030   0.586847   0.594629   0.574046   0.530622   \n",
       "25%        0.999498   0.575526   0.590022   0.598481   0.674449   0.935856   \n",
       "50%        0.999749   0.582224   0.593774   0.604242   0.685915   0.944640   \n",
       "75%        0.999937   0.588752   0.600753   0.609967   0.701858   0.946648   \n",
       "max        1.000000   0.601054   0.611850   0.622395   0.712277   0.949284   \n",
       "mean-std   0.802588   0.572847   0.587699   0.596312   0.638666   0.770882   \n",
       "mean+std   1.102130   0.592117   0.604579   0.615448   0.718105   1.031659   \n",
       "\n",
       "              128.0      256.0      512.0  \n",
       "count     10.000000  10.000000  10.000000  \n",
       "mean       0.952359   0.952359   0.952359  \n",
       "std        0.149771   0.149771   0.149771  \n",
       "min        0.526104   0.526104   0.526104  \n",
       "25%        0.999498   0.999498   0.999498  \n",
       "50%        0.999749   0.999749   0.999749  \n",
       "75%        0.999937   0.999937   0.999937  \n",
       "max        1.000000   1.000000   1.000000  \n",
       "mean-std   0.802588   0.802588   0.802588  \n",
       "mean+std   1.102130   1.102130   1.102130  "
      ]
     },
     "execution_count": 13,
     "metadata": {},
     "output_type": "execute_result"
    }
   ],
   "source": [
    "#3\n",
    "describe_df = accs_df.describe()\n",
    "describe_df.loc['mean-std'] = describe_df.loc['mean'] - describe_df.loc['std']\n",
    "describe_df.loc['mean+std'] = describe_df.loc['mean'] + describe_df.loc['std']\n",
    "describe_df\n"
   ]
  },
  {
   "cell_type": "markdown",
   "metadata": {},
   "source": [
    "4. The range(mean-std and mean+std) is teh same for depth = None, 128, 256, 512 range:(0.803 - 1.102)\n",
    "Standard deviation here shows how the data in folds are distributed that is if the std of accuracy is low then it means that the data in the trainset and val set have been learnt uniformly and there is no overfit.\n",
    "If the std is high which means that the training has been overfit on the train fold and in the val fold the accuracy is not being able to replicate.\n",
    "\n",
    "Like example take max_depth 16 and when fold 0 was val fold; accuracy was 0.59 whereas when fold 1 was used as val fold accuracy jumped to 0.67 which means the data in val fold 0 is a little different from the data in the training that implies for max_depth 16 the model is overfitting to the training folds and is extremely dependant on it because of which val fold accuracy starts fluctuating"
   ]
  },
  {
   "cell_type": "markdown",
   "metadata": {},
   "source": [
    "5. The range(mean - std to mean + std) is the same for depth = None, 128, 256 and 512 its the same range that is 0.803 - 1.102\n",
    "It means the data is overfitting to the train data so the val set accuracy is extremely high\n",
    "So, i'll probably take the next best accuracy that is with value 16.0 or 8.0 as max_depth_sequence\n",
    "I am inclining more towards 8 because the std is less than 16 which means that accuracy of a set similar to trainset will be in the smaller range from 0.596 - 0.62\n",
    "unlike 16 which has a larger range which means features learnt with max_depth =16 did not help in predicting val fold - overfit to the training fold."
   ]
  },
  {
   "cell_type": "code",
   "execution_count": 14,
   "metadata": {},
   "outputs": [
    {
     "name": "stdout",
     "output_type": "stream",
     "text": [
      "For max_depth = None Acc =  0.5385688911443796\n",
      "For max_depth = 256 Acc =  0.5385688911443796\n",
      "For max_depth = 512 Acc =  0.5385688911443796\n"
     ]
    }
   ],
   "source": [
    "dtc = DecisionTreeClassifier(random_state=0, max_depth=None,  criterion='entropy' ).fit(train_X, train_Y)\n",
    "predtest_Y = dtc.predict(test_X)\n",
    "acc = accuracy_score(test_Y, predtest_Y)\n",
    "print(\"For max_depth = None Acc = \",acc) \n",
    "\n",
    "\n",
    "dtc = DecisionTreeClassifier(random_state=0, max_depth=256,  criterion='entropy' ).fit(train_X, train_Y)\n",
    "predtest_Y = dtc.predict(test_X)\n",
    "acc = accuracy_score(test_Y, predtest_Y)\n",
    "print(\"For max_depth = 256 Acc = \",acc)\n",
    "\n",
    "dtc = DecisionTreeClassifier(random_state=0, max_depth=512,  criterion='entropy' ).fit(train_X, train_Y)\n",
    "predtest_Y = dtc.predict(test_X)\n",
    "acc = accuracy_score(test_Y, predtest_Y)\n",
    "print(\"For max_depth = 512 Acc = \",acc)"
   ]
  },
  {
   "cell_type": "markdown",
   "metadata": {},
   "source": [
    "This shows how the test data is not performing that great on the best performing model in the train data as those iteration are over fitting,\n",
    "whereas the one with max_depth of 16 has generalised well so performs better than max_depth = None, 128, 256, 512\n",
    "\n",
    "and highest for max_depth = 8"
   ]
  },
  {
   "cell_type": "code",
   "execution_count": 15,
   "metadata": {},
   "outputs": [
    {
     "name": "stdout",
     "output_type": "stream",
     "text": [
      "For max_depth = 16 Acc =  0.5749809692971327\n"
     ]
    }
   ],
   "source": [
    "dtc = DecisionTreeClassifier(random_state=0, max_depth=16,  criterion='entropy' ).fit(train_X, train_Y)\n",
    "predtest_Y = dtc.predict(test_X)\n",
    "acc = accuracy_score(test_Y, predtest_Y)\n",
    "print(\"For max_depth = 16 Acc = \",acc)"
   ]
  },
  {
   "cell_type": "code",
   "execution_count": 16,
   "metadata": {},
   "outputs": [
    {
     "name": "stdout",
     "output_type": "stream",
     "text": [
      "For max_depth = 32 Acc =  0.5383151484394824\n"
     ]
    }
   ],
   "source": [
    "dtc = DecisionTreeClassifier(random_state=0, max_depth=32,  criterion='entropy' ).fit(train_X, train_Y)\n",
    "predtest_Y = dtc.predict(test_X)\n",
    "acc = accuracy_score(test_Y, predtest_Y)\n",
    "print(\"For max_depth = 32 Acc = \",acc)"
   ]
  },
  {
   "cell_type": "code",
   "execution_count": 17,
   "metadata": {},
   "outputs": [
    {
     "name": "stdout",
     "output_type": "stream",
     "text": [
      "For max_depth = 8 Acc =  0.5912205024105557\n"
     ]
    }
   ],
   "source": [
    "dtc = DecisionTreeClassifier(random_state=0, max_depth=8,  criterion='entropy' ).fit(train_X, train_Y)\n",
    "predtest_Y = dtc.predict(test_X)\n",
    "acc = accuracy_score(test_Y, predtest_Y)\n",
    "print(\"For max_depth = 8 Acc = \",acc)"
   ]
  },
  {
   "cell_type": "markdown",
   "metadata": {
    "id": "78CJdaQzO1sC"
   },
   "source": [
    "### **Part 4: Boosting (5 Points)**\n"
   ]
  },
  {
   "cell_type": "markdown",
   "metadata": {
    "id": "GUHIOAxaPHOn"
   },
   "source": [
    "Now, as we covered in class, ensemble methods are often used to improve performance. \n",
    "\n",
    "1. Implement the boosting algorithm: XGBoost for the same `cell2cell_data.csv` task as above. You will have to select how to tune hyperparameters. Besides depth, which other hyperparametrs do you optimize for? (2 points)"
   ]
  },
  {
   "cell_type": "markdown",
   "metadata": {},
   "source": [
    "```\n",
    "XGBoost hyperparameters\n",
    "\n",
    "General Parameters \n",
    "booster \n",
    "gbtree defaut which is okay as it is used for tree based xgboost\n",
    "\n",
    "\n",
    "Booster Parameters\n",
    "eta \n",
    "It is the step size shrinkage used in update to prevent overfitting. \n",
    "Range : [0,1] Typical final values : 0.01-0.2.\\n\n",
    "Default : 0\n",
    "    \n",
    "gamma \n",
    "A node is split only when the resulting split gives a positive reduction in the loss function. The larger gamma is, the more conservative the algorithm will be.\n",
    "Range: [0,∞]\n",
    "Default : 0\n",
    "    \n",
    "max_depth - used 3 because mostly there are 3 major features that is eqpdays, revenue, outcalls\n",
    "It is used to control over-fitting as higher depth will allow model to learn relations very specific to a particular sample.\n",
    "range: [0,∞] (0 is only accepted in lossguided growing policy when tree_method is set as hist.\n",
    "default =6\n",
    "\n",
    "\n",
    "min_child_weight - for overfitting we have modified tree depth etc\n",
    "It defines the minimum sum of weights of all observations required in a child.\n",
    "range: [0,∞]\n",
    "It is used to control over-fitting.\n",
    "Higher values prevent a model from learning relations which might be highly specific to the particular sample selected for a tree.\n",
    "default=1\n",
    "\n",
    "\n",
    "max_delta_step - churndep is not biased(0: 15991 1: 15951) so not using this\n",
    "In maximum delta step we allow each tree’s weight estimation to be.\n",
    "Usually this parameter is not needed, but it might help in logistic regression when class is extremely imbalanced.\n",
    "Set it to value of 1-10 might help control the update.\n",
    "range: [0,∞]\n",
    "default=0\n",
    "\n",
    "\n",
    "subsample   - Want to give this default because this is too much rules on the tree\n",
    "It denotes the fraction of observations to be randomly samples for each tree.\n",
    "Subsample ratio of the training instances.\n",
    "Setting it to 0.5 means that XGBoost would randomly sample half of the training data prior to growing trees. - This will prevent overfitting.\n",
    "Typical values: 0.5-1\n",
    "range: (0,1]\n",
    "\n",
    "lambda - 1 is good enough\n",
    "L2 regularization term on weights (analogous to Ridge regression).\n",
    "This is used to handle the regularization part of XGBoost.\n",
    "Increasing this value will make model more conservative.\n",
    "default=1\n",
    "\n",
    "\n",
    "alpha - No need this because less features and we don't need feature sleection here\n",
    "L1 regularization term on weights (analogous to Lasso regression).\n",
    "It can be used in case of very high dimensionality so that the algorithm runs faster when implemented.\n",
    "Increasing this value will make model more conservative.\n",
    "default=0\n",
    "\n",
    "\n",
    "tree_method - auto takes care of which one to choose based on dataset size so no need of change\n",
    "Choices: auto, exact, approx, hist, gpu_hist\n",
    "auto: Use heuristic to choose the fastest method.\n",
    "For small to medium dataset, exact greedy (exact) will be used.\n",
    "For very large dataset, approximate algorithm (approx) will be chosen.\n",
    "Because old behavior is always use exact greedy in single machine, user will get a message when approximate algorithm is chosen to notify this choice.\n",
    "exact: Exact greedy algorithm.\n",
    "approx: Approximate greedy algorithm using quantile sketch and gradient histogram.\n",
    "hist: Fast histogram optimized approximate greedy algorithm. It uses some performance improvements such as bins caching.\n",
    "gpu_hist: GPU implementation of hist algorithm.\n",
    "default= auto\n",
    "\n",
    "\n",
    "scale_pos_weight - No need as classes are balanced for us\n",
    "It controls the balance of positive and negative weights,\n",
    "It is useful for imbalanced classes.\n",
    "A value greater than 0 should be used in case of high class imbalance as it helps in faster convergence.\n",
    "A typical value to consider: sum(negative instances) / sum(positive instances).\n",
    "default=1\n",
    "\n",
    "\n",
    "max_leaves  - too much interference to the tree so no need\n",
    "Maximum number of nodes to be added.\n",
    "Only relevant when grow_policy=lossguide is set.\n",
    "\n",
    "\n",
    "Learning Task Parameters \n",
    "\n",
    "objective  - binary:logistic because this is binary classification\n",
    "reg:logistic : logistic regression\n",
    "binary:logistic : logistic regression for binary classification, output probability\n",
    "binary:logitraw: logistic regression for binary classification, output score before logistic transformation\n",
    "binary:hinge : hinge loss for binary classification. This makes predictions of 0 or 1, rather than producing probabilities.\n",
    "multi:softmax : set XGBoost to do multiclass classification using the softmax objective, you also need to set num_class(number of classes)\n",
    "multi:softprob : same as softmax, but output a vector of ndata nclass, which can be further reshaped to ndata nclass matrix. The result contains predicted probability of each data point belonging to each class.\n",
    "default=reg:squarederror\n",
    "\n",
    "eval_metric - default metrics makes sense\n",
    "The metric to be used for validation data.\n",
    "The default values are rmse for regression, error for classification and mean average precision for ranking.\n",
    "\n",
    "\n",
    "```\n",
    "\n"
   ]
  },
  {
   "cell_type": "code",
   "execution_count": null,
   "metadata": {},
   "outputs": [],
   "source": []
  },
  {
   "cell_type": "code",
   "execution_count": null,
   "metadata": {},
   "outputs": [],
   "source": []
  },
  {
   "cell_type": "code",
   "execution_count": null,
   "metadata": {},
   "outputs": [],
   "source": []
  },
  {
   "cell_type": "code",
   "execution_count": null,
   "metadata": {},
   "outputs": [],
   "source": []
  },
  {
   "cell_type": "markdown",
   "metadata": {
    "id": "GPvZZHlvPfh_"
   },
   "source": [
    "*Place your answer here regarding hyperparameters.*"
   ]
  },
  {
   "cell_type": "code",
   "execution_count": 18,
   "metadata": {
    "id": "HLsVwARuPedB"
   },
   "outputs": [
    {
     "name": "stdout",
     "output_type": "stream",
     "text": [
      "0.5825932504440497\n"
     ]
    }
   ],
   "source": [
    "import xgboost as xgb\n",
    "xgb_model = xgb.XGBClassifier()\n",
    "xgb_model.fit(train_X, train_Y)\n",
    "y_pred = xgb_model.predict(test_X)\n",
    "acc = accuracy_score(test_Y, y_pred)\n",
    "print(acc)\n"
   ]
  },
  {
   "cell_type": "markdown",
   "metadata": {},
   "source": [
    "Method 1 : Manual change based on understanding"
   ]
  },
  {
   "cell_type": "code",
   "execution_count": 19,
   "metadata": {},
   "outputs": [
    {
     "name": "stdout",
     "output_type": "stream",
     "text": [
      "[0]\tvalidation_0-error:0.40762\tvalidation_0-logloss:0.68130\tvalidation_1-error:0.40624\tvalidation_1-logloss:0.68073\n",
      "[1]\tvalidation_0-error:0.40537\tvalidation_0-logloss:0.67523\tvalidation_1-error:0.40358\tvalidation_1-logloss:0.67434\n",
      "[2]\tvalidation_0-error:0.41235\tvalidation_0-logloss:0.67201\tvalidation_1-error:0.41373\tvalidation_1-logloss:0.67128\n",
      "[3]\tvalidation_0-error:0.40446\tvalidation_0-logloss:0.66949\tvalidation_1-error:0.40396\tvalidation_1-logloss:0.66912\n",
      "[4]\tvalidation_0-error:0.41166\tvalidation_0-logloss:0.66813\tvalidation_1-error:0.41474\tvalidation_1-logloss:0.66821\n",
      "[5]\tvalidation_0-error:0.40371\tvalidation_0-logloss:0.66641\tvalidation_1-error:0.40472\tvalidation_1-logloss:0.66672\n",
      "[6]\tvalidation_0-error:0.40262\tvalidation_0-logloss:0.66548\tvalidation_1-error:0.40256\tvalidation_1-logloss:0.66606\n",
      "[7]\tvalidation_0-error:0.40080\tvalidation_0-logloss:0.66454\tvalidation_1-error:0.40129\tvalidation_1-logloss:0.66555\n",
      "[8]\tvalidation_0-error:0.40115\tvalidation_0-logloss:0.66347\tvalidation_1-error:0.40269\tvalidation_1-logloss:0.66443\n",
      "[9]\tvalidation_0-error:0.39902\tvalidation_0-logloss:0.66290\tvalidation_1-error:0.40180\tvalidation_1-logloss:0.66442\n",
      "[10]\tvalidation_0-error:0.39911\tvalidation_0-logloss:0.66211\tvalidation_1-error:0.40256\tvalidation_1-logloss:0.66454\n",
      "[11]\tvalidation_0-error:0.39833\tvalidation_0-logloss:0.66143\tvalidation_1-error:0.40244\tvalidation_1-logloss:0.66435\n",
      "[12]\tvalidation_0-error:0.39733\tvalidation_0-logloss:0.66096\tvalidation_1-error:0.40244\tvalidation_1-logloss:0.66420\n",
      "[13]\tvalidation_0-error:0.39717\tvalidation_0-logloss:0.66067\tvalidation_1-error:0.40269\tvalidation_1-logloss:0.66411\n",
      "[14]\tvalidation_0-error:0.39680\tvalidation_0-logloss:0.66010\tvalidation_1-error:0.40256\tvalidation_1-logloss:0.66374\n",
      "[15]\tvalidation_0-error:0.39611\tvalidation_0-logloss:0.65972\tvalidation_1-error:0.40307\tvalidation_1-logloss:0.66374\n",
      "[16]\tvalidation_0-error:0.39579\tvalidation_0-logloss:0.65952\tvalidation_1-error:0.40282\tvalidation_1-logloss:0.66375\n",
      "[17]\tvalidation_0-error:0.39645\tvalidation_0-logloss:0.65929\tvalidation_1-error:0.40358\tvalidation_1-logloss:0.66386\n"
     ]
    },
    {
     "name": "stderr",
     "output_type": "stream",
     "text": [
      "/Users/yamini/Library/Python/3.8/lib/python/site-packages/xgboost/sklearn.py:793: UserWarning: `eval_metric` in `fit` method is deprecated for better compatibility with scikit-learn, use `eval_metric` in constructor or`set_params` instead.\n",
      "  warnings.warn(\n"
     ]
    },
    {
     "name": "stdout",
     "output_type": "stream",
     "text": [
      "[18]\tvalidation_0-error:0.39586\tvalidation_0-logloss:0.65895\tvalidation_1-error:0.40434\tvalidation_1-logloss:0.66386\n",
      "[19]\tvalidation_0-error:0.39526\tvalidation_0-logloss:0.65845\tvalidation_1-error:0.40332\tvalidation_1-logloss:0.66366\n",
      "[20]\tvalidation_0-error:0.39470\tvalidation_0-logloss:0.65796\tvalidation_1-error:0.40409\tvalidation_1-logloss:0.66337\n",
      "[21]\tvalidation_0-error:0.39442\tvalidation_0-logloss:0.65762\tvalidation_1-error:0.40383\tvalidation_1-logloss:0.66344\n",
      "[22]\tvalidation_0-error:0.39282\tvalidation_0-logloss:0.65732\tvalidation_1-error:0.40573\tvalidation_1-logloss:0.66356\n",
      "[23]\tvalidation_0-error:0.39257\tvalidation_0-logloss:0.65720\tvalidation_1-error:0.40510\tvalidation_1-logloss:0.66345\n",
      "[24]\tvalidation_0-error:0.39216\tvalidation_0-logloss:0.65700\tvalidation_1-error:0.40459\tvalidation_1-logloss:0.66359\n",
      "[25]\tvalidation_0-error:0.39223\tvalidation_0-logloss:0.65688\tvalidation_1-error:0.40459\tvalidation_1-logloss:0.66369\n",
      "[26]\tvalidation_0-error:0.39132\tvalidation_0-logloss:0.65651\tvalidation_1-error:0.40497\tvalidation_1-logloss:0.66372\n",
      "[27]\tvalidation_0-error:0.39119\tvalidation_0-logloss:0.65624\tvalidation_1-error:0.40459\tvalidation_1-logloss:0.66365\n",
      "[28]\tvalidation_0-error:0.39091\tvalidation_0-logloss:0.65581\tvalidation_1-error:0.40472\tvalidation_1-logloss:0.66389\n",
      "[29]\tvalidation_0-error:0.39054\tvalidation_0-logloss:0.65566\tvalidation_1-error:0.40472\tvalidation_1-logloss:0.66390\n",
      "[30]\tvalidation_0-error:0.39013\tvalidation_0-logloss:0.65535\tvalidation_1-error:0.40396\tvalidation_1-logloss:0.66371\n",
      "[31]\tvalidation_0-error:0.38991\tvalidation_0-logloss:0.65520\tvalidation_1-error:0.40434\tvalidation_1-logloss:0.66383\n",
      "[32]\tvalidation_0-error:0.38913\tvalidation_0-logloss:0.65498\tvalidation_1-error:0.40320\tvalidation_1-logloss:0.66367\n",
      "[33]\tvalidation_0-error:0.38919\tvalidation_0-logloss:0.65493\tvalidation_1-error:0.40320\tvalidation_1-logloss:0.66367\n",
      "[34]\tvalidation_0-error:0.38825\tvalidation_0-logloss:0.65466\tvalidation_1-error:0.40472\tvalidation_1-logloss:0.66363\n",
      "[35]\tvalidation_0-error:0.38834\tvalidation_0-logloss:0.65446\tvalidation_1-error:0.40421\tvalidation_1-logloss:0.66378\n",
      "[36]\tvalidation_0-error:0.38737\tvalidation_0-logloss:0.65411\tvalidation_1-error:0.40523\tvalidation_1-logloss:0.66385\n",
      "[37]\tvalidation_0-error:0.38656\tvalidation_0-logloss:0.65374\tvalidation_1-error:0.40409\tvalidation_1-logloss:0.66376\n",
      "[38]\tvalidation_0-error:0.38625\tvalidation_0-logloss:0.65346\tvalidation_1-error:0.40320\tvalidation_1-logloss:0.66359\n",
      "[39]\tvalidation_0-error:0.38500\tvalidation_0-logloss:0.65310\tvalidation_1-error:0.40294\tvalidation_1-logloss:0.66369\n",
      "[40]\tvalidation_0-error:0.38456\tvalidation_0-logloss:0.65281\tvalidation_1-error:0.40218\tvalidation_1-logloss:0.66366\n",
      "[41]\tvalidation_0-error:0.38468\tvalidation_0-logloss:0.65272\tvalidation_1-error:0.40244\tvalidation_1-logloss:0.66368\n",
      "[42]\tvalidation_0-error:0.38465\tvalidation_0-logloss:0.65261\tvalidation_1-error:0.40256\tvalidation_1-logloss:0.66378\n",
      "[43]\tvalidation_0-error:0.38481\tvalidation_0-logloss:0.65243\tvalidation_1-error:0.40231\tvalidation_1-logloss:0.66383\n",
      "[44]\tvalidation_0-error:0.38471\tvalidation_0-logloss:0.65237\tvalidation_1-error:0.40231\tvalidation_1-logloss:0.66389\n",
      "[45]\tvalidation_0-error:0.38418\tvalidation_0-logloss:0.65200\tvalidation_1-error:0.40091\tvalidation_1-logloss:0.66388\n",
      "[46]\tvalidation_0-error:0.38390\tvalidation_0-logloss:0.65177\tvalidation_1-error:0.40244\tvalidation_1-logloss:0.66399\n",
      "[47]\tvalidation_0-error:0.38378\tvalidation_0-logloss:0.65163\tvalidation_1-error:0.40231\tvalidation_1-logloss:0.66401\n",
      "[48]\tvalidation_0-error:0.38343\tvalidation_0-logloss:0.65144\tvalidation_1-error:0.40332\tvalidation_1-logloss:0.66417\n",
      "[49]\tvalidation_0-error:0.38346\tvalidation_0-logloss:0.65135\tvalidation_1-error:0.40332\tvalidation_1-logloss:0.66421\n",
      "[50]\tvalidation_0-error:0.38321\tvalidation_0-logloss:0.65116\tvalidation_1-error:0.40282\tvalidation_1-logloss:0.66416\n",
      "[51]\tvalidation_0-error:0.38324\tvalidation_0-logloss:0.65105\tvalidation_1-error:0.40269\tvalidation_1-logloss:0.66434\n",
      "[52]\tvalidation_0-error:0.38271\tvalidation_0-logloss:0.65081\tvalidation_1-error:0.40269\tvalidation_1-logloss:0.66429\n",
      "[53]\tvalidation_0-error:0.38290\tvalidation_0-logloss:0.65061\tvalidation_1-error:0.40345\tvalidation_1-logloss:0.66429\n",
      "[54]\tvalidation_0-error:0.38168\tvalidation_0-logloss:0.65031\tvalidation_1-error:0.40485\tvalidation_1-logloss:0.66423\n",
      "[55]\tvalidation_0-error:0.38111\tvalidation_0-logloss:0.65007\tvalidation_1-error:0.40447\tvalidation_1-logloss:0.66424\n",
      "[56]\tvalidation_0-error:0.38065\tvalidation_0-logloss:0.64981\tvalidation_1-error:0.40396\tvalidation_1-logloss:0.66447\n",
      "[57]\tvalidation_0-error:0.38011\tvalidation_0-logloss:0.64959\tvalidation_1-error:0.40332\tvalidation_1-logloss:0.66445\n",
      "[58]\tvalidation_0-error:0.38011\tvalidation_0-logloss:0.64938\tvalidation_1-error:0.40269\tvalidation_1-logloss:0.66445\n",
      "[59]\tvalidation_0-error:0.38014\tvalidation_0-logloss:0.64920\tvalidation_1-error:0.40193\tvalidation_1-logloss:0.66453\n",
      "[60]\tvalidation_0-error:0.38002\tvalidation_0-logloss:0.64911\tvalidation_1-error:0.40180\tvalidation_1-logloss:0.66457\n",
      "[61]\tvalidation_0-error:0.37946\tvalidation_0-logloss:0.64886\tvalidation_1-error:0.40269\tvalidation_1-logloss:0.66470\n",
      "[62]\tvalidation_0-error:0.37942\tvalidation_0-logloss:0.64869\tvalidation_1-error:0.40256\tvalidation_1-logloss:0.66484\n",
      "[63]\tvalidation_0-error:0.37917\tvalidation_0-logloss:0.64850\tvalidation_1-error:0.40218\tvalidation_1-logloss:0.66504\n",
      "[64]\tvalidation_0-error:0.37939\tvalidation_0-logloss:0.64845\tvalidation_1-error:0.40218\tvalidation_1-logloss:0.66504\n",
      "[65]\tvalidation_0-error:0.37933\tvalidation_0-logloss:0.64840\tvalidation_1-error:0.40218\tvalidation_1-logloss:0.66503\n",
      "[66]\tvalidation_0-error:0.37889\tvalidation_0-logloss:0.64821\tvalidation_1-error:0.40218\tvalidation_1-logloss:0.66504\n",
      "[67]\tvalidation_0-error:0.37864\tvalidation_0-logloss:0.64809\tvalidation_1-error:0.40231\tvalidation_1-logloss:0.66504\n",
      "[68]\tvalidation_0-error:0.37855\tvalidation_0-logloss:0.64783\tvalidation_1-error:0.40307\tvalidation_1-logloss:0.66485\n",
      "[69]\tvalidation_0-error:0.37855\tvalidation_0-logloss:0.64766\tvalidation_1-error:0.40332\tvalidation_1-logloss:0.66502\n",
      "[70]\tvalidation_0-error:0.37824\tvalidation_0-logloss:0.64750\tvalidation_1-error:0.40332\tvalidation_1-logloss:0.66514\n",
      "[71]\tvalidation_0-error:0.37799\tvalidation_0-logloss:0.64738\tvalidation_1-error:0.40332\tvalidation_1-logloss:0.66529\n",
      "[72]\tvalidation_0-error:0.37783\tvalidation_0-logloss:0.64727\tvalidation_1-error:0.40332\tvalidation_1-logloss:0.66523\n",
      "[73]\tvalidation_0-error:0.37767\tvalidation_0-logloss:0.64709\tvalidation_1-error:0.40358\tvalidation_1-logloss:0.66519\n",
      "[74]\tvalidation_0-error:0.37695\tvalidation_0-logloss:0.64686\tvalidation_1-error:0.40206\tvalidation_1-logloss:0.66521\n",
      "[75]\tvalidation_0-error:0.37695\tvalidation_0-logloss:0.64663\tvalidation_1-error:0.40193\tvalidation_1-logloss:0.66519\n",
      "[76]\tvalidation_0-error:0.37664\tvalidation_0-logloss:0.64644\tvalidation_1-error:0.40231\tvalidation_1-logloss:0.66540\n",
      "[77]\tvalidation_0-error:0.37661\tvalidation_0-logloss:0.64635\tvalidation_1-error:0.40231\tvalidation_1-logloss:0.66551\n",
      "[78]\tvalidation_0-error:0.37658\tvalidation_0-logloss:0.64625\tvalidation_1-error:0.40231\tvalidation_1-logloss:0.66555\n",
      "[79]\tvalidation_0-error:0.37651\tvalidation_0-logloss:0.64614\tvalidation_1-error:0.40244\tvalidation_1-logloss:0.66571\n",
      "[80]\tvalidation_0-error:0.37651\tvalidation_0-logloss:0.64611\tvalidation_1-error:0.40231\tvalidation_1-logloss:0.66570\n",
      "[81]\tvalidation_0-error:0.37626\tvalidation_0-logloss:0.64602\tvalidation_1-error:0.40231\tvalidation_1-logloss:0.66575\n",
      "[82]\tvalidation_0-error:0.37623\tvalidation_0-logloss:0.64594\tvalidation_1-error:0.40269\tvalidation_1-logloss:0.66588\n",
      "[83]\tvalidation_0-error:0.37636\tvalidation_0-logloss:0.64570\tvalidation_1-error:0.40421\tvalidation_1-logloss:0.66597\n",
      "[84]\tvalidation_0-error:0.37636\tvalidation_0-logloss:0.64554\tvalidation_1-error:0.40345\tvalidation_1-logloss:0.66596\n",
      "[85]\tvalidation_0-error:0.37617\tvalidation_0-logloss:0.64529\tvalidation_1-error:0.40332\tvalidation_1-logloss:0.66581\n",
      "[86]\tvalidation_0-error:0.37604\tvalidation_0-logloss:0.64518\tvalidation_1-error:0.40345\tvalidation_1-logloss:0.66584\n",
      "[87]\tvalidation_0-error:0.37592\tvalidation_0-logloss:0.64495\tvalidation_1-error:0.40282\tvalidation_1-logloss:0.66597\n",
      "[88]\tvalidation_0-error:0.37598\tvalidation_0-logloss:0.64469\tvalidation_1-error:0.40320\tvalidation_1-logloss:0.66610\n",
      "[89]\tvalidation_0-error:0.37561\tvalidation_0-logloss:0.64449\tvalidation_1-error:0.40294\tvalidation_1-logloss:0.66604\n",
      "[90]\tvalidation_0-error:0.37476\tvalidation_0-logloss:0.64428\tvalidation_1-error:0.40396\tvalidation_1-logloss:0.66609\n",
      "[91]\tvalidation_0-error:0.37460\tvalidation_0-logloss:0.64408\tvalidation_1-error:0.40396\tvalidation_1-logloss:0.66621\n",
      "[92]\tvalidation_0-error:0.37454\tvalidation_0-logloss:0.64402\tvalidation_1-error:0.40409\tvalidation_1-logloss:0.66630\n",
      "[93]\tvalidation_0-error:0.37435\tvalidation_0-logloss:0.64385\tvalidation_1-error:0.40396\tvalidation_1-logloss:0.66647\n",
      "[94]\tvalidation_0-error:0.37420\tvalidation_0-logloss:0.64370\tvalidation_1-error:0.40370\tvalidation_1-logloss:0.66654\n",
      "[95]\tvalidation_0-error:0.37363\tvalidation_0-logloss:0.64352\tvalidation_1-error:0.40447\tvalidation_1-logloss:0.66674\n",
      "[96]\tvalidation_0-error:0.37360\tvalidation_0-logloss:0.64324\tvalidation_1-error:0.40447\tvalidation_1-logloss:0.66676\n",
      "[97]\tvalidation_0-error:0.37307\tvalidation_0-logloss:0.64300\tvalidation_1-error:0.40447\tvalidation_1-logloss:0.66673\n",
      "[98]\tvalidation_0-error:0.37301\tvalidation_0-logloss:0.64295\tvalidation_1-error:0.40434\tvalidation_1-logloss:0.66667\n",
      "[99]\tvalidation_0-error:0.37307\tvalidation_0-logloss:0.64291\tvalidation_1-error:0.40434\tvalidation_1-logloss:0.66670\n",
      "0.5956609997462573\n"
     ]
    },
    {
     "data": {
      "text/plain": [
       "<matplotlib.legend.Legend at 0x1588730d0>"
      ]
     },
     "execution_count": 19,
     "metadata": {},
     "output_type": "execute_result"
    },
    {
     "data": {
      "image/png": "[encoded data removed]",
      "text/plain": [
       "<Figure size 640x480 with 1 Axes>"
      ]
     },
     "metadata": {},
     "output_type": "display_data"
    }
   ],
   "source": [
    "import xgboost as xgb\n",
    "xgb_model = xgb.XGBClassifier(booster = 'dart', eta = 0.3, max_depth = 3, objective=\"binary:logistic\")\n",
    "eval_set = [(train_X, train_Y), (test_X, test_Y)]\n",
    "xgb_model.fit(train_X, train_Y, eval_set=eval_set, eval_metric=[\"error\", \"logloss\"])\n",
    "y_pred = xgb_model.predict(test_X)\n",
    "acc = accuracy_score(test_Y, y_pred)\n",
    "print(acc)\n",
    "\n",
    "import matplotlib.pyplot as plt\n",
    "results = xgb_model.evals_result()\n",
    "epochs = len(results['validation_0']['error'])\n",
    "x_axis = range(0, epochs)\n",
    "# plot log loss\n",
    "fig, ax = plt.subplots()\n",
    "ax.plot(x_axis, results['validation_0']['logloss'], label='Train')\n",
    "ax.plot(x_axis, results['validation_1']['logloss'], label='Test')\n",
    "ax.legend()"
   ]
  },
  {
   "cell_type": "markdown",
   "metadata": {},
   "source": [
    "Testing log loss is increasing in test after sometime, which might be because of overfitting on the training data and so we'll reduce the max_depth from 3 to 2"
   ]
  },
  {
   "cell_type": "code",
   "execution_count": 26,
   "metadata": {},
   "outputs": [
    {
     "name": "stdout",
     "output_type": "stream",
     "text": [
      "[0]\tvalidation_0-error:0.41748\tvalidation_0-logloss:0.68375\tvalidation_1-error:0.41804\tvalidation_1-logloss:0.68314\n",
      "[1]\tvalidation_0-error:0.41304\tvalidation_0-logloss:0.67849\tvalidation_1-error:0.41322\tvalidation_1-logloss:0.67810\n",
      "[2]\tvalidation_0-error:0.41304\tvalidation_0-logloss:0.67501\tvalidation_1-error:0.41335\tvalidation_1-logloss:0.67430\n",
      "[3]\tvalidation_0-error:0.41263\tvalidation_0-logloss:0.67296\tvalidation_1-error:0.41284\tvalidation_1-logloss:0.67247\n",
      "[4]\tvalidation_0-error:0.41263\tvalidation_0-logloss:0.67171\tvalidation_1-error:0.41284\tvalidation_1-logloss:0.67123\n",
      "[5]\tvalidation_0-error:0.41251\tvalidation_0-logloss:0.67023\tvalidation_1-error:0.41373\tvalidation_1-logloss:0.66938\n",
      "[6]\tvalidation_0-error:0.41216\tvalidation_0-logloss:0.66935\tvalidation_1-error:0.41373\tvalidation_1-logloss:0.66884\n",
      "[7]\tvalidation_0-error:0.41194\tvalidation_0-logloss:0.66868\tvalidation_1-error:0.41360\tvalidation_1-logloss:0.66809\n",
      "[8]\tvalidation_0-error:0.41197\tvalidation_0-logloss:0.66822\tvalidation_1-error:0.41360\tvalidation_1-logloss:0.66804\n",
      "[9]\tvalidation_0-error:0.41166\tvalidation_0-logloss:0.66766\tvalidation_1-error:0.41271\tvalidation_1-logloss:0.66778\n",
      "[10]\tvalidation_0-error:0.41110\tvalidation_0-logloss:0.66711\tvalidation_1-error:0.41284\tvalidation_1-logloss:0.66729\n",
      "[11]\tvalidation_0-error:0.40891\tvalidation_0-logloss:0.66631\tvalidation_1-error:0.40992\tvalidation_1-logloss:0.66670\n",
      "[12]\tvalidation_0-error:0.40612\tvalidation_0-logloss:0.66585\tvalidation_1-error:0.40713\tvalidation_1-logloss:0.66653\n",
      "[13]\tvalidation_0-error:0.40603\tvalidation_0-logloss:0.66554\tvalidation_1-error:0.40764\tvalidation_1-logloss:0.66634\n",
      "[14]\tvalidation_0-error:0.40662\tvalidation_0-logloss:0.66526\tvalidation_1-error:0.40865\tvalidation_1-logloss:0.66630\n",
      "[15]\tvalidation_0-error:0.40506\tvalidation_0-logloss:0.66494\tvalidation_1-error:0.40764\tvalidation_1-logloss:0.66622\n"
     ]
    },
    {
     "name": "stderr",
     "output_type": "stream",
     "text": [
      "/Users/yamini/Library/Python/3.8/lib/python/site-packages/xgboost/sklearn.py:793: UserWarning: `eval_metric` in `fit` method is deprecated for better compatibility with scikit-learn, use `eval_metric` in constructor or`set_params` instead.\n",
      "  warnings.warn(\n"
     ]
    },
    {
     "name": "stdout",
     "output_type": "stream",
     "text": [
      "[16]\tvalidation_0-error:0.40434\tvalidation_0-logloss:0.66457\tvalidation_1-error:0.40726\tvalidation_1-logloss:0.66598\n",
      "[17]\tvalidation_0-error:0.40393\tvalidation_0-logloss:0.66428\tvalidation_1-error:0.40662\tvalidation_1-logloss:0.66577\n",
      "[18]\tvalidation_0-error:0.40428\tvalidation_0-logloss:0.66407\tvalidation_1-error:0.40675\tvalidation_1-logloss:0.66557\n",
      "[19]\tvalidation_0-error:0.40246\tvalidation_0-logloss:0.66374\tvalidation_1-error:0.40497\tvalidation_1-logloss:0.66497\n",
      "[20]\tvalidation_0-error:0.40215\tvalidation_0-logloss:0.66349\tvalidation_1-error:0.40345\tvalidation_1-logloss:0.66483\n",
      "[21]\tvalidation_0-error:0.40215\tvalidation_0-logloss:0.66334\tvalidation_1-error:0.40332\tvalidation_1-logloss:0.66493\n",
      "[22]\tvalidation_0-error:0.40218\tvalidation_0-logloss:0.66315\tvalidation_1-error:0.40472\tvalidation_1-logloss:0.66486\n",
      "[23]\tvalidation_0-error:0.40233\tvalidation_0-logloss:0.66294\tvalidation_1-error:0.40612\tvalidation_1-logloss:0.66476\n",
      "[24]\tvalidation_0-error:0.40202\tvalidation_0-logloss:0.66256\tvalidation_1-error:0.40345\tvalidation_1-logloss:0.66412\n",
      "[25]\tvalidation_0-error:0.40190\tvalidation_0-logloss:0.66232\tvalidation_1-error:0.40370\tvalidation_1-logloss:0.66405\n",
      "[26]\tvalidation_0-error:0.40140\tvalidation_0-logloss:0.66217\tvalidation_1-error:0.40421\tvalidation_1-logloss:0.66399\n",
      "[27]\tvalidation_0-error:0.40118\tvalidation_0-logloss:0.66204\tvalidation_1-error:0.40358\tvalidation_1-logloss:0.66404\n",
      "[28]\tvalidation_0-error:0.40121\tvalidation_0-logloss:0.66193\tvalidation_1-error:0.40447\tvalidation_1-logloss:0.66410\n",
      "[29]\tvalidation_0-error:0.40108\tvalidation_0-logloss:0.66182\tvalidation_1-error:0.40332\tvalidation_1-logloss:0.66409\n",
      "[30]\tvalidation_0-error:0.40111\tvalidation_0-logloss:0.66174\tvalidation_1-error:0.40358\tvalidation_1-logloss:0.66414\n",
      "[31]\tvalidation_0-error:0.40061\tvalidation_0-logloss:0.66159\tvalidation_1-error:0.40497\tvalidation_1-logloss:0.66417\n",
      "[32]\tvalidation_0-error:0.40018\tvalidation_0-logloss:0.66138\tvalidation_1-error:0.40599\tvalidation_1-logloss:0.66412\n",
      "[33]\tvalidation_0-error:0.39949\tvalidation_0-logloss:0.66124\tvalidation_1-error:0.40535\tvalidation_1-logloss:0.66429\n",
      "[34]\tvalidation_0-error:0.39895\tvalidation_0-logloss:0.66105\tvalidation_1-error:0.40548\tvalidation_1-logloss:0.66436\n",
      "[35]\tvalidation_0-error:0.39864\tvalidation_0-logloss:0.66083\tvalidation_1-error:0.40535\tvalidation_1-logloss:0.66420\n",
      "[36]\tvalidation_0-error:0.39795\tvalidation_0-logloss:0.66069\tvalidation_1-error:0.40383\tvalidation_1-logloss:0.66415\n",
      "[37]\tvalidation_0-error:0.39777\tvalidation_0-logloss:0.66048\tvalidation_1-error:0.40485\tvalidation_1-logloss:0.66395\n",
      "[38]\tvalidation_0-error:0.39783\tvalidation_0-logloss:0.66036\tvalidation_1-error:0.40459\tvalidation_1-logloss:0.66399\n",
      "[39]\tvalidation_0-error:0.39770\tvalidation_0-logloss:0.66024\tvalidation_1-error:0.40459\tvalidation_1-logloss:0.66405\n",
      "[40]\tvalidation_0-error:0.39783\tvalidation_0-logloss:0.66018\tvalidation_1-error:0.40472\tvalidation_1-logloss:0.66410\n",
      "[41]\tvalidation_0-error:0.39767\tvalidation_0-logloss:0.66008\tvalidation_1-error:0.40459\tvalidation_1-logloss:0.66415\n",
      "[42]\tvalidation_0-error:0.39726\tvalidation_0-logloss:0.65994\tvalidation_1-error:0.40561\tvalidation_1-logloss:0.66419\n",
      "[43]\tvalidation_0-error:0.39695\tvalidation_0-logloss:0.65983\tvalidation_1-error:0.40586\tvalidation_1-logloss:0.66428\n",
      "[44]\tvalidation_0-error:0.39670\tvalidation_0-logloss:0.65967\tvalidation_1-error:0.40599\tvalidation_1-logloss:0.66411\n",
      "[45]\tvalidation_0-error:0.39604\tvalidation_0-logloss:0.65953\tvalidation_1-error:0.40345\tvalidation_1-logloss:0.66408\n",
      "[46]\tvalidation_0-error:0.39517\tvalidation_0-logloss:0.65943\tvalidation_1-error:0.40294\tvalidation_1-logloss:0.66422\n",
      "[47]\tvalidation_0-error:0.39501\tvalidation_0-logloss:0.65928\tvalidation_1-error:0.40294\tvalidation_1-logloss:0.66395\n",
      "[48]\tvalidation_0-error:0.39476\tvalidation_0-logloss:0.65916\tvalidation_1-error:0.40269\tvalidation_1-logloss:0.66378\n",
      "[49]\tvalidation_0-error:0.39470\tvalidation_0-logloss:0.65912\tvalidation_1-error:0.40307\tvalidation_1-logloss:0.66382\n",
      "[50]\tvalidation_0-error:0.39451\tvalidation_0-logloss:0.65906\tvalidation_1-error:0.40307\tvalidation_1-logloss:0.66388\n",
      "[51]\tvalidation_0-error:0.39457\tvalidation_0-logloss:0.65896\tvalidation_1-error:0.40383\tvalidation_1-logloss:0.66386\n",
      "[52]\tvalidation_0-error:0.39498\tvalidation_0-logloss:0.65883\tvalidation_1-error:0.40282\tvalidation_1-logloss:0.66382\n",
      "[53]\tvalidation_0-error:0.39485\tvalidation_0-logloss:0.65875\tvalidation_1-error:0.40282\tvalidation_1-logloss:0.66388\n",
      "[54]\tvalidation_0-error:0.39467\tvalidation_0-logloss:0.65864\tvalidation_1-error:0.40269\tvalidation_1-logloss:0.66376\n",
      "[55]\tvalidation_0-error:0.39470\tvalidation_0-logloss:0.65861\tvalidation_1-error:0.40269\tvalidation_1-logloss:0.66376\n",
      "[56]\tvalidation_0-error:0.39410\tvalidation_0-logloss:0.65850\tvalidation_1-error:0.40129\tvalidation_1-logloss:0.66371\n",
      "[57]\tvalidation_0-error:0.39354\tvalidation_0-logloss:0.65839\tvalidation_1-error:0.40307\tvalidation_1-logloss:0.66368\n",
      "[58]\tvalidation_0-error:0.39363\tvalidation_0-logloss:0.65834\tvalidation_1-error:0.40320\tvalidation_1-logloss:0.66369\n",
      "[59]\tvalidation_0-error:0.39326\tvalidation_0-logloss:0.65824\tvalidation_1-error:0.40307\tvalidation_1-logloss:0.66376\n",
      "[60]\tvalidation_0-error:0.39273\tvalidation_0-logloss:0.65809\tvalidation_1-error:0.40244\tvalidation_1-logloss:0.66381\n",
      "[61]\tvalidation_0-error:0.39257\tvalidation_0-logloss:0.65801\tvalidation_1-error:0.40231\tvalidation_1-logloss:0.66391\n",
      "[62]\tvalidation_0-error:0.39248\tvalidation_0-logloss:0.65790\tvalidation_1-error:0.40307\tvalidation_1-logloss:0.66391\n",
      "[63]\tvalidation_0-error:0.39288\tvalidation_0-logloss:0.65785\tvalidation_1-error:0.40320\tvalidation_1-logloss:0.66398\n",
      "[64]\tvalidation_0-error:0.39257\tvalidation_0-logloss:0.65781\tvalidation_1-error:0.40294\tvalidation_1-logloss:0.66400\n",
      "[65]\tvalidation_0-error:0.39244\tvalidation_0-logloss:0.65775\tvalidation_1-error:0.40294\tvalidation_1-logloss:0.66403\n",
      "[66]\tvalidation_0-error:0.39213\tvalidation_0-logloss:0.65755\tvalidation_1-error:0.40193\tvalidation_1-logloss:0.66403\n",
      "[67]\tvalidation_0-error:0.39097\tvalidation_0-logloss:0.65744\tvalidation_1-error:0.40206\tvalidation_1-logloss:0.66375\n",
      "[68]\tvalidation_0-error:0.39126\tvalidation_0-logloss:0.65733\tvalidation_1-error:0.40244\tvalidation_1-logloss:0.66375\n",
      "[69]\tvalidation_0-error:0.39122\tvalidation_0-logloss:0.65721\tvalidation_1-error:0.40231\tvalidation_1-logloss:0.66361\n",
      "[70]\tvalidation_0-error:0.39169\tvalidation_0-logloss:0.65712\tvalidation_1-error:0.40155\tvalidation_1-logloss:0.66360\n",
      "[71]\tvalidation_0-error:0.39163\tvalidation_0-logloss:0.65700\tvalidation_1-error:0.40129\tvalidation_1-logloss:0.66362\n",
      "[72]\tvalidation_0-error:0.39113\tvalidation_0-logloss:0.65691\tvalidation_1-error:0.40079\tvalidation_1-logloss:0.66364\n",
      "[73]\tvalidation_0-error:0.39097\tvalidation_0-logloss:0.65681\tvalidation_1-error:0.40066\tvalidation_1-logloss:0.66365\n",
      "[74]\tvalidation_0-error:0.39100\tvalidation_0-logloss:0.65671\tvalidation_1-error:0.40117\tvalidation_1-logloss:0.66361\n",
      "[75]\tvalidation_0-error:0.39079\tvalidation_0-logloss:0.65668\tvalidation_1-error:0.40066\tvalidation_1-logloss:0.66360\n",
      "[76]\tvalidation_0-error:0.39044\tvalidation_0-logloss:0.65656\tvalidation_1-error:0.40053\tvalidation_1-logloss:0.66348\n",
      "[77]\tvalidation_0-error:0.39003\tvalidation_0-logloss:0.65645\tvalidation_1-error:0.40117\tvalidation_1-logloss:0.66335\n",
      "[78]\tvalidation_0-error:0.39022\tvalidation_0-logloss:0.65638\tvalidation_1-error:0.40117\tvalidation_1-logloss:0.66330\n",
      "[79]\tvalidation_0-error:0.39010\tvalidation_0-logloss:0.65628\tvalidation_1-error:0.40091\tvalidation_1-logloss:0.66331\n",
      "[80]\tvalidation_0-error:0.39003\tvalidation_0-logloss:0.65624\tvalidation_1-error:0.40104\tvalidation_1-logloss:0.66336\n",
      "[81]\tvalidation_0-error:0.38997\tvalidation_0-logloss:0.65618\tvalidation_1-error:0.40091\tvalidation_1-logloss:0.66341\n",
      "[82]\tvalidation_0-error:0.39010\tvalidation_0-logloss:0.65614\tvalidation_1-error:0.40091\tvalidation_1-logloss:0.66347\n",
      "[83]\tvalidation_0-error:0.39007\tvalidation_0-logloss:0.65613\tvalidation_1-error:0.40079\tvalidation_1-logloss:0.66345\n",
      "[84]\tvalidation_0-error:0.39000\tvalidation_0-logloss:0.65609\tvalidation_1-error:0.40079\tvalidation_1-logloss:0.66343\n",
      "[85]\tvalidation_0-error:0.39007\tvalidation_0-logloss:0.65604\tvalidation_1-error:0.40079\tvalidation_1-logloss:0.66347\n",
      "[86]\tvalidation_0-error:0.39000\tvalidation_0-logloss:0.65597\tvalidation_1-error:0.40079\tvalidation_1-logloss:0.66345\n",
      "[87]\tvalidation_0-error:0.39025\tvalidation_0-logloss:0.65590\tvalidation_1-error:0.40066\tvalidation_1-logloss:0.66350\n",
      "[88]\tvalidation_0-error:0.39035\tvalidation_0-logloss:0.65589\tvalidation_1-error:0.40066\tvalidation_1-logloss:0.66353\n",
      "[89]\tvalidation_0-error:0.39022\tvalidation_0-logloss:0.65583\tvalidation_1-error:0.40091\tvalidation_1-logloss:0.66352\n",
      "[90]\tvalidation_0-error:0.39013\tvalidation_0-logloss:0.65574\tvalidation_1-error:0.40079\tvalidation_1-logloss:0.66355\n",
      "[91]\tvalidation_0-error:0.39025\tvalidation_0-logloss:0.65566\tvalidation_1-error:0.40053\tvalidation_1-logloss:0.66357\n",
      "[92]\tvalidation_0-error:0.39063\tvalidation_0-logloss:0.65554\tvalidation_1-error:0.40180\tvalidation_1-logloss:0.66362\n",
      "[93]\tvalidation_0-error:0.39075\tvalidation_0-logloss:0.65543\tvalidation_1-error:0.40129\tvalidation_1-logloss:0.66358\n",
      "[94]\tvalidation_0-error:0.39025\tvalidation_0-logloss:0.65535\tvalidation_1-error:0.40079\tvalidation_1-logloss:0.66360\n",
      "[95]\tvalidation_0-error:0.38966\tvalidation_0-logloss:0.65523\tvalidation_1-error:0.40104\tvalidation_1-logloss:0.66335\n",
      "[96]\tvalidation_0-error:0.38966\tvalidation_0-logloss:0.65508\tvalidation_1-error:0.40104\tvalidation_1-logloss:0.66341\n",
      "[97]\tvalidation_0-error:0.38944\tvalidation_0-logloss:0.65495\tvalidation_1-error:0.40079\tvalidation_1-logloss:0.66349\n",
      "[98]\tvalidation_0-error:0.38931\tvalidation_0-logloss:0.65483\tvalidation_1-error:0.40091\tvalidation_1-logloss:0.66354\n",
      "[99]\tvalidation_0-error:0.38947\tvalidation_0-logloss:0.65476\tvalidation_1-error:0.40231\tvalidation_1-logloss:0.66343\n",
      "0.5976909413854352\n"
     ]
    },
    {
     "data": {
      "text/plain": [
       "<matplotlib.legend.Legend at 0x1588cfd00>"
      ]
     },
     "execution_count": 26,
     "metadata": {},
     "output_type": "execute_result"
    },
    {
     "data": {
      "image/png": "[encoded data removed]",
      "text/plain": [
       "<Figure size 640x480 with 1 Axes>"
      ]
     },
     "metadata": {},
     "output_type": "display_data"
    }
   ],
   "source": [
    "import xgboost as xgb\n",
    "xgb_model = xgb.XGBClassifier(booster = 'dart', eta = 0.3, max_depth = 2, objective=\"binary:logistic\")\n",
    "eval_set = [(train_X, train_Y), (test_X, test_Y)]\n",
    "xgb_model.fit(train_X, train_Y, eval_set=eval_set, eval_metric=[\"error\", \"logloss\"])\n",
    "y_pred = xgb_model.predict(test_X)\n",
    "acc = accuracy_score(test_Y, y_pred)\n",
    "print(acc)\n",
    "\n",
    "import matplotlib.pyplot as plt\n",
    "results = xgb_model.evals_result()\n",
    "epochs = len(results['validation_0']['error'])\n",
    "x_axis = range(0, epochs)\n",
    "# plot log loss\n",
    "fig, ax = plt.subplots()\n",
    "ax.plot(x_axis, results['validation_0']['logloss'], label='Train')\n",
    "ax.plot(x_axis, results['validation_1']['logloss'], label='Test')\n",
    "ax.legend()\n",
    "\n"
   ]
  },
  {
   "cell_type": "markdown",
   "metadata": {},
   "source": [
    "Training loss just started to converge so increase no of iterations or increase learning rate\n",
    "Lets experiment with learning rate"
   ]
  },
  {
   "cell_type": "markdown",
   "metadata": {},
   "source": [
    "Learning rate parameters vs accuracy"
   ]
  },
  {
   "cell_type": "code",
   "execution_count": 21,
   "metadata": {},
   "outputs": [
    {
     "data": {
      "image/png": "[encoded data removed]",
      "text/plain": [
       "<Figure size 640x480 with 1 Axes>"
      ]
     },
     "metadata": {},
     "output_type": "display_data"
    }
   ],
   "source": [
    "def plot_lr_vs_acc(train_X, train_Y, test_X, test_Y):    \n",
    "    acc_lis = []\n",
    "    eta =[]\n",
    "    for i in range(1,50,5):\n",
    "        xgb_model = xgb.XGBClassifier(booster = 'dart', eta = i/100, max_depth = 2, objective=\"binary:logistic\")\n",
    "        xgb_model.fit(train_X, train_Y)\n",
    "        y_pred = xgb_model.predict(test_X)\n",
    "        acc = accuracy_score(test_Y, y_pred)\n",
    "        eta.append(i/100)\n",
    "        acc_lis.append(acc)\n",
    "        \n",
    "    plt.plot(eta, acc_lis)\n",
    "    plt.xlabel(\"Learning_Rate\")\n",
    "    plt.ylabel(\"Accuracy\")\n",
    "    plt.show()\n",
    "    \n",
    "plot_lr_vs_acc(train_X, train_Y, test_X, test_Y)   "
   ]
  },
  {
   "cell_type": "markdown",
   "metadata": {},
   "source": [
    "Learning rate is peaking at 0.4 so trying that and checking"
   ]
  },
  {
   "cell_type": "code",
   "execution_count": 28,
   "metadata": {
    "tags": []
   },
   "outputs": [
    {
     "name": "stdout",
     "output_type": "stream",
     "text": [
      "[0]\tvalidation_0-error:0.41748\tvalidation_0-logloss:0.68135\tvalidation_1-error:0.41804\tvalidation_1-logloss:0.68053\n",
      "[1]\tvalidation_0-error:0.41304\tvalidation_0-logloss:0.67593\tvalidation_1-error:0.41322\tvalidation_1-logloss:0.67541\n",
      "[2]\tvalidation_0-error:0.41304\tvalidation_0-logloss:0.67253\tvalidation_1-error:0.41335\tvalidation_1-logloss:0.67165\n",
      "[3]\tvalidation_0-error:0.41219\tvalidation_0-logloss:0.67099\tvalidation_1-error:0.41322\tvalidation_1-logloss:0.67055\n",
      "[4]\tvalidation_0-error:0.41244\tvalidation_0-logloss:0.66962\tvalidation_1-error:0.41271\tvalidation_1-logloss:0.66920\n",
      "[5]\tvalidation_0-error:0.41241\tvalidation_0-logloss:0.66825\tvalidation_1-error:0.41259\tvalidation_1-logloss:0.66742\n",
      "[6]\tvalidation_0-error:0.40803\tvalidation_0-logloss:0.66753\tvalidation_1-error:0.41018\tvalidation_1-logloss:0.66718\n",
      "[7]\tvalidation_0-error:0.40809\tvalidation_0-logloss:0.66680\tvalidation_1-error:0.41005\tvalidation_1-logloss:0.66675\n",
      "[8]\tvalidation_0-error:0.40791\tvalidation_0-logloss:0.66624\tvalidation_1-error:0.41005\tvalidation_1-logloss:0.66633\n",
      "[9]\tvalidation_0-error:0.40797\tvalidation_0-logloss:0.66569\tvalidation_1-error:0.41081\tvalidation_1-logloss:0.66607\n",
      "[10]\tvalidation_0-error:0.40512\tvalidation_0-logloss:0.66506\tvalidation_1-error:0.41030\tvalidation_1-logloss:0.66592\n",
      "[11]\tvalidation_0-error:0.40478\tvalidation_0-logloss:0.66474\tvalidation_1-error:0.40941\tvalidation_1-logloss:0.66588\n",
      "[12]\tvalidation_0-error:0.40496\tvalidation_0-logloss:0.66431\tvalidation_1-error:0.41005\tvalidation_1-logloss:0.66576\n",
      "[13]\tvalidation_0-error:0.40424\tvalidation_0-logloss:0.66387\tvalidation_1-error:0.40979\tvalidation_1-logloss:0.66545\n",
      "[14]\tvalidation_0-error:0.40152\tvalidation_0-logloss:0.66346\tvalidation_1-error:0.40586\tvalidation_1-logloss:0.66519\n",
      "[15]\tvalidation_0-error:0.40190\tvalidation_0-logloss:0.66302\tvalidation_1-error:0.40523\tvalidation_1-logloss:0.66453\n"
     ]
    },
    {
     "name": "stderr",
     "output_type": "stream",
     "text": [
      "/Users/yamini/Library/Python/3.8/lib/python/site-packages/xgboost/sklearn.py:793: UserWarning: `eval_metric` in `fit` method is deprecated for better compatibility with scikit-learn, use `eval_metric` in constructor or`set_params` instead.\n",
      "  warnings.warn(\n"
     ]
    },
    {
     "name": "stdout",
     "output_type": "stream",
     "text": [
      "[16]\tvalidation_0-error:0.40165\tvalidation_0-logloss:0.66278\tvalidation_1-error:0.40345\tvalidation_1-logloss:0.66450\n",
      "[17]\tvalidation_0-error:0.40115\tvalidation_0-logloss:0.66258\tvalidation_1-error:0.40434\tvalidation_1-logloss:0.66455\n",
      "[18]\tvalidation_0-error:0.40074\tvalidation_0-logloss:0.66230\tvalidation_1-error:0.40586\tvalidation_1-logloss:0.66443\n",
      "[19]\tvalidation_0-error:0.40039\tvalidation_0-logloss:0.66214\tvalidation_1-error:0.40561\tvalidation_1-logloss:0.66457\n",
      "[20]\tvalidation_0-error:0.40008\tvalidation_0-logloss:0.66182\tvalidation_1-error:0.40510\tvalidation_1-logloss:0.66467\n",
      "[21]\tvalidation_0-error:0.39986\tvalidation_0-logloss:0.66167\tvalidation_1-error:0.40599\tvalidation_1-logloss:0.66459\n",
      "[22]\tvalidation_0-error:0.39999\tvalidation_0-logloss:0.66150\tvalidation_1-error:0.40459\tvalidation_1-logloss:0.66453\n",
      "[23]\tvalidation_0-error:0.39980\tvalidation_0-logloss:0.66133\tvalidation_1-error:0.40650\tvalidation_1-logloss:0.66449\n",
      "[24]\tvalidation_0-error:0.39936\tvalidation_0-logloss:0.66109\tvalidation_1-error:0.40738\tvalidation_1-logloss:0.66446\n",
      "[25]\tvalidation_0-error:0.39955\tvalidation_0-logloss:0.66093\tvalidation_1-error:0.40624\tvalidation_1-logloss:0.66429\n",
      "[26]\tvalidation_0-error:0.39964\tvalidation_0-logloss:0.66066\tvalidation_1-error:0.40738\tvalidation_1-logloss:0.66405\n",
      "[27]\tvalidation_0-error:0.39939\tvalidation_0-logloss:0.66039\tvalidation_1-error:0.40675\tvalidation_1-logloss:0.66350\n",
      "[28]\tvalidation_0-error:0.39914\tvalidation_0-logloss:0.66016\tvalidation_1-error:0.40802\tvalidation_1-logloss:0.66349\n",
      "[29]\tvalidation_0-error:0.39946\tvalidation_0-logloss:0.66001\tvalidation_1-error:0.40738\tvalidation_1-logloss:0.66352\n",
      "[30]\tvalidation_0-error:0.39911\tvalidation_0-logloss:0.65982\tvalidation_1-error:0.40738\tvalidation_1-logloss:0.66346\n",
      "[31]\tvalidation_0-error:0.39895\tvalidation_0-logloss:0.65973\tvalidation_1-error:0.40726\tvalidation_1-logloss:0.66341\n",
      "[32]\tvalidation_0-error:0.39886\tvalidation_0-logloss:0.65954\tvalidation_1-error:0.40713\tvalidation_1-logloss:0.66350\n",
      "[33]\tvalidation_0-error:0.39855\tvalidation_0-logloss:0.65939\tvalidation_1-error:0.40713\tvalidation_1-logloss:0.66360\n",
      "[34]\tvalidation_0-error:0.39849\tvalidation_0-logloss:0.65925\tvalidation_1-error:0.40650\tvalidation_1-logloss:0.66365\n",
      "[35]\tvalidation_0-error:0.39780\tvalidation_0-logloss:0.65906\tvalidation_1-error:0.40573\tvalidation_1-logloss:0.66349\n",
      "[36]\tvalidation_0-error:0.39758\tvalidation_0-logloss:0.65896\tvalidation_1-error:0.40586\tvalidation_1-logloss:0.66347\n",
      "[37]\tvalidation_0-error:0.39786\tvalidation_0-logloss:0.65888\tvalidation_1-error:0.40586\tvalidation_1-logloss:0.66347\n",
      "[38]\tvalidation_0-error:0.39795\tvalidation_0-logloss:0.65864\tvalidation_1-error:0.40497\tvalidation_1-logloss:0.66340\n",
      "[39]\tvalidation_0-error:0.39802\tvalidation_0-logloss:0.65857\tvalidation_1-error:0.40472\tvalidation_1-logloss:0.66349\n",
      "[40]\tvalidation_0-error:0.39792\tvalidation_0-logloss:0.65846\tvalidation_1-error:0.40447\tvalidation_1-logloss:0.66357\n",
      "[41]\tvalidation_0-error:0.39758\tvalidation_0-logloss:0.65832\tvalidation_1-error:0.40472\tvalidation_1-logloss:0.66375\n",
      "[42]\tvalidation_0-error:0.39739\tvalidation_0-logloss:0.65824\tvalidation_1-error:0.40485\tvalidation_1-logloss:0.66375\n",
      "[43]\tvalidation_0-error:0.39708\tvalidation_0-logloss:0.65811\tvalidation_1-error:0.40447\tvalidation_1-logloss:0.66376\n",
      "[44]\tvalidation_0-error:0.39701\tvalidation_0-logloss:0.65795\tvalidation_1-error:0.40421\tvalidation_1-logloss:0.66378\n",
      "[45]\tvalidation_0-error:0.39698\tvalidation_0-logloss:0.65775\tvalidation_1-error:0.40523\tvalidation_1-logloss:0.66388\n",
      "[46]\tvalidation_0-error:0.39692\tvalidation_0-logloss:0.65762\tvalidation_1-error:0.40459\tvalidation_1-logloss:0.66390\n",
      "[47]\tvalidation_0-error:0.39676\tvalidation_0-logloss:0.65748\tvalidation_1-error:0.40472\tvalidation_1-logloss:0.66384\n",
      "[48]\tvalidation_0-error:0.39592\tvalidation_0-logloss:0.65732\tvalidation_1-error:0.40472\tvalidation_1-logloss:0.66386\n",
      "[49]\tvalidation_0-error:0.39589\tvalidation_0-logloss:0.65717\tvalidation_1-error:0.40358\tvalidation_1-logloss:0.66357\n",
      "[50]\tvalidation_0-error:0.39579\tvalidation_0-logloss:0.65710\tvalidation_1-error:0.40358\tvalidation_1-logloss:0.66361\n",
      "[51]\tvalidation_0-error:0.39385\tvalidation_0-logloss:0.65703\tvalidation_1-error:0.40332\tvalidation_1-logloss:0.66370\n",
      "[52]\tvalidation_0-error:0.39388\tvalidation_0-logloss:0.65691\tvalidation_1-error:0.40409\tvalidation_1-logloss:0.66368\n",
      "[53]\tvalidation_0-error:0.39385\tvalidation_0-logloss:0.65687\tvalidation_1-error:0.40409\tvalidation_1-logloss:0.66374\n",
      "[54]\tvalidation_0-error:0.39370\tvalidation_0-logloss:0.65678\tvalidation_1-error:0.40409\tvalidation_1-logloss:0.66382\n",
      "[55]\tvalidation_0-error:0.39363\tvalidation_0-logloss:0.65664\tvalidation_1-error:0.40535\tvalidation_1-logloss:0.66386\n",
      "[56]\tvalidation_0-error:0.39360\tvalidation_0-logloss:0.65650\tvalidation_1-error:0.40459\tvalidation_1-logloss:0.66388\n",
      "[57]\tvalidation_0-error:0.39363\tvalidation_0-logloss:0.65634\tvalidation_1-error:0.40282\tvalidation_1-logloss:0.66396\n",
      "[58]\tvalidation_0-error:0.39351\tvalidation_0-logloss:0.65631\tvalidation_1-error:0.40307\tvalidation_1-logloss:0.66396\n",
      "[59]\tvalidation_0-error:0.39323\tvalidation_0-logloss:0.65626\tvalidation_1-error:0.40294\tvalidation_1-logloss:0.66398\n",
      "[60]\tvalidation_0-error:0.39320\tvalidation_0-logloss:0.65620\tvalidation_1-error:0.40282\tvalidation_1-logloss:0.66405\n",
      "[61]\tvalidation_0-error:0.39270\tvalidation_0-logloss:0.65607\tvalidation_1-error:0.40282\tvalidation_1-logloss:0.66406\n",
      "[62]\tvalidation_0-error:0.39263\tvalidation_0-logloss:0.65597\tvalidation_1-error:0.40307\tvalidation_1-logloss:0.66412\n",
      "[63]\tvalidation_0-error:0.39235\tvalidation_0-logloss:0.65588\tvalidation_1-error:0.40269\tvalidation_1-logloss:0.66422\n",
      "[64]\tvalidation_0-error:0.39216\tvalidation_0-logloss:0.65575\tvalidation_1-error:0.40231\tvalidation_1-logloss:0.66414\n",
      "[65]\tvalidation_0-error:0.39210\tvalidation_0-logloss:0.65567\tvalidation_1-error:0.40218\tvalidation_1-logloss:0.66422\n",
      "[66]\tvalidation_0-error:0.39198\tvalidation_0-logloss:0.65564\tvalidation_1-error:0.40244\tvalidation_1-logloss:0.66424\n",
      "[67]\tvalidation_0-error:0.39191\tvalidation_0-logloss:0.65555\tvalidation_1-error:0.40206\tvalidation_1-logloss:0.66418\n",
      "[68]\tvalidation_0-error:0.39185\tvalidation_0-logloss:0.65542\tvalidation_1-error:0.40091\tvalidation_1-logloss:0.66406\n",
      "[69]\tvalidation_0-error:0.39110\tvalidation_0-logloss:0.65530\tvalidation_1-error:0.40129\tvalidation_1-logloss:0.66418\n",
      "[70]\tvalidation_0-error:0.39113\tvalidation_0-logloss:0.65517\tvalidation_1-error:0.40117\tvalidation_1-logloss:0.66407\n",
      "[71]\tvalidation_0-error:0.39057\tvalidation_0-logloss:0.65507\tvalidation_1-error:0.40091\tvalidation_1-logloss:0.66405\n",
      "[72]\tvalidation_0-error:0.39057\tvalidation_0-logloss:0.65502\tvalidation_1-error:0.40079\tvalidation_1-logloss:0.66409\n",
      "[73]\tvalidation_0-error:0.39025\tvalidation_0-logloss:0.65488\tvalidation_1-error:0.39990\tvalidation_1-logloss:0.66408\n",
      "[74]\tvalidation_0-error:0.38972\tvalidation_0-logloss:0.65477\tvalidation_1-error:0.40015\tvalidation_1-logloss:0.66414\n",
      "[75]\tvalidation_0-error:0.38991\tvalidation_0-logloss:0.65463\tvalidation_1-error:0.39964\tvalidation_1-logloss:0.66397\n",
      "[76]\tvalidation_0-error:0.38891\tvalidation_0-logloss:0.65449\tvalidation_1-error:0.39952\tvalidation_1-logloss:0.66409\n",
      "[77]\tvalidation_0-error:0.38872\tvalidation_0-logloss:0.65438\tvalidation_1-error:0.40066\tvalidation_1-logloss:0.66376\n",
      "[78]\tvalidation_0-error:0.38894\tvalidation_0-logloss:0.65428\tvalidation_1-error:0.40142\tvalidation_1-logloss:0.66374\n",
      "[79]\tvalidation_0-error:0.38863\tvalidation_0-logloss:0.65419\tvalidation_1-error:0.40091\tvalidation_1-logloss:0.66369\n",
      "[80]\tvalidation_0-error:0.38800\tvalidation_0-logloss:0.65404\tvalidation_1-error:0.40041\tvalidation_1-logloss:0.66381\n",
      "[81]\tvalidation_0-error:0.38725\tvalidation_0-logloss:0.65395\tvalidation_1-error:0.39964\tvalidation_1-logloss:0.66389\n",
      "[82]\tvalidation_0-error:0.38712\tvalidation_0-logloss:0.65387\tvalidation_1-error:0.39990\tvalidation_1-logloss:0.66401\n",
      "[83]\tvalidation_0-error:0.38694\tvalidation_0-logloss:0.65378\tvalidation_1-error:0.39977\tvalidation_1-logloss:0.66417\n",
      "[84]\tvalidation_0-error:0.38697\tvalidation_0-logloss:0.65372\tvalidation_1-error:0.39977\tvalidation_1-logloss:0.66418\n",
      "[85]\tvalidation_0-error:0.38722\tvalidation_0-logloss:0.65363\tvalidation_1-error:0.39990\tvalidation_1-logloss:0.66422\n",
      "[86]\tvalidation_0-error:0.38716\tvalidation_0-logloss:0.65360\tvalidation_1-error:0.39990\tvalidation_1-logloss:0.66415\n",
      "[87]\tvalidation_0-error:0.38703\tvalidation_0-logloss:0.65349\tvalidation_1-error:0.40003\tvalidation_1-logloss:0.66416\n",
      "[88]\tvalidation_0-error:0.38706\tvalidation_0-logloss:0.65343\tvalidation_1-error:0.40003\tvalidation_1-logloss:0.66420\n",
      "[89]\tvalidation_0-error:0.38687\tvalidation_0-logloss:0.65335\tvalidation_1-error:0.40015\tvalidation_1-logloss:0.66428\n",
      "[90]\tvalidation_0-error:0.38716\tvalidation_0-logloss:0.65324\tvalidation_1-error:0.39964\tvalidation_1-logloss:0.66432\n",
      "[91]\tvalidation_0-error:0.38728\tvalidation_0-logloss:0.65315\tvalidation_1-error:0.39977\tvalidation_1-logloss:0.66428\n",
      "[92]\tvalidation_0-error:0.38709\tvalidation_0-logloss:0.65304\tvalidation_1-error:0.39914\tvalidation_1-logloss:0.66413\n",
      "[93]\tvalidation_0-error:0.38647\tvalidation_0-logloss:0.65294\tvalidation_1-error:0.40053\tvalidation_1-logloss:0.66426\n",
      "[94]\tvalidation_0-error:0.38628\tvalidation_0-logloss:0.65283\tvalidation_1-error:0.40066\tvalidation_1-logloss:0.66441\n",
      "[95]\tvalidation_0-error:0.38597\tvalidation_0-logloss:0.65275\tvalidation_1-error:0.39977\tvalidation_1-logloss:0.66430\n",
      "[96]\tvalidation_0-error:0.38547\tvalidation_0-logloss:0.65266\tvalidation_1-error:0.39926\tvalidation_1-logloss:0.66431\n",
      "[97]\tvalidation_0-error:0.38547\tvalidation_0-logloss:0.65258\tvalidation_1-error:0.39914\tvalidation_1-logloss:0.66442\n",
      "[98]\tvalidation_0-error:0.38540\tvalidation_0-logloss:0.65252\tvalidation_1-error:0.39926\tvalidation_1-logloss:0.66446\n",
      "[99]\tvalidation_0-error:0.38540\tvalidation_0-logloss:0.65245\tvalidation_1-error:0.39926\tvalidation_1-logloss:0.66442\n",
      "0.600735853844202\n"
     ]
    },
    {
     "data": {
      "text/plain": [
       "<matplotlib.legend.Legend at 0x1589eb940>"
      ]
     },
     "execution_count": 28,
     "metadata": {},
     "output_type": "execute_result"
    },
    {
     "data": {
      "image/png": "[encoded data removed]",
      "text/plain": [
       "<Figure size 640x480 with 1 Axes>"
      ]
     },
     "metadata": {},
     "output_type": "display_data"
    }
   ],
   "source": [
    "import xgboost as xgb\n",
    "xgb_model = xgb.XGBClassifier(booster = 'dart', eta = 0.4, max_depth = 2, objective=\"binary:logistic\")\n",
    "eval_set = [(train_X, train_Y), (test_X, test_Y)]\n",
    "xgb_model.fit(train_X, train_Y, eval_set=eval_set, eval_metric=[\"error\", \"logloss\"])\n",
    "y_pred = xgb_model.predict(test_X)\n",
    "acc = accuracy_score(test_Y, y_pred)\n",
    "print(acc)\n",
    "\n",
    "import matplotlib.pyplot as plt\n",
    "results = xgb_model.evals_result()\n",
    "epochs = len(results['validation_0']['error'])\n",
    "x_axis = range(0, epochs)\n",
    "# plot log loss\n",
    "fig, ax = plt.subplots()\n",
    "\n",
    "ax.plot(x_axis, results['validation_0']['logloss'], label='Train')\n",
    "ax.plot(x_axis, results['validation_1']['logloss'], label='Test')\n",
    "ax.legend()\n"
   ]
  },
  {
   "cell_type": "markdown",
   "metadata": {},
   "source": [
    "Learning rate 0.3 is 0.597 whereas learning rate 0.4 is 0.600 - there is a slight difference and this tuning is as well on the test set \n",
    "So there might be a good chance that since this model is specifically tuned on test data so any other data which is slightly different from test data might predict with a lower accuracy"
   ]
  },
  {
   "cell_type": "code",
   "execution_count": null,
   "metadata": {},
   "outputs": [],
   "source": []
  },
  {
   "cell_type": "markdown",
   "metadata": {},
   "source": [
    "Method 2 : GridSearchCV"
   ]
  },
  {
   "cell_type": "code",
   "execution_count": 23,
   "metadata": {},
   "outputs": [
    {
     "name": "stdout",
     "output_type": "stream",
     "text": [
      "Fitting 10 folds for each of 96 candidates, totalling 960 fits\n"
     ]
    },
    {
     "data": {
      "text/html": [
       "<style>#sk-container-id-2 {color: black;background-color: white;}#sk-container-id-2 pre{padding: 0;}#sk-container-id-2 div.sk-toggleable {background-color: white;}#sk-container-id-2 label.sk-toggleable__label {cursor: pointer;display: block;width: 100%;margin-bottom: 0;padding: 0.3em;box-sizing: border-box;text-align: center;}#sk-container-id-2 label.sk-toggleable__label-arrow:before {content: \"▸\";float: left;margin-right: 0.25em;color: #696969;}#sk-container-id-2 label.sk-toggleable__label-arrow:hover:before {color: black;}#sk-container-id-2 div.sk-estimator:hover label.sk-toggleable__label-arrow:before {color: black;}#sk-container-id-2 div.sk-toggleable__content {max-height: 0;max-width: 0;overflow: hidden;text-align: left;background-color: #f0f8ff;}#sk-container-id-2 div.sk-toggleable__content pre {margin: 0.2em;color: black;border-radius: 0.25em;background-color: #f0f8ff;}#sk-container-id-2 input.sk-toggleable__control:checked~div.sk-toggleable__content {max-height: 200px;max-width: 100%;overflow: auto;}#sk-container-id-2 input.sk-toggleable__control:checked~label.sk-toggleable__label-arrow:before {content: \"▾\";}#sk-container-id-2 div.sk-estimator input.sk-toggleable__control:checked~label.sk-toggleable__label {background-color: #d4ebff;}#sk-container-id-2 div.sk-label input.sk-toggleable__control:checked~label.sk-toggleable__label {background-color: #d4ebff;}#sk-container-id-2 input.sk-hidden--visually {border: 0;clip: rect(1px 1px 1px 1px);clip: rect(1px, 1px, 1px, 1px);height: 1px;margin: -1px;overflow: hidden;padding: 0;position: absolute;width: 1px;}#sk-container-id-2 div.sk-estimator {font-family: monospace;background-color: #f0f8ff;border: 1px dotted black;border-radius: 0.25em;box-sizing: border-box;margin-bottom: 0.5em;}#sk-container-id-2 div.sk-estimator:hover {background-color: #d4ebff;}#sk-container-id-2 div.sk-parallel-item::after {content: \"\";width: 100%;border-bottom: 1px solid gray;flex-grow: 1;}#sk-container-id-2 div.sk-label:hover label.sk-toggleable__label {background-color: #d4ebff;}#sk-container-id-2 div.sk-serial::before {content: \"\";position: absolute;border-left: 1px solid gray;box-sizing: border-box;top: 0;bottom: 0;left: 50%;z-index: 0;}#sk-container-id-2 div.sk-serial {display: flex;flex-direction: column;align-items: center;background-color: white;padding-right: 0.2em;padding-left: 0.2em;position: relative;}#sk-container-id-2 div.sk-item {position: relative;z-index: 1;}#sk-container-id-2 div.sk-parallel {display: flex;align-items: stretch;justify-content: center;background-color: white;position: relative;}#sk-container-id-2 div.sk-item::before, #sk-container-id-2 div.sk-parallel-item::before {content: \"\";position: absolute;border-left: 1px solid gray;box-sizing: border-box;top: 0;bottom: 0;left: 50%;z-index: -1;}#sk-container-id-2 div.sk-parallel-item {display: flex;flex-direction: column;z-index: 1;position: relative;background-color: white;}#sk-container-id-2 div.sk-parallel-item:first-child::after {align-self: flex-end;width: 50%;}#sk-container-id-2 div.sk-parallel-item:last-child::after {align-self: flex-start;width: 50%;}#sk-container-id-2 div.sk-parallel-item:only-child::after {width: 0;}#sk-container-id-2 div.sk-dashed-wrapped {border: 1px dashed gray;margin: 0 0.4em 0.5em 0.4em;box-sizing: border-box;padding-bottom: 0.4em;background-color: white;}#sk-container-id-2 div.sk-label label {font-family: monospace;font-weight: bold;display: inline-block;line-height: 1.2em;}#sk-container-id-2 div.sk-label-container {text-align: center;}#sk-container-id-2 div.sk-container {/* jupyter's `normalize.less` sets `[hidden] { display: none; }` but bootstrap.min.css set `[hidden] { display: none !important; }` so we also need the `!important` here to be able to override the default hidden behavior on the sphinx rendered scikit-learn.org. See: https://github.com/scikit-learn/scikit-learn/issues/21755 */display: inline-block !important;position: relative;}#sk-container-id-2 div.sk-text-repr-fallback {display: none;}</style><div id=\"sk-container-id-2\" class=\"sk-top-container\"><div class=\"sk-text-repr-fallback\"><pre>GridSearchCV(cv=10,\n",
       "             estimator=XGBClassifier(base_score=None, booster=None,\n",
       "                                     callbacks=None, colsample_bylevel=None,\n",
       "                                     colsample_bynode=None,\n",
       "                                     colsample_bytree=None,\n",
       "                                     early_stopping_rounds=None,\n",
       "                                     enable_categorical=False, eval_metric=None,\n",
       "                                     gamma=None, gpu_id=None, grow_policy=None,\n",
       "                                     importance_type=None,\n",
       "                                     interaction_constraints=None,\n",
       "                                     learning_rate=None, max_bin=None,\n",
       "                                     max_c...\n",
       "                                     max_delta_step=None, max_depth=None,\n",
       "                                     max_leaves=None, min_child_weight=None,\n",
       "                                     missing=nan, monotone_constraints=None,\n",
       "                                     n_estimators=100, n_jobs=None, nthread=4,\n",
       "                                     num_parallel_tree=None, predictor=None,\n",
       "                                     random_state=None, reg_alpha=None, ...),\n",
       "             n_jobs=10,\n",
       "             param_grid={&#x27;learning_rate&#x27;: [0.1, 0.01, 0.05],\n",
       "                         &#x27;max_depth&#x27;: range(2, 10),\n",
       "                         &#x27;n_estimators&#x27;: range(60, 220, 40)},\n",
       "             scoring=&#x27;roc_auc&#x27;, verbose=True)</pre><b>In a Jupyter environment, please rerun this cell to show the HTML representation or trust the notebook. <br />On GitHub, the HTML representation is unable to render, please try loading this page with nbviewer.org.</b></div><div class=\"sk-container\" hidden><div class=\"sk-item sk-dashed-wrapped\"><div class=\"sk-label-container\"><div class=\"sk-label sk-toggleable\"><input class=\"sk-toggleable__control sk-hidden--visually\" id=\"sk-estimator-id-2\" type=\"checkbox\" ><label for=\"sk-estimator-id-2\" class=\"sk-toggleable__label sk-toggleable__label-arrow\">GridSearchCV</label><div class=\"sk-toggleable__content\"><pre>GridSearchCV(cv=10,\n",
       "             estimator=XGBClassifier(base_score=None, booster=None,\n",
       "                                     callbacks=None, colsample_bylevel=None,\n",
       "                                     colsample_bynode=None,\n",
       "                                     colsample_bytree=None,\n",
       "                                     early_stopping_rounds=None,\n",
       "                                     enable_categorical=False, eval_metric=None,\n",
       "                                     gamma=None, gpu_id=None, grow_policy=None,\n",
       "                                     importance_type=None,\n",
       "                                     interaction_constraints=None,\n",
       "                                     learning_rate=None, max_bin=None,\n",
       "                                     max_c...\n",
       "                                     max_delta_step=None, max_depth=None,\n",
       "                                     max_leaves=None, min_child_weight=None,\n",
       "                                     missing=nan, monotone_constraints=None,\n",
       "                                     n_estimators=100, n_jobs=None, nthread=4,\n",
       "                                     num_parallel_tree=None, predictor=None,\n",
       "                                     random_state=None, reg_alpha=None, ...),\n",
       "             n_jobs=10,\n",
       "             param_grid={&#x27;learning_rate&#x27;: [0.1, 0.01, 0.05],\n",
       "                         &#x27;max_depth&#x27;: range(2, 10),\n",
       "                         &#x27;n_estimators&#x27;: range(60, 220, 40)},\n",
       "             scoring=&#x27;roc_auc&#x27;, verbose=True)</pre></div></div></div><div class=\"sk-parallel\"><div class=\"sk-parallel-item\"><div class=\"sk-item\"><div class=\"sk-label-container\"><div class=\"sk-label sk-toggleable\"><input class=\"sk-toggleable__control sk-hidden--visually\" id=\"sk-estimator-id-3\" type=\"checkbox\" ><label for=\"sk-estimator-id-3\" class=\"sk-toggleable__label sk-toggleable__label-arrow\">estimator: XGBClassifier</label><div class=\"sk-toggleable__content\"><pre>XGBClassifier(base_score=None, booster=None, callbacks=None,\n",
       "              colsample_bylevel=None, colsample_bynode=None,\n",
       "              colsample_bytree=None, early_stopping_rounds=None,\n",
       "              enable_categorical=False, eval_metric=None, gamma=None,\n",
       "              gpu_id=None, grow_policy=None, importance_type=None,\n",
       "              interaction_constraints=None, learning_rate=None, max_bin=None,\n",
       "              max_cat_to_onehot=None, max_delta_step=None, max_depth=None,\n",
       "              max_leaves=None, min_child_weight=None, missing=nan,\n",
       "              monotone_constraints=None, n_estimators=100, n_jobs=None,\n",
       "              nthread=4, num_parallel_tree=None, predictor=None,\n",
       "              random_state=None, reg_alpha=None, ...)</pre></div></div></div><div class=\"sk-serial\"><div class=\"sk-item\"><div class=\"sk-estimator sk-toggleable\"><input class=\"sk-toggleable__control sk-hidden--visually\" id=\"sk-estimator-id-4\" type=\"checkbox\" ><label for=\"sk-estimator-id-4\" class=\"sk-toggleable__label sk-toggleable__label-arrow\">XGBClassifier</label><div class=\"sk-toggleable__content\"><pre>XGBClassifier(base_score=None, booster=None, callbacks=None,\n",
       "              colsample_bylevel=None, colsample_bynode=None,\n",
       "              colsample_bytree=None, early_stopping_rounds=None,\n",
       "              enable_categorical=False, eval_metric=None, gamma=None,\n",
       "              gpu_id=None, grow_policy=None, importance_type=None,\n",
       "              interaction_constraints=None, learning_rate=None, max_bin=None,\n",
       "              max_cat_to_onehot=None, max_delta_step=None, max_depth=None,\n",
       "              max_leaves=None, min_child_weight=None, missing=nan,\n",
       "              monotone_constraints=None, n_estimators=100, n_jobs=None,\n",
       "              nthread=4, num_parallel_tree=None, predictor=None,\n",
       "              random_state=None, reg_alpha=None, ...)</pre></div></div></div></div></div></div></div></div></div></div>"
      ],
      "text/plain": [
       "GridSearchCV(cv=10,\n",
       "             estimator=XGBClassifier(base_score=None, booster=None,\n",
       "                                     callbacks=None, colsample_bylevel=None,\n",
       "                                     colsample_bynode=None,\n",
       "                                     colsample_bytree=None,\n",
       "                                     early_stopping_rounds=None,\n",
       "                                     enable_categorical=False, eval_metric=None,\n",
       "                                     gamma=None, gpu_id=None, grow_policy=None,\n",
       "                                     importance_type=None,\n",
       "                                     interaction_constraints=None,\n",
       "                                     learning_rate=None, max_bin=None,\n",
       "                                     max_c...\n",
       "                                     max_delta_step=None, max_depth=None,\n",
       "                                     max_leaves=None, min_child_weight=None,\n",
       "                                     missing=nan, monotone_constraints=None,\n",
       "                                     n_estimators=100, n_jobs=None, nthread=4,\n",
       "                                     num_parallel_tree=None, predictor=None,\n",
       "                                     random_state=None, reg_alpha=None, ...),\n",
       "             n_jobs=10,\n",
       "             param_grid={'learning_rate': [0.1, 0.01, 0.05],\n",
       "                         'max_depth': range(2, 10),\n",
       "                         'n_estimators': range(60, 220, 40)},\n",
       "             scoring='roc_auc', verbose=True)"
      ]
     },
     "execution_count": 23,
     "metadata": {},
     "output_type": "execute_result"
    }
   ],
   "source": [
    "from xgboost import XGBClassifier\n",
    "from sklearn.model_selection import GridSearchCV\n",
    "estimator = XGBClassifier(\n",
    "    objective= 'binary:logistic',\n",
    "    nthread=4,\n",
    "    seed=42\n",
    ")\n",
    "parameters = {\n",
    "    'max_depth': range (2, 10, 1),\n",
    "    'n_estimators': range(60, 220, 40),\n",
    "    'learning_rate': [0.1, 0.01, 0.05]\n",
    "}\n",
    "grid_search = GridSearchCV(\n",
    "    estimator=estimator,\n",
    "    param_grid=parameters,\n",
    "    scoring = 'roc_auc',\n",
    "    n_jobs = 10,\n",
    "    cv = 10,\n",
    "    verbose=True\n",
    ")\n",
    "grid_search.fit(train_X, train_Y)"
   ]
  },
  {
   "cell_type": "code",
   "execution_count": 24,
   "metadata": {},
   "outputs": [
    {
     "data": {
      "text/plain": [
       "0.6316219155688723"
      ]
     },
     "execution_count": 24,
     "metadata": {},
     "output_type": "execute_result"
    }
   ],
   "source": [
    "grid_search.score(test_X, test_Y)\n"
   ]
  },
  {
   "cell_type": "code",
   "execution_count": 29,
   "metadata": {},
   "outputs": [
    {
     "data": {
      "text/plain": [
       "{'learning_rate': 0.05, 'max_depth': 2, 'n_estimators': 140}"
      ]
     },
     "execution_count": 29,
     "metadata": {},
     "output_type": "execute_result"
    }
   ],
   "source": [
    "grid_search.best_params_"
   ]
  },
  {
   "cell_type": "markdown",
   "metadata": {},
   "source": [
    "Best performing model is 63% at learning rate 0.05 and n_estimator = 140"
   ]
  },
  {
   "cell_type": "code",
   "execution_count": null,
   "metadata": {},
   "outputs": [],
   "source": []
  },
  {
   "cell_type": "code",
   "execution_count": null,
   "metadata": {},
   "outputs": [],
   "source": []
  },
  {
   "cell_type": "markdown",
   "metadata": {
    "id": "HVKhgl4eBsmC"
   },
   "source": [
    "2. Now compare the XGBoost performance to the decision tree implementation from part 3. Describe in text how they compare, and if this aligns with what you expect. (3 points)"
   ]
  },
  {
   "cell_type": "markdown",
   "metadata": {
    "id": "Euk6L8QHPfAQ"
   },
   "source": [
    "# Place your code here\n",
    "```\n",
    "Decision tree was over fitting for max_depth of None, 128, 256 and 512 so I took max_depth of 16 and the test set was performing around 60% whereas xgboost is around 60% with method 1 and 63% in method 2\n",
    "\n",
    "\n",
    "XGBoost Features\n",
    "Regularized Learning: Regularization term helps to smooth the final learnt weights to avoid over-fitting. The regularized objective will tend to select a model employing simple and predictive functions.\n",
    "Gradient Tree Boosting: The tree ensemble model cannot be optimized using traditional optimization methods in Euclidean space. Instead, the model is trained in an additive manner.\n",
    "Shrinkage and Column Subsampling: Besides the regularized objective, two additional techniques are used to further prevent overfitting. The first technique is shrinkage introduced by Friedman. Shrinkage scales newly added weights by a factor η after each step of tree boosting. Similar to a learning rate in stochastic optimization, shrinkage reduces the influence of each tree and leaves space for future trees to improve the model. \n",
    "XGBoost is an ensemble learning method\n",
    "\n",
    "In the case of boosting, the decision tree followed a sequential chain for learning. Each split sub-parts gets trained from its forerunner, and any kind of error existing in the current part gets rectified and leads to the next sub-part.\n",
    "The above description clarifies that in the case of boosting techniques, the initial stage base learner holds a weaker nature and continues to generate stronger variants of learners as the tree expands. Each of the strong learners provides crucial data for final prediction. Sometimes, to generate more strong learner variants, several weak and stronger learners are fused.\n",
    "-Regularisation\n",
    "-Weighted quantile sketch\n",
    "-Block structure for parallel learning:\n",
    "\n",
    "\n",
    "Comparison:\n",
    "\n",
    "XgBoost was bound to do better as it builds multiple trees - Each new tree is built to improve on the deficiencies of the previous trees and this concept is called boosting.\n",
    "when compared to \n",
    "Decision tree that has only one tree so its deficiency lies there with no other chance for it to change itself\n",
    "\n",
    "\n",
    "XgBoost also uses gradient of the previous tree into the new tree which helps in learning and retaining previous tree information\n",
    "unlike Decision tree that has only one tree which gives less flexibility to learn\n",
    "\n",
    "\n",
    "```"
   ]
  },
  {
   "cell_type": "markdown",
   "metadata": {
    "id": "AcxGQ2L0k8P1"
   },
   "source": [
    "## End of homework"
   ]
  }
 ],
 "metadata": {
  "colab": {
   "provenance": []
  },
  "kernelspec": {
   "display_name": "Python 3 (ipykernel)",
   "language": "python",
   "name": "python3"
  },
  "language_info": {
   "codemirror_mode": {
    "name": "ipython",
    "version": 3
   },
   "file_extension": ".py",
   "mimetype": "text/x-python",
   "name": "python",
   "nbconvert_exporter": "python",
   "pygments_lexer": "ipython3",
   "version": "3.8.9"
  }
 },
 "nbformat": 4,
 "nbformat_minor": 4
}
