{
 "cells": [
  {
   "cell_type": "markdown",
   "metadata": {
    "id": "1_FqNipzW5lv"
   },
   "source": [
    "# **Foundations of Data Science Fall 2022 - Homework 2 (30 points)**\n",
    "\n",
    "### Student Name: Yamini Lakshmi Narasimhan\n",
    "### Student Net Id: yl9822\n",
    "\n",
    "---"
   ]
  },
  {
   "cell_type": "markdown",
   "metadata": {
    "id": "XRYNUuouW5lz"
   },
   "source": [
    "### **Part 1: Preparing a Training Set and Training a Decision Tree (10 Points)**\n",
    "\n",
    "---\n",
    "\n",
    "\n"
   ]
  },
  {
   "cell_type": "markdown",
   "metadata": {
    "id": "JQwmLw2bNlc9"
   },
   "source": [
    "This is a hands-on task where we build a predictive model using Decision Trees discussed in class. For this part, we will be using the data in `cell2cell_data.csv` (you can find this on NYU Brightspace).\n",
    "\n",
    "These historical data consist of 39,859 customers: 19,901 customers that churned (i.e., left the company) and 19,958 that did not churn (see the `\"churndep\"` variable). Here are the data set's 11 possible predictor variables for churning behavior: \n",
    "\n",
    "```\n",
    "Pos.  Var. Name  Var. Description\n",
    "----- ---------- --------------------------------------------------------------\n",
    "1     revenue    Mean monthly revenue in dollars\n",
    "2     outcalls   Mean number of outbound voice calls\n",
    "3     incalls    Mean number of inbound voice calls\n",
    "4     months     Months in Service\n",
    "5     eqpdays    Number of days the customer has had his/her current equipment\n",
    "6     webcap     Handset is web capable\n",
    "7     marryyes   Married (1=Yes; 0=No)\n",
    "8     travel     Has traveled to non-US country (1=Yes; 0=No)\n",
    "9     pcown      Owns a personal computer (1=Yes; 0=No)\n",
    "10    creditcd   Possesses a credit card (1=Yes; 0=No)\n",
    "11    retcalls   Number of calls previously made to retention team\n",
    "```\n",
    "\n",
    "The 12th column, the dependent variable `\"churndep\"`, equals 1 if the customer churned, and 0 otherwise. "
   ]
  },
  {
   "cell_type": "code",
   "execution_count": 1,
   "metadata": {
    "id": "fW7Wkd0EM9uF"
   },
   "outputs": [],
   "source": [
    "import warnings\n",
    "from pprint import pprint\n",
    "warnings.filterwarnings('ignore')\n",
    "warnings.filterwarnings(action='once')"
   ]
  },
  {
   "cell_type": "markdown",
   "metadata": {
    "id": "eOZYR7zgW5l0"
   },
   "source": [
    "1\\. Load the data and prepare it for modeling. Note that the features are already processed for you, so the only thing needed here is split the data into training and testing. Use pandas to create two data frames: train_df and test_df, where train_df has 80% of the data chosen uniformly at random without replacement (test_df should have the other 20%). Also, make sure to write your own code to do the splits. You may use any random() function numpy but do not use the data splitting functions from Sklearn.<br><br>\n",
    "\n",
    "(2 Points)"
   ]
  },
  {
   "cell_type": "code",
   "execution_count": 2,
   "metadata": {
    "id": "kdsRU6YtW5l0"
   },
   "outputs": [
    {
     "name": "stdout",
     "output_type": "stream",
     "text": [
      "Total data 39833\n",
      "Train df 31982\n",
      "Test df 7851\n"
     ]
    }
   ],
   "source": [
    "# Place your code here\n",
    "import pandas as pd\n",
    "import numpy as np\n",
    "\n",
    "df = pd.read_csv(\"./cell2cell_data.csv\")\n",
    "\n",
    "print(\"Total data\",len(df))\n",
    "percent = np.random.rand(len(df)) <= 0.8\n",
    "train_df = df[percent]\n",
    "test_df = df[~percent]\n",
    "\n",
    "print(\"Train df\",len(train_df))\n",
    "print(\"Test df\",len(test_df))\n",
    "\n",
    "train_X = train_df.loc[:, train_df.columns != \"churndep\"]\n",
    "train_Y = train_df[\"churndep\"]\n",
    "\n",
    "\n",
    "test_X = test_df.loc[:, test_df.columns != \"churndep\"]\n",
    "test_Y = test_df[\"churndep\"]"
   ]
  },
  {
   "cell_type": "code",
   "execution_count": 3,
   "metadata": {},
   "outputs": [
    {
     "name": "stdout",
     "output_type": "stream",
     "text": [
      "0    16026\n",
      "1    15956\n",
      "Name: churndep, dtype: int64\n",
      "1    3927\n",
      "0    3924\n",
      "Name: churndep, dtype: int64\n"
     ]
    }
   ],
   "source": [
    "print(train_df[\"churndep\"].value_counts())\n",
    "print(test_df[\"churndep\"].value_counts())"
   ]
  },
  {
   "cell_type": "code",
   "execution_count": 4,
   "metadata": {},
   "outputs": [
    {
     "data": {
      "text/html": [
       "<div>\n",
       "<style scoped>\n",
       "    .dataframe tbody tr th:only-of-type {\n",
       "        vertical-align: middle;\n",
       "    }\n",
       "\n",
       "    .dataframe tbody tr th {\n",
       "        vertical-align: top;\n",
       "    }\n",
       "\n",
       "    .dataframe thead th {\n",
       "        text-align: right;\n",
       "    }\n",
       "</style>\n",
       "<table border=\"1\" class=\"dataframe\">\n",
       "  <thead>\n",
       "    <tr style=\"text-align: right;\">\n",
       "      <th></th>\n",
       "      <th>revenue</th>\n",
       "      <th>outcalls</th>\n",
       "      <th>incalls</th>\n",
       "      <th>months</th>\n",
       "      <th>eqpdays</th>\n",
       "      <th>webcap</th>\n",
       "      <th>marryyes</th>\n",
       "      <th>travel</th>\n",
       "      <th>pcown</th>\n",
       "      <th>creditcd</th>\n",
       "      <th>retcalls</th>\n",
       "      <th>churndep</th>\n",
       "    </tr>\n",
       "  </thead>\n",
       "  <tbody>\n",
       "    <tr>\n",
       "      <th>0</th>\n",
       "      <td>48.82</td>\n",
       "      <td>10.00</td>\n",
       "      <td>3.0</td>\n",
       "      <td>26</td>\n",
       "      <td>780</td>\n",
       "      <td>0</td>\n",
       "      <td>0</td>\n",
       "      <td>0</td>\n",
       "      <td>0</td>\n",
       "      <td>1</td>\n",
       "      <td>4</td>\n",
       "      <td>1</td>\n",
       "    </tr>\n",
       "    <tr>\n",
       "      <th>1</th>\n",
       "      <td>83.53</td>\n",
       "      <td>20.00</td>\n",
       "      <td>1.0</td>\n",
       "      <td>31</td>\n",
       "      <td>745</td>\n",
       "      <td>1</td>\n",
       "      <td>0</td>\n",
       "      <td>0</td>\n",
       "      <td>0</td>\n",
       "      <td>0</td>\n",
       "      <td>4</td>\n",
       "      <td>1</td>\n",
       "    </tr>\n",
       "    <tr>\n",
       "      <th>2</th>\n",
       "      <td>29.99</td>\n",
       "      <td>0.00</td>\n",
       "      <td>0.0</td>\n",
       "      <td>52</td>\n",
       "      <td>1441</td>\n",
       "      <td>0</td>\n",
       "      <td>0</td>\n",
       "      <td>0</td>\n",
       "      <td>1</td>\n",
       "      <td>1</td>\n",
       "      <td>3</td>\n",
       "      <td>1</td>\n",
       "    </tr>\n",
       "    <tr>\n",
       "      <th>3</th>\n",
       "      <td>51.42</td>\n",
       "      <td>0.00</td>\n",
       "      <td>0.0</td>\n",
       "      <td>36</td>\n",
       "      <td>59</td>\n",
       "      <td>1</td>\n",
       "      <td>0</td>\n",
       "      <td>0</td>\n",
       "      <td>0</td>\n",
       "      <td>0</td>\n",
       "      <td>4</td>\n",
       "      <td>1</td>\n",
       "    </tr>\n",
       "    <tr>\n",
       "      <th>4</th>\n",
       "      <td>37.75</td>\n",
       "      <td>2.67</td>\n",
       "      <td>0.0</td>\n",
       "      <td>25</td>\n",
       "      <td>572</td>\n",
       "      <td>0</td>\n",
       "      <td>0</td>\n",
       "      <td>0</td>\n",
       "      <td>1</td>\n",
       "      <td>1</td>\n",
       "      <td>3</td>\n",
       "      <td>1</td>\n",
       "    </tr>\n",
       "  </tbody>\n",
       "</table>\n",
       "</div>"
      ],
      "text/plain": [
       "   revenue  outcalls  incalls  months  eqpdays  webcap  marryyes  travel  \\\n",
       "0    48.82     10.00      3.0      26      780       0         0       0   \n",
       "1    83.53     20.00      1.0      31      745       1         0       0   \n",
       "2    29.99      0.00      0.0      52     1441       0         0       0   \n",
       "3    51.42      0.00      0.0      36       59       1         0       0   \n",
       "4    37.75      2.67      0.0      25      572       0         0       0   \n",
       "\n",
       "   pcown  creditcd  retcalls  churndep  \n",
       "0      0         1         4         1  \n",
       "1      0         0         4         1  \n",
       "2      1         1         3         1  \n",
       "3      0         0         4         1  \n",
       "4      1         1         3         1  "
      ]
     },
     "execution_count": 4,
     "metadata": {},
     "output_type": "execute_result"
    }
   ],
   "source": [
    "df.head()"
   ]
  },
  {
   "cell_type": "markdown",
   "metadata": {
    "id": "UFVzQ0DoW5l2"
   },
   "source": [
    "2\\. Now build and train a decision tree classifier using `DecisionTreeClassifier()` [(manual page)](http://scikit-learn.org/stable/modules/generated/sklearn.tree.DecisionTreeClassifier.html) on train_df to predict the `\"churndep\"` target variable. Make sure to use `criterion='entropy'` when instantiating an instance of `DecisionTreeClassifier()`. For all other settings you should use all of the default options.\n",
    "\n",
    "(1 Point)"
   ]
  },
  {
   "cell_type": "code",
   "execution_count": 5,
   "metadata": {
    "id": "v2-FPpHjW5l3"
   },
   "outputs": [
    {
     "data": {
      "text/html": [
       "<style>#sk-container-id-1 {color: black;background-color: white;}#sk-container-id-1 pre{padding: 0;}#sk-container-id-1 div.sk-toggleable {background-color: white;}#sk-container-id-1 label.sk-toggleable__label {cursor: pointer;display: block;width: 100%;margin-bottom: 0;padding: 0.3em;box-sizing: border-box;text-align: center;}#sk-container-id-1 label.sk-toggleable__label-arrow:before {content: \"▸\";float: left;margin-right: 0.25em;color: #696969;}#sk-container-id-1 label.sk-toggleable__label-arrow:hover:before {color: black;}#sk-container-id-1 div.sk-estimator:hover label.sk-toggleable__label-arrow:before {color: black;}#sk-container-id-1 div.sk-toggleable__content {max-height: 0;max-width: 0;overflow: hidden;text-align: left;background-color: #f0f8ff;}#sk-container-id-1 div.sk-toggleable__content pre {margin: 0.2em;color: black;border-radius: 0.25em;background-color: #f0f8ff;}#sk-container-id-1 input.sk-toggleable__control:checked~div.sk-toggleable__content {max-height: 200px;max-width: 100%;overflow: auto;}#sk-container-id-1 input.sk-toggleable__control:checked~label.sk-toggleable__label-arrow:before {content: \"▾\";}#sk-container-id-1 div.sk-estimator input.sk-toggleable__control:checked~label.sk-toggleable__label {background-color: #d4ebff;}#sk-container-id-1 div.sk-label input.sk-toggleable__control:checked~label.sk-toggleable__label {background-color: #d4ebff;}#sk-container-id-1 input.sk-hidden--visually {border: 0;clip: rect(1px 1px 1px 1px);clip: rect(1px, 1px, 1px, 1px);height: 1px;margin: -1px;overflow: hidden;padding: 0;position: absolute;width: 1px;}#sk-container-id-1 div.sk-estimator {font-family: monospace;background-color: #f0f8ff;border: 1px dotted black;border-radius: 0.25em;box-sizing: border-box;margin-bottom: 0.5em;}#sk-container-id-1 div.sk-estimator:hover {background-color: #d4ebff;}#sk-container-id-1 div.sk-parallel-item::after {content: \"\";width: 100%;border-bottom: 1px solid gray;flex-grow: 1;}#sk-container-id-1 div.sk-label:hover label.sk-toggleable__label {background-color: #d4ebff;}#sk-container-id-1 div.sk-serial::before {content: \"\";position: absolute;border-left: 1px solid gray;box-sizing: border-box;top: 0;bottom: 0;left: 50%;z-index: 0;}#sk-container-id-1 div.sk-serial {display: flex;flex-direction: column;align-items: center;background-color: white;padding-right: 0.2em;padding-left: 0.2em;position: relative;}#sk-container-id-1 div.sk-item {position: relative;z-index: 1;}#sk-container-id-1 div.sk-parallel {display: flex;align-items: stretch;justify-content: center;background-color: white;position: relative;}#sk-container-id-1 div.sk-item::before, #sk-container-id-1 div.sk-parallel-item::before {content: \"\";position: absolute;border-left: 1px solid gray;box-sizing: border-box;top: 0;bottom: 0;left: 50%;z-index: -1;}#sk-container-id-1 div.sk-parallel-item {display: flex;flex-direction: column;z-index: 1;position: relative;background-color: white;}#sk-container-id-1 div.sk-parallel-item:first-child::after {align-self: flex-end;width: 50%;}#sk-container-id-1 div.sk-parallel-item:last-child::after {align-self: flex-start;width: 50%;}#sk-container-id-1 div.sk-parallel-item:only-child::after {width: 0;}#sk-container-id-1 div.sk-dashed-wrapped {border: 1px dashed gray;margin: 0 0.4em 0.5em 0.4em;box-sizing: border-box;padding-bottom: 0.4em;background-color: white;}#sk-container-id-1 div.sk-label label {font-family: monospace;font-weight: bold;display: inline-block;line-height: 1.2em;}#sk-container-id-1 div.sk-label-container {text-align: center;}#sk-container-id-1 div.sk-container {/* jupyter's `normalize.less` sets `[hidden] { display: none; }` but bootstrap.min.css set `[hidden] { display: none !important; }` so we also need the `!important` here to be able to override the default hidden behavior on the sphinx rendered scikit-learn.org. See: https://github.com/scikit-learn/scikit-learn/issues/21755 */display: inline-block !important;position: relative;}#sk-container-id-1 div.sk-text-repr-fallback {display: none;}</style><div id=\"sk-container-id-1\" class=\"sk-top-container\"><div class=\"sk-text-repr-fallback\"><pre>DecisionTreeClassifier(criterion=&#x27;entropy&#x27;)</pre><b>In a Jupyter environment, please rerun this cell to show the HTML representation or trust the notebook. <br />On GitHub, the HTML representation is unable to render, please try loading this page with nbviewer.org.</b></div><div class=\"sk-container\" hidden><div class=\"sk-item\"><div class=\"sk-estimator sk-toggleable\"><input class=\"sk-toggleable__control sk-hidden--visually\" id=\"sk-estimator-id-1\" type=\"checkbox\" checked><label for=\"sk-estimator-id-1\" class=\"sk-toggleable__label sk-toggleable__label-arrow\">DecisionTreeClassifier</label><div class=\"sk-toggleable__content\"><pre>DecisionTreeClassifier(criterion=&#x27;entropy&#x27;)</pre></div></div></div></div></div>"
      ],
      "text/plain": [
       "DecisionTreeClassifier(criterion='entropy')"
      ]
     },
     "execution_count": 5,
     "metadata": {},
     "output_type": "execute_result"
    }
   ],
   "source": [
    "# Place your code here\n",
    "from sklearn.tree import DecisionTreeClassifier\n",
    "from sklearn.tree import DecisionTreeClassifier\n",
    "dtc = DecisionTreeClassifier(criterion='entropy')\n",
    "dtc.fit(train_X, train_Y)\n"
   ]
  },
  {
   "cell_type": "markdown",
   "metadata": {
    "id": "urJi_aG2W5l4"
   },
   "source": [
    "3\\. Using the resulting model from 1.2, show a bar plot of feature names and their feature importance (hint: check the attributes of the `DecisionTreeClassifier()` object directly in IPython or check the manual!).\n",
    "\n",
    "(3 Points)"
   ]
  },
  {
   "cell_type": "code",
   "execution_count": 6,
   "metadata": {
    "id": "yZPfCT4oW5l4"
   },
   "outputs": [
    {
     "name": "stdout",
     "output_type": "stream",
     "text": [
      "{'revenue': 0.2712864078913902, 'eqpdays': 0.24433427553545792, 'outcalls': 0.1927033659339823, 'incalls': 0.1346427001065835, 'months': 0.08601458684822445, 'marryyes': 0.019785931555286743, 'pcown': 0.01869308196691633, 'creditcd': 0.011455691972359136, 'travel': 0.010957074616667542, 'retcalls': 0.005344115759909068, 'webcap': 0.004782767813222726}\n"
     ]
    },
    {
     "data": {
      "text/plain": [
       "<BarContainer object of 11 artists>"
      ]
     },
     "execution_count": 6,
     "metadata": {},
     "output_type": "execute_result"
    },
    {
     "data": {
      "image/png": "[encoded data removed]",
      "text/plain": [
       "<Figure size 2500x800 with 1 Axes>"
      ]
     },
     "metadata": {},
     "output_type": "display_data"
    }
   ],
   "source": [
    "# Place your code here\n",
    "import matplotlib.pyplot as plt\n",
    "feature_importance = {}\n",
    "for importance, name in sorted(zip(dtc.feature_importances_, train_X),reverse=True):\n",
    "    feature_importance[name]=importance\n",
    "    \n",
    "plt.figure(figsize=(25,8))\n",
    "print(feature_importance)\n",
    "plt.bar(feature_importance.keys(), feature_importance.values(), color ='purple', width = 0.4)"
   ]
  },
  {
   "cell_type": "markdown",
   "metadata": {
    "id": "qrtv9VFZW5l5"
   },
   "source": [
    "4\\. Is the relationship between the top 3 most important features (as measured here) negative or positive? If your marketing director asked you to explain the top 3 drivers of churn, how would you interpret the relationship between these 3 features and the churn outcome?  What \"real-life\" connection can you draw between each variable and churn?\n",
    "\n",
    "(2 Points)"
   ]
  },
  {
   "cell_type": "code",
   "execution_count": 7,
   "metadata": {},
   "outputs": [
    {
     "data": {
      "text/html": [
       "<div>\n",
       "<style scoped>\n",
       "    .dataframe tbody tr th:only-of-type {\n",
       "        vertical-align: middle;\n",
       "    }\n",
       "\n",
       "    .dataframe tbody tr th {\n",
       "        vertical-align: top;\n",
       "    }\n",
       "\n",
       "    .dataframe thead th {\n",
       "        text-align: right;\n",
       "    }\n",
       "</style>\n",
       "<table border=\"1\" class=\"dataframe\">\n",
       "  <thead>\n",
       "    <tr style=\"text-align: right;\">\n",
       "      <th></th>\n",
       "      <th>revenue</th>\n",
       "      <th>eqpdays</th>\n",
       "      <th>outcalls</th>\n",
       "      <th>churndep</th>\n",
       "    </tr>\n",
       "  </thead>\n",
       "  <tbody>\n",
       "    <tr>\n",
       "      <th>revenue</th>\n",
       "      <td>1.000000</td>\n",
       "      <td>-0.222074</td>\n",
       "      <td>0.500709</td>\n",
       "      <td>-0.013370</td>\n",
       "    </tr>\n",
       "    <tr>\n",
       "      <th>eqpdays</th>\n",
       "      <td>-0.222074</td>\n",
       "      <td>1.000000</td>\n",
       "      <td>-0.244112</td>\n",
       "      <td>0.112821</td>\n",
       "    </tr>\n",
       "    <tr>\n",
       "      <th>outcalls</th>\n",
       "      <td>0.500709</td>\n",
       "      <td>-0.244112</td>\n",
       "      <td>1.000000</td>\n",
       "      <td>-0.037071</td>\n",
       "    </tr>\n",
       "    <tr>\n",
       "      <th>churndep</th>\n",
       "      <td>-0.013370</td>\n",
       "      <td>0.112821</td>\n",
       "      <td>-0.037071</td>\n",
       "      <td>1.000000</td>\n",
       "    </tr>\n",
       "  </tbody>\n",
       "</table>\n",
       "</div>"
      ],
      "text/plain": [
       "           revenue   eqpdays  outcalls  churndep\n",
       "revenue   1.000000 -0.222074  0.500709 -0.013370\n",
       "eqpdays  -0.222074  1.000000 -0.244112  0.112821\n",
       "outcalls  0.500709 -0.244112  1.000000 -0.037071\n",
       "churndep -0.013370  0.112821 -0.037071  1.000000"
      ]
     },
     "execution_count": 7,
     "metadata": {},
     "output_type": "execute_result"
    }
   ],
   "source": [
    "df_corr = df[[\"revenue\",\"eqpdays\", \"outcalls\",\"churndep\"]]\n",
    "df_corr.corr()"
   ]
  },
  {
   "cell_type": "markdown",
   "metadata": {},
   "source": [
    "Top 3 drivers of churn are revenue, outcalls and eqpdays of the company \n",
    "revenue <-> churndep  -0.013370    negative\n",
    "outcalls<-> churndep  -0.037071    negative\n",
    "eqpdays <-> churndep  +0.112821    positive\n",
    "\n",
    "Revenue is negatively correlated that means higher the revenue(Mean monthly revenue in dollars) lower the churndep, \n",
    "similarly outcalls and churndep are also negatively correlated,\n",
    "eqpdays and churndep are positively correlated that is higher eqpdays then higher churndep\n",
    "\n",
    "Revenue:\n",
    "Revenue is negatively correlated that means higher the revenue lower the churndep\n",
    "It makes sense that if the revenue is high for the company then churndep is low as the clients will trust the company lot more since profits are flowing in\n",
    "Another relation could be that if revenue is flowing in it means clients are flushing the money in so high revenue means low number of clients are leaving and lot of clients are currently paying\n",
    "\n",
    "Outcalls:\n",
    "Outcalls being negatively correlated also makes sense as it means Mean number of outbound voice calls with the client is lot so client feels a lot more reliable of the company so churndep is lower.\n",
    "\n",
    "Eqpdays:\n",
    "Number of days the customer has had his/her current equipment : positively correlated which means higher the no of days the customer has their equipment, higher the churndep. May be the equipment becomes faulty after few days and there are no proper customer service because of which the customer tends to leave.\n"
   ]
  },
  {
   "cell_type": "markdown",
   "metadata": {
    "id": "COSPdyw6W5l6"
   },
   "source": [
    "5\\. Using the classifier built in 1.2, try predicting `\"churndep\"` on both the train_df and test_df data sets. What is the accuracy on each?\n",
    "\n",
    "(2 Points)"
   ]
  },
  {
   "cell_type": "code",
   "execution_count": 8,
   "metadata": {
    "id": "Y82nH7NnW5l7"
   },
   "outputs": [
    {
     "name": "stdout",
     "output_type": "stream",
     "text": [
      "Test Accuracy 0.5340720927270411\n",
      "Train Accuracy 0.9999061972359452\n"
     ]
    }
   ],
   "source": [
    "# Place your code here\n",
    "# Place your code here\n",
    "from sklearn.metrics import accuracy_score\n",
    "predtest_Y = dtc.predict(test_X)\n",
    "print(\"Test Accuracy\", accuracy_score(test_Y, predtest_Y))\n",
    "\n",
    "predtrain_Y = dtc.predict(train_X)\n",
    "print(\"Train Accuracy\", accuracy_score(train_Y, predtrain_Y))"
   ]
  },
  {
   "cell_type": "markdown",
   "metadata": {
    "id": "rj8ABZTZW5l7"
   },
   "source": [
    "### **Part 2 - Finding a Good Decision Tree (Total 10 Points)**\n"
   ]
  },
  {
   "cell_type": "markdown",
   "metadata": {
    "id": "0uBeh5FLOKxS"
   },
   "source": [
    "The default options for your decision tree may not be optimal. We need to analyze whether tuning the parameters can improve the accuracy of the classifier.  For the following options `min_samples_split` and `min_samples_leaf`:"
   ]
  },
  {
   "cell_type": "markdown",
   "metadata": {
    "id": "43jCpTXKW5l7"
   },
   "source": [
    "1\\. Generate a list of 10 values of each for the parameters min_samples_split and min_samples_leaf. \n",
    "\n",
    "(1 Point)"
   ]
  },
  {
   "cell_type": "markdown",
   "metadata": {},
   "source": [
    "```\n",
    "min_samples_leaf: int, float, optional (default=1)\n",
    "The minimum number of samples required to be at a leaf node. A split point at any depth will only be considered if it leaves at least min_samples_leaf training samples in each of the left and right branches. This may have the effect of smoothing the model, especially in regression.\n",
    "min_samples_leaf is also used to control over-fitting by defining that each leaf has more than one element. Thus ensuring that the tree cannot overfit the training dataset by creating a bunch of small branches exclusively for one sample each. In reality, what this is actually doing is simply just telling the tree that each leaf doesn’t have to have an impurity of 0\n",
    "\n",
    "min_samples_split: int or float, default=2\n",
    "The minimum number of samples required to split an internal node:\n",
    "If int, then consider min_samples_split as the minimum number.\n",
    "If float, then min_samples_split is a fraction and ceil(min_samples_split * n_samples) are the minimum number of samples for each split.\n",
    "\n",
    "\n",
    "\n",
    "```"
   ]
  },
  {
   "cell_type": "markdown",
   "metadata": {
    "id": "J5-iUr7gW5l8"
   },
   "source": [
    "2\\. Explain in words your reasoning for choosing the above ranges.\n"
   ]
  },
  {
   "cell_type": "markdown",
   "metadata": {},
   "source": [
    "```\n",
    "min_samples_leaf\n",
    "Chose a range between 100-1750 with a difference of 250 because since we have a dataset of 22k and only 2 classes to predict with only 5 features that contribute to the predictions - revenue, eqpdays, outcalls, incalls and months - the child nodes definitely can have a minimum of range 100 and can go higher as the dataset will be majorly split by 5 features split - this will also prevent overfitting and generalising the model\n",
    "\n",
    "min_samples_split\n",
    "Chose the same range as we don't want the dataset to overfit on the training sample and having the less than 100 would not only overfit but will also create a complex tree with multiple nodes and for 5 contributing features a shallow tree would be sufficient with multiple samples grouped together in a node\n",
    "```"
   ]
  },
  {
   "cell_type": "markdown",
   "metadata": {
    "id": "Fs6wgdg9M8t_"
   },
   "source": [
    "*Place your response here*\n"
   ]
  },
  {
   "cell_type": "markdown",
   "metadata": {
    "id": "eN8_nlYPW5l8"
   },
   "source": [
    "3\\. For each combination of values in 3.1 (there should be 100), build a new classifier and check the classifier's accuracy on the test data. Plot the test set accuracy for these options. Use the values of `min_samples_split` as the x-axis and generate a new series (line) for each of `min_samples_leaf`.\n",
    "\n",
    "(5 Points)"
   ]
  },
  {
   "cell_type": "code",
   "execution_count": 9,
   "metadata": {
    "id": "e5HkS_nyW5l9"
   },
   "outputs": [
    {
     "data": {
      "image/png": "[encoded data removed]",
      "text/plain": [
       "<Figure size 640x480 with 1 Axes>"
      ]
     },
     "metadata": {},
     "output_type": "display_data"
    }
   ],
   "source": [
    "# Place your code here\n",
    "min_samples_split = [100, 250, 500, 750, 1000, 1250, 1500, 1750, 2000, 2250] \n",
    "min_samples_leaf =[100, 250, 500, 750, 1000, 1250, 1500, 1750, 2000, 2250] \n",
    "j=0\n",
    "\n",
    "\n",
    "for i in range(len(min_samples_leaf)):\n",
    "    acc_lis = []\n",
    "    for j in range(len(min_samples_split)):\n",
    "        dtc = DecisionTreeClassifier(random_state=0, min_samples_split=min_samples_split[j],min_samples_leaf=min_samples_leaf[i]).fit(train_X, train_Y)\n",
    "        predtest_Y = dtc.predict(test_X)\n",
    "        acc = accuracy_score(test_Y, predtest_Y)\n",
    "        acc_lis.append(acc)\n",
    "    \n",
    "    line = plt.plot(min_samples_split, acc_lis, label = str(min_samples_leaf[i]))\n",
    "    \n",
    "plt.xlabel(\"min_samples_split\")\n",
    "plt.ylabel(\"acc\")\n",
    "plt.legend()\n",
    "plt.title(\"Test Accuracy\")\n",
    "plt.show()\n"
   ]
  },
  {
   "cell_type": "markdown",
   "metadata": {
    "id": "HWgFUXK-W5l9"
   },
   "source": [
    "4\\. Which configuration returns the best accuracy? What is this accuracy? (Note, if you don't see much variation in the test set accuracy across values of min_samples_split or min_samples_leaf, try redoing the above steps with a different range of values).\n",
    "\n",
    "(1 Point)"
   ]
  },
  {
   "cell_type": "markdown",
   "metadata": {},
   "source": [
    "Best configuration is when min_samples_split is 2000 and min_samples_leaf is 100 \n",
    "and accuracy is around 60.5%"
   ]
  },
  {
   "cell_type": "markdown",
   "metadata": {
    "id": "goSHZNjGMg5u"
   },
   "source": [
    "*Place your response here*"
   ]
  },
  {
   "cell_type": "markdown",
   "metadata": {
    "id": "6K6oetWeW5l-"
   },
   "source": [
    "5\\. If you were working for a marketing department, how would you use your churn production model in a real business environment? Explain why churn prediction might be good for the business and how one might improve churn by using this model.\n",
    "\n",
    "(2 Points)"
   ]
  },
  {
   "cell_type": "markdown",
   "metadata": {},
   "source": [
    "I would use this model to periodically check which customer/client might have a tendency to get churned and take precautionary measure beforehand.\n",
    "For example if the model predicts a client/customer is going to leave and then we can always increase outbound and inbound calls as that might make the customer feel they're appreciated and stay with the company for longer\n",
    "or bring in more revenue by transparently showing them how we can improve\n",
    "\n",
    "I can change my focus to companies that have a greater tendency to drop working with us there by giving them a better service and better deal for them to stay with us longer"
   ]
  },
  {
   "cell_type": "markdown",
   "metadata": {
    "id": "Lkz5xJiWW5l-"
   },
   "source": [
    "### **Part 3: Model selection with cross-validation (5 points)**\n"
   ]
  },
  {
   "cell_type": "markdown",
   "metadata": {
    "id": "BAu5rwsQOQir"
   },
   "source": [
    "In this part, we will focus on cross-validation to find a good value for parameter `max_depth`.\n"
   ]
  },
  {
   "cell_type": "markdown",
   "metadata": {
    "id": "RORjY0z4W5l-"
   },
   "source": [
    "1\\. Write a cross-validation function that does the following:\n",
    "- Takes as inputs a dataset, a label name, # of splits/folds (`k`), and a sequence of values for the maximum depth of the tree (`max_depth`). \n",
    "- Shuffles the data.\n",
    "- Splits the data into `k` folds according to the cross-validation logic\n",
    "- Performs two loops\n",
    "  - Outer Loop: `for each f in range(k)`:\n",
    "    - Inner Loop: `for each value in max_depth_sequence`:\n",
    "      - Trains a Decision Tree on the training split with the `max_depth=value` (USE criterion='entropy' BUT DO NOT ALTER THE OTHER PARAMETERS)\n",
    "      - Computes accuracy_value_f on test split\n",
    "      - Stores accuracy_value_f in a  dictionary of values\n",
    "- Returns a dictionary, where each key-value pair is: `value:[accuracy_value_1,...,accuracy_value_k]`\n",
    "\n",
    "(2 Points)"
   ]
  },
  {
   "cell_type": "code",
   "execution_count": 10,
   "metadata": {
    "id": "ueSTmrufMEE7"
   },
   "outputs": [],
   "source": [
    "from random import randrange\n",
    "\n",
    "def xValDecisionTree(dataset, label, k, max_depth_sequence):\n",
    "    dataset = dataset.sample(frac=1).reset_index(drop=True)\n",
    "    df_split = np.array_split(dataset, k)\n",
    "    train_split = pd.DataFrame()\n",
    "    acc_dict = {}\n",
    "    for i in range(0,k):\n",
    "        test_split = pd.DataFrame(df_split[i])\n",
    "        for j in range(k):\n",
    "            if i!= j:\n",
    "                train_split = pd.concat([pd.DataFrame(df_split[j]), train_split])\n",
    "        acc_lis = []        \n",
    "        depth_lis = []\n",
    "        \n",
    "        train_X = train_split.loc[:, train_split.columns != label]\n",
    "        train_Y = train_split[label]\n",
    "\n",
    "\n",
    "        test_X = test_split.loc[:, test_split.columns != label]\n",
    "        test_Y = test_split[label]\n",
    "\n",
    "\n",
    "        for value in max_depth_sequence:\n",
    "            dtc = DecisionTreeClassifier(random_state=0, max_depth=value,  criterion='entropy' ).fit(train_X, train_Y)\n",
    "            predtest_Y = dtc.predict(test_X)\n",
    "            acc = accuracy_score(test_Y, predtest_Y)\n",
    "            acc_lis.append(acc)\n",
    "            depth_lis.append(value)\n",
    "            if value not in acc_dict.keys():\n",
    "                acc_dict[value] = []\n",
    "            acc_dict[value].append(acc)\n",
    "        plt.show()\n",
    "        \n",
    "    return acc_dict\n"
   ]
  },
  {
   "cell_type": "markdown",
   "metadata": {
    "id": "_mVjLoczW5l_"
   },
   "source": [
    "2\\. Using the function written above, do the following:\n",
    "- Generate a sequence `max_depth_sequence = [None, 2, 4, 8, 16, 32, 128, 256, 512]` (Note that None is the default value for this parameter).\n",
    "2.\tCall accs = xValDecisionTree(dataset, 'churndep', 10, `max_depth_sequence`)\n",
    "3.  For each value in accs.keys(), calculate mean(accs[value]). What value is associated with the highest accuracy mean?\n",
    "4.  For each value in accs.keys(), calculate the ranges mean(accs[value]) +/- std(accs[value]). Do the ranges associated with the value that has the highest mean(accs[value]) overlap with ranges for other values? What may this suggest and what are the limitations of a standard deviation based analysis in this scenario?\n",
    "\n",
    "5.  Which depth value would you pick, if any, and why?\n",
    "\n",
    "(3 Points)"
   ]
  },
  {
   "cell_type": "code",
   "execution_count": 11,
   "metadata": {
    "id": "vhxqce5FMFRF"
   },
   "outputs": [
    {
     "name": "stdout",
     "output_type": "stream",
     "text": [
      "{None: [0.5276104417670683,\n",
      "        0.9997489959839357,\n",
      "        0.9992469879518072,\n",
      "        0.9997489329651017,\n",
      "        0.9997489329651017,\n",
      "        0.9992467988953051,\n",
      "        0.9994978659302034,\n",
      "        0.9997489329651017,\n",
      "        1.0,\n",
      "        1.0],\n",
      " 2: [0.5805722891566265,\n",
      "     0.5870983935742972,\n",
      "     0.563504016064257,\n",
      "     0.5897564649761486,\n",
      "     0.584484057243284,\n",
      "     0.5879989957318604,\n",
      "     0.5854883253828772,\n",
      "     0.5890032638714536,\n",
      "     0.5862415264875722,\n",
      "     0.5684157670097916],\n",
      " 4: [0.5903614457831325,\n",
      "     0.5996485943775101,\n",
      "     0.5808232931726908,\n",
      "     0.6018076826512679,\n",
      "     0.5980416771277931,\n",
      "     0.5925182023600302,\n",
      "     0.5987948782324881,\n",
      "     0.606577956314336,\n",
      "     0.5957820738137083,\n",
      "     0.5882500627667587],\n",
      " 8: [0.5908634538152611,\n",
      "     0.607429718875502,\n",
      "     0.5941265060240963,\n",
      "     0.617624905849862,\n",
      "     0.6038162189304545,\n",
      "     0.6025608837559628,\n",
      "     0.6148631684659804,\n",
      "     0.616118503640472,\n",
      "     0.6085864925935225,\n",
      "     0.6063268892794376],\n",
      " 16: [0.5662650602409639,\n",
      "      0.6681726907630522,\n",
      "      0.678714859437751,\n",
      "      0.6829023349234246,\n",
      "      0.6894300778307808,\n",
      "      0.6947024855636454,\n",
      "      0.6972131559126287,\n",
      "      0.6992216921918152,\n",
      "      0.6969620888777304,\n",
      "      0.7097665076575446],\n",
      " 32: [0.5248493975903614,\n",
      "      0.9380020080321285,\n",
      "      0.9455321285140562,\n",
      "      0.9487823248807432,\n",
      "      0.9422545819733869,\n",
      "      0.9460205874968617,\n",
      "      0.9470248556364549,\n",
      "      0.9246798895305046,\n",
      "      0.9512929952297263,\n",
      "      0.9457695204619634],\n",
      " 128: [0.5276104417670683,\n",
      "       0.9997489959839357,\n",
      "       0.9992469879518072,\n",
      "       0.9997489329651017,\n",
      "       0.9997489329651017,\n",
      "       0.9992467988953051,\n",
      "       0.9994978659302034,\n",
      "       0.9997489329651017,\n",
      "       1.0,\n",
      "       1.0],\n",
      " 256: [0.5276104417670683,\n",
      "       0.9997489959839357,\n",
      "       0.9992469879518072,\n",
      "       0.9997489329651017,\n",
      "       0.9997489329651017,\n",
      "       0.9992467988953051,\n",
      "       0.9994978659302034,\n",
      "       0.9997489329651017,\n",
      "       1.0,\n",
      "       1.0],\n",
      " 512: [0.5276104417670683,\n",
      "       0.9997489959839357,\n",
      "       0.9992469879518072,\n",
      "       0.9997489329651017,\n",
      "       0.9997489329651017,\n",
      "       0.9992467988953051,\n",
      "       0.9994978659302034,\n",
      "       0.9997489329651017,\n",
      "       1.0,\n",
      "       1.0]}\n"
     ]
    }
   ],
   "source": [
    "# Place your code here\n",
    "#2.\n",
    "max_depth_sequence = [None, 2, 4, 8, 16, 32, 128, 256, 512]\n",
    "accs_dict = xValDecisionTree(df, \"churndep\", 10,  max_depth_sequence)\n",
    "pprint(accs_dict)"
   ]
  },
  {
   "cell_type": "code",
   "execution_count": 12,
   "metadata": {},
   "outputs": [
    {
     "data": {
      "text/html": [
       "<div>\n",
       "<style scoped>\n",
       "    .dataframe tbody tr th:only-of-type {\n",
       "        vertical-align: middle;\n",
       "    }\n",
       "\n",
       "    .dataframe tbody tr th {\n",
       "        vertical-align: top;\n",
       "    }\n",
       "\n",
       "    .dataframe thead th {\n",
       "        text-align: right;\n",
       "    }\n",
       "</style>\n",
       "<table border=\"1\" class=\"dataframe\">\n",
       "  <thead>\n",
       "    <tr style=\"text-align: right;\">\n",
       "      <th></th>\n",
       "      <th>NaN</th>\n",
       "      <th>2.0</th>\n",
       "      <th>4.0</th>\n",
       "      <th>8.0</th>\n",
       "      <th>16.0</th>\n",
       "      <th>32.0</th>\n",
       "      <th>128.0</th>\n",
       "      <th>256.0</th>\n",
       "      <th>512.0</th>\n",
       "    </tr>\n",
       "  </thead>\n",
       "  <tbody>\n",
       "    <tr>\n",
       "      <th>0</th>\n",
       "      <td>0.527610</td>\n",
       "      <td>0.580572</td>\n",
       "      <td>0.590361</td>\n",
       "      <td>0.590863</td>\n",
       "      <td>0.566265</td>\n",
       "      <td>0.524849</td>\n",
       "      <td>0.527610</td>\n",
       "      <td>0.527610</td>\n",
       "      <td>0.527610</td>\n",
       "    </tr>\n",
       "    <tr>\n",
       "      <th>1</th>\n",
       "      <td>0.999749</td>\n",
       "      <td>0.587098</td>\n",
       "      <td>0.599649</td>\n",
       "      <td>0.607430</td>\n",
       "      <td>0.668173</td>\n",
       "      <td>0.938002</td>\n",
       "      <td>0.999749</td>\n",
       "      <td>0.999749</td>\n",
       "      <td>0.999749</td>\n",
       "    </tr>\n",
       "    <tr>\n",
       "      <th>2</th>\n",
       "      <td>0.999247</td>\n",
       "      <td>0.563504</td>\n",
       "      <td>0.580823</td>\n",
       "      <td>0.594127</td>\n",
       "      <td>0.678715</td>\n",
       "      <td>0.945532</td>\n",
       "      <td>0.999247</td>\n",
       "      <td>0.999247</td>\n",
       "      <td>0.999247</td>\n",
       "    </tr>\n",
       "    <tr>\n",
       "      <th>3</th>\n",
       "      <td>0.999749</td>\n",
       "      <td>0.589756</td>\n",
       "      <td>0.601808</td>\n",
       "      <td>0.617625</td>\n",
       "      <td>0.682902</td>\n",
       "      <td>0.948782</td>\n",
       "      <td>0.999749</td>\n",
       "      <td>0.999749</td>\n",
       "      <td>0.999749</td>\n",
       "    </tr>\n",
       "    <tr>\n",
       "      <th>4</th>\n",
       "      <td>0.999749</td>\n",
       "      <td>0.584484</td>\n",
       "      <td>0.598042</td>\n",
       "      <td>0.603816</td>\n",
       "      <td>0.689430</td>\n",
       "      <td>0.942255</td>\n",
       "      <td>0.999749</td>\n",
       "      <td>0.999749</td>\n",
       "      <td>0.999749</td>\n",
       "    </tr>\n",
       "    <tr>\n",
       "      <th>5</th>\n",
       "      <td>0.999247</td>\n",
       "      <td>0.587999</td>\n",
       "      <td>0.592518</td>\n",
       "      <td>0.602561</td>\n",
       "      <td>0.694702</td>\n",
       "      <td>0.946021</td>\n",
       "      <td>0.999247</td>\n",
       "      <td>0.999247</td>\n",
       "      <td>0.999247</td>\n",
       "    </tr>\n",
       "    <tr>\n",
       "      <th>6</th>\n",
       "      <td>0.999498</td>\n",
       "      <td>0.585488</td>\n",
       "      <td>0.598795</td>\n",
       "      <td>0.614863</td>\n",
       "      <td>0.697213</td>\n",
       "      <td>0.947025</td>\n",
       "      <td>0.999498</td>\n",
       "      <td>0.999498</td>\n",
       "      <td>0.999498</td>\n",
       "    </tr>\n",
       "    <tr>\n",
       "      <th>7</th>\n",
       "      <td>0.999749</td>\n",
       "      <td>0.589003</td>\n",
       "      <td>0.606578</td>\n",
       "      <td>0.616119</td>\n",
       "      <td>0.699222</td>\n",
       "      <td>0.924680</td>\n",
       "      <td>0.999749</td>\n",
       "      <td>0.999749</td>\n",
       "      <td>0.999749</td>\n",
       "    </tr>\n",
       "    <tr>\n",
       "      <th>8</th>\n",
       "      <td>1.000000</td>\n",
       "      <td>0.586242</td>\n",
       "      <td>0.595782</td>\n",
       "      <td>0.608586</td>\n",
       "      <td>0.696962</td>\n",
       "      <td>0.951293</td>\n",
       "      <td>1.000000</td>\n",
       "      <td>1.000000</td>\n",
       "      <td>1.000000</td>\n",
       "    </tr>\n",
       "    <tr>\n",
       "      <th>9</th>\n",
       "      <td>1.000000</td>\n",
       "      <td>0.568416</td>\n",
       "      <td>0.588250</td>\n",
       "      <td>0.606327</td>\n",
       "      <td>0.709767</td>\n",
       "      <td>0.945770</td>\n",
       "      <td>1.000000</td>\n",
       "      <td>1.000000</td>\n",
       "      <td>1.000000</td>\n",
       "    </tr>\n",
       "  </tbody>\n",
       "</table>\n",
       "</div>"
      ],
      "text/plain": [
       "      NaN       2.0       4.0       8.0       16.0      32.0      128.0  \\\n",
       "0  0.527610  0.580572  0.590361  0.590863  0.566265  0.524849  0.527610   \n",
       "1  0.999749  0.587098  0.599649  0.607430  0.668173  0.938002  0.999749   \n",
       "2  0.999247  0.563504  0.580823  0.594127  0.678715  0.945532  0.999247   \n",
       "3  0.999749  0.589756  0.601808  0.617625  0.682902  0.948782  0.999749   \n",
       "4  0.999749  0.584484  0.598042  0.603816  0.689430  0.942255  0.999749   \n",
       "5  0.999247  0.587999  0.592518  0.602561  0.694702  0.946021  0.999247   \n",
       "6  0.999498  0.585488  0.598795  0.614863  0.697213  0.947025  0.999498   \n",
       "7  0.999749  0.589003  0.606578  0.616119  0.699222  0.924680  0.999749   \n",
       "8  1.000000  0.586242  0.595782  0.608586  0.696962  0.951293  1.000000   \n",
       "9  1.000000  0.568416  0.588250  0.606327  0.709767  0.945770  1.000000   \n",
       "\n",
       "      256.0     512.0  \n",
       "0  0.527610  0.527610  \n",
       "1  0.999749  0.999749  \n",
       "2  0.999247  0.999247  \n",
       "3  0.999749  0.999749  \n",
       "4  0.999749  0.999749  \n",
       "5  0.999247  0.999247  \n",
       "6  0.999498  0.999498  \n",
       "7  0.999749  0.999749  \n",
       "8  1.000000  1.000000  \n",
       "9  1.000000  1.000000  "
      ]
     },
     "execution_count": 12,
     "metadata": {},
     "output_type": "execute_result"
    }
   ],
   "source": [
    "accs_df = pd.DataFrame.from_dict(accs_dict)\n",
    "accs_df"
   ]
  },
  {
   "cell_type": "markdown",
   "metadata": {},
   "source": [
    "The maximum accuracy in the val set is 0.999498 when max_depth = None, 128, 256, 512"
   ]
  },
  {
   "cell_type": "code",
   "execution_count": 13,
   "metadata": {},
   "outputs": [
    {
     "data": {
      "text/html": [
       "<div>\n",
       "<style scoped>\n",
       "    .dataframe tbody tr th:only-of-type {\n",
       "        vertical-align: middle;\n",
       "    }\n",
       "\n",
       "    .dataframe tbody tr th {\n",
       "        vertical-align: top;\n",
       "    }\n",
       "\n",
       "    .dataframe thead th {\n",
       "        text-align: right;\n",
       "    }\n",
       "</style>\n",
       "<table border=\"1\" class=\"dataframe\">\n",
       "  <thead>\n",
       "    <tr style=\"text-align: right;\">\n",
       "      <th></th>\n",
       "      <th>NaN</th>\n",
       "      <th>2.0</th>\n",
       "      <th>4.0</th>\n",
       "      <th>8.0</th>\n",
       "      <th>16.0</th>\n",
       "      <th>32.0</th>\n",
       "      <th>128.0</th>\n",
       "      <th>256.0</th>\n",
       "      <th>512.0</th>\n",
       "    </tr>\n",
       "  </thead>\n",
       "  <tbody>\n",
       "    <tr>\n",
       "      <th>count</th>\n",
       "      <td>10.000000</td>\n",
       "      <td>10.000000</td>\n",
       "      <td>10.000000</td>\n",
       "      <td>10.000000</td>\n",
       "      <td>10.000000</td>\n",
       "      <td>10.000000</td>\n",
       "      <td>10.000000</td>\n",
       "      <td>10.000000</td>\n",
       "      <td>10.000000</td>\n",
       "    </tr>\n",
       "    <tr>\n",
       "      <th>mean</th>\n",
       "      <td>0.952460</td>\n",
       "      <td>0.582256</td>\n",
       "      <td>0.595261</td>\n",
       "      <td>0.606232</td>\n",
       "      <td>0.678335</td>\n",
       "      <td>0.901421</td>\n",
       "      <td>0.952460</td>\n",
       "      <td>0.952460</td>\n",
       "      <td>0.952460</td>\n",
       "    </tr>\n",
       "    <tr>\n",
       "      <th>std</th>\n",
       "      <td>0.149277</td>\n",
       "      <td>0.009040</td>\n",
       "      <td>0.007452</td>\n",
       "      <td>0.008889</td>\n",
       "      <td>0.041099</td>\n",
       "      <td>0.132524</td>\n",
       "      <td>0.149277</td>\n",
       "      <td>0.149277</td>\n",
       "      <td>0.149277</td>\n",
       "    </tr>\n",
       "    <tr>\n",
       "      <th>min</th>\n",
       "      <td>0.527610</td>\n",
       "      <td>0.563504</td>\n",
       "      <td>0.580823</td>\n",
       "      <td>0.590863</td>\n",
       "      <td>0.566265</td>\n",
       "      <td>0.524849</td>\n",
       "      <td>0.527610</td>\n",
       "      <td>0.527610</td>\n",
       "      <td>0.527610</td>\n",
       "    </tr>\n",
       "    <tr>\n",
       "      <th>25%</th>\n",
       "      <td>0.999310</td>\n",
       "      <td>0.581550</td>\n",
       "      <td>0.590901</td>\n",
       "      <td>0.602875</td>\n",
       "      <td>0.679762</td>\n",
       "      <td>0.939065</td>\n",
       "      <td>0.999310</td>\n",
       "      <td>0.999310</td>\n",
       "      <td>0.999310</td>\n",
       "    </tr>\n",
       "    <tr>\n",
       "      <th>50%</th>\n",
       "      <td>0.999749</td>\n",
       "      <td>0.585865</td>\n",
       "      <td>0.596912</td>\n",
       "      <td>0.606878</td>\n",
       "      <td>0.692066</td>\n",
       "      <td>0.945651</td>\n",
       "      <td>0.999749</td>\n",
       "      <td>0.999749</td>\n",
       "      <td>0.999749</td>\n",
       "    </tr>\n",
       "    <tr>\n",
       "      <th>75%</th>\n",
       "      <td>0.999749</td>\n",
       "      <td>0.587774</td>\n",
       "      <td>0.599435</td>\n",
       "      <td>0.613294</td>\n",
       "      <td>0.697150</td>\n",
       "      <td>0.946774</td>\n",
       "      <td>0.999749</td>\n",
       "      <td>0.999749</td>\n",
       "      <td>0.999749</td>\n",
       "    </tr>\n",
       "    <tr>\n",
       "      <th>max</th>\n",
       "      <td>1.000000</td>\n",
       "      <td>0.589756</td>\n",
       "      <td>0.606578</td>\n",
       "      <td>0.617625</td>\n",
       "      <td>0.709767</td>\n",
       "      <td>0.951293</td>\n",
       "      <td>1.000000</td>\n",
       "      <td>1.000000</td>\n",
       "      <td>1.000000</td>\n",
       "    </tr>\n",
       "    <tr>\n",
       "      <th>mean-std</th>\n",
       "      <td>0.803183</td>\n",
       "      <td>0.573216</td>\n",
       "      <td>0.587808</td>\n",
       "      <td>0.597343</td>\n",
       "      <td>0.637236</td>\n",
       "      <td>0.768896</td>\n",
       "      <td>0.803183</td>\n",
       "      <td>0.803183</td>\n",
       "      <td>0.803183</td>\n",
       "    </tr>\n",
       "    <tr>\n",
       "      <th>mean+std</th>\n",
       "      <td>1.101737</td>\n",
       "      <td>0.591297</td>\n",
       "      <td>0.602713</td>\n",
       "      <td>0.615120</td>\n",
       "      <td>0.719435</td>\n",
       "      <td>1.033945</td>\n",
       "      <td>1.101737</td>\n",
       "      <td>1.101737</td>\n",
       "      <td>1.101737</td>\n",
       "    </tr>\n",
       "  </tbody>\n",
       "</table>\n",
       "</div>"
      ],
      "text/plain": [
       "              NaN        2.0        4.0        8.0        16.0       32.0   \\\n",
       "count     10.000000  10.000000  10.000000  10.000000  10.000000  10.000000   \n",
       "mean       0.952460   0.582256   0.595261   0.606232   0.678335   0.901421   \n",
       "std        0.149277   0.009040   0.007452   0.008889   0.041099   0.132524   \n",
       "min        0.527610   0.563504   0.580823   0.590863   0.566265   0.524849   \n",
       "25%        0.999310   0.581550   0.590901   0.602875   0.679762   0.939065   \n",
       "50%        0.999749   0.585865   0.596912   0.606878   0.692066   0.945651   \n",
       "75%        0.999749   0.587774   0.599435   0.613294   0.697150   0.946774   \n",
       "max        1.000000   0.589756   0.606578   0.617625   0.709767   0.951293   \n",
       "mean-std   0.803183   0.573216   0.587808   0.597343   0.637236   0.768896   \n",
       "mean+std   1.101737   0.591297   0.602713   0.615120   0.719435   1.033945   \n",
       "\n",
       "              128.0      256.0      512.0  \n",
       "count     10.000000  10.000000  10.000000  \n",
       "mean       0.952460   0.952460   0.952460  \n",
       "std        0.149277   0.149277   0.149277  \n",
       "min        0.527610   0.527610   0.527610  \n",
       "25%        0.999310   0.999310   0.999310  \n",
       "50%        0.999749   0.999749   0.999749  \n",
       "75%        0.999749   0.999749   0.999749  \n",
       "max        1.000000   1.000000   1.000000  \n",
       "mean-std   0.803183   0.803183   0.803183  \n",
       "mean+std   1.101737   1.101737   1.101737  "
      ]
     },
     "execution_count": 13,
     "metadata": {},
     "output_type": "execute_result"
    }
   ],
   "source": [
    "#3\n",
    "describe_df = accs_df.describe()\n",
    "describe_df.loc['mean-std'] = describe_df.loc['mean'] - describe_df.loc['std']\n",
    "describe_df.loc['mean+std'] = describe_df.loc['mean'] + describe_df.loc['std']\n",
    "describe_df\n"
   ]
  },
  {
   "cell_type": "markdown",
   "metadata": {},
   "source": [
    "4. Standard deviation here shows how the data in folds are distributed that is if the std of accuracy is low then it means that the data is distributed uniformly among the folds whereas if std is high then it shows that the data in the val fold is highly variable and is not similar to the training data folds"
   ]
  },
  {
   "cell_type": "markdown",
   "metadata": {},
   "source": [
    "5. The range(mean - std to mean + std) is the same for depth = None, 256 and 512 its the same range that is 0.805481 - 1.100543\n",
    "It means the data is overfitting to the train data so the val set accuracy is extremely high\n",
    "So, i'll probably take the next best accuracy that is with value 8.0 or 16.0 as max_depth_sequence"
   ]
  },
  {
   "cell_type": "code",
   "execution_count": 25,
   "metadata": {},
   "outputs": [
    {
     "name": "stdout",
     "output_type": "stream",
     "text": [
      "For max_depth = None Acc =  0.5363647942937205\n",
      "For max_depth = 256 Acc =  0.5363647942937205\n",
      "For max_depth = 512 Acc =  0.5363647942937205\n"
     ]
    }
   ],
   "source": [
    "dtc = DecisionTreeClassifier(random_state=0, max_depth=None,  criterion='entropy' ).fit(train_X, train_Y)\n",
    "predtest_Y = dtc.predict(test_X)\n",
    "acc = accuracy_score(test_Y, predtest_Y)\n",
    "print(\"For max_depth = None Acc = \",acc) \n",
    "\n",
    "\n",
    "dtc = DecisionTreeClassifier(random_state=0, max_depth=256,  criterion='entropy' ).fit(train_X, train_Y)\n",
    "predtest_Y = dtc.predict(test_X)\n",
    "acc = accuracy_score(test_Y, predtest_Y)\n",
    "print(\"For max_depth = 256 Acc = \",acc)\n",
    "\n",
    "dtc = DecisionTreeClassifier(random_state=0, max_depth=512,  criterion='entropy' ).fit(train_X, train_Y)\n",
    "predtest_Y = dtc.predict(test_X)\n",
    "acc = accuracy_score(test_Y, predtest_Y)\n",
    "print(\"For max_depth = 512 Acc = \",acc)"
   ]
  },
  {
   "cell_type": "markdown",
   "metadata": {},
   "source": [
    "This shows how the test data is not performing that great on the best performing model in the train data as those iteration are over fitting,\n",
    "whereas the one with max_depth of 16 has generalised well so performs better than max_depth = None, 128, 256, 512"
   ]
  },
  {
   "cell_type": "code",
   "execution_count": 21,
   "metadata": {},
   "outputs": [
    {
     "name": "stdout",
     "output_type": "stream",
     "text": [
      "For max_depth = 16 Acc =  0.5680804992994523\n"
     ]
    }
   ],
   "source": [
    "dtc = DecisionTreeClassifier(random_state=0, max_depth=16,  criterion='entropy' ).fit(train_X, train_Y)\n",
    "predtest_Y = dtc.predict(test_X)\n",
    "acc = accuracy_score(test_Y, predtest_Y)\n",
    "print(\"For max_depth = 16 Acc = \",acc)"
   ]
  },
  {
   "cell_type": "code",
   "execution_count": 26,
   "metadata": {},
   "outputs": [
    {
     "name": "stdout",
     "output_type": "stream",
     "text": [
      "For max_depth = 32 Acc =  0.5394217297159597\n"
     ]
    }
   ],
   "source": [
    "dtc = DecisionTreeClassifier(random_state=0, max_depth=32,  criterion='entropy' ).fit(train_X, train_Y)\n",
    "predtest_Y = dtc.predict(test_X)\n",
    "acc = accuracy_score(test_Y, predtest_Y)\n",
    "print(\"For max_depth = 32 Acc = \",acc)"
   ]
  },
  {
   "cell_type": "code",
   "execution_count": 28,
   "metadata": {},
   "outputs": [
    {
     "name": "stdout",
     "output_type": "stream",
     "text": [
      "For max_depth = 8 Acc =  0.5894790472551268\n"
     ]
    }
   ],
   "source": [
    "dtc = DecisionTreeClassifier(random_state=0, max_depth=8,  criterion='entropy' ).fit(train_X, train_Y)\n",
    "predtest_Y = dtc.predict(test_X)\n",
    "acc = accuracy_score(test_Y, predtest_Y)\n",
    "print(\"For max_depth = 8 Acc = \",acc)"
   ]
  },
  {
   "cell_type": "markdown",
   "metadata": {
    "id": "78CJdaQzO1sC"
   },
   "source": [
    "### **Part 4: Boosting (5 Points)**\n"
   ]
  },
  {
   "cell_type": "markdown",
   "metadata": {
    "id": "GUHIOAxaPHOn"
   },
   "source": [
    "Now, as we covered in class, ensemble methods are often used to improve performance. \n",
    "\n",
    "1. Implement the boosting algorithm: XGBoost for the same `cell2cell_data.csv` task as above. You will have to select how to tune hyperparameters. Besides depth, which other hyperparametrs do you optimize for? (2 points)"
   ]
  },
  {
   "cell_type": "markdown",
   "metadata": {},
   "source": [
    "```\n",
    "XGBoost hyperparameters\n",
    "\n",
    "General Parameters \n",
    "booster \n",
    "gbtree defaut which is okay as it is used for tree based xgboost\n",
    "\n",
    "\n",
    "Booster Parameters\n",
    "eta \n",
    "It is the step size shrinkage used in update to prevent overfitting. \n",
    "Range : [0,1] Typical final values : 0.01-0.2.\\n\n",
    "Default : 0\n",
    "    \n",
    "gamma \n",
    "A node is split only when the resulting split gives a positive reduction in the loss function. The larger gamma is, the more conservative the algorithm will be.\n",
    "Range: [0,∞]\n",
    "Default : 0\n",
    "    \n",
    "max_depth - used 3 because mostly there are 3 major features that is eqpdays, revenue, outcalls\n",
    "It is used to control over-fitting as higher depth will allow model to learn relations very specific to a particular sample.\n",
    "range: [0,∞] (0 is only accepted in lossguided growing policy when tree_method is set as hist.\n",
    "default =6\n",
    "\n",
    "\n",
    "min_child_weight - for overfitting we have modified tree depth etc\n",
    "It defines the minimum sum of weights of all observations required in a child.\n",
    "range: [0,∞]\n",
    "It is used to control over-fitting.\n",
    "Higher values prevent a model from learning relations which might be highly specific to the particular sample selected for a tree.\n",
    "default=1\n",
    "\n",
    "\n",
    "max_delta_step - churndep is not biased(0: 15991 1: 15951) so not using this\n",
    "In maximum delta step we allow each tree’s weight estimation to be.\n",
    "Usually this parameter is not needed, but it might help in logistic regression when class is extremely imbalanced.\n",
    "Set it to value of 1-10 might help control the update.\n",
    "range: [0,∞]\n",
    "default=0\n",
    "\n",
    "\n",
    "subsample   - Want to give this default because this is too much rules on the tree\n",
    "It denotes the fraction of observations to be randomly samples for each tree.\n",
    "Subsample ratio of the training instances.\n",
    "Setting it to 0.5 means that XGBoost would randomly sample half of the training data prior to growing trees. - This will prevent overfitting.\n",
    "Typical values: 0.5-1\n",
    "range: (0,1]\n",
    "\n",
    "lambda - 1 is good enough\n",
    "L2 regularization term on weights (analogous to Ridge regression).\n",
    "This is used to handle the regularization part of XGBoost.\n",
    "Increasing this value will make model more conservative.\n",
    "default=1\n",
    "\n",
    "\n",
    "alpha - No need this because less features and we don't need feature sleection here\n",
    "L1 regularization term on weights (analogous to Lasso regression).\n",
    "It can be used in case of very high dimensionality so that the algorithm runs faster when implemented.\n",
    "Increasing this value will make model more conservative.\n",
    "default=0\n",
    "\n",
    "\n",
    "tree_method - auto takes care of which one to choose based on dataset size so no need of change\n",
    "Choices: auto, exact, approx, hist, gpu_hist\n",
    "auto: Use heuristic to choose the fastest method.\n",
    "For small to medium dataset, exact greedy (exact) will be used.\n",
    "For very large dataset, approximate algorithm (approx) will be chosen.\n",
    "Because old behavior is always use exact greedy in single machine, user will get a message when approximate algorithm is chosen to notify this choice.\n",
    "exact: Exact greedy algorithm.\n",
    "approx: Approximate greedy algorithm using quantile sketch and gradient histogram.\n",
    "hist: Fast histogram optimized approximate greedy algorithm. It uses some performance improvements such as bins caching.\n",
    "gpu_hist: GPU implementation of hist algorithm.\n",
    "default= auto\n",
    "\n",
    "\n",
    "scale_pos_weight - No need as classes are balanced for us\n",
    "It controls the balance of positive and negative weights,\n",
    "It is useful for imbalanced classes.\n",
    "A value greater than 0 should be used in case of high class imbalance as it helps in faster convergence.\n",
    "A typical value to consider: sum(negative instances) / sum(positive instances).\n",
    "default=1\n",
    "\n",
    "\n",
    "max_leaves  - too much interference to the tree so no need\n",
    "Maximum number of nodes to be added.\n",
    "Only relevant when grow_policy=lossguide is set.\n",
    "\n",
    "\n",
    "Learning Task Parameters \n",
    "\n",
    "objective  - binary:logistic because this is binary classification\n",
    "reg:logistic : logistic regression\n",
    "binary:logistic : logistic regression for binary classification, output probability\n",
    "binary:logitraw: logistic regression for binary classification, output score before logistic transformation\n",
    "binary:hinge : hinge loss for binary classification. This makes predictions of 0 or 1, rather than producing probabilities.\n",
    "multi:softmax : set XGBoost to do multiclass classification using the softmax objective, you also need to set num_class(number of classes)\n",
    "multi:softprob : same as softmax, but output a vector of ndata nclass, which can be further reshaped to ndata nclass matrix. The result contains predicted probability of each data point belonging to each class.\n",
    "default=reg:squarederror\n",
    "\n",
    "eval_metric - default metrics makes sense\n",
    "The metric to be used for validation data.\n",
    "The default values are rmse for regression, error for classification and mean average precision for ranking.\n",
    "\n",
    "\n",
    "```\n",
    "\n"
   ]
  },
  {
   "cell_type": "code",
   "execution_count": null,
   "metadata": {},
   "outputs": [],
   "source": []
  },
  {
   "cell_type": "code",
   "execution_count": null,
   "metadata": {},
   "outputs": [],
   "source": []
  },
  {
   "cell_type": "code",
   "execution_count": null,
   "metadata": {},
   "outputs": [],
   "source": []
  },
  {
   "cell_type": "code",
   "execution_count": null,
   "metadata": {},
   "outputs": [],
   "source": []
  },
  {
   "cell_type": "markdown",
   "metadata": {
    "id": "GPvZZHlvPfh_"
   },
   "source": [
    "*Place your answer here regarding hyperparameters.*"
   ]
  },
  {
   "cell_type": "code",
   "execution_count": 17,
   "metadata": {
    "id": "HLsVwARuPedB"
   },
   "outputs": [
    {
     "name": "stdout",
     "output_type": "stream",
     "text": [
      "0.588205324162527\n"
     ]
    }
   ],
   "source": [
    "import xgboost as xgb\n",
    "xgb_model = xgb.XGBClassifier()\n",
    "xgb_model.fit(train_X, train_Y)\n",
    "y_pred = xgb_model.predict(test_X)\n",
    "acc = accuracy_score(test_Y, y_pred)\n",
    "print(acc)\n"
   ]
  },
  {
   "cell_type": "markdown",
   "metadata": {},
   "source": [
    "Method 1 : Manual change based on understanding"
   ]
  },
  {
   "cell_type": "code",
   "execution_count": null,
   "metadata": {},
   "outputs": [
    {
     "name": "stdout",
     "output_type": "stream",
     "text": [
      "[0]\tvalidation_0-error:0.40670\tvalidation_0-logloss:0.68088\tvalidation_1-error:0.40950\tvalidation_1-logloss:0.68179\n",
      "[1]\tvalidation_0-error:0.40532\tvalidation_0-logloss:0.67477\tvalidation_1-error:0.40937\tvalidation_1-logloss:0.67581\n",
      "[2]\tvalidation_0-error:0.41289\tvalidation_0-logloss:0.67146\tvalidation_1-error:0.40988\tvalidation_1-logloss:0.67263\n",
      "[3]\tvalidation_0-error:0.41304\tvalidation_0-logloss:0.66957\tvalidation_1-error:0.41001\tvalidation_1-logloss:0.67069\n",
      "[4]\tvalidation_0-error:0.40410\tvalidation_0-logloss:0.66717\tvalidation_1-error:0.40543\tvalidation_1-logloss:0.66868\n",
      "[5]\tvalidation_0-error:0.40113\tvalidation_0-logloss:0.66591\tvalidation_1-error:0.40326\tvalidation_1-logloss:0.66774\n",
      "[6]\tvalidation_0-error:0.40144\tvalidation_0-logloss:0.66504\tvalidation_1-error:0.40339\tvalidation_1-logloss:0.66710\n",
      "[7]\tvalidation_0-error:0.40094\tvalidation_0-logloss:0.66399\tvalidation_1-error:0.40377\tvalidation_1-logloss:0.66646\n",
      "[8]\tvalidation_0-error:0.40110\tvalidation_0-logloss:0.66343\tvalidation_1-error:0.40377\tvalidation_1-logloss:0.66637\n",
      "[9]\tvalidation_0-error:0.39935\tvalidation_0-logloss:0.66271\tvalidation_1-error:0.40339\tvalidation_1-logloss:0.66570\n",
      "[10]\tvalidation_0-error:0.39922\tvalidation_0-logloss:0.66207\tvalidation_1-error:0.40275\tvalidation_1-logloss:0.66513\n",
      "[11]\tvalidation_0-error:0.39804\tvalidation_0-logloss:0.66157\tvalidation_1-error:0.40097\tvalidation_1-logloss:0.66476\n",
      "[12]\tvalidation_0-error:0.39763\tvalidation_0-logloss:0.66089\tvalidation_1-error:0.40135\tvalidation_1-logloss:0.66456\n",
      "[13]\tvalidation_0-error:0.39732\tvalidation_0-logloss:0.66060\tvalidation_1-error:0.40148\tvalidation_1-logloss:0.66469\n",
      "[14]\tvalidation_0-error:0.39694\tvalidation_0-logloss:0.66027\tvalidation_1-error:0.40122\tvalidation_1-logloss:0.66455\n",
      "[15]\tvalidation_0-error:0.39679\tvalidation_0-logloss:0.66011\tvalidation_1-error:0.40160\tvalidation_1-logloss:0.66464\n"
     ]
    },
    {
     "name": "stderr",
     "output_type": "stream",
     "text": [
      "/Users/yamini/Library/Python/3.8/lib/python/site-packages/xgboost/sklearn.py:793: UserWarning: `eval_metric` in `fit` method is deprecated for better compatibility with scikit-learn, use `eval_metric` in constructor or`set_params` instead.\n",
      "  warnings.warn(\n"
     ]
    },
    {
     "name": "stdout",
     "output_type": "stream",
     "text": [
      "[16]\tvalidation_0-error:0.39688\tvalidation_0-logloss:0.65955\tvalidation_1-error:0.40097\tvalidation_1-logloss:0.66431\n",
      "[17]\tvalidation_0-error:0.39625\tvalidation_0-logloss:0.65915\tvalidation_1-error:0.40211\tvalidation_1-logloss:0.66425\n",
      "[18]\tvalidation_0-error:0.39569\tvalidation_0-logloss:0.65878\tvalidation_1-error:0.40199\tvalidation_1-logloss:0.66423\n",
      "[19]\tvalidation_0-error:0.39569\tvalidation_0-logloss:0.65841\tvalidation_1-error:0.40352\tvalidation_1-logloss:0.66407\n",
      "[20]\tvalidation_0-error:0.39572\tvalidation_0-logloss:0.65814\tvalidation_1-error:0.40352\tvalidation_1-logloss:0.66421\n",
      "[21]\tvalidation_0-error:0.39594\tvalidation_0-logloss:0.65782\tvalidation_1-error:0.40313\tvalidation_1-logloss:0.66390\n",
      "[22]\tvalidation_0-error:0.39585\tvalidation_0-logloss:0.65743\tvalidation_1-error:0.40071\tvalidation_1-logloss:0.66407\n",
      "[23]\tvalidation_0-error:0.39503\tvalidation_0-logloss:0.65704\tvalidation_1-error:0.40097\tvalidation_1-logloss:0.66398\n",
      "[24]\tvalidation_0-error:0.39416\tvalidation_0-logloss:0.65670\tvalidation_1-error:0.40364\tvalidation_1-logloss:0.66380\n",
      "[25]\tvalidation_0-error:0.39391\tvalidation_0-logloss:0.65655\tvalidation_1-error:0.40390\tvalidation_1-logloss:0.66380\n",
      "[26]\tvalidation_0-error:0.39369\tvalidation_0-logloss:0.65636\tvalidation_1-error:0.40402\tvalidation_1-logloss:0.66382\n",
      "[27]\tvalidation_0-error:0.39297\tvalidation_0-logloss:0.65603\tvalidation_1-error:0.40377\tvalidation_1-logloss:0.66383\n",
      "[28]\tvalidation_0-error:0.39153\tvalidation_0-logloss:0.65558\tvalidation_1-error:0.40110\tvalidation_1-logloss:0.66377\n",
      "[29]\tvalidation_0-error:0.39125\tvalidation_0-logloss:0.65537\tvalidation_1-error:0.40135\tvalidation_1-logloss:0.66372\n",
      "[30]\tvalidation_0-error:0.39150\tvalidation_0-logloss:0.65514\tvalidation_1-error:0.40071\tvalidation_1-logloss:0.66370\n",
      "[31]\tvalidation_0-error:0.39081\tvalidation_0-logloss:0.65485\tvalidation_1-error:0.40020\tvalidation_1-logloss:0.66357\n",
      "[32]\tvalidation_0-error:0.39056\tvalidation_0-logloss:0.65457\tvalidation_1-error:0.40084\tvalidation_1-logloss:0.66362\n",
      "[33]\tvalidation_0-error:0.39003\tvalidation_0-logloss:0.65419\tvalidation_1-error:0.40071\tvalidation_1-logloss:0.66353\n",
      "[34]\tvalidation_0-error:0.38991\tvalidation_0-logloss:0.65397\tvalidation_1-error:0.40135\tvalidation_1-logloss:0.66360\n",
      "[35]\tvalidation_0-error:0.38963\tvalidation_0-logloss:0.65369\tvalidation_1-error:0.40160\tvalidation_1-logloss:0.66360\n",
      "[36]\tvalidation_0-error:0.38919\tvalidation_0-logloss:0.65344\tvalidation_1-error:0.40122\tvalidation_1-logloss:0.66351\n",
      "[37]\tvalidation_0-error:0.38900\tvalidation_0-logloss:0.65330\tvalidation_1-error:0.40097\tvalidation_1-logloss:0.66348\n",
      "[38]\tvalidation_0-error:0.38903\tvalidation_0-logloss:0.65319\tvalidation_1-error:0.40110\tvalidation_1-logloss:0.66351\n",
      "[39]\tvalidation_0-error:0.38856\tvalidation_0-logloss:0.65301\tvalidation_1-error:0.40211\tvalidation_1-logloss:0.66348\n",
      "[40]\tvalidation_0-error:0.38816\tvalidation_0-logloss:0.65276\tvalidation_1-error:0.40262\tvalidation_1-logloss:0.66354\n",
      "[41]\tvalidation_0-error:0.38772\tvalidation_0-logloss:0.65251\tvalidation_1-error:0.40262\tvalidation_1-logloss:0.66344\n",
      "[42]\tvalidation_0-error:0.38775\tvalidation_0-logloss:0.65234\tvalidation_1-error:0.40262\tvalidation_1-logloss:0.66348\n",
      "[43]\tvalidation_0-error:0.38706\tvalidation_0-logloss:0.65202\tvalidation_1-error:0.40339\tvalidation_1-logloss:0.66344\n",
      "[44]\tvalidation_0-error:0.38569\tvalidation_0-logloss:0.65176\tvalidation_1-error:0.40186\tvalidation_1-logloss:0.66349\n",
      "[45]\tvalidation_0-error:0.38528\tvalidation_0-logloss:0.65154\tvalidation_1-error:0.40199\tvalidation_1-logloss:0.66355\n",
      "[46]\tvalidation_0-error:0.38465\tvalidation_0-logloss:0.65132\tvalidation_1-error:0.40173\tvalidation_1-logloss:0.66356\n",
      "[47]\tvalidation_0-error:0.38506\tvalidation_0-logloss:0.65109\tvalidation_1-error:0.40250\tvalidation_1-logloss:0.66360\n",
      "[48]\tvalidation_0-error:0.38503\tvalidation_0-logloss:0.65103\tvalidation_1-error:0.40250\tvalidation_1-logloss:0.66366\n",
      "[49]\tvalidation_0-error:0.38490\tvalidation_0-logloss:0.65093\tvalidation_1-error:0.40250\tvalidation_1-logloss:0.66373\n",
      "[50]\tvalidation_0-error:0.38456\tvalidation_0-logloss:0.65075\tvalidation_1-error:0.40250\tvalidation_1-logloss:0.66382\n",
      "[51]\tvalidation_0-error:0.38443\tvalidation_0-logloss:0.65065\tvalidation_1-error:0.40275\tvalidation_1-logloss:0.66389\n",
      "[52]\tvalidation_0-error:0.38384\tvalidation_0-logloss:0.65041\tvalidation_1-error:0.40237\tvalidation_1-logloss:0.66389\n",
      "[53]\tvalidation_0-error:0.38393\tvalidation_0-logloss:0.65010\tvalidation_1-error:0.40288\tvalidation_1-logloss:0.66394\n",
      "[54]\tvalidation_0-error:0.38375\tvalidation_0-logloss:0.64994\tvalidation_1-error:0.40250\tvalidation_1-logloss:0.66406\n",
      "[55]\tvalidation_0-error:0.38350\tvalidation_0-logloss:0.64986\tvalidation_1-error:0.40262\tvalidation_1-logloss:0.66416\n",
      "[56]\tvalidation_0-error:0.38293\tvalidation_0-logloss:0.64964\tvalidation_1-error:0.40352\tvalidation_1-logloss:0.66408\n",
      "[57]\tvalidation_0-error:0.38225\tvalidation_0-logloss:0.64936\tvalidation_1-error:0.40275\tvalidation_1-logloss:0.66414\n",
      "[58]\tvalidation_0-error:0.38168\tvalidation_0-logloss:0.64908\tvalidation_1-error:0.40288\tvalidation_1-logloss:0.66414\n",
      "[59]\tvalidation_0-error:0.38162\tvalidation_0-logloss:0.64900\tvalidation_1-error:0.40262\tvalidation_1-logloss:0.66413\n",
      "[60]\tvalidation_0-error:0.38140\tvalidation_0-logloss:0.64887\tvalidation_1-error:0.40275\tvalidation_1-logloss:0.66414\n",
      "[61]\tvalidation_0-error:0.38128\tvalidation_0-logloss:0.64882\tvalidation_1-error:0.40313\tvalidation_1-logloss:0.66419\n",
      "[62]\tvalidation_0-error:0.38121\tvalidation_0-logloss:0.64870\tvalidation_1-error:0.40313\tvalidation_1-logloss:0.66433\n",
      "[63]\tvalidation_0-error:0.38115\tvalidation_0-logloss:0.64862\tvalidation_1-error:0.40313\tvalidation_1-logloss:0.66436\n",
      "[64]\tvalidation_0-error:0.38081\tvalidation_0-logloss:0.64832\tvalidation_1-error:0.40441\tvalidation_1-logloss:0.66461\n",
      "[65]\tvalidation_0-error:0.38046\tvalidation_0-logloss:0.64810\tvalidation_1-error:0.40390\tvalidation_1-logloss:0.66472\n",
      "[66]\tvalidation_0-error:0.38021\tvalidation_0-logloss:0.64796\tvalidation_1-error:0.40428\tvalidation_1-logloss:0.66489\n",
      "[67]\tvalidation_0-error:0.37968\tvalidation_0-logloss:0.64764\tvalidation_1-error:0.40517\tvalidation_1-logloss:0.66511\n",
      "[68]\tvalidation_0-error:0.37981\tvalidation_0-logloss:0.64739\tvalidation_1-error:0.40390\tvalidation_1-logloss:0.66521\n",
      "[69]\tvalidation_0-error:0.37943\tvalidation_0-logloss:0.64718\tvalidation_1-error:0.40390\tvalidation_1-logloss:0.66511\n",
      "[70]\tvalidation_0-error:0.37934\tvalidation_0-logloss:0.64703\tvalidation_1-error:0.40415\tvalidation_1-logloss:0.66517\n",
      "[71]\tvalidation_0-error:0.37918\tvalidation_0-logloss:0.64681\tvalidation_1-error:0.40492\tvalidation_1-logloss:0.66546\n",
      "[72]\tvalidation_0-error:0.37849\tvalidation_0-logloss:0.64661\tvalidation_1-error:0.40441\tvalidation_1-logloss:0.66551\n",
      "[73]\tvalidation_0-error:0.37853\tvalidation_0-logloss:0.64646\tvalidation_1-error:0.40402\tvalidation_1-logloss:0.66553\n",
      "[74]\tvalidation_0-error:0.37843\tvalidation_0-logloss:0.64638\tvalidation_1-error:0.40402\tvalidation_1-logloss:0.66555\n",
      "[75]\tvalidation_0-error:0.37821\tvalidation_0-logloss:0.64618\tvalidation_1-error:0.40441\tvalidation_1-logloss:0.66559\n",
      "[76]\tvalidation_0-error:0.37806\tvalidation_0-logloss:0.64594\tvalidation_1-error:0.40466\tvalidation_1-logloss:0.66551\n",
      "[77]\tvalidation_0-error:0.37806\tvalidation_0-logloss:0.64589\tvalidation_1-error:0.40453\tvalidation_1-logloss:0.66550\n",
      "[78]\tvalidation_0-error:0.37803\tvalidation_0-logloss:0.64586\tvalidation_1-error:0.40466\tvalidation_1-logloss:0.66552\n",
      "[79]\tvalidation_0-error:0.37727\tvalidation_0-logloss:0.64561\tvalidation_1-error:0.40543\tvalidation_1-logloss:0.66543\n",
      "[80]\tvalidation_0-error:0.37702\tvalidation_0-logloss:0.64535\tvalidation_1-error:0.40530\tvalidation_1-logloss:0.66530\n",
      "[81]\tvalidation_0-error:0.37665\tvalidation_0-logloss:0.64520\tvalidation_1-error:0.40568\tvalidation_1-logloss:0.66543\n",
      "[82]\tvalidation_0-error:0.37659\tvalidation_0-logloss:0.64501\tvalidation_1-error:0.40632\tvalidation_1-logloss:0.66547\n",
      "[83]\tvalidation_0-error:0.37634\tvalidation_0-logloss:0.64490\tvalidation_1-error:0.40645\tvalidation_1-logloss:0.66551\n",
      "[84]\tvalidation_0-error:0.37618\tvalidation_0-logloss:0.64474\tvalidation_1-error:0.40645\tvalidation_1-logloss:0.66564\n",
      "[85]\tvalidation_0-error:0.37637\tvalidation_0-logloss:0.64467\tvalidation_1-error:0.40645\tvalidation_1-logloss:0.66564\n",
      "[86]\tvalidation_0-error:0.37590\tvalidation_0-logloss:0.64453\tvalidation_1-error:0.40657\tvalidation_1-logloss:0.66562\n",
      "[87]\tvalidation_0-error:0.37587\tvalidation_0-logloss:0.64436\tvalidation_1-error:0.40645\tvalidation_1-logloss:0.66566\n",
      "[88]\tvalidation_0-error:0.37568\tvalidation_0-logloss:0.64417\tvalidation_1-error:0.40632\tvalidation_1-logloss:0.66574\n",
      "[89]\tvalidation_0-error:0.37552\tvalidation_0-logloss:0.64408\tvalidation_1-error:0.40645\tvalidation_1-logloss:0.66575\n",
      "[90]\tvalidation_0-error:0.37549\tvalidation_0-logloss:0.64386\tvalidation_1-error:0.40594\tvalidation_1-logloss:0.66603\n",
      "[91]\tvalidation_0-error:0.37530\tvalidation_0-logloss:0.64365\tvalidation_1-error:0.40645\tvalidation_1-logloss:0.66615\n",
      "[92]\tvalidation_0-error:0.37549\tvalidation_0-logloss:0.64340\tvalidation_1-error:0.40670\tvalidation_1-logloss:0.66612\n",
      "[93]\tvalidation_0-error:0.37502\tvalidation_0-logloss:0.64320\tvalidation_1-error:0.40606\tvalidation_1-logloss:0.66603\n",
      "[94]\tvalidation_0-error:0.37430\tvalidation_0-logloss:0.64285\tvalidation_1-error:0.40568\tvalidation_1-logloss:0.66596\n",
      "[95]\tvalidation_0-error:0.37393\tvalidation_0-logloss:0.64266\tvalidation_1-error:0.40606\tvalidation_1-logloss:0.66608\n",
      "[96]\tvalidation_0-error:0.37421\tvalidation_0-logloss:0.64248\tvalidation_1-error:0.40555\tvalidation_1-logloss:0.66621\n",
      "[97]\tvalidation_0-error:0.37349\tvalidation_0-logloss:0.64222\tvalidation_1-error:0.40797\tvalidation_1-logloss:0.66620\n",
      "[98]\tvalidation_0-error:0.37346\tvalidation_0-logloss:0.64218\tvalidation_1-error:0.40797\tvalidation_1-logloss:0.66617\n",
      "[99]\tvalidation_0-error:0.37352\tvalidation_0-logloss:0.64199\tvalidation_1-error:0.40683\tvalidation_1-logloss:0.66604\n",
      "0.5931728442236658\n"
     ]
    },
    {
     "data": {
      "text/plain": [
       "<matplotlib.legend.Legend at 0x104578730>"
      ]
     },
     "execution_count": 34,
     "metadata": {},
     "output_type": "execute_result"
    },
    {
     "data": {
      "image/png": "[encoded data removed]",
      "text/plain": [
       "<Figure size 640x480 with 1 Axes>"
      ]
     },
     "metadata": {},
     "output_type": "display_data"
    }
   ],
   "source": [
    "import xgboost as xgb\n",
    "xgb_model = xgb.XGBClassifier(booster = 'dart', eta = 0.3, max_depth = 3, objective=\"binary:logistic\")\n",
    "eval_set = [(train_X, train_Y), (test_X, test_Y)]\n",
    "xgb_model.fit(train_X, train_Y, eval_set=eval_set, eval_metric=[\"error\", \"logloss\"])\n",
    "y_pred = xgb_model.predict(test_X)\n",
    "acc = accuracy_score(test_Y, y_pred)\n",
    "print(acc)\n",
    "\n",
    "import matplotlib.pyplot as plt\n",
    "results = xgb_model.evals_result()\n",
    "epochs = len(results['validation_0']['error'])\n",
    "x_axis = range(0, epochs)\n",
    "# plot log loss\n",
    "fig, ax = plt.subplots()\n",
    "ax.plot(x_axis, results['validation_0']['logloss'], label='Train')\n",
    "ax.plot(x_axis, results['validation_1']['logloss'], label='Test')\n",
    "ax.legend()"
   ]
  },
  {
   "cell_type": "markdown",
   "metadata": {},
   "source": [
    "Testing log loss is increasing in test after sometime, which might be because of overfitting and so we'll reduce learning rate and max_depth from 0.3 and 3 respectively to may be 0.05 and 2"
   ]
  },
  {
   "cell_type": "code",
   "execution_count": 50,
   "metadata": {},
   "outputs": [
    {
     "name": "stdout",
     "output_type": "stream",
     "text": [
      "[0]\tvalidation_0-error:0.41817\tvalidation_0-logloss:0.69132\tvalidation_1-error:0.41485\tvalidation_1-logloss:0.69142\n",
      "[1]\tvalidation_0-error:0.41817\tvalidation_0-logloss:0.68965\tvalidation_1-error:0.41485\tvalidation_1-logloss:0.68974\n",
      "[2]\tvalidation_0-error:0.41817\tvalidation_0-logloss:0.68815\tvalidation_1-error:0.41485\tvalidation_1-logloss:0.68834\n",
      "[3]\tvalidation_0-error:0.41817\tvalidation_0-logloss:0.68678\tvalidation_1-error:0.41485\tvalidation_1-logloss:0.68695\n",
      "[4]\tvalidation_0-error:0.41817\tvalidation_0-logloss:0.68554\tvalidation_1-error:0.41485\tvalidation_1-logloss:0.68569\n",
      "[5]\tvalidation_0-error:0.41817\tvalidation_0-logloss:0.68441\tvalidation_1-error:0.41485\tvalidation_1-logloss:0.68464\n",
      "[6]\tvalidation_0-error:0.41817\tvalidation_0-logloss:0.68338\tvalidation_1-error:0.41485\tvalidation_1-logloss:0.68354\n",
      "[7]\tvalidation_0-error:0.41817\tvalidation_0-logloss:0.68243\tvalidation_1-error:0.41485\tvalidation_1-logloss:0.68267\n",
      "[8]\tvalidation_0-error:0.41392\tvalidation_0-logloss:0.68156\tvalidation_1-error:0.41039\tvalidation_1-logloss:0.68173\n",
      "[9]\tvalidation_0-error:0.41811\tvalidation_0-logloss:0.68076\tvalidation_1-error:0.41485\tvalidation_1-logloss:0.68100\n",
      "[10]\tvalidation_0-error:0.41392\tvalidation_0-logloss:0.68003\tvalidation_1-error:0.41039\tvalidation_1-logloss:0.68020\n",
      "[11]\tvalidation_0-error:0.41392\tvalidation_0-logloss:0.67935\tvalidation_1-error:0.41039\tvalidation_1-logloss:0.67960\n",
      "[12]\tvalidation_0-error:0.41392\tvalidation_0-logloss:0.67873\tvalidation_1-error:0.41039\tvalidation_1-logloss:0.67897\n",
      "[13]\tvalidation_0-error:0.41392\tvalidation_0-logloss:0.67816\tvalidation_1-error:0.41039\tvalidation_1-logloss:0.67842\n",
      "[14]\tvalidation_0-error:0.41392\tvalidation_0-logloss:0.67764\tvalidation_1-error:0.41039\tvalidation_1-logloss:0.67788\n",
      "[15]\tvalidation_0-error:0.41392\tvalidation_0-logloss:0.67716\tvalidation_1-error:0.41039\tvalidation_1-logloss:0.67741\n",
      "[16]\tvalidation_0-error:0.41380\tvalidation_0-logloss:0.67659\tvalidation_1-error:0.41027\tvalidation_1-logloss:0.67687\n"
     ]
    },
    {
     "name": "stderr",
     "output_type": "stream",
     "text": [
      "/Users/yamini/Library/Python/3.8/lib/python/site-packages/xgboost/sklearn.py:793: UserWarning: `eval_metric` in `fit` method is deprecated for better compatibility with scikit-learn, use `eval_metric` in constructor or`set_params` instead.\n",
      "  warnings.warn(\n"
     ]
    },
    {
     "name": "stdout",
     "output_type": "stream",
     "text": [
      "[17]\tvalidation_0-error:0.41380\tvalidation_0-logloss:0.67617\tvalidation_1-error:0.41027\tvalidation_1-logloss:0.67647\n",
      "[18]\tvalidation_0-error:0.41367\tvalidation_0-logloss:0.67566\tvalidation_1-error:0.41052\tvalidation_1-logloss:0.67598\n",
      "[19]\tvalidation_0-error:0.41401\tvalidation_0-logloss:0.67530\tvalidation_1-error:0.41039\tvalidation_1-logloss:0.67562\n",
      "[20]\tvalidation_0-error:0.41401\tvalidation_0-logloss:0.67485\tvalidation_1-error:0.41039\tvalidation_1-logloss:0.67521\n",
      "[21]\tvalidation_0-error:0.41401\tvalidation_0-logloss:0.67453\tvalidation_1-error:0.41039\tvalidation_1-logloss:0.67490\n",
      "[22]\tvalidation_0-error:0.41401\tvalidation_0-logloss:0.67418\tvalidation_1-error:0.41039\tvalidation_1-logloss:0.67459\n",
      "[23]\tvalidation_0-error:0.41367\tvalidation_0-logloss:0.67389\tvalidation_1-error:0.41052\tvalidation_1-logloss:0.67429\n",
      "[24]\tvalidation_0-error:0.41367\tvalidation_0-logloss:0.67353\tvalidation_1-error:0.41052\tvalidation_1-logloss:0.67394\n",
      "[25]\tvalidation_0-error:0.41367\tvalidation_0-logloss:0.67327\tvalidation_1-error:0.41052\tvalidation_1-logloss:0.67367\n",
      "[26]\tvalidation_0-error:0.41367\tvalidation_0-logloss:0.67294\tvalidation_1-error:0.41052\tvalidation_1-logloss:0.67332\n",
      "[27]\tvalidation_0-error:0.41367\tvalidation_0-logloss:0.67268\tvalidation_1-error:0.41052\tvalidation_1-logloss:0.67309\n",
      "[28]\tvalidation_0-error:0.41367\tvalidation_0-logloss:0.67245\tvalidation_1-error:0.41052\tvalidation_1-logloss:0.67289\n",
      "[29]\tvalidation_0-error:0.41364\tvalidation_0-logloss:0.67217\tvalidation_1-error:0.41052\tvalidation_1-logloss:0.67256\n",
      "[30]\tvalidation_0-error:0.41364\tvalidation_0-logloss:0.67194\tvalidation_1-error:0.41052\tvalidation_1-logloss:0.67241\n",
      "[31]\tvalidation_0-error:0.41364\tvalidation_0-logloss:0.67172\tvalidation_1-error:0.41052\tvalidation_1-logloss:0.67222\n",
      "[32]\tvalidation_0-error:0.41367\tvalidation_0-logloss:0.67151\tvalidation_1-error:0.41052\tvalidation_1-logloss:0.67209\n",
      "[33]\tvalidation_0-error:0.41336\tvalidation_0-logloss:0.67127\tvalidation_1-error:0.41014\tvalidation_1-logloss:0.67185\n",
      "[34]\tvalidation_0-error:0.41333\tvalidation_0-logloss:0.67109\tvalidation_1-error:0.41014\tvalidation_1-logloss:0.67174\n",
      "[35]\tvalidation_0-error:0.41336\tvalidation_0-logloss:0.67089\tvalidation_1-error:0.41014\tvalidation_1-logloss:0.67153\n",
      "[36]\tvalidation_0-error:0.41336\tvalidation_0-logloss:0.67067\tvalidation_1-error:0.41014\tvalidation_1-logloss:0.67126\n",
      "[37]\tvalidation_0-error:0.41311\tvalidation_0-logloss:0.67050\tvalidation_1-error:0.40988\tvalidation_1-logloss:0.67116\n",
      "[38]\tvalidation_0-error:0.41311\tvalidation_0-logloss:0.67032\tvalidation_1-error:0.40976\tvalidation_1-logloss:0.67100\n",
      "[39]\tvalidation_0-error:0.41308\tvalidation_0-logloss:0.67016\tvalidation_1-error:0.40988\tvalidation_1-logloss:0.67086\n",
      "[40]\tvalidation_0-error:0.41304\tvalidation_0-logloss:0.67001\tvalidation_1-error:0.40963\tvalidation_1-logloss:0.67076\n",
      "[41]\tvalidation_0-error:0.41304\tvalidation_0-logloss:0.66988\tvalidation_1-error:0.40950\tvalidation_1-logloss:0.67067\n",
      "[42]\tvalidation_0-error:0.41311\tvalidation_0-logloss:0.66969\tvalidation_1-error:0.40950\tvalidation_1-logloss:0.67046\n",
      "[43]\tvalidation_0-error:0.41304\tvalidation_0-logloss:0.66955\tvalidation_1-error:0.40925\tvalidation_1-logloss:0.67034\n",
      "[44]\tvalidation_0-error:0.41304\tvalidation_0-logloss:0.66943\tvalidation_1-error:0.40925\tvalidation_1-logloss:0.67026\n",
      "[45]\tvalidation_0-error:0.41304\tvalidation_0-logloss:0.66928\tvalidation_1-error:0.40950\tvalidation_1-logloss:0.67010\n",
      "[46]\tvalidation_0-error:0.41301\tvalidation_0-logloss:0.66916\tvalidation_1-error:0.40937\tvalidation_1-logloss:0.67000\n",
      "[47]\tvalidation_0-error:0.41292\tvalidation_0-logloss:0.66902\tvalidation_1-error:0.40950\tvalidation_1-logloss:0.66987\n",
      "[48]\tvalidation_0-error:0.41295\tvalidation_0-logloss:0.66891\tvalidation_1-error:0.40950\tvalidation_1-logloss:0.66982\n",
      "[49]\tvalidation_0-error:0.41295\tvalidation_0-logloss:0.66878\tvalidation_1-error:0.40950\tvalidation_1-logloss:0.66973\n",
      "[50]\tvalidation_0-error:0.41298\tvalidation_0-logloss:0.66862\tvalidation_1-error:0.40950\tvalidation_1-logloss:0.66953\n",
      "[51]\tvalidation_0-error:0.41301\tvalidation_0-logloss:0.66850\tvalidation_1-error:0.40950\tvalidation_1-logloss:0.66941\n",
      "[52]\tvalidation_0-error:0.41276\tvalidation_0-logloss:0.66840\tvalidation_1-error:0.40963\tvalidation_1-logloss:0.66937\n",
      "[53]\tvalidation_0-error:0.41273\tvalidation_0-logloss:0.66830\tvalidation_1-error:0.40963\tvalidation_1-logloss:0.66932\n",
      "[54]\tvalidation_0-error:0.41279\tvalidation_0-logloss:0.66815\tvalidation_1-error:0.40963\tvalidation_1-logloss:0.66914\n",
      "[55]\tvalidation_0-error:0.41179\tvalidation_0-logloss:0.66805\tvalidation_1-error:0.40848\tvalidation_1-logloss:0.66906\n",
      "[56]\tvalidation_0-error:0.41158\tvalidation_0-logloss:0.66795\tvalidation_1-error:0.40874\tvalidation_1-logloss:0.66903\n",
      "[57]\tvalidation_0-error:0.41158\tvalidation_0-logloss:0.66785\tvalidation_1-error:0.40887\tvalidation_1-logloss:0.66890\n",
      "[58]\tvalidation_0-error:0.41154\tvalidation_0-logloss:0.66776\tvalidation_1-error:0.40848\tvalidation_1-logloss:0.66887\n",
      "[59]\tvalidation_0-error:0.41158\tvalidation_0-logloss:0.66765\tvalidation_1-error:0.40836\tvalidation_1-logloss:0.66883\n",
      "[60]\tvalidation_0-error:0.41029\tvalidation_0-logloss:0.66755\tvalidation_1-error:0.40695\tvalidation_1-logloss:0.66872\n",
      "[61]\tvalidation_0-error:0.40989\tvalidation_0-logloss:0.66743\tvalidation_1-error:0.40619\tvalidation_1-logloss:0.66866\n",
      "[62]\tvalidation_0-error:0.40889\tvalidation_0-logloss:0.66733\tvalidation_1-error:0.40428\tvalidation_1-logloss:0.66856\n",
      "[63]\tvalidation_0-error:0.40885\tvalidation_0-logloss:0.66725\tvalidation_1-error:0.40428\tvalidation_1-logloss:0.66854\n",
      "[64]\tvalidation_0-error:0.40885\tvalidation_0-logloss:0.66715\tvalidation_1-error:0.40428\tvalidation_1-logloss:0.66846\n",
      "[65]\tvalidation_0-error:0.40885\tvalidation_0-logloss:0.66708\tvalidation_1-error:0.40428\tvalidation_1-logloss:0.66844\n",
      "[66]\tvalidation_0-error:0.40936\tvalidation_0-logloss:0.66700\tvalidation_1-error:0.40466\tvalidation_1-logloss:0.66838\n",
      "[67]\tvalidation_0-error:0.40885\tvalidation_0-logloss:0.66691\tvalidation_1-error:0.40402\tvalidation_1-logloss:0.66837\n",
      "[68]\tvalidation_0-error:0.40882\tvalidation_0-logloss:0.66685\tvalidation_1-error:0.40402\tvalidation_1-logloss:0.66835\n",
      "[69]\tvalidation_0-error:0.40879\tvalidation_0-logloss:0.66676\tvalidation_1-error:0.40390\tvalidation_1-logloss:0.66824\n",
      "[70]\tvalidation_0-error:0.40767\tvalidation_0-logloss:0.66667\tvalidation_1-error:0.40415\tvalidation_1-logloss:0.66819\n",
      "[71]\tvalidation_0-error:0.40714\tvalidation_0-logloss:0.66657\tvalidation_1-error:0.40275\tvalidation_1-logloss:0.66811\n",
      "[72]\tvalidation_0-error:0.40695\tvalidation_0-logloss:0.66651\tvalidation_1-error:0.40326\tvalidation_1-logloss:0.66808\n",
      "[73]\tvalidation_0-error:0.40692\tvalidation_0-logloss:0.66645\tvalidation_1-error:0.40313\tvalidation_1-logloss:0.66808\n",
      "[74]\tvalidation_0-error:0.40689\tvalidation_0-logloss:0.66637\tvalidation_1-error:0.40313\tvalidation_1-logloss:0.66806\n",
      "[75]\tvalidation_0-error:0.40645\tvalidation_0-logloss:0.66630\tvalidation_1-error:0.40402\tvalidation_1-logloss:0.66799\n",
      "[76]\tvalidation_0-error:0.40645\tvalidation_0-logloss:0.66625\tvalidation_1-error:0.40415\tvalidation_1-logloss:0.66798\n",
      "[77]\tvalidation_0-error:0.40645\tvalidation_0-logloss:0.66618\tvalidation_1-error:0.40428\tvalidation_1-logloss:0.66793\n",
      "[78]\tvalidation_0-error:0.40642\tvalidation_0-logloss:0.66612\tvalidation_1-error:0.40441\tvalidation_1-logloss:0.66789\n",
      "[79]\tvalidation_0-error:0.40642\tvalidation_0-logloss:0.66605\tvalidation_1-error:0.40402\tvalidation_1-logloss:0.66786\n",
      "[80]\tvalidation_0-error:0.40673\tvalidation_0-logloss:0.66600\tvalidation_1-error:0.40402\tvalidation_1-logloss:0.66782\n",
      "[81]\tvalidation_0-error:0.40682\tvalidation_0-logloss:0.66593\tvalidation_1-error:0.40441\tvalidation_1-logloss:0.66775\n",
      "[82]\tvalidation_0-error:0.40673\tvalidation_0-logloss:0.66586\tvalidation_1-error:0.40402\tvalidation_1-logloss:0.66770\n",
      "[83]\tvalidation_0-error:0.40576\tvalidation_0-logloss:0.66576\tvalidation_1-error:0.40339\tvalidation_1-logloss:0.66756\n",
      "[84]\tvalidation_0-error:0.40607\tvalidation_0-logloss:0.66572\tvalidation_1-error:0.40377\tvalidation_1-logloss:0.66752\n",
      "[85]\tvalidation_0-error:0.40604\tvalidation_0-logloss:0.66565\tvalidation_1-error:0.40364\tvalidation_1-logloss:0.66751\n",
      "[86]\tvalidation_0-error:0.40526\tvalidation_0-logloss:0.66559\tvalidation_1-error:0.40262\tvalidation_1-logloss:0.66747\n",
      "[87]\tvalidation_0-error:0.40492\tvalidation_0-logloss:0.66553\tvalidation_1-error:0.40237\tvalidation_1-logloss:0.66738\n",
      "[88]\tvalidation_0-error:0.40476\tvalidation_0-logloss:0.66546\tvalidation_1-error:0.40211\tvalidation_1-logloss:0.66735\n",
      "[89]\tvalidation_0-error:0.40457\tvalidation_0-logloss:0.66542\tvalidation_1-error:0.40224\tvalidation_1-logloss:0.66732\n",
      "[90]\tvalidation_0-error:0.40432\tvalidation_0-logloss:0.66535\tvalidation_1-error:0.40262\tvalidation_1-logloss:0.66725\n",
      "[91]\tvalidation_0-error:0.40432\tvalidation_0-logloss:0.66529\tvalidation_1-error:0.40250\tvalidation_1-logloss:0.66725\n",
      "[92]\tvalidation_0-error:0.40435\tvalidation_0-logloss:0.66523\tvalidation_1-error:0.40262\tvalidation_1-logloss:0.66719\n",
      "[93]\tvalidation_0-error:0.40441\tvalidation_0-logloss:0.66517\tvalidation_1-error:0.40262\tvalidation_1-logloss:0.66716\n",
      "[94]\tvalidation_0-error:0.40441\tvalidation_0-logloss:0.66514\tvalidation_1-error:0.40211\tvalidation_1-logloss:0.66717\n",
      "[95]\tvalidation_0-error:0.40438\tvalidation_0-logloss:0.66509\tvalidation_1-error:0.40339\tvalidation_1-logloss:0.66715\n",
      "[96]\tvalidation_0-error:0.40445\tvalidation_0-logloss:0.66504\tvalidation_1-error:0.40352\tvalidation_1-logloss:0.66713\n",
      "[97]\tvalidation_0-error:0.40420\tvalidation_0-logloss:0.66499\tvalidation_1-error:0.40402\tvalidation_1-logloss:0.66710\n",
      "[98]\tvalidation_0-error:0.40363\tvalidation_0-logloss:0.66493\tvalidation_1-error:0.40377\tvalidation_1-logloss:0.66706\n",
      "[99]\tvalidation_0-error:0.40316\tvalidation_0-logloss:0.66481\tvalidation_1-error:0.40313\tvalidation_1-logloss:0.66699\n",
      "0.5968666411922048\n"
     ]
    },
    {
     "data": {
      "text/plain": [
       "<matplotlib.legend.Legend at 0x17b8a3880>"
      ]
     },
     "execution_count": 50,
     "metadata": {},
     "output_type": "execute_result"
    },
    {
     "data": {
      "image/png": "[encoded data removed]",
      "text/plain": [
       "<Figure size 640x480 with 1 Axes>"
      ]
     },
     "metadata": {},
     "output_type": "display_data"
    }
   ],
   "source": [
    "import xgboost as xgb\n",
    "xgb_model = xgb.XGBClassifier(booster = 'dart', eta = 0.05, max_depth = 2, objective=\"binary:logistic\")\n",
    "eval_set = [(train_X, train_Y), (test_X, test_Y)]\n",
    "xgb_model.fit(train_X, train_Y, eval_set=eval_set, eval_metric=[\"error\", \"logloss\"])\n",
    "y_pred = xgb_model.predict(test_X)\n",
    "acc = accuracy_score(test_Y, y_pred)\n",
    "print(acc)\n",
    "\n",
    "import matplotlib.pyplot as plt\n",
    "results = xgb_model.evals_result()\n",
    "epochs = len(results['validation_0']['error'])\n",
    "x_axis = range(0, epochs)\n",
    "# plot log loss\n",
    "fig, ax = plt.subplots()\n",
    "ax.plot(x_axis, results['validation_0']['logloss'], label='Train')\n",
    "ax.plot(x_axis, results['validation_1']['logloss'], label='Test')\n",
    "ax.legend()\n",
    "\n"
   ]
  },
  {
   "cell_type": "code",
   "execution_count": null,
   "metadata": {},
   "outputs": [],
   "source": []
  },
  {
   "cell_type": "markdown",
   "metadata": {},
   "source": [
    "Learning rate parameters vs accuracy"
   ]
  },
  {
   "cell_type": "code",
   "execution_count": 54,
   "metadata": {},
   "outputs": [
    {
     "data": {
      "image/png": "[encoded data removed]",
      "text/plain": [
       "<Figure size 640x480 with 1 Axes>"
      ]
     },
     "metadata": {},
     "output_type": "display_data"
    }
   ],
   "source": [
    "def plot_lr_vs_acc(train_X, train_Y, test_X, test_Y):    \n",
    "    acc_lis = []\n",
    "    eta =[]\n",
    "    for i in range(1,50,5):\n",
    "        xgb_model = xgb.XGBClassifier(booster = 'dart', eta = i/100, max_depth = 2, objective=\"binary:logistic\")\n",
    "        xgb_model.fit(train_X, train_Y)\n",
    "        y_pred = xgb_model.predict(test_X)\n",
    "        acc = accuracy_score(test_Y, y_pred)\n",
    "        eta.append(i/100)\n",
    "        acc_lis.append(acc)\n",
    "        \n",
    "    plt.plot(eta, acc_lis)\n",
    "    plt.xlabel(\"Learning_Rate\")\n",
    "    plt.ylabel(\"Accuracy\")\n",
    "    plt.show()\n",
    "    \n",
    "plot_lr_vs_acc(train_X, train_Y, test_X, test_Y)   "
   ]
  },
  {
   "cell_type": "markdown",
   "metadata": {},
   "source": [
    "Learning rate is peaking at 0.15 so trying that and checking"
   ]
  },
  {
   "cell_type": "code",
   "execution_count": 53,
   "metadata": {
    "collapsed": true,
    "jupyter": {
     "outputs_hidden": true
    },
    "tags": []
   },
   "outputs": [
    {
     "name": "stdout",
     "output_type": "stream",
     "text": [
      "[0]\tvalidation_0-error:0.41817\tvalidation_0-logloss:0.68609\tvalidation_1-error:0.41485\tvalidation_1-logloss:0.68652\n",
      "[1]\tvalidation_0-error:0.41827\tvalidation_0-logloss:0.68147\tvalidation_1-error:0.41485\tvalidation_1-logloss:0.68179\n",
      "[2]\tvalidation_0-error:0.41395\tvalidation_0-logloss:0.67837\tvalidation_1-error:0.41039\tvalidation_1-logloss:0.67837\n",
      "[3]\tvalidation_0-error:0.41398\tvalidation_0-logloss:0.67595\tvalidation_1-error:0.41039\tvalidation_1-logloss:0.67615\n",
      "[4]\tvalidation_0-error:0.41355\tvalidation_0-logloss:0.67420\tvalidation_1-error:0.41052\tvalidation_1-logloss:0.67450\n",
      "[5]\tvalidation_0-error:0.41364\tvalidation_0-logloss:0.67280\tvalidation_1-error:0.41052\tvalidation_1-logloss:0.67299\n",
      "[6]\tvalidation_0-error:0.41311\tvalidation_0-logloss:0.67178\tvalidation_1-error:0.41001\tvalidation_1-logloss:0.67232\n",
      "[7]\tvalidation_0-error:0.41314\tvalidation_0-logloss:0.67084\tvalidation_1-error:0.41001\tvalidation_1-logloss:0.67130\n",
      "[8]\tvalidation_0-error:0.41289\tvalidation_0-logloss:0.67003\tvalidation_1-error:0.40988\tvalidation_1-logloss:0.67056\n",
      "[9]\tvalidation_0-error:0.41261\tvalidation_0-logloss:0.66937\tvalidation_1-error:0.40963\tvalidation_1-logloss:0.67021\n",
      "[10]\tvalidation_0-error:0.41308\tvalidation_0-logloss:0.66868\tvalidation_1-error:0.40899\tvalidation_1-logloss:0.66950\n",
      "[11]\tvalidation_0-error:0.41279\tvalidation_0-logloss:0.66809\tvalidation_1-error:0.40874\tvalidation_1-logloss:0.66917\n",
      "[12]\tvalidation_0-error:0.41226\tvalidation_0-logloss:0.66769\tvalidation_1-error:0.40912\tvalidation_1-logloss:0.66901\n",
      "[13]\tvalidation_0-error:0.41029\tvalidation_0-logloss:0.66719\tvalidation_1-error:0.40632\tvalidation_1-logloss:0.66869\n",
      "[14]\tvalidation_0-error:0.40576\tvalidation_0-logloss:0.66679\tvalidation_1-error:0.40135\tvalidation_1-logloss:0.66826\n",
      "[15]\tvalidation_0-error:0.40820\tvalidation_0-logloss:0.66652\tvalidation_1-error:0.40441\tvalidation_1-logloss:0.66820\n",
      "[16]\tvalidation_0-error:0.40826\tvalidation_0-logloss:0.66620\tvalidation_1-error:0.40415\tvalidation_1-logloss:0.66819\n"
     ]
    },
    {
     "name": "stderr",
     "output_type": "stream",
     "text": [
      "/Users/yamini/Library/Python/3.8/lib/python/site-packages/xgboost/sklearn.py:793: UserWarning: `eval_metric` in `fit` method is deprecated for better compatibility with scikit-learn, use `eval_metric` in constructor or`set_params` instead.\n",
      "  warnings.warn(\n"
     ]
    },
    {
     "name": "stdout",
     "output_type": "stream",
     "text": [
      "[17]\tvalidation_0-error:0.40632\tvalidation_0-logloss:0.66590\tvalidation_1-error:0.40530\tvalidation_1-logloss:0.66790\n",
      "[18]\tvalidation_0-error:0.40404\tvalidation_0-logloss:0.66553\tvalidation_1-error:0.40415\tvalidation_1-logloss:0.66758\n",
      "[19]\tvalidation_0-error:0.40492\tvalidation_0-logloss:0.66534\tvalidation_1-error:0.40453\tvalidation_1-logloss:0.66755\n",
      "[20]\tvalidation_0-error:0.40463\tvalidation_0-logloss:0.66510\tvalidation_1-error:0.40466\tvalidation_1-logloss:0.66748\n",
      "[21]\tvalidation_0-error:0.40401\tvalidation_0-logloss:0.66488\tvalidation_1-error:0.40479\tvalidation_1-logloss:0.66744\n",
      "[22]\tvalidation_0-error:0.40351\tvalidation_0-logloss:0.66464\tvalidation_1-error:0.40466\tvalidation_1-logloss:0.66724\n",
      "[23]\tvalidation_0-error:0.40341\tvalidation_0-logloss:0.66444\tvalidation_1-error:0.40479\tvalidation_1-logloss:0.66707\n",
      "[24]\tvalidation_0-error:0.40151\tvalidation_0-logloss:0.66406\tvalidation_1-error:0.40479\tvalidation_1-logloss:0.66690\n",
      "[25]\tvalidation_0-error:0.40129\tvalidation_0-logloss:0.66392\tvalidation_1-error:0.40466\tvalidation_1-logloss:0.66683\n",
      "[26]\tvalidation_0-error:0.40138\tvalidation_0-logloss:0.66371\tvalidation_1-error:0.40441\tvalidation_1-logloss:0.66675\n",
      "[27]\tvalidation_0-error:0.40185\tvalidation_0-logloss:0.66354\tvalidation_1-error:0.40390\tvalidation_1-logloss:0.66658\n",
      "[28]\tvalidation_0-error:0.40157\tvalidation_0-logloss:0.66334\tvalidation_1-error:0.40326\tvalidation_1-logloss:0.66637\n",
      "[29]\tvalidation_0-error:0.40185\tvalidation_0-logloss:0.66316\tvalidation_1-error:0.40237\tvalidation_1-logloss:0.66622\n",
      "[30]\tvalidation_0-error:0.40063\tvalidation_0-logloss:0.66291\tvalidation_1-error:0.40199\tvalidation_1-logloss:0.66591\n",
      "[31]\tvalidation_0-error:0.39991\tvalidation_0-logloss:0.66273\tvalidation_1-error:0.40211\tvalidation_1-logloss:0.66580\n",
      "[32]\tvalidation_0-error:0.39979\tvalidation_0-logloss:0.66261\tvalidation_1-error:0.40071\tvalidation_1-logloss:0.66573\n",
      "[33]\tvalidation_0-error:0.39985\tvalidation_0-logloss:0.66252\tvalidation_1-error:0.40160\tvalidation_1-logloss:0.66579\n",
      "[34]\tvalidation_0-error:0.39969\tvalidation_0-logloss:0.66244\tvalidation_1-error:0.40160\tvalidation_1-logloss:0.66575\n",
      "[35]\tvalidation_0-error:0.40004\tvalidation_0-logloss:0.66230\tvalidation_1-error:0.40211\tvalidation_1-logloss:0.66582\n",
      "[36]\tvalidation_0-error:0.39982\tvalidation_0-logloss:0.66218\tvalidation_1-error:0.40326\tvalidation_1-logloss:0.66577\n",
      "[37]\tvalidation_0-error:0.39922\tvalidation_0-logloss:0.66204\tvalidation_1-error:0.40390\tvalidation_1-logloss:0.66563\n",
      "[38]\tvalidation_0-error:0.39835\tvalidation_0-logloss:0.66189\tvalidation_1-error:0.40352\tvalidation_1-logloss:0.66545\n",
      "[39]\tvalidation_0-error:0.39822\tvalidation_0-logloss:0.66181\tvalidation_1-error:0.40326\tvalidation_1-logloss:0.66546\n",
      "[40]\tvalidation_0-error:0.39826\tvalidation_0-logloss:0.66169\tvalidation_1-error:0.40224\tvalidation_1-logloss:0.66540\n",
      "[41]\tvalidation_0-error:0.39750\tvalidation_0-logloss:0.66152\tvalidation_1-error:0.40084\tvalidation_1-logloss:0.66521\n",
      "[42]\tvalidation_0-error:0.39679\tvalidation_0-logloss:0.66140\tvalidation_1-error:0.40110\tvalidation_1-logloss:0.66514\n",
      "[43]\tvalidation_0-error:0.39722\tvalidation_0-logloss:0.66131\tvalidation_1-error:0.40160\tvalidation_1-logloss:0.66519\n",
      "[44]\tvalidation_0-error:0.39688\tvalidation_0-logloss:0.66111\tvalidation_1-error:0.40224\tvalidation_1-logloss:0.66512\n",
      "[45]\tvalidation_0-error:0.39675\tvalidation_0-logloss:0.66099\tvalidation_1-error:0.40352\tvalidation_1-logloss:0.66510\n",
      "[46]\tvalidation_0-error:0.39682\tvalidation_0-logloss:0.66093\tvalidation_1-error:0.40339\tvalidation_1-logloss:0.66508\n",
      "[47]\tvalidation_0-error:0.39700\tvalidation_0-logloss:0.66083\tvalidation_1-error:0.40390\tvalidation_1-logloss:0.66508\n",
      "[48]\tvalidation_0-error:0.39669\tvalidation_0-logloss:0.66078\tvalidation_1-error:0.40339\tvalidation_1-logloss:0.66511\n",
      "[49]\tvalidation_0-error:0.39719\tvalidation_0-logloss:0.66070\tvalidation_1-error:0.40377\tvalidation_1-logloss:0.66506\n",
      "[50]\tvalidation_0-error:0.39650\tvalidation_0-logloss:0.66060\tvalidation_1-error:0.40250\tvalidation_1-logloss:0.66495\n",
      "[51]\tvalidation_0-error:0.39675\tvalidation_0-logloss:0.66043\tvalidation_1-error:0.40288\tvalidation_1-logloss:0.66488\n",
      "[52]\tvalidation_0-error:0.39660\tvalidation_0-logloss:0.66035\tvalidation_1-error:0.40110\tvalidation_1-logloss:0.66483\n",
      "[53]\tvalidation_0-error:0.39669\tvalidation_0-logloss:0.66018\tvalidation_1-error:0.40084\tvalidation_1-logloss:0.66456\n",
      "[54]\tvalidation_0-error:0.39663\tvalidation_0-logloss:0.66011\tvalidation_1-error:0.40033\tvalidation_1-logloss:0.66454\n",
      "[55]\tvalidation_0-error:0.39650\tvalidation_0-logloss:0.66005\tvalidation_1-error:0.40033\tvalidation_1-logloss:0.66456\n",
      "[56]\tvalidation_0-error:0.39647\tvalidation_0-logloss:0.66000\tvalidation_1-error:0.40071\tvalidation_1-logloss:0.66457\n",
      "[57]\tvalidation_0-error:0.39647\tvalidation_0-logloss:0.65991\tvalidation_1-error:0.40046\tvalidation_1-logloss:0.66453\n",
      "[58]\tvalidation_0-error:0.39672\tvalidation_0-logloss:0.65983\tvalidation_1-error:0.40020\tvalidation_1-logloss:0.66462\n",
      "[59]\tvalidation_0-error:0.39682\tvalidation_0-logloss:0.65978\tvalidation_1-error:0.40160\tvalidation_1-logloss:0.66471\n",
      "[60]\tvalidation_0-error:0.39675\tvalidation_0-logloss:0.65973\tvalidation_1-error:0.40135\tvalidation_1-logloss:0.66472\n",
      "[61]\tvalidation_0-error:0.39654\tvalidation_0-logloss:0.65965\tvalidation_1-error:0.40110\tvalidation_1-logloss:0.66473\n",
      "[62]\tvalidation_0-error:0.39613\tvalidation_0-logloss:0.65952\tvalidation_1-error:0.40160\tvalidation_1-logloss:0.66465\n",
      "[63]\tvalidation_0-error:0.39591\tvalidation_0-logloss:0.65949\tvalidation_1-error:0.40135\tvalidation_1-logloss:0.66464\n",
      "[64]\tvalidation_0-error:0.39575\tvalidation_0-logloss:0.65943\tvalidation_1-error:0.40160\tvalidation_1-logloss:0.66457\n",
      "[65]\tvalidation_0-error:0.39569\tvalidation_0-logloss:0.65937\tvalidation_1-error:0.40199\tvalidation_1-logloss:0.66454\n",
      "[66]\tvalidation_0-error:0.39569\tvalidation_0-logloss:0.65929\tvalidation_1-error:0.40135\tvalidation_1-logloss:0.66449\n",
      "[67]\tvalidation_0-error:0.39500\tvalidation_0-logloss:0.65913\tvalidation_1-error:0.40199\tvalidation_1-logloss:0.66440\n",
      "[68]\tvalidation_0-error:0.39510\tvalidation_0-logloss:0.65902\tvalidation_1-error:0.40148\tvalidation_1-logloss:0.66421\n",
      "[69]\tvalidation_0-error:0.39500\tvalidation_0-logloss:0.65899\tvalidation_1-error:0.40135\tvalidation_1-logloss:0.66422\n",
      "[70]\tvalidation_0-error:0.39494\tvalidation_0-logloss:0.65893\tvalidation_1-error:0.40135\tvalidation_1-logloss:0.66423\n",
      "[71]\tvalidation_0-error:0.39478\tvalidation_0-logloss:0.65884\tvalidation_1-error:0.40199\tvalidation_1-logloss:0.66429\n",
      "[72]\tvalidation_0-error:0.39453\tvalidation_0-logloss:0.65877\tvalidation_1-error:0.40237\tvalidation_1-logloss:0.66435\n",
      "[73]\tvalidation_0-error:0.39422\tvalidation_0-logloss:0.65870\tvalidation_1-error:0.40160\tvalidation_1-logloss:0.66442\n",
      "[74]\tvalidation_0-error:0.39435\tvalidation_0-logloss:0.65865\tvalidation_1-error:0.40173\tvalidation_1-logloss:0.66438\n",
      "[75]\tvalidation_0-error:0.39432\tvalidation_0-logloss:0.65861\tvalidation_1-error:0.40148\tvalidation_1-logloss:0.66438\n",
      "[76]\tvalidation_0-error:0.39407\tvalidation_0-logloss:0.65856\tvalidation_1-error:0.40224\tvalidation_1-logloss:0.66442\n",
      "[77]\tvalidation_0-error:0.39432\tvalidation_0-logloss:0.65844\tvalidation_1-error:0.40211\tvalidation_1-logloss:0.66440\n",
      "[78]\tvalidation_0-error:0.39419\tvalidation_0-logloss:0.65835\tvalidation_1-error:0.40224\tvalidation_1-logloss:0.66430\n",
      "[79]\tvalidation_0-error:0.39397\tvalidation_0-logloss:0.65828\tvalidation_1-error:0.40199\tvalidation_1-logloss:0.66431\n",
      "[80]\tvalidation_0-error:0.39422\tvalidation_0-logloss:0.65826\tvalidation_1-error:0.40173\tvalidation_1-logloss:0.66433\n",
      "[81]\tvalidation_0-error:0.39341\tvalidation_0-logloss:0.65814\tvalidation_1-error:0.40224\tvalidation_1-logloss:0.66439\n",
      "[82]\tvalidation_0-error:0.39338\tvalidation_0-logloss:0.65810\tvalidation_1-error:0.40224\tvalidation_1-logloss:0.66440\n",
      "[83]\tvalidation_0-error:0.39335\tvalidation_0-logloss:0.65805\tvalidation_1-error:0.40211\tvalidation_1-logloss:0.66443\n",
      "[84]\tvalidation_0-error:0.39325\tvalidation_0-logloss:0.65800\tvalidation_1-error:0.40211\tvalidation_1-logloss:0.66439\n",
      "[85]\tvalidation_0-error:0.39325\tvalidation_0-logloss:0.65798\tvalidation_1-error:0.40224\tvalidation_1-logloss:0.66441\n",
      "[86]\tvalidation_0-error:0.39316\tvalidation_0-logloss:0.65790\tvalidation_1-error:0.40199\tvalidation_1-logloss:0.66437\n",
      "[87]\tvalidation_0-error:0.39350\tvalidation_0-logloss:0.65779\tvalidation_1-error:0.40148\tvalidation_1-logloss:0.66441\n",
      "[88]\tvalidation_0-error:0.39357\tvalidation_0-logloss:0.65775\tvalidation_1-error:0.40173\tvalidation_1-logloss:0.66445\n",
      "[89]\tvalidation_0-error:0.39300\tvalidation_0-logloss:0.65765\tvalidation_1-error:0.40211\tvalidation_1-logloss:0.66428\n",
      "[90]\tvalidation_0-error:0.39297\tvalidation_0-logloss:0.65758\tvalidation_1-error:0.40199\tvalidation_1-logloss:0.66429\n",
      "[91]\tvalidation_0-error:0.39297\tvalidation_0-logloss:0.65754\tvalidation_1-error:0.40199\tvalidation_1-logloss:0.66431\n",
      "[92]\tvalidation_0-error:0.39294\tvalidation_0-logloss:0.65750\tvalidation_1-error:0.40211\tvalidation_1-logloss:0.66431\n",
      "[93]\tvalidation_0-error:0.39241\tvalidation_0-logloss:0.65737\tvalidation_1-error:0.40211\tvalidation_1-logloss:0.66438\n",
      "[94]\tvalidation_0-error:0.39228\tvalidation_0-logloss:0.65727\tvalidation_1-error:0.40097\tvalidation_1-logloss:0.66432\n",
      "[95]\tvalidation_0-error:0.39156\tvalidation_0-logloss:0.65717\tvalidation_1-error:0.40020\tvalidation_1-logloss:0.66434\n",
      "[96]\tvalidation_0-error:0.39169\tvalidation_0-logloss:0.65710\tvalidation_1-error:0.40160\tvalidation_1-logloss:0.66433\n",
      "[97]\tvalidation_0-error:0.39178\tvalidation_0-logloss:0.65702\tvalidation_1-error:0.40071\tvalidation_1-logloss:0.66429\n",
      "[98]\tvalidation_0-error:0.39147\tvalidation_0-logloss:0.65692\tvalidation_1-error:0.40008\tvalidation_1-logloss:0.66425\n",
      "[99]\tvalidation_0-error:0.39147\tvalidation_0-logloss:0.65689\tvalidation_1-error:0.40020\tvalidation_1-logloss:0.66423\n",
      "0.5997962043051841\n"
     ]
    },
    {
     "data": {
      "text/plain": [
       "<matplotlib.legend.Legend at 0x17bc81730>"
      ]
     },
     "execution_count": 53,
     "metadata": {},
     "output_type": "execute_result"
    },
    {
     "data": {
      "image/png": "[encoded data removed]",
      "text/plain": [
       "<Figure size 640x480 with 1 Axes>"
      ]
     },
     "metadata": {},
     "output_type": "display_data"
    }
   ],
   "source": [
    "import xgboost as xgb\n",
    "xgb_model = xgb.XGBClassifier(booster = 'dart', eta = 0.21, max_depth = 2, objective=\"binary:logistic\")\n",
    "eval_set = [(train_X, train_Y), (test_X, test_Y)]\n",
    "xgb_model.fit(train_X, train_Y, eval_set=eval_set, eval_metric=[\"error\", \"logloss\"])\n",
    "y_pred = xgb_model.predict(test_X)\n",
    "acc = accuracy_score(test_Y, y_pred)\n",
    "print(acc)\n",
    "\n",
    "import matplotlib.pyplot as plt\n",
    "results = xgb_model.evals_result()\n",
    "epochs = len(results['validation_0']['error'])\n",
    "x_axis = range(0, epochs)\n",
    "# plot log loss\n",
    "fig, ax = plt.subplots()\n",
    "ax.plot(x_axis, results['validation_0']['logloss'], label='Train')\n",
    "ax.plot(x_axis, results['validation_1']['logloss'], label='Test')\n",
    "ax.legend()\n"
   ]
  },
  {
   "cell_type": "markdown",
   "metadata": {},
   "source": [
    "Learning rate 0.05 is 0.596 whereas learning rate 0.15 is 0.599 - there is a slight difference and this tuning is as well on the test set \n",
    "So there might be a good chance that this model is specifically tuned to test data so any other data which is slightly different from test data might predict with a lower accuracy"
   ]
  },
  {
   "cell_type": "code",
   "execution_count": null,
   "metadata": {},
   "outputs": [],
   "source": []
  },
  {
   "cell_type": "markdown",
   "metadata": {},
   "source": [
    "Method 2 : GridSearchCV"
   ]
  },
  {
   "cell_type": "code",
   "execution_count": 19,
   "metadata": {},
   "outputs": [
    {
     "name": "stdout",
     "output_type": "stream",
     "text": [
      "Fitting 10 folds for each of 96 candidates, totalling 960 fits\n"
     ]
    },
    {
     "data": {
      "text/html": [
       "<style>#sk-container-id-2 {color: black;background-color: white;}#sk-container-id-2 pre{padding: 0;}#sk-container-id-2 div.sk-toggleable {background-color: white;}#sk-container-id-2 label.sk-toggleable__label {cursor: pointer;display: block;width: 100%;margin-bottom: 0;padding: 0.3em;box-sizing: border-box;text-align: center;}#sk-container-id-2 label.sk-toggleable__label-arrow:before {content: \"▸\";float: left;margin-right: 0.25em;color: #696969;}#sk-container-id-2 label.sk-toggleable__label-arrow:hover:before {color: black;}#sk-container-id-2 div.sk-estimator:hover label.sk-toggleable__label-arrow:before {color: black;}#sk-container-id-2 div.sk-toggleable__content {max-height: 0;max-width: 0;overflow: hidden;text-align: left;background-color: #f0f8ff;}#sk-container-id-2 div.sk-toggleable__content pre {margin: 0.2em;color: black;border-radius: 0.25em;background-color: #f0f8ff;}#sk-container-id-2 input.sk-toggleable__control:checked~div.sk-toggleable__content {max-height: 200px;max-width: 100%;overflow: auto;}#sk-container-id-2 input.sk-toggleable__control:checked~label.sk-toggleable__label-arrow:before {content: \"▾\";}#sk-container-id-2 div.sk-estimator input.sk-toggleable__control:checked~label.sk-toggleable__label {background-color: #d4ebff;}#sk-container-id-2 div.sk-label input.sk-toggleable__control:checked~label.sk-toggleable__label {background-color: #d4ebff;}#sk-container-id-2 input.sk-hidden--visually {border: 0;clip: rect(1px 1px 1px 1px);clip: rect(1px, 1px, 1px, 1px);height: 1px;margin: -1px;overflow: hidden;padding: 0;position: absolute;width: 1px;}#sk-container-id-2 div.sk-estimator {font-family: monospace;background-color: #f0f8ff;border: 1px dotted black;border-radius: 0.25em;box-sizing: border-box;margin-bottom: 0.5em;}#sk-container-id-2 div.sk-estimator:hover {background-color: #d4ebff;}#sk-container-id-2 div.sk-parallel-item::after {content: \"\";width: 100%;border-bottom: 1px solid gray;flex-grow: 1;}#sk-container-id-2 div.sk-label:hover label.sk-toggleable__label {background-color: #d4ebff;}#sk-container-id-2 div.sk-serial::before {content: \"\";position: absolute;border-left: 1px solid gray;box-sizing: border-box;top: 0;bottom: 0;left: 50%;z-index: 0;}#sk-container-id-2 div.sk-serial {display: flex;flex-direction: column;align-items: center;background-color: white;padding-right: 0.2em;padding-left: 0.2em;position: relative;}#sk-container-id-2 div.sk-item {position: relative;z-index: 1;}#sk-container-id-2 div.sk-parallel {display: flex;align-items: stretch;justify-content: center;background-color: white;position: relative;}#sk-container-id-2 div.sk-item::before, #sk-container-id-2 div.sk-parallel-item::before {content: \"\";position: absolute;border-left: 1px solid gray;box-sizing: border-box;top: 0;bottom: 0;left: 50%;z-index: -1;}#sk-container-id-2 div.sk-parallel-item {display: flex;flex-direction: column;z-index: 1;position: relative;background-color: white;}#sk-container-id-2 div.sk-parallel-item:first-child::after {align-self: flex-end;width: 50%;}#sk-container-id-2 div.sk-parallel-item:last-child::after {align-self: flex-start;width: 50%;}#sk-container-id-2 div.sk-parallel-item:only-child::after {width: 0;}#sk-container-id-2 div.sk-dashed-wrapped {border: 1px dashed gray;margin: 0 0.4em 0.5em 0.4em;box-sizing: border-box;padding-bottom: 0.4em;background-color: white;}#sk-container-id-2 div.sk-label label {font-family: monospace;font-weight: bold;display: inline-block;line-height: 1.2em;}#sk-container-id-2 div.sk-label-container {text-align: center;}#sk-container-id-2 div.sk-container {/* jupyter's `normalize.less` sets `[hidden] { display: none; }` but bootstrap.min.css set `[hidden] { display: none !important; }` so we also need the `!important` here to be able to override the default hidden behavior on the sphinx rendered scikit-learn.org. See: https://github.com/scikit-learn/scikit-learn/issues/21755 */display: inline-block !important;position: relative;}#sk-container-id-2 div.sk-text-repr-fallback {display: none;}</style><div id=\"sk-container-id-2\" class=\"sk-top-container\"><div class=\"sk-text-repr-fallback\"><pre>GridSearchCV(cv=10,\n",
       "             estimator=XGBClassifier(base_score=None, booster=None,\n",
       "                                     callbacks=None, colsample_bylevel=None,\n",
       "                                     colsample_bynode=None,\n",
       "                                     colsample_bytree=None,\n",
       "                                     early_stopping_rounds=None,\n",
       "                                     enable_categorical=False, eval_metric=None,\n",
       "                                     gamma=None, gpu_id=None, grow_policy=None,\n",
       "                                     importance_type=None,\n",
       "                                     interaction_constraints=None,\n",
       "                                     learning_rate=None, max_bin=None,\n",
       "                                     max_c...\n",
       "                                     max_delta_step=None, max_depth=None,\n",
       "                                     max_leaves=None, min_child_weight=None,\n",
       "                                     missing=nan, monotone_constraints=None,\n",
       "                                     n_estimators=100, n_jobs=None, nthread=4,\n",
       "                                     num_parallel_tree=None, predictor=None,\n",
       "                                     random_state=None, reg_alpha=None, ...),\n",
       "             n_jobs=10,\n",
       "             param_grid={&#x27;learning_rate&#x27;: [0.1, 0.01, 0.05],\n",
       "                         &#x27;max_depth&#x27;: range(2, 10),\n",
       "                         &#x27;n_estimators&#x27;: range(60, 220, 40)},\n",
       "             scoring=&#x27;roc_auc&#x27;, verbose=True)</pre><b>In a Jupyter environment, please rerun this cell to show the HTML representation or trust the notebook. <br />On GitHub, the HTML representation is unable to render, please try loading this page with nbviewer.org.</b></div><div class=\"sk-container\" hidden><div class=\"sk-item sk-dashed-wrapped\"><div class=\"sk-label-container\"><div class=\"sk-label sk-toggleable\"><input class=\"sk-toggleable__control sk-hidden--visually\" id=\"sk-estimator-id-2\" type=\"checkbox\" ><label for=\"sk-estimator-id-2\" class=\"sk-toggleable__label sk-toggleable__label-arrow\">GridSearchCV</label><div class=\"sk-toggleable__content\"><pre>GridSearchCV(cv=10,\n",
       "             estimator=XGBClassifier(base_score=None, booster=None,\n",
       "                                     callbacks=None, colsample_bylevel=None,\n",
       "                                     colsample_bynode=None,\n",
       "                                     colsample_bytree=None,\n",
       "                                     early_stopping_rounds=None,\n",
       "                                     enable_categorical=False, eval_metric=None,\n",
       "                                     gamma=None, gpu_id=None, grow_policy=None,\n",
       "                                     importance_type=None,\n",
       "                                     interaction_constraints=None,\n",
       "                                     learning_rate=None, max_bin=None,\n",
       "                                     max_c...\n",
       "                                     max_delta_step=None, max_depth=None,\n",
       "                                     max_leaves=None, min_child_weight=None,\n",
       "                                     missing=nan, monotone_constraints=None,\n",
       "                                     n_estimators=100, n_jobs=None, nthread=4,\n",
       "                                     num_parallel_tree=None, predictor=None,\n",
       "                                     random_state=None, reg_alpha=None, ...),\n",
       "             n_jobs=10,\n",
       "             param_grid={&#x27;learning_rate&#x27;: [0.1, 0.01, 0.05],\n",
       "                         &#x27;max_depth&#x27;: range(2, 10),\n",
       "                         &#x27;n_estimators&#x27;: range(60, 220, 40)},\n",
       "             scoring=&#x27;roc_auc&#x27;, verbose=True)</pre></div></div></div><div class=\"sk-parallel\"><div class=\"sk-parallel-item\"><div class=\"sk-item\"><div class=\"sk-label-container\"><div class=\"sk-label sk-toggleable\"><input class=\"sk-toggleable__control sk-hidden--visually\" id=\"sk-estimator-id-3\" type=\"checkbox\" ><label for=\"sk-estimator-id-3\" class=\"sk-toggleable__label sk-toggleable__label-arrow\">estimator: XGBClassifier</label><div class=\"sk-toggleable__content\"><pre>XGBClassifier(base_score=None, booster=None, callbacks=None,\n",
       "              colsample_bylevel=None, colsample_bynode=None,\n",
       "              colsample_bytree=None, early_stopping_rounds=None,\n",
       "              enable_categorical=False, eval_metric=None, gamma=None,\n",
       "              gpu_id=None, grow_policy=None, importance_type=None,\n",
       "              interaction_constraints=None, learning_rate=None, max_bin=None,\n",
       "              max_cat_to_onehot=None, max_delta_step=None, max_depth=None,\n",
       "              max_leaves=None, min_child_weight=None, missing=nan,\n",
       "              monotone_constraints=None, n_estimators=100, n_jobs=None,\n",
       "              nthread=4, num_parallel_tree=None, predictor=None,\n",
       "              random_state=None, reg_alpha=None, ...)</pre></div></div></div><div class=\"sk-serial\"><div class=\"sk-item\"><div class=\"sk-estimator sk-toggleable\"><input class=\"sk-toggleable__control sk-hidden--visually\" id=\"sk-estimator-id-4\" type=\"checkbox\" ><label for=\"sk-estimator-id-4\" class=\"sk-toggleable__label sk-toggleable__label-arrow\">XGBClassifier</label><div class=\"sk-toggleable__content\"><pre>XGBClassifier(base_score=None, booster=None, callbacks=None,\n",
       "              colsample_bylevel=None, colsample_bynode=None,\n",
       "              colsample_bytree=None, early_stopping_rounds=None,\n",
       "              enable_categorical=False, eval_metric=None, gamma=None,\n",
       "              gpu_id=None, grow_policy=None, importance_type=None,\n",
       "              interaction_constraints=None, learning_rate=None, max_bin=None,\n",
       "              max_cat_to_onehot=None, max_delta_step=None, max_depth=None,\n",
       "              max_leaves=None, min_child_weight=None, missing=nan,\n",
       "              monotone_constraints=None, n_estimators=100, n_jobs=None,\n",
       "              nthread=4, num_parallel_tree=None, predictor=None,\n",
       "              random_state=None, reg_alpha=None, ...)</pre></div></div></div></div></div></div></div></div></div></div>"
      ],
      "text/plain": [
       "GridSearchCV(cv=10,\n",
       "             estimator=XGBClassifier(base_score=None, booster=None,\n",
       "                                     callbacks=None, colsample_bylevel=None,\n",
       "                                     colsample_bynode=None,\n",
       "                                     colsample_bytree=None,\n",
       "                                     early_stopping_rounds=None,\n",
       "                                     enable_categorical=False, eval_metric=None,\n",
       "                                     gamma=None, gpu_id=None, grow_policy=None,\n",
       "                                     importance_type=None,\n",
       "                                     interaction_constraints=None,\n",
       "                                     learning_rate=None, max_bin=None,\n",
       "                                     max_c...\n",
       "                                     max_delta_step=None, max_depth=None,\n",
       "                                     max_leaves=None, min_child_weight=None,\n",
       "                                     missing=nan, monotone_constraints=None,\n",
       "                                     n_estimators=100, n_jobs=None, nthread=4,\n",
       "                                     num_parallel_tree=None, predictor=None,\n",
       "                                     random_state=None, reg_alpha=None, ...),\n",
       "             n_jobs=10,\n",
       "             param_grid={'learning_rate': [0.1, 0.01, 0.05],\n",
       "                         'max_depth': range(2, 10),\n",
       "                         'n_estimators': range(60, 220, 40)},\n",
       "             scoring='roc_auc', verbose=True)"
      ]
     },
     "execution_count": 19,
     "metadata": {},
     "output_type": "execute_result"
    }
   ],
   "source": [
    "from xgboost import XGBClassifier\n",
    "from sklearn.model_selection import GridSearchCV\n",
    "estimator = XGBClassifier(\n",
    "    objective= 'binary:logistic',\n",
    "    nthread=4,\n",
    "    seed=42\n",
    ")\n",
    "parameters = {\n",
    "    'max_depth': range (2, 10, 1),\n",
    "    'n_estimators': range(60, 220, 40),\n",
    "    'learning_rate': [0.1, 0.01, 0.05]\n",
    "}\n",
    "grid_search = GridSearchCV(\n",
    "    estimator=estimator,\n",
    "    param_grid=parameters,\n",
    "    scoring = 'roc_auc',\n",
    "    n_jobs = 10,\n",
    "    cv = 10,\n",
    "    verbose=True\n",
    ")\n",
    "grid_search.fit(train_X, train_Y)"
   ]
  },
  {
   "cell_type": "code",
   "execution_count": 20,
   "metadata": {},
   "outputs": [
    {
     "data": {
      "text/plain": [
       "0.6297260633472181"
      ]
     },
     "execution_count": 20,
     "metadata": {},
     "output_type": "execute_result"
    }
   ],
   "source": [
    "grid_search.score(test_X, test_Y)\n"
   ]
  },
  {
   "cell_type": "code",
   "execution_count": 24,
   "metadata": {},
   "outputs": [
    {
     "data": {
      "text/plain": [
       "{'learning_rate': 0.05, 'max_depth': 2, 'n_estimators': 100}"
      ]
     },
     "execution_count": 24,
     "metadata": {},
     "output_type": "execute_result"
    }
   ],
   "source": [
    "grid_search.best_params_"
   ]
  },
  {
   "cell_type": "markdown",
   "metadata": {},
   "source": []
  },
  {
   "cell_type": "markdown",
   "metadata": {
    "id": "HVKhgl4eBsmC"
   },
   "source": [
    "2. Now compare the XGBoost performance to the decision tree implementation from part 3. Describe in text how they compare, and if this aligns with what you expect. (3 points)"
   ]
  },
  {
   "cell_type": "markdown",
   "metadata": {
    "id": "Euk6L8QHPfAQ"
   },
   "source": [
    "# Place your code here\n",
    "```\n",
    "Decision tree was over fitting for max_depth of None, 128, 256 and 512 so I took max_depth of 16 and the test set was performing around 60% whereas xgboost is around 60% with method 1 and 63% in method 2\n",
    "\n",
    "XgBoost was bound to do better as it builds multiple trees - Each new tree is built to improve on the deficiencies of the previous trees and this concept is called boosting.\n",
    "when compared to \n",
    "Decision tree that has only one tree so its deficiency lies there with no other chance for it to change itself\n",
    "\n",
    "\n",
    "XgBoost also uses gradient of the previous tree into the new tree which helps in learning and retaining previous tree information\n",
    "unlike Decision tree that has only one tree which gives less flexibility to learn\n",
    "```"
   ]
  },
  {
   "cell_type": "markdown",
   "metadata": {
    "id": "AcxGQ2L0k8P1"
   },
   "source": [
    "## End of homework"
   ]
  }
 ],
 "metadata": {
  "colab": {
   "provenance": []
  },
  "kernelspec": {
   "display_name": "Python 3 (ipykernel)",
   "language": "python",
   "name": "python3"
  },
  "language_info": {
   "codemirror_mode": {
    "name": "ipython",
    "version": 3
   },
   "file_extension": ".py",
   "mimetype": "text/x-python",
   "name": "python",
   "nbconvert_exporter": "python",
   "pygments_lexer": "ipython3",
   "version": "3.8.9"
  }
 },
 "nbformat": 4,
 "nbformat_minor": 4
}
