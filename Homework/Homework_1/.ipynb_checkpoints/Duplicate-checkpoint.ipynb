{
 "cells": [
  {
   "cell_type": "markdown",
   "metadata": {
    "id": "UVi0YPMvUjwg"
   },
   "source": [
    "# **Foundations of Data Science Fall 2022 - Homework 1 (32 points)**\n",
    "\n",
    "### Student Name: Yamini Lakshmi Narasimhan\n",
    "### Student Net Id: yl9822\n",
    "\n",
    "---\n",
    "\n"
   ]
  },
  {
   "cell_type": "markdown",
   "metadata": {
    "id": "ie52W18UUlMB"
   },
   "source": [
    "### **Part 0: Data Exploration and Linear Regression (5 Points)**\n",
    "\n",
    "---\n"
   ]
  },
  {
   "cell_type": "code",
   "execution_count": 34,
   "metadata": {
    "id": "gC9WIPo7U3JD",
    "tags": []
   },
   "outputs": [],
   "source": [
    "# Importing all important packages\n",
    "\n",
    "import numpy as np\n",
    "import pandas as pd\n",
    "import matplotlib.pyplot as plt\n",
    "\n",
    "from sklearn.linear_model import Lasso, Ridge\n",
    "from sklearn.metrics import r2_score\n",
    "from sklearn.model_selection import train_test_split\n"
   ]
  },
  {
   "cell_type": "code",
   "execution_count": 35,
   "metadata": {
    "colab": {
     "base_uri": "https://localhost:8080/"
    },
    "id": "PkPvRr0a-Sr8",
    "outputId": "0edb9106-859a-4ea7-9c9f-2f9eca6d06c8",
    "tags": []
   },
   "outputs": [
    {
     "name": "stdout",
     "output_type": "stream",
     "text": [
      "File eeg_dat.p is already downloaded\n"
     ]
    }
   ],
   "source": [
    "# Downloading data\n",
    "\n",
    "fn_src ='https://drive.google.com/uc?export=download&id=1RzQpKONOcXSMxH2ZzOI4iVMiTgD6ttSl'\n",
    "fn_dst ='eeg_dat.p'\n",
    "\n",
    "import os\n",
    "from six.moves import urllib\n",
    "\n",
    "if os.path.isfile(fn_dst):\n",
    "    print('File %s is already downloaded' % fn_dst)\n",
    "else:        \n",
    "    print('Fetching file %s [53MB].  This may take a minute..' % fn_dst)\n",
    "    urllib.request.urlretrieve(fn_src, fn_dst)\n",
    "    print('File %s downloaded' % fn_dst)"
   ]
  },
  {
   "cell_type": "code",
   "execution_count": 36,
   "metadata": {
    "id": "zu_NFpHx-ZPh",
    "tags": []
   },
   "outputs": [],
   "source": [
    "# Loading data\n",
    "\n",
    "import pickle\n",
    "fn = 'eeg_dat.p'\n",
    "with open(fn, 'rb') as fp:\n",
    "    [X,Y] = pickle.load(fp)"
   ]
  },
  {
   "cell_type": "markdown",
   "metadata": {
    "id": "CtBimafqe5GH"
   },
   "source": [
    ">>**1**\\. **(1 Point)** *Display the first 5 rows of X and Y and print the dimensions for both datasets*\n",
    "\n"
   ]
  },
  {
   "cell_type": "code",
   "execution_count": 37,
   "metadata": {
    "id": "umxMgyXsU7Tw",
    "tags": []
   },
   "outputs": [
    {
     "name": "stdout",
     "output_type": "stream",
     "text": [
      "Shape of X (305, 22494)\n",
      "Shape of X[0] (22494,)\n",
      "Shape of Y (305, 85)\n",
      "Shape of Y[0] (85,)\n",
      "First 5 rows of X\n",
      " [[ 0.          0.          0.         ...  0.          0.\n",
      "   0.        ]\n",
      " [ 0.          0.          0.         ...  0.          0.\n",
      "   0.        ]\n",
      " [ 0.          0.          0.         ...  0.          0.\n",
      "   0.        ]\n",
      " [-0.00529827  0.00491268  0.00598048 ...  0.00162549 -0.0023215\n",
      "   0.00115952]\n",
      " [-0.01522969  0.00059051 -0.00191475 ...  0.00331738 -0.00214887\n",
      "   0.00160143]]\n",
      "First 5 rows of Y\n",
      " [[ 0.          0.          0.          0.          0.          0.\n",
      "   0.          0.          0.          0.          0.          0.\n",
      "   0.          0.          0.          0.          0.          0.\n",
      "   0.          0.          0.          0.          0.          0.\n",
      "   0.          0.          0.          0.          0.          0.\n",
      "   0.          0.          0.          0.          0.          0.\n",
      "   0.          0.          0.          0.          0.          0.\n",
      "   0.          0.          0.          0.          0.          0.\n",
      "   0.          0.          0.          0.          0.          0.\n",
      "   0.          0.          0.          0.          0.          0.\n",
      "   0.          0.          0.          0.          0.          0.\n",
      "   0.          0.          0.          0.          0.          0.\n",
      "   0.          0.          0.          0.          0.          0.\n",
      "   0.          0.          0.          0.          0.          0.\n",
      "   0.        ]\n",
      " [ 0.          0.          0.          0.          0.          0.\n",
      "   0.          0.          0.          0.          0.          0.\n",
      "   0.          0.          0.          0.          0.          0.\n",
      "   0.          0.          0.          0.          0.          0.\n",
      "   0.          0.          0.          0.          0.          0.\n",
      "   0.          0.          0.          0.          0.          0.\n",
      "   0.          0.          0.          0.          0.          0.\n",
      "   0.          0.          0.          0.          0.          0.\n",
      "   0.          0.          0.          0.          0.          0.\n",
      "   0.          0.          0.          0.          0.          0.\n",
      "   0.          0.          0.          0.          0.          0.\n",
      "   0.          0.          0.          0.          0.          0.\n",
      "   0.          0.          0.          0.          0.          0.\n",
      "   0.          0.          0.          0.          0.          0.\n",
      "   0.        ]\n",
      " [ 0.          0.          0.          0.          0.          0.\n",
      "   0.          0.          0.          0.          0.          0.\n",
      "   0.          0.          0.          0.          0.          0.\n",
      "   0.          0.          0.          0.          0.          0.\n",
      "   0.          0.          0.          0.          0.          0.\n",
      "   0.          0.          0.          0.          0.          0.\n",
      "   0.          0.          0.          0.          0.          0.\n",
      "   0.          0.          0.          0.          0.          0.\n",
      "   0.          0.          0.          0.          0.          0.\n",
      "   0.          0.          0.          0.          0.          0.\n",
      "   0.          0.          0.          0.          0.          0.\n",
      "   0.          0.          0.          0.          0.          0.\n",
      "   0.          0.          0.          0.          0.          0.\n",
      "   0.          0.          0.          0.          0.          0.\n",
      "   0.        ]\n",
      " [-0.09276205 -0.08985079 -0.07608291 -0.05530946 -0.03231258 -0.01211071\n",
      "   0.00080852  0.00313692 -0.00678247 -0.02869592 -0.06052095 -0.09864336\n",
      "  -0.1384954  -0.17518806 -0.20431671 -0.22255981 -0.22819203 -0.22131916\n",
      "  -0.20387241 -0.17923614 -0.15177045 -0.12609152 -0.1063793  -0.09570701\n",
      "  -0.09557988 -0.10568318 -0.12395217 -0.14689077 -0.17011059 -0.18902799\n",
      "  -0.19959717 -0.19891403 -0.1857485  -0.16069391 -0.12614103 -0.08592358\n",
      "  -0.04474724 -0.00750158  0.02150801  0.0391705   0.04407476  0.03669187\n",
      "   0.01933823 -0.00419942 -0.02922969 -0.05085636 -0.06472243 -0.06767898\n",
      "  -0.05825114 -0.0368678  -0.00578963  0.03120213  0.06941139  0.10389435\n",
      "   0.13022606  0.14516165  0.14714178  0.13655022  0.11566809  0.0883866\n",
      "   0.05964747  0.03476927  0.01866437  0.01515595  0.02640921  0.05260544\n",
      "   0.09186162  0.14047642  0.19336142  0.24469149  0.28863894  0.32010343\n",
      "   0.33535487  0.33248343  0.31159913  0.27481392  0.225944    0.17002921\n",
      "   0.11269917  0.05947506  0.01514124 -0.01681553 -0.03456445 -0.0380913\n",
      "  -0.0291009 ]\n",
      " [ 0.01241803 -0.00569839 -0.02801367 -0.05359459 -0.08104797 -0.10851966\n",
      "  -0.13379319 -0.15448279 -0.16826742 -0.17320027 -0.16799938 -0.15227921\n",
      "  -0.12673569 -0.09313222 -0.05422283 -0.01347576  0.02528186  0.05832127\n",
      "   0.08244709  0.09545931  0.09641075  0.08583552  0.0656907   0.03920295\n",
      "   0.01049631 -0.01589401 -0.03554677 -0.04473862 -0.04091731 -0.0230484\n",
      "   0.00821874  0.05053668  0.10010532  0.15206901  0.2010497   0.24171443\n",
      "   0.26942073  0.28069672  0.2736623   0.24824396  0.20617207  0.15082053\n",
      "   0.08683377  0.01960157 -0.04528859 -0.10268976 -0.14839354 -0.17960091\n",
      "  -0.19515903 -0.1956481  -0.18327567 -0.16156722 -0.13492094 -0.10808104\n",
      "  -0.08557384 -0.07114955 -0.06736727 -0.07527035 -0.0942851  -0.12226838\n",
      "  -0.15576918 -0.19040635 -0.22139751 -0.24410465 -0.25457232 -0.25000458\n",
      "  -0.22908469 -0.19217531 -0.14128675 -0.07991302 -0.01264023  0.05527446\n",
      "   0.11845781  0.1719523   0.21171481  0.23496873  0.24047115  0.22856528\n",
      "   0.20111359  0.16122806  0.11293382  0.06073957  0.00915674 -0.03771494\n",
      "  -0.0765598 ]]\n"
     ]
    }
   ],
   "source": [
    "# Write your code here\n",
    "\n",
    "print(\"Shape of X\",X.shape)\n",
    "print(\"Shape of X[0]\",X[0].shape)\n",
    "print(\"Shape of Y\",Y.shape)\n",
    "print(\"Shape of Y[0]\",Y[0].shape)\n",
    "print(\"First 5 rows of X\\n\",X[0:5])\n",
    "print(\"First 5 rows of Y\\n\",Y[0:5])"
   ]
  },
  {
   "cell_type": "markdown",
   "metadata": {
    "id": "hiJpfr8MgBb1",
    "tags": []
   },
   "source": [
    "Background: This is an ECG dataset that contains voltage measurements from a number of points on the scalp. A common task is to estimate which parts of the brain caused the measured response, which can help identify which parts of the brain are involved in specific tasks. However, the number of possible locations in the brain is much larger than the number of measurements, which makes this an appropriate task to assess the use of regularization to determine the brain region that is active under stimulus.\n",
    "\n",
    "In particular, there are three key variables:\n",
    "* `nt`    = number of time steps that we measure data\n",
    "* `nchan` = number of channels (i.e. electrodes) measured in each time step\n",
    "* `ncur`  = number of currents in the brain that we want to estimate.  \n",
    "\n",
    "Each current comes from one brain region (called a *voxel*) in either the `x`, `y` or `z` direction.  So,\n",
    "\n",
    "    nvoxels = ncur / 3\n",
    "    \n",
    "The components of the `X` and `Y` matrices are:\n",
    "*  `Y[i,k]` = electric field measurement on channel `i` at time `k`\n",
    "*  `X[i,j]` = sensitivity of channel `i` to current `j`.\n",
    "\n"
   ]
  },
  {
   "cell_type": "code",
   "execution_count": 38,
   "metadata": {
    "tags": []
   },
   "outputs": [
    {
     "name": "stdout",
     "output_type": "stream",
     "text": [
      "Just trying to understand the data\n",
      "22494\n",
      "305\n",
      "Unique_counts for X_max 303\n",
      "Unique_counts for X_min 303\n",
      "Unique_counts for Y_max 303\n",
      "Unique_counts for Y_min 303\n"
     ]
    }
   ],
   "source": [
    "print(\"Just trying to understand the data\")\n",
    "print(len(X[0]))\n",
    "print(len(Y))\n",
    "\n",
    "df_dataset = pd.DataFrame()\n",
    "df_dataset[\"X\"] = list(X)\n",
    "df_dataset[\"Y\"] = list(Y)\n",
    "max_list =[]\n",
    "min_list = []\n",
    "\n",
    "for i in X:\n",
    "    max_list.append(max(i))\n",
    "    min_list.append(min(i))\n",
    "    \n",
    "df_dataset[\"X_min\"] = min_list\n",
    "df_dataset[\"X_max\"] = max_list\n",
    "    \n",
    "max_list =[]\n",
    "min_list = []    \n",
    "    \n",
    "for i in Y:\n",
    "    max_list.append(max(i))\n",
    "    min_list.append(min(i))\n",
    "    \n",
    "df_dataset[\"Y_min\"] = min_list\n",
    "df_dataset[\"Y_max\"] = max_list\n",
    "\n",
    "print(\"Unique_counts for X_max\", len(df_dataset[\"X_max\"].unique()))\n",
    "print(\"Unique_counts for X_min\", len(df_dataset[\"X_min\"].unique()))\n",
    "\n",
    "print(\"Unique_counts for Y_max\", len(df_dataset[\"Y_max\"].unique()))\n",
    "print(\"Unique_counts for Y_min\", len(df_dataset[\"Y_min\"].unique()))"
   ]
  },
  {
   "cell_type": "code",
   "execution_count": 6,
   "metadata": {
    "tags": []
   },
   "outputs": [
    {
     "data": {
      "text/html": [
       "<div>\n",
       "<style scoped>\n",
       "    .dataframe tbody tr th:only-of-type {\n",
       "        vertical-align: middle;\n",
       "    }\n",
       "\n",
       "    .dataframe tbody tr th {\n",
       "        vertical-align: top;\n",
       "    }\n",
       "\n",
       "    .dataframe thead th {\n",
       "        text-align: right;\n",
       "    }\n",
       "</style>\n",
       "<table border=\"1\" class=\"dataframe\">\n",
       "  <thead>\n",
       "    <tr style=\"text-align: right;\">\n",
       "      <th></th>\n",
       "      <th>X</th>\n",
       "      <th>Y</th>\n",
       "      <th>X_min</th>\n",
       "      <th>X_max</th>\n",
       "      <th>Y_min</th>\n",
       "      <th>Y_max</th>\n",
       "    </tr>\n",
       "  </thead>\n",
       "  <tbody>\n",
       "    <tr>\n",
       "      <th>0</th>\n",
       "      <td>[0.0, 0.0, 0.0, 0.0, 0.0, 0.0, 0.0, 0.0, 0.0, ...</td>\n",
       "      <td>[0.0, 0.0, 0.0, 0.0, 0.0, 0.0, 0.0, 0.0, 0.0, ...</td>\n",
       "      <td>0.000000</td>\n",
       "      <td>0.000000</td>\n",
       "      <td>0.000000</td>\n",
       "      <td>0.000000</td>\n",
       "    </tr>\n",
       "    <tr>\n",
       "      <th>1</th>\n",
       "      <td>[0.0, 0.0, 0.0, 0.0, 0.0, 0.0, 0.0, 0.0, 0.0, ...</td>\n",
       "      <td>[0.0, 0.0, 0.0, 0.0, 0.0, 0.0, 0.0, 0.0, 0.0, ...</td>\n",
       "      <td>0.000000</td>\n",
       "      <td>0.000000</td>\n",
       "      <td>0.000000</td>\n",
       "      <td>0.000000</td>\n",
       "    </tr>\n",
       "    <tr>\n",
       "      <th>2</th>\n",
       "      <td>[0.0, 0.0, 0.0, 0.0, 0.0, 0.0, 0.0, 0.0, 0.0, ...</td>\n",
       "      <td>[0.0, 0.0, 0.0, 0.0, 0.0, 0.0, 0.0, 0.0, 0.0, ...</td>\n",
       "      <td>0.000000</td>\n",
       "      <td>0.000000</td>\n",
       "      <td>0.000000</td>\n",
       "      <td>0.000000</td>\n",
       "    </tr>\n",
       "    <tr>\n",
       "      <th>3</th>\n",
       "      <td>[-0.005298272870862167, 0.004912682004587315, ...</td>\n",
       "      <td>[-0.09276204596036008, -0.08985079131166167, -...</td>\n",
       "      <td>-0.026475</td>\n",
       "      <td>0.020312</td>\n",
       "      <td>-0.228192</td>\n",
       "      <td>0.335355</td>\n",
       "    </tr>\n",
       "    <tr>\n",
       "      <th>4</th>\n",
       "      <td>[-0.015229694817309507, 0.0005905057848969534,...</td>\n",
       "      <td>[0.012418027849942948, -0.005698385917103518, ...</td>\n",
       "      <td>-0.032046</td>\n",
       "      <td>0.028179</td>\n",
       "      <td>-0.254572</td>\n",
       "      <td>0.280697</td>\n",
       "    </tr>\n",
       "  </tbody>\n",
       "</table>\n",
       "</div>"
      ],
      "text/plain": [
       "                                                   X  \\\n",
       "0  [0.0, 0.0, 0.0, 0.0, 0.0, 0.0, 0.0, 0.0, 0.0, ...   \n",
       "1  [0.0, 0.0, 0.0, 0.0, 0.0, 0.0, 0.0, 0.0, 0.0, ...   \n",
       "2  [0.0, 0.0, 0.0, 0.0, 0.0, 0.0, 0.0, 0.0, 0.0, ...   \n",
       "3  [-0.005298272870862167, 0.004912682004587315, ...   \n",
       "4  [-0.015229694817309507, 0.0005905057848969534,...   \n",
       "\n",
       "                                                   Y     X_min     X_max  \\\n",
       "0  [0.0, 0.0, 0.0, 0.0, 0.0, 0.0, 0.0, 0.0, 0.0, ...  0.000000  0.000000   \n",
       "1  [0.0, 0.0, 0.0, 0.0, 0.0, 0.0, 0.0, 0.0, 0.0, ...  0.000000  0.000000   \n",
       "2  [0.0, 0.0, 0.0, 0.0, 0.0, 0.0, 0.0, 0.0, 0.0, ...  0.000000  0.000000   \n",
       "3  [-0.09276204596036008, -0.08985079131166167, -... -0.026475  0.020312   \n",
       "4  [0.012418027849942948, -0.005698385917103518, ... -0.032046  0.028179   \n",
       "\n",
       "      Y_min     Y_max  \n",
       "0  0.000000  0.000000  \n",
       "1  0.000000  0.000000  \n",
       "2  0.000000  0.000000  \n",
       "3 -0.228192  0.335355  \n",
       "4 -0.254572  0.280697  "
      ]
     },
     "execution_count": 6,
     "metadata": {},
     "output_type": "execute_result"
    }
   ],
   "source": [
    "df_dataset.head()"
   ]
  },
  {
   "cell_type": "markdown",
   "metadata": {
    "id": "yDZtFIjTfxmW"
   },
   "source": [
    ">>**2**\\. **(1 Point)** Split the data into training and testing. What split do you use, and why?"
   ]
  },
  {
   "cell_type": "markdown",
   "metadata": {},
   "source": [
    "[Place your answer here regarding the split]\n",
    "\n",
    "### ANSWER\n",
    "\n",
    "Available Options\n",
    "\n",
    "1. Simple Random Technique because each value is unique like for X it measures sensitivity for each i and j similarly for \n",
    "Y that measures electric field measurement for each i at a time k and since there is no grouping exactly\n",
    "I tried grouping based on maximum and minimum values obtained at a time for X and Y but since most of them are unique that is 303/305 no point\n",
    "\n",
    "Direction of current information is also not given so can't group based on that as well. So Systemic, Stratified and Cluster sampling is ruled out\n",
    "\n",
    "Taking a 20% split for testset and 80% is trainset\n"
   ]
  },
  {
   "cell_type": "code",
   "execution_count": 39,
   "metadata": {
    "id": "JOo5tg-7gD_z"
   },
   "outputs": [
    {
     "name": "stdout",
     "output_type": "stream",
     "text": [
      "(244, 22494)\n",
      "(244, 85)\n"
     ]
    }
   ],
   "source": [
    "X_train, X_test, Y_train, Y_test = train_test_split(X, Y, test_size=0.20, random_state = 0)\n",
    "print(X_train.shape)\n",
    "print(Y_train.shape)"
   ]
  },
  {
   "cell_type": "markdown",
   "metadata": {
    "id": "CKEkzFqKzPFJ"
   },
   "source": [
    ">>**3**\\. **(3 Points)** Perform linear regression. As a reminder, the optimization for linear regression using ordinary least squares is written below, the data consists of $n$ observations {$x_i$,$y_i$}. Each observation $i$ includes a scalar response $y_i$ and a column vector $x_i$ of $p$ variables (regressors).\n",
    "\n",
    ">>The evaluation metric used for linear regression is the $R^2$ score. Explain what $R^2$ tells us, and interpret your results based on this.*\n",
    "\n"
   ]
  },
  {
   "cell_type": "markdown",
   "metadata": {
    "id": "LvFX8XmAQVev"
   },
   "source": [
    "\\begin{align}\n",
    "\\text{Ordinary Least Squares}\n",
    "\\end{align}\n",
    " \n",
    " \n",
    "\n",
    " \\begin{align}\n",
    "        \\underset{\\beta}{\\operatorname{arg min}}\n",
    "        \\left[\\sum_{i=1}^n \\left( y_i - β_o - \\sum_{j=1}^p β_jx_{ij}  \\right)^2  \\right]\n",
    "    \\end{align}\n",
    "\n"
   ]
  },
  {
   "cell_type": "code",
   "execution_count": 40,
   "metadata": {
    "id": "FrUITWlpzOfs"
   },
   "outputs": [
    {
     "name": "stdout",
     "output_type": "stream",
     "text": [
      "Linear Regressor R2 score -5.7463712081808165\n"
     ]
    }
   ],
   "source": [
    "# Write your code here\n",
    "from sklearn.linear_model import LinearRegression,Ridge, RidgeCV\n",
    "from sklearn.metrics import mean_squared_error, r2_score\n",
    "from sklearn.model_selection import cross_val_score\n",
    "import matplotlib.pyplot as plt\n",
    "\n",
    "\n",
    "linear_regression_model = LinearRegression()\n",
    "reg = linear_regression_model.fit(X_train, Y_train)\n",
    "\n",
    "Y_predicted = linear_regression_model.predict(X_test)\n",
    "r2 = r2_score(Y_test, Y_predicted)\n",
    "print(\"Linear Regressor R2 score\",r2)\n"
   ]
  },
  {
   "cell_type": "markdown",
   "metadata": {},
   "source": [
    "$$ R^2 =1- SS_{regression}/ SS_{Total} $$"
   ]
  },
  {
   "cell_type": "markdown",
   "metadata": {
    "id": "vMtUeI0FzS8B"
   },
   "source": [
    ">>Place your written answer here.\n",
    "\n",
    "### ANSWER\n",
    "The objective of ordinary least squared regression is to get a line which minimized the sum squared error. Ordinary least Squared Regression and R-squared are two different things. You do a regression to correlate one dependent variable to many independent variables and use the R-squared to see if this regression makes sense.\n",
    "\n",
    "1. $R^2$ is a statistical measure of fit that indicates how much variation of a dependent variable is explained by the independent variable(s) in a regression model.\n",
    "2. Whereas correlation explains the strength of the relationship between an independent and dependent variable, $R^2$ explains to what extent the variance of one variable explains the variance of the second variable. So, if the $R^2$ of a model is 0.50, then approximately half of the observed variation can be explained by the model's inputs.\n",
    "3. $R^2$(coefficient of determination) regression score function.\n",
    "4. Best possible score is 1.0 and it can be negative (because the model can be arbitrarily worse). \n",
    "\n",
    "\n",
    "\n",
    "\n",
    "Since $R^2$ is negative in this case it means its worse than the ground truth model that is the model that predicts the same value for all input for example when the ground truth y is non-constant, a constant model that always predicts the average y disregarding the input features would get a $R^2$ score of 0.0.\n",
    "-In other words, the mean of the data is a better model than the regression.\n",
    "-chosen model does not follow the trend of the data, so fits worse than a horizontal line\n"
   ]
  },
  {
   "cell_type": "markdown",
   "metadata": {
    "id": "Nk4QVvQPUlJl"
   },
   "source": [
    "### **Part 1: Ridge Regularization (10 Points)**\n",
    "\n",
    "---\n"
   ]
  },
  {
   "cell_type": "markdown",
   "metadata": {
    "id": "GNXMw5bCndxQ"
   },
   "source": [
    ">>**1**\\. **(1 Point)** *Now we will use ridge regression, a method that is used to analyse data that suffers from multicollinearity. Notice the regularization term added to the optimization below, which uses the squared value of $β$. It is also known as L2 regularization. First, what is the degree of collinearity in the data? Show your work and give rationale for the degree of collinearity.*\n"
   ]
  },
  {
   "cell_type": "markdown",
   "metadata": {
    "id": "DEjwWVrrRKGs"
   },
   "source": [
    "\\begin{align}\n",
    "\\text{Ridge Regression}\n",
    "\\end{align}\n",
    " \n",
    " \n",
    " \\begin{align}\n",
    "        \\underset{\\beta}{\\operatorname{arg min}}\n",
    "        \\left[\\sum_{i=1}^n \\left( y_i - βo - \\sum_{j=1}^p β_jx_{ij}  \\right)^2 + λ\\sum_{j=1}^p|β_j|^2  \\right]\n",
    "    \\end{align}\n"
   ]
  },
  {
   "cell_type": "markdown",
   "metadata": {},
   "source": [
    "Using Correlation_matrix"
   ]
  },
  {
   "cell_type": "code",
   "execution_count": 58,
   "metadata": {},
   "outputs": [
    {
     "data": {
      "text/html": [
       "<div>\n",
       "<style scoped>\n",
       "    .dataframe tbody tr th:only-of-type {\n",
       "        vertical-align: middle;\n",
       "    }\n",
       "\n",
       "    .dataframe tbody tr th {\n",
       "        vertical-align: top;\n",
       "    }\n",
       "\n",
       "    .dataframe thead th {\n",
       "        text-align: right;\n",
       "    }\n",
       "</style>\n",
       "<table border=\"1\" class=\"dataframe\">\n",
       "  <thead>\n",
       "    <tr style=\"text-align: right;\">\n",
       "      <th></th>\n",
       "      <th>0</th>\n",
       "      <th>1</th>\n",
       "      <th>2</th>\n",
       "      <th>3</th>\n",
       "      <th>4</th>\n",
       "      <th>5</th>\n",
       "      <th>6</th>\n",
       "      <th>7</th>\n",
       "      <th>8</th>\n",
       "      <th>9</th>\n",
       "      <th>...</th>\n",
       "      <th>22484</th>\n",
       "      <th>22485</th>\n",
       "      <th>22486</th>\n",
       "      <th>22487</th>\n",
       "      <th>22488</th>\n",
       "      <th>22489</th>\n",
       "      <th>22490</th>\n",
       "      <th>22491</th>\n",
       "      <th>22492</th>\n",
       "      <th>22493</th>\n",
       "    </tr>\n",
       "  </thead>\n",
       "  <tbody>\n",
       "    <tr>\n",
       "      <th>0</th>\n",
       "      <td>1.000000</td>\n",
       "      <td>-0.120606</td>\n",
       "      <td>0.024609</td>\n",
       "      <td>0.612473</td>\n",
       "      <td>-0.256557</td>\n",
       "      <td>-0.082040</td>\n",
       "      <td>0.879364</td>\n",
       "      <td>-0.086599</td>\n",
       "      <td>0.198692</td>\n",
       "      <td>0.758853</td>\n",
       "      <td>...</td>\n",
       "      <td>-0.007529</td>\n",
       "      <td>-0.010443</td>\n",
       "      <td>0.015198</td>\n",
       "      <td>-0.001975</td>\n",
       "      <td>-0.020903</td>\n",
       "      <td>0.015851</td>\n",
       "      <td>0.014878</td>\n",
       "      <td>-0.012453</td>\n",
       "      <td>0.009996</td>\n",
       "      <td>-0.000688</td>\n",
       "    </tr>\n",
       "    <tr>\n",
       "      <th>1</th>\n",
       "      <td>-0.120606</td>\n",
       "      <td>1.000000</td>\n",
       "      <td>0.987928</td>\n",
       "      <td>-0.224377</td>\n",
       "      <td>0.848086</td>\n",
       "      <td>0.793126</td>\n",
       "      <td>-0.032677</td>\n",
       "      <td>0.866061</td>\n",
       "      <td>0.854135</td>\n",
       "      <td>-0.058106</td>\n",
       "      <td>...</td>\n",
       "      <td>-0.083585</td>\n",
       "      <td>0.008009</td>\n",
       "      <td>-0.018424</td>\n",
       "      <td>0.014342</td>\n",
       "      <td>-0.003904</td>\n",
       "      <td>-0.039152</td>\n",
       "      <td>-0.099530</td>\n",
       "      <td>-0.000755</td>\n",
       "      <td>0.011270</td>\n",
       "      <td>-0.016880</td>\n",
       "    </tr>\n",
       "    <tr>\n",
       "      <th>2</th>\n",
       "      <td>0.024609</td>\n",
       "      <td>0.987928</td>\n",
       "      <td>1.000000</td>\n",
       "      <td>-0.135492</td>\n",
       "      <td>0.823442</td>\n",
       "      <td>0.796310</td>\n",
       "      <td>0.098403</td>\n",
       "      <td>0.856921</td>\n",
       "      <td>0.891012</td>\n",
       "      <td>0.052365</td>\n",
       "      <td>...</td>\n",
       "      <td>-0.071448</td>\n",
       "      <td>0.004855</td>\n",
       "      <td>-0.016608</td>\n",
       "      <td>0.015793</td>\n",
       "      <td>-0.006173</td>\n",
       "      <td>-0.039815</td>\n",
       "      <td>-0.084680</td>\n",
       "      <td>-0.003816</td>\n",
       "      <td>0.011402</td>\n",
       "      <td>-0.014927</td>\n",
       "    </tr>\n",
       "    <tr>\n",
       "      <th>3</th>\n",
       "      <td>0.612473</td>\n",
       "      <td>-0.224377</td>\n",
       "      <td>-0.135492</td>\n",
       "      <td>1.000000</td>\n",
       "      <td>-0.255341</td>\n",
       "      <td>0.021565</td>\n",
       "      <td>0.244308</td>\n",
       "      <td>-0.046509</td>\n",
       "      <td>0.043659</td>\n",
       "      <td>0.930921</td>\n",
       "      <td>...</td>\n",
       "      <td>-0.019849</td>\n",
       "      <td>-0.015816</td>\n",
       "      <td>0.028557</td>\n",
       "      <td>-0.009650</td>\n",
       "      <td>-0.038827</td>\n",
       "      <td>0.034141</td>\n",
       "      <td>0.010353</td>\n",
       "      <td>-0.005486</td>\n",
       "      <td>0.004891</td>\n",
       "      <td>0.001102</td>\n",
       "    </tr>\n",
       "    <tr>\n",
       "      <th>4</th>\n",
       "      <td>-0.256557</td>\n",
       "      <td>0.848086</td>\n",
       "      <td>0.823442</td>\n",
       "      <td>-0.255341</td>\n",
       "      <td>1.000000</td>\n",
       "      <td>0.949631</td>\n",
       "      <td>-0.106986</td>\n",
       "      <td>0.753513</td>\n",
       "      <td>0.724942</td>\n",
       "      <td>-0.222763</td>\n",
       "      <td>...</td>\n",
       "      <td>-0.105099</td>\n",
       "      <td>0.025008</td>\n",
       "      <td>-0.029032</td>\n",
       "      <td>0.006772</td>\n",
       "      <td>-0.007686</td>\n",
       "      <td>-0.055252</td>\n",
       "      <td>-0.125295</td>\n",
       "      <td>0.024929</td>\n",
       "      <td>-0.012469</td>\n",
       "      <td>-0.019550</td>\n",
       "    </tr>\n",
       "    <tr>\n",
       "      <th>...</th>\n",
       "      <td>...</td>\n",
       "      <td>...</td>\n",
       "      <td>...</td>\n",
       "      <td>...</td>\n",
       "      <td>...</td>\n",
       "      <td>...</td>\n",
       "      <td>...</td>\n",
       "      <td>...</td>\n",
       "      <td>...</td>\n",
       "      <td>...</td>\n",
       "      <td>...</td>\n",
       "      <td>...</td>\n",
       "      <td>...</td>\n",
       "      <td>...</td>\n",
       "      <td>...</td>\n",
       "      <td>...</td>\n",
       "      <td>...</td>\n",
       "      <td>...</td>\n",
       "      <td>...</td>\n",
       "      <td>...</td>\n",
       "      <td>...</td>\n",
       "    </tr>\n",
       "    <tr>\n",
       "      <th>22489</th>\n",
       "      <td>0.015851</td>\n",
       "      <td>-0.039152</td>\n",
       "      <td>-0.039815</td>\n",
       "      <td>0.034141</td>\n",
       "      <td>-0.055252</td>\n",
       "      <td>-0.047494</td>\n",
       "      <td>-0.003583</td>\n",
       "      <td>-0.044450</td>\n",
       "      <td>-0.046848</td>\n",
       "      <td>0.033343</td>\n",
       "      <td>...</td>\n",
       "      <td>-0.054631</td>\n",
       "      <td>-0.060840</td>\n",
       "      <td>0.070790</td>\n",
       "      <td>-0.030660</td>\n",
       "      <td>-0.472165</td>\n",
       "      <td>1.000000</td>\n",
       "      <td>0.397435</td>\n",
       "      <td>-0.377820</td>\n",
       "      <td>0.217664</td>\n",
       "      <td>0.354785</td>\n",
       "    </tr>\n",
       "    <tr>\n",
       "      <th>22490</th>\n",
       "      <td>0.014878</td>\n",
       "      <td>-0.099530</td>\n",
       "      <td>-0.084680</td>\n",
       "      <td>0.010353</td>\n",
       "      <td>-0.125295</td>\n",
       "      <td>-0.110548</td>\n",
       "      <td>0.004193</td>\n",
       "      <td>-0.079386</td>\n",
       "      <td>-0.059919</td>\n",
       "      <td>0.023805</td>\n",
       "      <td>...</td>\n",
       "      <td>0.790426</td>\n",
       "      <td>-0.313320</td>\n",
       "      <td>-0.006361</td>\n",
       "      <td>0.356868</td>\n",
       "      <td>0.401174</td>\n",
       "      <td>0.397435</td>\n",
       "      <td>1.000000</td>\n",
       "      <td>-0.237018</td>\n",
       "      <td>0.070368</td>\n",
       "      <td>0.287129</td>\n",
       "    </tr>\n",
       "    <tr>\n",
       "      <th>22491</th>\n",
       "      <td>-0.012453</td>\n",
       "      <td>-0.000755</td>\n",
       "      <td>-0.003816</td>\n",
       "      <td>-0.005486</td>\n",
       "      <td>0.024929</td>\n",
       "      <td>0.022430</td>\n",
       "      <td>-0.007126</td>\n",
       "      <td>0.010453</td>\n",
       "      <td>0.005264</td>\n",
       "      <td>-0.015202</td>\n",
       "      <td>...</td>\n",
       "      <td>-0.170088</td>\n",
       "      <td>0.043822</td>\n",
       "      <td>-0.221466</td>\n",
       "      <td>0.239649</td>\n",
       "      <td>-0.109030</td>\n",
       "      <td>-0.377820</td>\n",
       "      <td>-0.237018</td>\n",
       "      <td>1.000000</td>\n",
       "      <td>-0.877203</td>\n",
       "      <td>-0.265395</td>\n",
       "    </tr>\n",
       "    <tr>\n",
       "      <th>22492</th>\n",
       "      <td>0.009996</td>\n",
       "      <td>0.011270</td>\n",
       "      <td>0.011402</td>\n",
       "      <td>0.004891</td>\n",
       "      <td>-0.012469</td>\n",
       "      <td>-0.013313</td>\n",
       "      <td>0.005108</td>\n",
       "      <td>-0.005643</td>\n",
       "      <td>-0.004567</td>\n",
       "      <td>0.011293</td>\n",
       "      <td>...</td>\n",
       "      <td>0.068714</td>\n",
       "      <td>-0.082118</td>\n",
       "      <td>0.209587</td>\n",
       "      <td>-0.154465</td>\n",
       "      <td>0.076752</td>\n",
       "      <td>0.217664</td>\n",
       "      <td>0.070368</td>\n",
       "      <td>-0.877203</td>\n",
       "      <td>1.000000</td>\n",
       "      <td>-0.215416</td>\n",
       "    </tr>\n",
       "    <tr>\n",
       "      <th>22493</th>\n",
       "      <td>-0.000688</td>\n",
       "      <td>-0.016880</td>\n",
       "      <td>-0.014927</td>\n",
       "      <td>0.001102</td>\n",
       "      <td>-0.019550</td>\n",
       "      <td>-0.016018</td>\n",
       "      <td>-0.002556</td>\n",
       "      <td>-0.007407</td>\n",
       "      <td>-0.005170</td>\n",
       "      <td>0.003863</td>\n",
       "      <td>...</td>\n",
       "      <td>0.088315</td>\n",
       "      <td>0.148918</td>\n",
       "      <td>-0.020721</td>\n",
       "      <td>-0.205117</td>\n",
       "      <td>0.035098</td>\n",
       "      <td>0.354785</td>\n",
       "      <td>0.287129</td>\n",
       "      <td>-0.265395</td>\n",
       "      <td>-0.215416</td>\n",
       "      <td>1.000000</td>\n",
       "    </tr>\n",
       "  </tbody>\n",
       "</table>\n",
       "<p>22494 rows × 22494 columns</p>\n",
       "</div>"
      ],
      "text/plain": [
       "          0         1         2         3         4         5         6      \\\n",
       "0      1.000000 -0.120606  0.024609  0.612473 -0.256557 -0.082040  0.879364   \n",
       "1     -0.120606  1.000000  0.987928 -0.224377  0.848086  0.793126 -0.032677   \n",
       "2      0.024609  0.987928  1.000000 -0.135492  0.823442  0.796310  0.098403   \n",
       "3      0.612473 -0.224377 -0.135492  1.000000 -0.255341  0.021565  0.244308   \n",
       "4     -0.256557  0.848086  0.823442 -0.255341  1.000000  0.949631 -0.106986   \n",
       "...         ...       ...       ...       ...       ...       ...       ...   \n",
       "22489  0.015851 -0.039152 -0.039815  0.034141 -0.055252 -0.047494 -0.003583   \n",
       "22490  0.014878 -0.099530 -0.084680  0.010353 -0.125295 -0.110548  0.004193   \n",
       "22491 -0.012453 -0.000755 -0.003816 -0.005486  0.024929  0.022430 -0.007126   \n",
       "22492  0.009996  0.011270  0.011402  0.004891 -0.012469 -0.013313  0.005108   \n",
       "22493 -0.000688 -0.016880 -0.014927  0.001102 -0.019550 -0.016018 -0.002556   \n",
       "\n",
       "          7         8         9      ...     22484     22485     22486  \\\n",
       "0     -0.086599  0.198692  0.758853  ... -0.007529 -0.010443  0.015198   \n",
       "1      0.866061  0.854135 -0.058106  ... -0.083585  0.008009 -0.018424   \n",
       "2      0.856921  0.891012  0.052365  ... -0.071448  0.004855 -0.016608   \n",
       "3     -0.046509  0.043659  0.930921  ... -0.019849 -0.015816  0.028557   \n",
       "4      0.753513  0.724942 -0.222763  ... -0.105099  0.025008 -0.029032   \n",
       "...         ...       ...       ...  ...       ...       ...       ...   \n",
       "22489 -0.044450 -0.046848  0.033343  ... -0.054631 -0.060840  0.070790   \n",
       "22490 -0.079386 -0.059919  0.023805  ...  0.790426 -0.313320 -0.006361   \n",
       "22491  0.010453  0.005264 -0.015202  ... -0.170088  0.043822 -0.221466   \n",
       "22492 -0.005643 -0.004567  0.011293  ...  0.068714 -0.082118  0.209587   \n",
       "22493 -0.007407 -0.005170  0.003863  ...  0.088315  0.148918 -0.020721   \n",
       "\n",
       "          22487     22488     22489     22490     22491     22492     22493  \n",
       "0     -0.001975 -0.020903  0.015851  0.014878 -0.012453  0.009996 -0.000688  \n",
       "1      0.014342 -0.003904 -0.039152 -0.099530 -0.000755  0.011270 -0.016880  \n",
       "2      0.015793 -0.006173 -0.039815 -0.084680 -0.003816  0.011402 -0.014927  \n",
       "3     -0.009650 -0.038827  0.034141  0.010353 -0.005486  0.004891  0.001102  \n",
       "4      0.006772 -0.007686 -0.055252 -0.125295  0.024929 -0.012469 -0.019550  \n",
       "...         ...       ...       ...       ...       ...       ...       ...  \n",
       "22489 -0.030660 -0.472165  1.000000  0.397435 -0.377820  0.217664  0.354785  \n",
       "22490  0.356868  0.401174  0.397435  1.000000 -0.237018  0.070368  0.287129  \n",
       "22491  0.239649 -0.109030 -0.377820 -0.237018  1.000000 -0.877203 -0.265395  \n",
       "22492 -0.154465  0.076752  0.217664  0.070368 -0.877203  1.000000 -0.215416  \n",
       "22493 -0.205117  0.035098  0.354785  0.287129 -0.265395 -0.215416  1.000000  \n",
       "\n",
       "[22494 rows x 22494 columns]"
      ]
     },
     "metadata": {},
     "output_type": "display_data"
    }
   ],
   "source": [
    "df_corr = pd.DataFrame(X)\n",
    "au_corr = df_corr.corr()\n",
    "display(au_corr)"
   ]
  },
  {
   "cell_type": "markdown",
   "metadata": {},
   "source": [
    "### Answer\n",
    "Plotted Correlation matrix for all the features in X, we can see that they're highly correlated for example feature 4 and feature 5 are correlated with value of 0.949631\n",
    "\n",
    "There is a high degree of collinearity in the data as many other columns exhibit similar characteristic another example of highly correlated features are 3 and 9"
   ]
  },
  {
   "cell_type": "markdown",
   "metadata": {},
   "source": [
    "Using Pearson's coefficient"
   ]
  },
  {
   "cell_type": "code",
   "execution_count": 59,
   "metadata": {
    "id": "j2C9lClOz1A1"
   },
   "outputs": [
    {
     "data": {
      "text/html": [
       "<div>\n",
       "<style scoped>\n",
       "    .dataframe tbody tr th:only-of-type {\n",
       "        vertical-align: middle;\n",
       "    }\n",
       "\n",
       "    .dataframe tbody tr th {\n",
       "        vertical-align: top;\n",
       "    }\n",
       "\n",
       "    .dataframe thead th {\n",
       "        text-align: right;\n",
       "    }\n",
       "</style>\n",
       "<table border=\"1\" class=\"dataframe\">\n",
       "  <thead>\n",
       "    <tr style=\"text-align: right;\">\n",
       "      <th></th>\n",
       "      <th>column</th>\n",
       "      <th>max_corr_column</th>\n",
       "      <th>max_corr</th>\n",
       "      <th>min_corr_column</th>\n",
       "      <th>min_corr</th>\n",
       "    </tr>\n",
       "  </thead>\n",
       "  <tbody>\n",
       "    <tr>\n",
       "      <th>0</th>\n",
       "      <td>0</td>\n",
       "      <td>24</td>\n",
       "      <td>0.990883</td>\n",
       "      <td>11420</td>\n",
       "      <td>-0.526933</td>\n",
       "    </tr>\n",
       "    <tr>\n",
       "      <th>1</th>\n",
       "      <td>1</td>\n",
       "      <td>22</td>\n",
       "      <td>0.987868</td>\n",
       "      <td>557</td>\n",
       "      <td>-0.562868</td>\n",
       "    </tr>\n",
       "    <tr>\n",
       "      <th>2</th>\n",
       "      <td>2</td>\n",
       "      <td>1</td>\n",
       "      <td>0.987558</td>\n",
       "      <td>473</td>\n",
       "      <td>-0.562414</td>\n",
       "    </tr>\n",
       "    <tr>\n",
       "      <th>3</th>\n",
       "      <td>3</td>\n",
       "      <td>69</td>\n",
       "      <td>0.988843</td>\n",
       "      <td>235</td>\n",
       "      <td>-0.549358</td>\n",
       "    </tr>\n",
       "    <tr>\n",
       "      <th>4</th>\n",
       "      <td>4</td>\n",
       "      <td>91</td>\n",
       "      <td>0.970264</td>\n",
       "      <td>11246</td>\n",
       "      <td>-0.480402</td>\n",
       "    </tr>\n",
       "    <tr>\n",
       "      <th>5</th>\n",
       "      <td>5</td>\n",
       "      <td>71</td>\n",
       "      <td>0.966713</td>\n",
       "      <td>11257</td>\n",
       "      <td>-0.499186</td>\n",
       "    </tr>\n",
       "    <tr>\n",
       "      <th>6</th>\n",
       "      <td>6</td>\n",
       "      <td>54</td>\n",
       "      <td>0.984978</td>\n",
       "      <td>11594</td>\n",
       "      <td>-0.473715</td>\n",
       "    </tr>\n",
       "    <tr>\n",
       "      <th>7</th>\n",
       "      <td>7</td>\n",
       "      <td>31</td>\n",
       "      <td>0.981602</td>\n",
       "      <td>674</td>\n",
       "      <td>-0.520705</td>\n",
       "    </tr>\n",
       "    <tr>\n",
       "      <th>8</th>\n",
       "      <td>8</td>\n",
       "      <td>104</td>\n",
       "      <td>0.979151</td>\n",
       "      <td>755</td>\n",
       "      <td>-0.533026</td>\n",
       "    </tr>\n",
       "    <tr>\n",
       "      <th>9</th>\n",
       "      <td>9</td>\n",
       "      <td>72</td>\n",
       "      <td>0.992724</td>\n",
       "      <td>11330</td>\n",
       "      <td>-0.538643</td>\n",
       "    </tr>\n",
       "    <tr>\n",
       "      <th>10</th>\n",
       "      <td>10</td>\n",
       "      <td>11</td>\n",
       "      <td>0.998497</td>\n",
       "      <td>548</td>\n",
       "      <td>-0.525648</td>\n",
       "    </tr>\n",
       "    <tr>\n",
       "      <th>11</th>\n",
       "      <td>11</td>\n",
       "      <td>10</td>\n",
       "      <td>0.998497</td>\n",
       "      <td>548</td>\n",
       "      <td>-0.517458</td>\n",
       "    </tr>\n",
       "    <tr>\n",
       "      <th>12</th>\n",
       "      <td>12</td>\n",
       "      <td>114</td>\n",
       "      <td>0.991158</td>\n",
       "      <td>538</td>\n",
       "      <td>-0.558260</td>\n",
       "    </tr>\n",
       "    <tr>\n",
       "      <th>13</th>\n",
       "      <td>13</td>\n",
       "      <td>115</td>\n",
       "      <td>0.991204</td>\n",
       "      <td>11243</td>\n",
       "      <td>-0.473634</td>\n",
       "    </tr>\n",
       "    <tr>\n",
       "      <th>14</th>\n",
       "      <td>14</td>\n",
       "      <td>116</td>\n",
       "      <td>0.990514</td>\n",
       "      <td>11209</td>\n",
       "      <td>-0.487238</td>\n",
       "    </tr>\n",
       "    <tr>\n",
       "      <th>15</th>\n",
       "      <td>15</td>\n",
       "      <td>3</td>\n",
       "      <td>0.986104</td>\n",
       "      <td>235</td>\n",
       "      <td>-0.547251</td>\n",
       "    </tr>\n",
       "    <tr>\n",
       "      <th>16</th>\n",
       "      <td>16</td>\n",
       "      <td>17</td>\n",
       "      <td>0.988469</td>\n",
       "      <td>614</td>\n",
       "      <td>-0.501555</td>\n",
       "    </tr>\n",
       "    <tr>\n",
       "      <th>17</th>\n",
       "      <td>17</td>\n",
       "      <td>16</td>\n",
       "      <td>0.988469</td>\n",
       "      <td>614</td>\n",
       "      <td>-0.498551</td>\n",
       "    </tr>\n",
       "    <tr>\n",
       "      <th>18</th>\n",
       "      <td>18</td>\n",
       "      <td>69</td>\n",
       "      <td>0.985766</td>\n",
       "      <td>400</td>\n",
       "      <td>-0.563684</td>\n",
       "    </tr>\n",
       "    <tr>\n",
       "      <th>19</th>\n",
       "      <td>19</td>\n",
       "      <td>70</td>\n",
       "      <td>0.969250</td>\n",
       "      <td>11251</td>\n",
       "      <td>-0.487977</td>\n",
       "    </tr>\n",
       "  </tbody>\n",
       "</table>\n",
       "</div>"
      ],
      "text/plain": [
       "    column  max_corr_column  max_corr  min_corr_column  min_corr\n",
       "0        0               24  0.990883            11420 -0.526933\n",
       "1        1               22  0.987868              557 -0.562868\n",
       "2        2                1  0.987558              473 -0.562414\n",
       "3        3               69  0.988843              235 -0.549358\n",
       "4        4               91  0.970264            11246 -0.480402\n",
       "5        5               71  0.966713            11257 -0.499186\n",
       "6        6               54  0.984978            11594 -0.473715\n",
       "7        7               31  0.981602              674 -0.520705\n",
       "8        8              104  0.979151              755 -0.533026\n",
       "9        9               72  0.992724            11330 -0.538643\n",
       "10      10               11  0.998497              548 -0.525648\n",
       "11      11               10  0.998497              548 -0.517458\n",
       "12      12              114  0.991158              538 -0.558260\n",
       "13      13              115  0.991204            11243 -0.473634\n",
       "14      14              116  0.990514            11209 -0.487238\n",
       "15      15                3  0.986104              235 -0.547251\n",
       "16      16               17  0.988469              614 -0.501555\n",
       "17      17               16  0.988469              614 -0.498551\n",
       "18      18               69  0.985766              400 -0.563684\n",
       "19      19               70  0.969250            11251 -0.487977"
      ]
     },
     "execution_count": 59,
     "metadata": {},
     "output_type": "execute_result"
    }
   ],
   "source": [
    "from scipy.stats import pearsonr\n",
    "\n",
    "df_corr_pc_dict ={\"column\":[],\"max_corr_column\":[], \"max_corr\":[], \"min_corr_column\":[],\"min_corr\":[]}\n",
    "for i in range(20):\n",
    "    min_corr = 1\n",
    "    max_corr = -1\n",
    "    max_corr_index = i\n",
    "    min_corr_index = i\n",
    "    df_corr_pc_dict[\"column\"].append(i)\n",
    "    for j in range(X_train.shape[1]):\n",
    "        if j!=i:\n",
    "            corr, _ = pearsonr(X_train[:,i], X_train[:,j])\n",
    "            max_corr_index = j if max_corr<corr else max_corr_index\n",
    "            max_corr = max(max_corr, corr)\n",
    "            min_corr_index = j if min_corr>corr else min_corr_index\n",
    "            min_corr = min(min_corr,corr)\n",
    "    df_corr_pc_dict[\"max_corr_column\"].append(max_corr_index)\n",
    "    df_corr_pc_dict[\"max_corr\"].append(max_corr)\n",
    "    df_corr_pc_dict[\"min_corr_column\"].append(min_corr_index)\n",
    "    df_corr_pc_dict[\"min_corr\"].append(min_corr)\n",
    "    \n",
    "df_corr_pc = pd.DataFrame.from_dict(df_corr_pc_dict)\n",
    "df_corr_pc"
   ]
  },
  {
   "cell_type": "code",
   "execution_count": 60,
   "metadata": {},
   "outputs": [
    {
     "data": {
      "text/plain": [
       "Text(0, 0.5, 'Feature 11')"
      ]
     },
     "execution_count": 60,
     "metadata": {},
     "output_type": "execute_result"
    },
    {
     "data": {
      "image/png": "[encoded data removed]",
      "text/plain": [
       "<Figure size 640x480 with 1 Axes>"
      ]
     },
     "metadata": {},
     "output_type": "display_data"
    }
   ],
   "source": [
    "plt.plot(X_train[:,10],X_train[:,11])\n",
    "plt.xlabel('Feature 10')\n",
    "plt.ylabel('Feature 11')"
   ]
  },
  {
   "cell_type": "markdown",
   "metadata": {},
   "source": [
    "### Answer\n",
    "For the first 20 features in X, there is always a column that is extremely correlated with the one of them as you can see feature 10 correlates with feature 11 with pearson coefficient of 0.998 which makes it highly correlated. The plot shows the same as well. \n",
    "\n",
    "There is a high degree of collinearity between Feature 10 and 11 as shown in the plot and Pearson Correlation value of 0.998"
   ]
  },
  {
   "cell_type": "markdown",
   "metadata": {
    "id": "uv3A1LH5zs-c"
   },
   "source": [
    ">>**1b**\\. **(2 Points)** *Now implement ridge regression using sklearn. Start with the default alpha value, and print the $R^2$ score*"
   ]
  },
  {
   "cell_type": "code",
   "execution_count": 61,
   "metadata": {
    "id": "51vepf1Ci1Ou"
   },
   "outputs": [
    {
     "name": "stdout",
     "output_type": "stream",
     "text": [
      "Ridge Regressor R2 score 0.14919226523568813\n"
     ]
    }
   ],
   "source": [
    "# Write your code here\n",
    "ridge_regression_model = Ridge(alpha=1.0)\n",
    "ridge_regression_model.fit(X_train, Y_train)\n",
    "\n",
    "Y_predicted = ridge_regression_model.predict(X_test)\n",
    "r2 = r2_score(Y_test, Y_predicted)\n",
    "print(\"Ridge Regressor R2 score\", r2)"
   ]
  },
  {
   "cell_type": "markdown",
   "metadata": {
    "id": "SM2On6G0oTvo"
   },
   "source": [
    ">>**2**\\. **(5 Points)** *Now we will look at what happens when varying the parameter. Try 10 different values for alpha and print the alpha value with corresponding $R^2$ score using Cross-Validation for training data. Describe how you pick the range of alpha values to examine.* \n",
    "\n"
   ]
  },
  {
   "cell_type": "markdown",
   "metadata": {},
   "source": [
    ">>[Place your reasoning for the alpha values here]\n",
    "\n",
    "### Answer\n",
    "Regularization strength - alpha; must be a positive float. Regularization improves the conditioning of the problem and reduces the variance of the estimates. Larger values specify stronger regularization. \n",
    "\n",
    "Constant that multiplies the L2 term, controlling regularization strength. alpha must be a non-negative float i.e. in [0, inf).\n",
    "When alpha = 0, the objective is equivalent to ordinary least squares, solved by the LinearRegression object. For numerical reasons, using alpha = 0 with the Ridge object is not advised. Instead, you should use the LinearRegression object.\n",
    "If an array is passed, penalties are assumed to be specific to the targets. \n",
    "\n",
    "Since the full range is [0,inf) - I have to find the point where it reaches peak and drops so I start with 0 to 100 then find peak and then narrow down the range.\n",
    "\n",
    "Step 1: Take a larger range like 1- 100\n",
    "\n",
    "Step 2: Then keep choosing smaller range based on the graph\n"
   ]
  },
  {
   "cell_type": "markdown",
   "metadata": {},
   "source": [
    "#### Using Ridge()  - This does not have Cross Validation - for multiple values of ${R_2}$ score ran it in loop"
   ]
  },
  {
   "cell_type": "code",
   "execution_count": 62,
   "metadata": {},
   "outputs": [
    {
     "name": "stdout",
     "output_type": "stream",
     "text": [
      "STEP 1\n",
      "\n"
     ]
    },
    {
     "name": "stderr",
     "output_type": "stream",
     "text": [
      "/Users/yamini/Library/Python/3.8/lib/python/site-packages/sklearn/linear_model/_ridge.py:251: UserWarning: Singular matrix in solving dual problem. Using least-squares solution instead.\n",
      "  warnings.warn(\n"
     ]
    },
    {
     "data": {
      "image/png": "[encoded data removed]",
      "text/plain": [
       "<Figure size 640x480 with 1 Axes>"
      ]
     },
     "metadata": {},
     "output_type": "display_data"
    },
    {
     "name": "stdout",
     "output_type": "stream",
     "text": [
      "Maximum Value of R2 is  0.14919226523568813  For alpha =  1.0\n",
      "ALPHA Range = (0.0,10.0)\n",
      "\n",
      "\n",
      "R2 Values [-5.746917370157363, 0.14919226523568813, 0.12527677455694664, 0.10428743215661752, 0.08757364390031402, 0.07417687168906552, 0.06325730171995889, 0.05420778457022158, 0.04659604342140648, 0.040110210991541016]\n",
      "for corresponding alpha List Values [0.0, 1.0, 2.0, 3.0, 4.0, 5.0, 6.0, 7.0, 8.0, 9.0]\n",
      "\n",
      "\n",
      "Since the graph has dipped after peaking at my alpha = 1.0 \n",
      "I am going to run it in the smaller set to find the exact value of alpha that is from 0.1 to 1\n",
      "\n",
      "\n",
      "STEP 2\n",
      "\n"
     ]
    },
    {
     "data": {
      "image/png": "[encoded data removed]",
      "text/plain": [
       "<Figure size 640x480 with 1 Axes>"
      ]
     },
     "metadata": {},
     "output_type": "display_data"
    },
    {
     "name": "stdout",
     "output_type": "stream",
     "text": [
      "Maximum Value of R2 is  0.15431850619077447  For alpha =  0.6\n",
      "ALPHA Range = (0.1,1.0)\n"
     ]
    }
   ],
   "source": [
    "def ridge_only(min_alpha, max_alpha, addition, divide=10):\n",
    "    \n",
    "    r2_list = []\n",
    "    alpha_list = []\n",
    "    max_r2 = float('-inf')\n",
    "    alpha_value = 0\n",
    "    for alpha in range(min_alpha, max_alpha, addition):\n",
    "        ridge_regression_model = Ridge(alpha=alpha/divide)\n",
    "        ridge_regression_model.fit(X_train, Y_train)\n",
    "        Y_predicted = ridge_regression_model.predict(X_test)\n",
    "        r2 = r2_score(Y_test, Y_predicted)\n",
    "        r2_list.append(r2)\n",
    "        alpha_list.append(alpha/divide)\n",
    "        alpha_value = float(alpha/divide) if max_r2 < r2 else alpha_value\n",
    "        max_r2 = r2 if max_r2 < r2 else max_r2\n",
    "\n",
    "\n",
    "    plt.plot(alpha_list,r2_list)\n",
    "    plt.xlabel('Alpha Values')\n",
    "    plt.ylabel('R2 Score')\n",
    "    plt.show()\n",
    "\n",
    "    print(\"Maximum Value of R2 is \",max_r2,\" For alpha = \",float(alpha_value))\n",
    "    print(\"ALPHA Range = (%s,%s)\" %(str(min_alpha/divide),str(max_alpha/divide)))\n",
    "    return max_r2, alpha_value, alpha_list, r2_list\n",
    "    \n",
    "    \n",
    "print(\"STEP 1\\n\")    \n",
    "max_r2, alpha_value, alpha_list, r2_list = ridge_only(0,100,10,10)\n",
    "print(\"\\n\\nR2 Values\", r2_list)\n",
    "print(\"for corresponding alpha List Values\", alpha_list)\n",
    "\n",
    "print(\"\\n\\nSince the graph has dipped after peaking at my alpha = %s \\nI am going to run it in the smaller set to find the exact value of alpha that is from 0.1 to 1\\n\\n\"%str(alpha_value))\n",
    "\n",
    "print(\"STEP 2\\n\")\n",
    "max_r2, alpha_value,_,_ = ridge_only(1,10,1,10)\n",
    "\n"
   ]
  },
  {
   "cell_type": "code",
   "execution_count": 13,
   "metadata": {},
   "outputs": [
    {
     "name": "stdout",
     "output_type": "stream",
     "text": [
      "STEP 3\n"
     ]
    },
    {
     "data": {
      "image/png": "[encoded data removed]",
      "text/plain": [
       "<Figure size 640x480 with 1 Axes>"
      ]
     },
     "metadata": {},
     "output_type": "display_data"
    },
    {
     "name": "stdout",
     "output_type": "stream",
     "text": [
      "Maximum Value of R2 is  0.15432936240008743  For alpha =  0.61\n",
      "ALPHA Range = (0.4,0.78)\n"
     ]
    }
   ],
   "source": [
    "print(\"STEP 3\")\n",
    "max_r2, alpha_value,_,_ = ridge_only(40,78,1,100)"
   ]
  },
  {
   "cell_type": "markdown",
   "metadata": {},
   "source": [
    "#### Using RidgeCV because this has built in CrossValidation Ridge by default performs efficient Leave-One-Out Cross-Validation.\n",
    "running it in loop to get different ${R_2}$ values "
   ]
  },
  {
   "cell_type": "code",
   "execution_count": 14,
   "metadata": {},
   "outputs": [
    {
     "name": "stdout",
     "output_type": "stream",
     "text": [
      "Step 1\n"
     ]
    },
    {
     "data": {
      "image/png": "[encoded data removed]",
      "text/plain": [
       "<Figure size 640x480 with 1 Axes>"
      ]
     },
     "metadata": {},
     "output_type": "display_data"
    },
    {
     "name": "stdout",
     "output_type": "stream",
     "text": [
      "Maximum Value of R² is  0.14919226523568802  For alpha =  1.0\n",
      "ALPHA Range = (1.0,10.0)\n",
      "\n",
      "\n",
      "Since the graph has dipped after R\u0000b2 score peaking when alpha was around 1.0 \n",
      "I am going to run it in the smaller set to find the exact value of alpha that is from 0.1 to 1\n",
      "\n",
      "\n",
      "Step 2\n"
     ]
    },
    {
     "data": {
      "image/png": "[encoded data removed]",
      "text/plain": [
       "<Figure size 640x480 with 1 Axes>"
      ]
     },
     "metadata": {},
     "output_type": "display_data"
    },
    {
     "name": "stdout",
     "output_type": "stream",
     "text": [
      "Maximum Value of R² is  0.15431850619077397  For alpha =  0.6\n",
      "ALPHA Range = (0.1,1.0)\n"
     ]
    }
   ],
   "source": [
    "def ridge_withcv(min_alpha, max_alpha, addition, divide):\n",
    "    r2_list = []\n",
    "    alpha_list = []\n",
    "    max_r2 = -100\n",
    "    alpha_value = 0\n",
    "    for alpha in range(min_alpha, max_alpha, addition):\n",
    "        ridge_regression_model = RidgeCV([alpha/divide])\n",
    "        ridge_regression_model.fit(X_train, Y_train)\n",
    "        Y_predicted = ridge_regression_model.predict(X_test)\n",
    "        r2 = r2_score(Y_test, Y_predicted)\n",
    "        r2_list.append(r2)\n",
    "        alpha_list.append(alpha/divide)\n",
    "        alpha_value = float(alpha/divide) if max_r2 < r2 else alpha_value\n",
    "        max_r2 = r2 if max_r2 < r2 else max_r2\n",
    "\n",
    "\n",
    "    plt.plot(alpha_list,r2_list)\n",
    "    plt.xlabel('Alpha Values')\n",
    "    plt.ylabel('R2 Score')\n",
    "    plt.show()\n",
    "    print(\"Maximum Value of R\\u00b2 is \",max_r2,\" For alpha = \",float(alpha_value))\n",
    "    print(\"ALPHA Range = (%s,%s)\" %(str(min_alpha/divide),str(max_alpha/divide)))\n",
    "    return max_r2, alpha_value\n",
    "\n",
    "print(\"Step 1\")\n",
    "max_r2, alpha_value = ridge_withcv(10,100,10,10)\n",
    "\n",
    "print(\"\\n\\nSince the graph has dipped after R\\000b2 score peaking when alpha was around %s \\nI am going to run it in the smaller set to find the exact value of alpha that is from 0.1 to 1\\n\\n\" %str(alpha_value))\n",
    "print(\"Step 2\")\n",
    "max_r2, alpha_value = ridge_withcv(1,10,1,10)\n"
   ]
  },
  {
   "cell_type": "code",
   "execution_count": 15,
   "metadata": {},
   "outputs": [
    {
     "name": "stdout",
     "output_type": "stream",
     "text": [
      "Step 3\n"
     ]
    },
    {
     "data": {
      "image/png": "[encoded data removed]",
      "text/plain": [
       "<Figure size 640x480 with 1 Axes>"
      ]
     },
     "metadata": {},
     "output_type": "display_data"
    },
    {
     "name": "stdout",
     "output_type": "stream",
     "text": [
      "Maximum Value of R² is  0.15432936240008688  For alpha =  0.61\n",
      "ALPHA Range = (0.4,0.78)\n"
     ]
    }
   ],
   "source": [
    "print(\"Step 3\")\n",
    "max_r2, alpha_value = ridge_withcv(40,78,1,100)"
   ]
  },
  {
   "cell_type": "code",
   "execution_count": null,
   "metadata": {},
   "outputs": [],
   "source": [
    "r_alphas = []\n",
    "for i in range(20,78,1):\n",
    "    r_alphas.append(float(i/100))\n",
    "ridge_model = RidgeCV(alphas=r_alphas, scoring='r2')\n",
    "ridge_model = ridge_model.fit(X_train, Y_train)\n",
    "print(ridge_model.alpha_)\n"
   ]
  },
  {
   "cell_type": "markdown",
   "metadata": {
    "id": "LiNCKowIpao5"
   },
   "source": [
    ">>**3**\\. **(2 Points)** What is the highest $R^2$ you can achieve?"
   ]
  },
  {
   "cell_type": "code",
   "execution_count": 16,
   "metadata": {},
   "outputs": [
    {
     "name": "stdout",
     "output_type": "stream",
     "text": [
      " Highest R² that can be achieved for this particular dataset is 0.154329 and that is at alpha = 0.610000\n"
     ]
    }
   ],
   "source": [
    "print(\" Highest R\\u00b2 that can be achieved for this particular dataset is %f and that is at alpha = %f\" %(max_r2, alpha_value))"
   ]
  },
  {
   "cell_type": "markdown",
   "metadata": {
    "id": "IPgtwSADUlGf"
   },
   "source": [
    "### **Part 2: Lasso Regularization (12 Points)**\n",
    "\n",
    "---\n"
   ]
  },
  {
   "cell_type": "markdown",
   "metadata": {
    "id": "TGFMIM1UqaBV"
   },
   "source": [
    ">>**1**\\. **(3 Points)** *Another method often used to improve performance is Lasso regularization. Lasso regression improves performance by using shrinkage, where data values are shrunk towards a central point, like the mean. Lasso regression performs L1 regularization, which adds a penalty equal to the absolute value of the magnitude of coefficients. This can result in sparse models with few coefficients. Some of the coefficients can become zero and eliminated from the model. Implement this using sklearn with default parameter values and print the $R^2$ score*"
   ]
  },
  {
   "cell_type": "code",
   "execution_count": 33,
   "metadata": {},
   "outputs": [
    {
     "name": "stdout",
     "output_type": "stream",
     "text": [
      "Alpha Value = 1.0\n",
      "R² = -0.03926823982754499\n"
     ]
    }
   ],
   "source": [
    "lasso_regression_model = Lasso(alpha=1.0)\n",
    "lasso_regression_model.fit(X_train, Y_train)\n",
    "Y_predicted = lasso_regression_model.predict(X_test)\n",
    "r2 = r2_score(Y_test, Y_predicted)\n",
    "print(\"Alpha Value =\",1.0)\n",
    "print(\"R\\u00b2 =\",r2)"
   ]
  },
  {
   "cell_type": "markdown",
   "metadata": {
    "id": "5KLG8kwzSovn"
   },
   "source": [
    " \\begin{align}\n",
    "\\text{LASSO Regression}\n",
    "\\end{align}\n",
    " \n",
    " \n",
    " \n",
    " \\begin{align}\n",
    "        \\underset{\\beta}{\\operatorname{arg min}}\n",
    "        \\left[\\sum_{i=1}^n \\left( y_i - βo - \\sum_{j=1}^p β_jx_ij  \\right)^2 + λ\\sum_{j=1}^p|β_j|  \\right]\n",
    "    \\end{align}"
   ]
  },
  {
   "cell_type": "markdown",
   "metadata": {
    "id": "8rQQ1FbAqfZk"
   },
   "source": [
    ">>**2**\\. **(5 Points)** *Try 10 different values for the regularization parameter Alpha and print the alpha value with corresponding $R^2$ score using cross-validation. Again, give your reasoning for the choices of alpha. If you choose to tune any other hyperparameters of the model then justify your reason for it* \n"
   ]
  },
  {
   "cell_type": "markdown",
   "metadata": {},
   "source": [
    "### Answer : \n",
    "\n",
    "Constant that multiplies the L1 term, controlling regularization strength. alpha must be a non-negative float i.e. in [0, inf).\n",
    "When alpha = 0, the objective is equivalent to ordinary least squares, solved by the LinearRegression object. For numerical reasons, using alpha = 0 with the Lasso object is not advised.\n",
    "\n",
    "Step 1: Take a larger range like 1- 100 and then focus on smaller range based on the peak\n",
    "Step 2: Then keep choosing smaller range based on the graph"
   ]
  },
  {
   "cell_type": "markdown",
   "metadata": {},
   "source": [
    ">>**3**\\. **(2 Point)** *Plot a graph for different Alpha values and corresponding R^2 score. Explain the shape of the curve.*"
   ]
  },
  {
   "cell_type": "markdown",
   "metadata": {},
   "source": [
    "Using Lasso() - This does not have Cross Validation but gives multiple values for  𝑅2  score so ran it in loop"
   ]
  },
  {
   "cell_type": "code",
   "execution_count": 18,
   "metadata": {},
   "outputs": [
    {
     "name": "stdout",
     "output_type": "stream",
     "text": [
      "STEP 1\n"
     ]
    },
    {
     "data": {
      "image/png": "[encoded data removed]",
      "text/plain": [
       "<Figure size 640x480 with 1 Axes>"
      ]
     },
     "metadata": {},
     "output_type": "display_data"
    },
    {
     "name": "stdout",
     "output_type": "stream",
     "text": [
      "Maximum Value of R² is  -0.03926823982754499  For alpha =  0.1  for alpha in range (0.1,10.0)\n",
      "\n",
      "\n",
      "The graph is is straight line so looking at a range smaller than that like 0-1 to see if there is any change in the graph\n",
      "\n",
      "\n",
      "STEP 2\n"
     ]
    },
    {
     "data": {
      "image/png": "[encoded data removed]",
      "text/plain": [
       "<Figure size 640x480 with 1 Axes>"
      ]
     },
     "metadata": {},
     "output_type": "display_data"
    },
    {
     "name": "stdout",
     "output_type": "stream",
     "text": [
      "Maximum Value of R² is  0.12745910238230518  For alpha =  0.001  for alpha in range (0.001,0.01)\n",
      "Peaking at 0.1 so drilling further down\n"
     ]
    }
   ],
   "source": [
    "from sklearn import linear_model\n",
    "def lasso_only(min_alpha, max_alpha, addition, divide=1000):\n",
    "    r2_list = []\n",
    "    alpha_list = []\n",
    "    max_r2 = float('-inf')\n",
    "    alpha_value = 0\n",
    "    for alpha in range(min_alpha, max_alpha, addition):\n",
    "        lasso_regression_model = Lasso(alpha=alpha/divide)\n",
    "        lasso_regression_model.fit(X_train, Y_train)\n",
    "        Y_predicted = lasso_regression_model.predict(X_test)\n",
    "        r2 = r2_score(Y_test, Y_predicted)\n",
    "        r2_list.append(r2)\n",
    "        alpha_list.append(alpha/10)\n",
    "        alpha_value = float(alpha/divide) if max_r2 < r2 else alpha_value\n",
    "        max_r2 = r2 if max_r2 < r2 else max_r2\n",
    "\n",
    "\n",
    "    plt.plot(alpha_list,r2_list)\n",
    "    plt.xlabel('Alpha Values')\n",
    "    plt.ylabel('R2 Score')\n",
    "    plt.show()\n",
    "\n",
    "    print(\"Maximum Value of R\\u00b2 is \",max_r2,\" For alpha = \",str(alpha_value),\" for alpha in range (%s,%s)\" %(str(min_alpha/divide),str(max_alpha/divide)))\n",
    "    return \n",
    "\n",
    "print(\"STEP 1\")\n",
    "lasso_only(1,100,10,10)\n",
    "print(\"\\n\\nThe graph is is straight line so looking at a range smaller than that like 0-1 to see if there is any change in the graph\\n\\n\")\n",
    "\n",
    "\n",
    "print(\"STEP 2\")\n",
    "lasso_only(1,10,1,1000)\n",
    "print(\"Peaking at 0.1 so drilling further down\")"
   ]
  },
  {
   "cell_type": "code",
   "execution_count": 19,
   "metadata": {},
   "outputs": [
    {
     "data": {
      "image/png": "[encoded data removed]",
      "text/plain": [
       "<Figure size 640x480 with 1 Axes>"
      ]
     },
     "metadata": {},
     "output_type": "display_data"
    },
    {
     "name": "stdout",
     "output_type": "stream",
     "text": [
      "Maximum Value of R² is  0.225159717797278  For alpha =  0.0002  for alpha in range (0.0002,0.002)\n",
      "Peaking at 0.002 so drilling further down\n"
     ]
    }
   ],
   "source": [
    "lasso_only(1,10,1,5000)\n",
    "print(\"Peaking at 0.002 so drilling further down\")"
   ]
  },
  {
   "cell_type": "code",
   "execution_count": 20,
   "metadata": {},
   "outputs": [
    {
     "data": {
      "image/png": "[encoded data removed]",
      "text/plain": [
       "<Figure size 640x480 with 1 Axes>"
      ]
     },
     "metadata": {},
     "output_type": "display_data"
    },
    {
     "name": "stdout",
     "output_type": "stream",
     "text": [
      "Maximum Value of R² is  0.2268112668810068  For alpha =  0.0003  for alpha in range (0.0001,0.001)\n"
     ]
    }
   ],
   "source": [
    "lasso_only(1,10,1,10000)"
   ]
  },
  {
   "cell_type": "markdown",
   "metadata": {
    "id": "Fq0XbNHguSbR"
   },
   "source": [
    ">>[Provide your explanation here]\n",
    "\n",
    "\n",
    "### ANSWER\n",
    "For alpha values greater than 0.3 turns all coefficent of features 0 that's why there is no change in ${R^2}$ value after that and it stays constant as\n",
    "alpha values increases, coefficient for features becomes 0 thereby having constant ${R^2}$"
   ]
  },
  {
   "cell_type": "markdown",
   "metadata": {
    "id": "xdkEoOGbuRNb"
   },
   "source": [
    ">>**4**\\. **(2 Point)** *Which of the following two methods of Regularization worked better and why?*\n"
   ]
  },
  {
   "cell_type": "markdown",
   "metadata": {},
   "source": [
    "### ANSWER\n",
    "\n",
    "L1 gave 0.2268112668810068 ${R^2}$ for alpha = 0.0003\n",
    "\n",
    "L2 gave 0.15432936240008688 ${R^2}$ for alpha = 0.61\n",
    "\n",
    "Since there is high collinearity among the features in X as shown in the Pearson coefficient between feature 10 and 11, L1 works better as it moves the coefficient to 0 and removes the feature from being used unlike L2 that shrinks coefficients evenly.\n",
    "\n",
    "The lasso regression algorithm suggests a simple, sparse models (i.e. models with fewer parameters), which is well-suited for models or data showing high levels of multicollinearity or when we would like to automate certain parts of model selection, like variable selection or parameter elimination using feature engineering.\n",
    "\n",
    "Lasso Regression algorithm utilises L1 regularization technique It is taken into consideration when there are more number of features because it automatically performs feature selection. In our case no of features are high so feature selecction might be a useful technique\n",
    "\n",
    "On the other hand, Ridge might not be a good regression model in this case if the collinearity in the dataset is very high as then there can be some bias value. Also since ridge can only shrink and cannot equate the coefficent to 0. Therefore Lasso regression ${R^2}$ score is better than Ridge Regression"
   ]
  },
  {
   "cell_type": "markdown",
   "metadata": {
    "id": "VhOIkUtKUpDk"
   },
   "source": [
    "### **Part 3: Logistic Regression (5 Points)**\n",
    "\n",
    "---\n"
   ]
  },
  {
   "cell_type": "markdown",
   "metadata": {
    "id": "G8i6VvqmpUN4"
   },
   "source": [
    "**1. (1 point)** Now let's consider logistic regression. What is the difference betweeen a linear and logistic regression problem? Explain. (You may take the example of the dataset and task used in this assignment to explain how it would look different for a logistic regression problem)"
   ]
  },
  {
   "cell_type": "markdown",
   "metadata": {},
   "source": [
    "### ANSWER\n",
    "\n",
    "Linear regression is used to predict the continuous dependent variable using a given set of independent variables. \n",
    "Logistic Regression is used to predict the categorical dependent variable using a given set of independent variables like a classification problem.\n",
    "\n",
    "\n",
    "If we convert the dataset to categorical variable and make X a set of independent variable then we can use logistic regression.\n",
    "Example we can use Feature 10 in X and converting Y to 2 class target that is True and False\n"
   ]
  },
  {
   "cell_type": "markdown",
   "metadata": {},
   "source": [
    "#### Feature Selection in X such that features in X are independent\n",
    "\n",
    "X : I am using Feature 10 as it is highly correlated to Feature 11 and other columns(Given below) so for maintaining independant variables input is Feature 10 and output Y is 2 class variable\n",
    "\n"
   ]
  },
  {
   "cell_type": "code",
   "execution_count": null,
   "metadata": {},
   "outputs": [],
   "source": []
  },
  {
   "cell_type": "code",
   "execution_count": 21,
   "metadata": {},
   "outputs": [
    {
     "name": "stdout",
     "output_type": "stream",
     "text": [
      "X Input TRANSFORMATION\n"
     ]
    },
    {
     "data": {
      "text/html": [
       "<div>\n",
       "<style scoped>\n",
       "    .dataframe tbody tr th:only-of-type {\n",
       "        vertical-align: middle;\n",
       "    }\n",
       "\n",
       "    .dataframe tbody tr th {\n",
       "        vertical-align: top;\n",
       "    }\n",
       "\n",
       "    .dataframe thead th {\n",
       "        text-align: right;\n",
       "    }\n",
       "</style>\n",
       "<table border=\"1\" class=\"dataframe\">\n",
       "  <thead>\n",
       "    <tr style=\"text-align: right;\">\n",
       "      <th></th>\n",
       "      <th>Feature I</th>\n",
       "      <th>Feature II</th>\n",
       "      <th>corr</th>\n",
       "    </tr>\n",
       "  </thead>\n",
       "  <tbody>\n",
       "    <tr>\n",
       "      <th>0</th>\n",
       "      <td>10</td>\n",
       "      <td>0</td>\n",
       "      <td>0.019933</td>\n",
       "    </tr>\n",
       "    <tr>\n",
       "      <th>1</th>\n",
       "      <td>10</td>\n",
       "      <td>1</td>\n",
       "      <td>0.887930</td>\n",
       "    </tr>\n",
       "    <tr>\n",
       "      <th>2</th>\n",
       "      <td>10</td>\n",
       "      <td>2</td>\n",
       "      <td>0.892406</td>\n",
       "    </tr>\n",
       "    <tr>\n",
       "      <th>3</th>\n",
       "      <td>10</td>\n",
       "      <td>3</td>\n",
       "      <td>-0.130038</td>\n",
       "    </tr>\n",
       "    <tr>\n",
       "      <th>4</th>\n",
       "      <td>10</td>\n",
       "      <td>4</td>\n",
       "      <td>0.781151</td>\n",
       "    </tr>\n",
       "    <tr>\n",
       "      <th>5</th>\n",
       "      <td>10</td>\n",
       "      <td>5</td>\n",
       "      <td>0.742974</td>\n",
       "    </tr>\n",
       "    <tr>\n",
       "      <th>6</th>\n",
       "      <td>10</td>\n",
       "      <td>6</td>\n",
       "      <td>0.141554</td>\n",
       "    </tr>\n",
       "    <tr>\n",
       "      <th>7</th>\n",
       "      <td>10</td>\n",
       "      <td>7</td>\n",
       "      <td>0.596102</td>\n",
       "    </tr>\n",
       "    <tr>\n",
       "      <th>8</th>\n",
       "      <td>10</td>\n",
       "      <td>8</td>\n",
       "      <td>0.645276</td>\n",
       "    </tr>\n",
       "    <tr>\n",
       "      <th>9</th>\n",
       "      <td>10</td>\n",
       "      <td>9</td>\n",
       "      <td>-0.026702</td>\n",
       "    </tr>\n",
       "    <tr>\n",
       "      <th>10</th>\n",
       "      <td>10</td>\n",
       "      <td>11</td>\n",
       "      <td>0.998497</td>\n",
       "    </tr>\n",
       "  </tbody>\n",
       "</table>\n",
       "</div>"
      ],
      "text/plain": [
       "    Feature I  Feature II      corr\n",
       "0          10           0  0.019933\n",
       "1          10           1  0.887930\n",
       "2          10           2  0.892406\n",
       "3          10           3 -0.130038\n",
       "4          10           4  0.781151\n",
       "5          10           5  0.742974\n",
       "6          10           6  0.141554\n",
       "7          10           7  0.596102\n",
       "8          10           8  0.645276\n",
       "9          10           9 -0.026702\n",
       "10         10          11  0.998497"
      ]
     },
     "execution_count": 21,
     "metadata": {},
     "output_type": "execute_result"
    }
   ],
   "source": [
    "print(\"X Input TRANSFORMATION\")\n",
    "from scipy.stats import pearsonr\n",
    "\n",
    "df_dict ={\"Feature I\":[],\"Feature II\":[], \"corr\":[]}\n",
    "\n",
    "i=10\n",
    "for j in range(0,12,1):\n",
    "    if j!=i:\n",
    "        corr, _ = pearsonr(X_train[:,i], X_train[:,j])\n",
    "        df_dict[\"corr\"].append(corr)\n",
    "        df_dict[\"Feature II\"].append(j)\n",
    "        df_dict[\"Feature I\"].append(i)\n",
    "    \n",
    "df = pd.DataFrame.from_dict(df_dict)\n",
    "df"
   ]
  },
  {
   "cell_type": "markdown",
   "metadata": {},
   "source": [
    "### ANSWER\n",
    "\n",
    "Y : Y is a 85 output variable and as you can see down the maximum and minimum 85 variables vary from -ve to +ve so values>0 is True and values<0 False,\n",
    "Out of 85 values whichever is majority is the class value,\n",
    "Example if out of 85 features no of positive values> no of negative values then it belongs to Class True and \n",
    "                           if no of positive values< no of negative values then it belongs to Class False "
   ]
  },
  {
   "cell_type": "code",
   "execution_count": 22,
   "metadata": {},
   "outputs": [
    {
     "name": "stdout",
     "output_type": "stream",
     "text": [
      "Y Transformation\n"
     ]
    },
    {
     "data": {
      "text/html": [
       "<div>\n",
       "<style scoped>\n",
       "    .dataframe tbody tr th:only-of-type {\n",
       "        vertical-align: middle;\n",
       "    }\n",
       "\n",
       "    .dataframe tbody tr th {\n",
       "        vertical-align: top;\n",
       "    }\n",
       "\n",
       "    .dataframe thead th {\n",
       "        text-align: right;\n",
       "    }\n",
       "</style>\n",
       "<table border=\"1\" class=\"dataframe\">\n",
       "  <thead>\n",
       "    <tr style=\"text-align: right;\">\n",
       "      <th></th>\n",
       "      <th>X</th>\n",
       "      <th>Y</th>\n",
       "      <th>X_min</th>\n",
       "      <th>X_max</th>\n",
       "      <th>Y_min</th>\n",
       "      <th>Y_max</th>\n",
       "    </tr>\n",
       "  </thead>\n",
       "  <tbody>\n",
       "    <tr>\n",
       "      <th>0</th>\n",
       "      <td>[0.0, 0.0, 0.0, 0.0, 0.0, 0.0, 0.0, 0.0, 0.0, ...</td>\n",
       "      <td>[0.0, 0.0, 0.0, 0.0, 0.0, 0.0, 0.0, 0.0, 0.0, ...</td>\n",
       "      <td>0.000000</td>\n",
       "      <td>0.000000</td>\n",
       "      <td>0.000000</td>\n",
       "      <td>0.000000</td>\n",
       "    </tr>\n",
       "    <tr>\n",
       "      <th>1</th>\n",
       "      <td>[0.0, 0.0, 0.0, 0.0, 0.0, 0.0, 0.0, 0.0, 0.0, ...</td>\n",
       "      <td>[0.0, 0.0, 0.0, 0.0, 0.0, 0.0, 0.0, 0.0, 0.0, ...</td>\n",
       "      <td>0.000000</td>\n",
       "      <td>0.000000</td>\n",
       "      <td>0.000000</td>\n",
       "      <td>0.000000</td>\n",
       "    </tr>\n",
       "    <tr>\n",
       "      <th>2</th>\n",
       "      <td>[0.0, 0.0, 0.0, 0.0, 0.0, 0.0, 0.0, 0.0, 0.0, ...</td>\n",
       "      <td>[0.0, 0.0, 0.0, 0.0, 0.0, 0.0, 0.0, 0.0, 0.0, ...</td>\n",
       "      <td>0.000000</td>\n",
       "      <td>0.000000</td>\n",
       "      <td>0.000000</td>\n",
       "      <td>0.000000</td>\n",
       "    </tr>\n",
       "    <tr>\n",
       "      <th>3</th>\n",
       "      <td>[-0.005298272870862167, 0.004912682004587315, ...</td>\n",
       "      <td>[-0.09276204596036008, -0.08985079131166167, -...</td>\n",
       "      <td>-0.026475</td>\n",
       "      <td>0.020312</td>\n",
       "      <td>-0.228192</td>\n",
       "      <td>0.335355</td>\n",
       "    </tr>\n",
       "    <tr>\n",
       "      <th>4</th>\n",
       "      <td>[-0.015229694817309507, 0.0005905057848969534,...</td>\n",
       "      <td>[0.012418027849942948, -0.005698385917103518, ...</td>\n",
       "      <td>-0.032046</td>\n",
       "      <td>0.028179</td>\n",
       "      <td>-0.254572</td>\n",
       "      <td>0.280697</td>\n",
       "    </tr>\n",
       "  </tbody>\n",
       "</table>\n",
       "</div>"
      ],
      "text/plain": [
       "                                                   X  \\\n",
       "0  [0.0, 0.0, 0.0, 0.0, 0.0, 0.0, 0.0, 0.0, 0.0, ...   \n",
       "1  [0.0, 0.0, 0.0, 0.0, 0.0, 0.0, 0.0, 0.0, 0.0, ...   \n",
       "2  [0.0, 0.0, 0.0, 0.0, 0.0, 0.0, 0.0, 0.0, 0.0, ...   \n",
       "3  [-0.005298272870862167, 0.004912682004587315, ...   \n",
       "4  [-0.015229694817309507, 0.0005905057848969534,...   \n",
       "\n",
       "                                                   Y     X_min     X_max  \\\n",
       "0  [0.0, 0.0, 0.0, 0.0, 0.0, 0.0, 0.0, 0.0, 0.0, ...  0.000000  0.000000   \n",
       "1  [0.0, 0.0, 0.0, 0.0, 0.0, 0.0, 0.0, 0.0, 0.0, ...  0.000000  0.000000   \n",
       "2  [0.0, 0.0, 0.0, 0.0, 0.0, 0.0, 0.0, 0.0, 0.0, ...  0.000000  0.000000   \n",
       "3  [-0.09276204596036008, -0.08985079131166167, -... -0.026475  0.020312   \n",
       "4  [0.012418027849942948, -0.005698385917103518, ... -0.032046  0.028179   \n",
       "\n",
       "      Y_min     Y_max  \n",
       "0  0.000000  0.000000  \n",
       "1  0.000000  0.000000  \n",
       "2  0.000000  0.000000  \n",
       "3 -0.228192  0.335355  \n",
       "4 -0.254572  0.280697  "
      ]
     },
     "execution_count": 22,
     "metadata": {},
     "output_type": "execute_result"
    }
   ],
   "source": [
    "print(\"Y Transformation\")\n",
    "df_dataset.head()"
   ]
  },
  {
   "cell_type": "markdown",
   "metadata": {
    "id": "Fl7oTpmzpepi"
   },
   "source": [
    "**2. (1 point )** Following your answer in the previous question, convert the dataset such that for the same outcome prediction task, a logistic regression is suitable. "
   ]
  },
  {
   "cell_type": "code",
   "execution_count": 26,
   "metadata": {
    "id": "Qa-oc14pUevH"
   },
   "outputs": [
    {
     "name": "stdout",
     "output_type": "stream",
     "text": [
      "This has comparitively equal no of both classes\n",
      "Y values [False  True] [145 160]\n"
     ]
    }
   ],
   "source": [
    "Y_logistic = Y>0\n",
    "Y_logistic_single = []\n",
    "\n",
    "for Y_temp in Y_logistic:\n",
    "    y_temp = False\n",
    "    count = 0\n",
    "    for y in Y_temp:\n",
    "        if y == True:\n",
    "            count+=1\n",
    "            \n",
    "    if count>42:\n",
    "        y_temp = True\n",
    "        \n",
    "    Y_logistic_single.append(y_temp)\n",
    "\n",
    "Y_logistic_single = np.asarray(Y_logistic_single)\n",
    "unique, counts = np.unique(Y_logistic_single, return_counts=True)\n",
    "print(\"This has comparitively equal no of both classes\")\n",
    "print(\"Y values\", unique, counts)"
   ]
  },
  {
   "cell_type": "code",
   "execution_count": 27,
   "metadata": {},
   "outputs": [],
   "source": [
    "X_logistic =[]\n",
    "for i in X[:,10]:\n",
    "    X_logistic.append([i])"
   ]
  },
  {
   "cell_type": "markdown",
   "metadata": {
    "id": "rK_yMcwjpk8h"
   },
   "source": [
    "**3. (1 point)** Split this new dataset into training and testing with a 2:1 split. Implement logistic regression. "
   ]
  },
  {
   "cell_type": "code",
   "execution_count": 28,
   "metadata": {
    "id": "-sAn66mYpn6S"
   },
   "outputs": [
    {
     "name": "stdout",
     "output_type": "stream",
     "text": [
      "Can use Stratified Split in order to make sure train and test sample has both classes values but random is itself giving fairly distributed train and test split\n",
      "Train Data\n",
      "Y [False  True] [ 94 109]\n",
      "Test Data\n",
      "X [False  True] [51 51]\n"
     ]
    }
   ],
   "source": [
    "from sklearn.linear_model import LogisticRegression\n",
    "from sklearn import metrics\n",
    "print(\"Can use Stratified Split in order to make sure train and test sample has both classes values but random is itself giving fairly distributed train and test split\")\n",
    "\n",
    "X_train_logistic, X_test_logistic, Y_train_logistic, Y_test_logistic = train_test_split(X_logistic, Y_logistic_single, test_size=1/3)\n",
    "unique, counts = np.unique(Y_train_logistic, return_counts=True)\n",
    "print(\"Train Data\")\n",
    "print(\"Y\",unique, counts)\n",
    "\n",
    "unique, counts = np.unique(Y_test_logistic, return_counts=True)\n",
    "print(\"Test Data\")\n",
    "print(\"X\",unique, counts)\n",
    "\n",
    "logistic_model = LogisticRegression(random_state=0).fit(X_train_logistic, Y_train_logistic)\n",
    "Y_logistic_predicted = logistic_model.predict(X_test_logistic)"
   ]
  },
  {
   "cell_type": "code",
   "execution_count": null,
   "metadata": {},
   "outputs": [],
   "source": []
  },
  {
   "cell_type": "markdown",
   "metadata": {
    "id": "sjlQWqtkpq5b"
   },
   "source": [
    "**4. (2 point)** Report the performance of the model on the test data using accuracy. Also plot the confusion matrix and ROC-AUC curve. What can you infer from this confusion matrix? Also can you compare the logistic and linear regressions?"
   ]
  },
  {
   "cell_type": "code",
   "execution_count": 29,
   "metadata": {
    "id": "K-qivTOXpu4a"
   },
   "outputs": [
    {
     "name": "stdout",
     "output_type": "stream",
     "text": [
      "Accuracy of the model is 0.5\n"
     ]
    }
   ],
   "source": [
    "print(\"Accuracy of the model is\",float(logistic_model.score(X_test_logistic, Y_test_logistic)))"
   ]
  },
  {
   "cell_type": "code",
   "execution_count": 30,
   "metadata": {},
   "outputs": [
    {
     "data": {
      "image/png": "[encoded data removed]",
      "text/plain": [
       "<Figure size 640x480 with 1 Axes>"
      ]
     },
     "metadata": {},
     "output_type": "display_data"
    },
    {
     "name": "stderr",
     "output_type": "stream",
     "text": [
      "/Users/yamini/Library/Python/3.8/lib/python/site-packages/sklearn/utils/deprecation.py:87: FutureWarning: Function plot_confusion_matrix is deprecated; Function `plot_confusion_matrix` is deprecated in 1.0 and will be removed in 1.2. Use one of the class methods: ConfusionMatrixDisplay.from_predictions or ConfusionMatrixDisplay.from_estimator.\n",
      "  warnings.warn(msg, category=FutureWarning)\n"
     ]
    },
    {
     "data": {
      "text/plain": [
       "<sklearn.metrics._plot.confusion_matrix.ConfusionMatrixDisplay at 0x135ff2e50>"
      ]
     },
     "execution_count": 30,
     "metadata": {},
     "output_type": "execute_result"
    },
    {
     "data": {
      "image/png": "[encoded data removed]",
      "text/plain": [
       "<Figure size 640x480 with 2 Axes>"
      ]
     },
     "metadata": {},
     "output_type": "display_data"
    }
   ],
   "source": [
    "from sklearn.metrics import plot_confusion_matrix\n",
    "\n",
    "y_pred_proba = logistic_model.predict_proba(X_test_logistic)[::,1]\n",
    "fpr, tpr, _ = metrics.roc_curve(Y_test_logistic,  y_pred_proba)\n",
    "\n",
    "auc = metrics.roc_auc_score(Y_test_logistic, y_pred_proba)\n",
    "plt.plot(fpr,tpr,linestyle='--',color='orange')\n",
    "plt.title(label=\"Logistic Regression, auc=\"+str(auc))\n",
    "plt.xlabel(\"False Positive Rate\")\n",
    "plt.ylabel(\"True Positive Rate\")\n",
    "plt.show()\n",
    "\n",
    "\n",
    "plot_confusion_matrix(logistic_model, X_test_logistic, Y_test_logistic)  "
   ]
  },
  {
   "cell_type": "markdown",
   "metadata": {
    "id": "K2faqHxyrolD"
   },
   "source": [
    "### ANSWER\n",
    "\n",
    "Confusion Matrix:\n",
    "\n",
    "It is clearly predicting all True and no False values based on Input Test Data, That is why the Accuracy is around 50% - This is like base model that predicts True everytime."
   ]
  },
  {
   "cell_type": "code",
   "execution_count": 31,
   "metadata": {},
   "outputs": [
    {
     "name": "stdout",
     "output_type": "stream",
     "text": [
      "Y predicted values [ True] [102]\n"
     ]
    }
   ],
   "source": [
    "unique, counts = np.unique(Y_logistic_predicted, return_counts=True)\n",
    "print(\"Y predicted values\", unique, counts)"
   ]
  },
  {
   "cell_type": "markdown",
   "metadata": {},
   "source": [
    "### ANSWER\n",
    "Comparing Linear and Logistic Regression\n",
    "Can't really compare as one predicts continuous variable and the other predicts probabilities\n",
    "\n",
    "The output of Logistic Regression problem can be only between the 0 and 1.\n",
    "Linear regression predicts the output for the continuous dependent variable.\n",
    "\n",
    "In Linear regression, it is required that relationship between dependent variable and independent variable must be linear.\t\n",
    "In Logistic regression, it is not required to have the linear relationship between the dependent and independent variable.\n",
    "\n",
    "In linear regression, there may be collinearity between the independent variables.\t\n",
    "In logistic regression, there should not be collinearity between the independent variable.\n",
    "\n",
    "$R_{2}$ can't compare with accuracy as both measure different things, dataset for the regression and classification is different."
   ]
  }
 ],
 "metadata": {
  "colab": {
   "collapsed_sections": [],
   "provenance": []
  },
  "kernelspec": {
   "display_name": "Python 3 (ipykernel)",
   "language": "python",
   "name": "python3"
  },
  "language_info": {
   "codemirror_mode": {
    "name": "ipython",
    "version": 3
   },
   "file_extension": ".py",
   "mimetype": "text/x-python",
   "name": "python",
   "nbconvert_exporter": "python",
   "pygments_lexer": "ipython3",
   "version": "3.8.9"
  }
 },
 "nbformat": 4,
 "nbformat_minor": 4
}
