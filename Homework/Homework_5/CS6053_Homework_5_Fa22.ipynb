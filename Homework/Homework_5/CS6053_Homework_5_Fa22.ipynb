{
  "cells": [
    {
      "cell_type": "markdown",
      "metadata": {
        "id": "PolFe8GQqhFD"
      },
      "source": [
        "# Foundations of Data Science\n",
        "## Homework 5: Algorithmic fairness"
      ]
    },
    {
      "cell_type": "markdown",
      "metadata": {
        "id": "_LlRkZpuqhFF"
      },
      "source": [
        "Student Name: Yamini Lakshmi Narasimhan\n",
        "\n",
        "***"
      ]
    },
    {
      "cell_type": "markdown",
      "metadata": {
        "id": "eTrbgxPwqhFG"
      },
      "source": [
        "### Part 1: Algorithmic fairness (15 points)\n"
      ]
    },
    {
      "cell_type": "markdown",
      "metadata": {
        "id": "fZ_ksbx1qhFG"
      },
      "source": [
        "#### Data acquisition and preparation (4 points)\n",
        "\n",
        "For this question we will use the \"Adult\" dataset from the UC Irvine repository.\n",
        "\n",
        "This data is from the United States census, and we will examine the algorithmic fairness for an income prediction task. For more information about the dataset, see [Here](https://archive.ics.uci.edu/ml/datasets/adult).\n"
      ]
    },
    {
      "cell_type": "markdown",
      "metadata": {
        "id": "bPrkBq0QqhFG"
      },
      "source": [
        "1\\. Download the data. (1 point)\n",
        "\n",
        "Load data from the URL using the pandas read_csv method."
      ]
    },
    {
      "cell_type": "code",
      "execution_count": 181,
      "metadata": {
        "id": "eo3T8WthqhFH",
        "scrolled": true
      },
      "outputs": [],
      "source": [
        "#Place code here\n",
        "import pandas as pd\n",
        "import io\n",
        "import requests\n",
        "\n",
        "\n",
        "url = \"https://archive.ics.uci.edu/ml/machine-learning-databases/adult/adult.data\"\n",
        "url_data = requests.get(url).content\n",
        "df=pd.read_csv(io.StringIO(url_data.decode('utf-8')), header=None)\n",
        "\n"
      ]
    },
    {
      "cell_type": "code",
      "source": [
        "df.head()"
      ],
      "metadata": {
        "id": "qgj22tA5qfOF",
        "colab": {
          "base_uri": "https://localhost:8080/",
          "height": 206
        },
        "outputId": "216e1684-70b7-4046-dea5-f70d85511ab2"
      },
      "execution_count": 182,
      "outputs": [
        {
          "output_type": "execute_result",
          "data": {
            "text/plain": [
              "   0                  1       2           3   4                    5   \\\n",
              "0  39          State-gov   77516   Bachelors  13        Never-married   \n",
              "1  50   Self-emp-not-inc   83311   Bachelors  13   Married-civ-spouse   \n",
              "2  38            Private  215646     HS-grad   9             Divorced   \n",
              "3  53            Private  234721        11th   7   Married-civ-spouse   \n",
              "4  28            Private  338409   Bachelors  13   Married-civ-spouse   \n",
              "\n",
              "                   6               7       8        9     10  11  12  \\\n",
              "0        Adm-clerical   Not-in-family   White     Male  2174   0  40   \n",
              "1     Exec-managerial         Husband   White     Male     0   0  13   \n",
              "2   Handlers-cleaners   Not-in-family   White     Male     0   0  40   \n",
              "3   Handlers-cleaners         Husband   Black     Male     0   0  40   \n",
              "4      Prof-specialty            Wife   Black   Female     0   0  40   \n",
              "\n",
              "               13      14  \n",
              "0   United-States   <=50K  \n",
              "1   United-States   <=50K  \n",
              "2   United-States   <=50K  \n",
              "3   United-States   <=50K  \n",
              "4            Cuba   <=50K  "
            ],
            "text/html": [
              "\n",
              "  <div id=\"df-ee5ff708-6bb6-4893-8070-4daf7f4e3552\">\n",
              "    <div class=\"colab-df-container\">\n",
              "      <div>\n",
              "<style scoped>\n",
              "    .dataframe tbody tr th:only-of-type {\n",
              "        vertical-align: middle;\n",
              "    }\n",
              "\n",
              "    .dataframe tbody tr th {\n",
              "        vertical-align: top;\n",
              "    }\n",
              "\n",
              "    .dataframe thead th {\n",
              "        text-align: right;\n",
              "    }\n",
              "</style>\n",
              "<table border=\"1\" class=\"dataframe\">\n",
              "  <thead>\n",
              "    <tr style=\"text-align: right;\">\n",
              "      <th></th>\n",
              "      <th>0</th>\n",
              "      <th>1</th>\n",
              "      <th>2</th>\n",
              "      <th>3</th>\n",
              "      <th>4</th>\n",
              "      <th>5</th>\n",
              "      <th>6</th>\n",
              "      <th>7</th>\n",
              "      <th>8</th>\n",
              "      <th>9</th>\n",
              "      <th>10</th>\n",
              "      <th>11</th>\n",
              "      <th>12</th>\n",
              "      <th>13</th>\n",
              "      <th>14</th>\n",
              "    </tr>\n",
              "  </thead>\n",
              "  <tbody>\n",
              "    <tr>\n",
              "      <th>0</th>\n",
              "      <td>39</td>\n",
              "      <td>State-gov</td>\n",
              "      <td>77516</td>\n",
              "      <td>Bachelors</td>\n",
              "      <td>13</td>\n",
              "      <td>Never-married</td>\n",
              "      <td>Adm-clerical</td>\n",
              "      <td>Not-in-family</td>\n",
              "      <td>White</td>\n",
              "      <td>Male</td>\n",
              "      <td>2174</td>\n",
              "      <td>0</td>\n",
              "      <td>40</td>\n",
              "      <td>United-States</td>\n",
              "      <td>&lt;=50K</td>\n",
              "    </tr>\n",
              "    <tr>\n",
              "      <th>1</th>\n",
              "      <td>50</td>\n",
              "      <td>Self-emp-not-inc</td>\n",
              "      <td>83311</td>\n",
              "      <td>Bachelors</td>\n",
              "      <td>13</td>\n",
              "      <td>Married-civ-spouse</td>\n",
              "      <td>Exec-managerial</td>\n",
              "      <td>Husband</td>\n",
              "      <td>White</td>\n",
              "      <td>Male</td>\n",
              "      <td>0</td>\n",
              "      <td>0</td>\n",
              "      <td>13</td>\n",
              "      <td>United-States</td>\n",
              "      <td>&lt;=50K</td>\n",
              "    </tr>\n",
              "    <tr>\n",
              "      <th>2</th>\n",
              "      <td>38</td>\n",
              "      <td>Private</td>\n",
              "      <td>215646</td>\n",
              "      <td>HS-grad</td>\n",
              "      <td>9</td>\n",
              "      <td>Divorced</td>\n",
              "      <td>Handlers-cleaners</td>\n",
              "      <td>Not-in-family</td>\n",
              "      <td>White</td>\n",
              "      <td>Male</td>\n",
              "      <td>0</td>\n",
              "      <td>0</td>\n",
              "      <td>40</td>\n",
              "      <td>United-States</td>\n",
              "      <td>&lt;=50K</td>\n",
              "    </tr>\n",
              "    <tr>\n",
              "      <th>3</th>\n",
              "      <td>53</td>\n",
              "      <td>Private</td>\n",
              "      <td>234721</td>\n",
              "      <td>11th</td>\n",
              "      <td>7</td>\n",
              "      <td>Married-civ-spouse</td>\n",
              "      <td>Handlers-cleaners</td>\n",
              "      <td>Husband</td>\n",
              "      <td>Black</td>\n",
              "      <td>Male</td>\n",
              "      <td>0</td>\n",
              "      <td>0</td>\n",
              "      <td>40</td>\n",
              "      <td>United-States</td>\n",
              "      <td>&lt;=50K</td>\n",
              "    </tr>\n",
              "    <tr>\n",
              "      <th>4</th>\n",
              "      <td>28</td>\n",
              "      <td>Private</td>\n",
              "      <td>338409</td>\n",
              "      <td>Bachelors</td>\n",
              "      <td>13</td>\n",
              "      <td>Married-civ-spouse</td>\n",
              "      <td>Prof-specialty</td>\n",
              "      <td>Wife</td>\n",
              "      <td>Black</td>\n",
              "      <td>Female</td>\n",
              "      <td>0</td>\n",
              "      <td>0</td>\n",
              "      <td>40</td>\n",
              "      <td>Cuba</td>\n",
              "      <td>&lt;=50K</td>\n",
              "    </tr>\n",
              "  </tbody>\n",
              "</table>\n",
              "</div>\n",
              "      <button class=\"colab-df-convert\" onclick=\"convertToInteractive('df-ee5ff708-6bb6-4893-8070-4daf7f4e3552')\"\n",
              "              title=\"Convert this dataframe to an interactive table.\"\n",
              "              style=\"display:none;\">\n",
              "        \n",
              "  <svg xmlns=\"http://www.w3.org/2000/svg\" height=\"24px\"viewBox=\"0 0 24 24\"\n",
              "       width=\"24px\">\n",
              "    <path d=\"M0 0h24v24H0V0z\" fill=\"none\"/>\n",
              "    <path d=\"M18.56 5.44l.94 2.06.94-2.06 2.06-.94-2.06-.94-.94-2.06-.94 2.06-2.06.94zm-11 1L8.5 8.5l.94-2.06 2.06-.94-2.06-.94L8.5 2.5l-.94 2.06-2.06.94zm10 10l.94 2.06.94-2.06 2.06-.94-2.06-.94-.94-2.06-.94 2.06-2.06.94z\"/><path d=\"M17.41 7.96l-1.37-1.37c-.4-.4-.92-.59-1.43-.59-.52 0-1.04.2-1.43.59L10.3 9.45l-7.72 7.72c-.78.78-.78 2.05 0 2.83L4 21.41c.39.39.9.59 1.41.59.51 0 1.02-.2 1.41-.59l7.78-7.78 2.81-2.81c.8-.78.8-2.07 0-2.86zM5.41 20L4 18.59l7.72-7.72 1.47 1.35L5.41 20z\"/>\n",
              "  </svg>\n",
              "      </button>\n",
              "      \n",
              "  <style>\n",
              "    .colab-df-container {\n",
              "      display:flex;\n",
              "      flex-wrap:wrap;\n",
              "      gap: 12px;\n",
              "    }\n",
              "\n",
              "    .colab-df-convert {\n",
              "      background-color: #E8F0FE;\n",
              "      border: none;\n",
              "      border-radius: 50%;\n",
              "      cursor: pointer;\n",
              "      display: none;\n",
              "      fill: #1967D2;\n",
              "      height: 32px;\n",
              "      padding: 0 0 0 0;\n",
              "      width: 32px;\n",
              "    }\n",
              "\n",
              "    .colab-df-convert:hover {\n",
              "      background-color: #E2EBFA;\n",
              "      box-shadow: 0px 1px 2px rgba(60, 64, 67, 0.3), 0px 1px 3px 1px rgba(60, 64, 67, 0.15);\n",
              "      fill: #174EA6;\n",
              "    }\n",
              "\n",
              "    [theme=dark] .colab-df-convert {\n",
              "      background-color: #3B4455;\n",
              "      fill: #D2E3FC;\n",
              "    }\n",
              "\n",
              "    [theme=dark] .colab-df-convert:hover {\n",
              "      background-color: #434B5C;\n",
              "      box-shadow: 0px 1px 3px 1px rgba(0, 0, 0, 0.15);\n",
              "      filter: drop-shadow(0px 1px 2px rgba(0, 0, 0, 0.3));\n",
              "      fill: #FFFFFF;\n",
              "    }\n",
              "  </style>\n",
              "\n",
              "      <script>\n",
              "        const buttonEl =\n",
              "          document.querySelector('#df-ee5ff708-6bb6-4893-8070-4daf7f4e3552 button.colab-df-convert');\n",
              "        buttonEl.style.display =\n",
              "          google.colab.kernel.accessAllowed ? 'block' : 'none';\n",
              "\n",
              "        async function convertToInteractive(key) {\n",
              "          const element = document.querySelector('#df-ee5ff708-6bb6-4893-8070-4daf7f4e3552');\n",
              "          const dataTable =\n",
              "            await google.colab.kernel.invokeFunction('convertToInteractive',\n",
              "                                                     [key], {});\n",
              "          if (!dataTable) return;\n",
              "\n",
              "          const docLinkHtml = 'Like what you see? Visit the ' +\n",
              "            '<a target=\"_blank\" href=https://colab.research.google.com/notebooks/data_table.ipynb>data table notebook</a>'\n",
              "            + ' to learn more about interactive tables.';\n",
              "          element.innerHTML = '';\n",
              "          dataTable['output_type'] = 'display_data';\n",
              "          await google.colab.output.renderOutput(dataTable, element);\n",
              "          const docLink = document.createElement('div');\n",
              "          docLink.innerHTML = docLinkHtml;\n",
              "          element.appendChild(docLink);\n",
              "        }\n",
              "      </script>\n",
              "    </div>\n",
              "  </div>\n",
              "  "
            ]
          },
          "metadata": {},
          "execution_count": 182
        }
      ]
    },
    {
      "cell_type": "markdown",
      "metadata": {
        "id": "uWv9MhmBqhFH"
      },
      "source": [
        "2\\. If the column headers are not correct, assign names to them (hint: use the readme from the source website). Compute descriptive statistics for the education level. (2 points)."
      ]
    },
    {
      "cell_type": "markdown",
      "source": [
        "### README FILE\n",
        "\n",
        "age: continuous. \\\\\n",
        "workclass: Private, Self-emp-not-inc, Self-emp-inc, Federal-gov, Local-gov, State-gov, Without-pay, Never-worked. \\\\\n",
        "fnlwgt: continuous. \\\\\n",
        "education: Bachelors, Some-college, 11th, HS-grad, Prof-school, Assoc-acdm, Assoc-voc, 9th, 7th-8th, 12th, Masters, 1st-4th, 10th, Doctorate, 5th-6th, Preschool. \\\\\n",
        "education-num: continuous. \\\\\n",
        "marital-status: Married-civ-spouse, Divorced, Never-married, Separated, Widowed, Married-spouse-absent, Married-AF-spouse. \\\\\n",
        "occupation: Tech-support, Craft-repair, Other-service, Sales, Exec-managerial, Prof-specialty, Handlers-cleaners, Machine-op-inspct, Adm-clerical, Farming-fishing, Transport-moving, Priv-house-serv, Protective-serv, Armed-Forces. \\\\\n",
        "relationship: Wife, Own-child, Husband, Not-in-family, Other-relative, Unmarried. \\\\\n",
        "race: White, Asian-Pac-Islander, Amer-Indian-Eskimo, Other, Black. \\\\\n",
        "sex: Female, Male. \\\\\n",
        "capital-gain: continuous. \\\\\n",
        "capital-loss: continuous. \\\\\n",
        "hours-per-week: continuous. \\\\\n",
        "native-country: United-States, Cambodia, England, Puerto-Rico, Canada, Germany, Outlying-US(Guam-USVI-etc), India, Japan, Greece, South, China, Cuba, Iran, Honduras, Philippines, Italy, Poland, Jamaica, Vietnam, Mexico, Portugal, Ireland, France, Dominican-Republic, Laos, Ecuador, Taiwan, Haiti, Columbia, Hungary, Guatemala, Nicaragua, Scotland, Thailand, Yugoslavia, El-Salvador, Trinadad&Tobago, Peru, Hong, Holand-Netherlands. \\\\"
      ],
      "metadata": {
        "id": "t9MoYD4KrrZ_"
      }
    },
    {
      "cell_type": "code",
      "execution_count": 183,
      "metadata": {
        "id": "8w0YKpAaqhFI",
        "colab": {
          "base_uri": "https://localhost:8080/",
          "height": 493
        },
        "outputId": "6ae1889b-8efa-4a10-a7bb-15bf91227ebd"
      },
      "outputs": [
        {
          "output_type": "execute_result",
          "data": {
            "text/plain": [
              "                 age workclass        fnlwgt education  education-num  \\\n",
              "count   32561.000000     32561  3.256100e+04     32561   32561.000000   \n",
              "unique           NaN         9           NaN        16            NaN   \n",
              "top              NaN   Private           NaN   HS-grad            NaN   \n",
              "freq             NaN     22696           NaN     10501            NaN   \n",
              "mean       38.581647       NaN  1.897784e+05       NaN      10.080679   \n",
              "std        13.640433       NaN  1.055500e+05       NaN       2.572720   \n",
              "min        17.000000       NaN  1.228500e+04       NaN       1.000000   \n",
              "25%        28.000000       NaN  1.178270e+05       NaN       9.000000   \n",
              "50%        37.000000       NaN  1.783560e+05       NaN      10.000000   \n",
              "75%        48.000000       NaN  2.370510e+05       NaN      12.000000   \n",
              "max        90.000000       NaN  1.484705e+06       NaN      16.000000   \n",
              "\n",
              "             marital-status       occupation relationship    race    sex  \\\n",
              "count                 32561            32561        32561   32561  32561   \n",
              "unique                    7               15            6       5      2   \n",
              "top      Married-civ-spouse   Prof-specialty      Husband   White   Male   \n",
              "freq                  14976             4140        13193   27816  21790   \n",
              "mean                    NaN              NaN          NaN     NaN    NaN   \n",
              "std                     NaN              NaN          NaN     NaN    NaN   \n",
              "min                     NaN              NaN          NaN     NaN    NaN   \n",
              "25%                     NaN              NaN          NaN     NaN    NaN   \n",
              "50%                     NaN              NaN          NaN     NaN    NaN   \n",
              "75%                     NaN              NaN          NaN     NaN    NaN   \n",
              "max                     NaN              NaN          NaN     NaN    NaN   \n",
              "\n",
              "        capital-gain  capital-loss  hours-per-week  native-country   class  \n",
              "count   32561.000000  32561.000000    32561.000000           32561   32561  \n",
              "unique           NaN           NaN             NaN              42       2  \n",
              "top              NaN           NaN             NaN   United-States   <=50K  \n",
              "freq             NaN           NaN             NaN           29170   24720  \n",
              "mean     1077.648844     87.303830       40.437456             NaN     NaN  \n",
              "std      7385.292085    402.960219       12.347429             NaN     NaN  \n",
              "min         0.000000      0.000000        1.000000             NaN     NaN  \n",
              "25%         0.000000      0.000000       40.000000             NaN     NaN  \n",
              "50%         0.000000      0.000000       40.000000             NaN     NaN  \n",
              "75%         0.000000      0.000000       45.000000             NaN     NaN  \n",
              "max     99999.000000   4356.000000       99.000000             NaN     NaN  "
            ],
            "text/html": [
              "\n",
              "  <div id=\"df-20c310c7-0b55-4f18-a440-e326ccb89f04\">\n",
              "    <div class=\"colab-df-container\">\n",
              "      <div>\n",
              "<style scoped>\n",
              "    .dataframe tbody tr th:only-of-type {\n",
              "        vertical-align: middle;\n",
              "    }\n",
              "\n",
              "    .dataframe tbody tr th {\n",
              "        vertical-align: top;\n",
              "    }\n",
              "\n",
              "    .dataframe thead th {\n",
              "        text-align: right;\n",
              "    }\n",
              "</style>\n",
              "<table border=\"1\" class=\"dataframe\">\n",
              "  <thead>\n",
              "    <tr style=\"text-align: right;\">\n",
              "      <th></th>\n",
              "      <th>age</th>\n",
              "      <th>workclass</th>\n",
              "      <th>fnlwgt</th>\n",
              "      <th>education</th>\n",
              "      <th>education-num</th>\n",
              "      <th>marital-status</th>\n",
              "      <th>occupation</th>\n",
              "      <th>relationship</th>\n",
              "      <th>race</th>\n",
              "      <th>sex</th>\n",
              "      <th>capital-gain</th>\n",
              "      <th>capital-loss</th>\n",
              "      <th>hours-per-week</th>\n",
              "      <th>native-country</th>\n",
              "      <th>class</th>\n",
              "    </tr>\n",
              "  </thead>\n",
              "  <tbody>\n",
              "    <tr>\n",
              "      <th>count</th>\n",
              "      <td>32561.000000</td>\n",
              "      <td>32561</td>\n",
              "      <td>3.256100e+04</td>\n",
              "      <td>32561</td>\n",
              "      <td>32561.000000</td>\n",
              "      <td>32561</td>\n",
              "      <td>32561</td>\n",
              "      <td>32561</td>\n",
              "      <td>32561</td>\n",
              "      <td>32561</td>\n",
              "      <td>32561.000000</td>\n",
              "      <td>32561.000000</td>\n",
              "      <td>32561.000000</td>\n",
              "      <td>32561</td>\n",
              "      <td>32561</td>\n",
              "    </tr>\n",
              "    <tr>\n",
              "      <th>unique</th>\n",
              "      <td>NaN</td>\n",
              "      <td>9</td>\n",
              "      <td>NaN</td>\n",
              "      <td>16</td>\n",
              "      <td>NaN</td>\n",
              "      <td>7</td>\n",
              "      <td>15</td>\n",
              "      <td>6</td>\n",
              "      <td>5</td>\n",
              "      <td>2</td>\n",
              "      <td>NaN</td>\n",
              "      <td>NaN</td>\n",
              "      <td>NaN</td>\n",
              "      <td>42</td>\n",
              "      <td>2</td>\n",
              "    </tr>\n",
              "    <tr>\n",
              "      <th>top</th>\n",
              "      <td>NaN</td>\n",
              "      <td>Private</td>\n",
              "      <td>NaN</td>\n",
              "      <td>HS-grad</td>\n",
              "      <td>NaN</td>\n",
              "      <td>Married-civ-spouse</td>\n",
              "      <td>Prof-specialty</td>\n",
              "      <td>Husband</td>\n",
              "      <td>White</td>\n",
              "      <td>Male</td>\n",
              "      <td>NaN</td>\n",
              "      <td>NaN</td>\n",
              "      <td>NaN</td>\n",
              "      <td>United-States</td>\n",
              "      <td>&lt;=50K</td>\n",
              "    </tr>\n",
              "    <tr>\n",
              "      <th>freq</th>\n",
              "      <td>NaN</td>\n",
              "      <td>22696</td>\n",
              "      <td>NaN</td>\n",
              "      <td>10501</td>\n",
              "      <td>NaN</td>\n",
              "      <td>14976</td>\n",
              "      <td>4140</td>\n",
              "      <td>13193</td>\n",
              "      <td>27816</td>\n",
              "      <td>21790</td>\n",
              "      <td>NaN</td>\n",
              "      <td>NaN</td>\n",
              "      <td>NaN</td>\n",
              "      <td>29170</td>\n",
              "      <td>24720</td>\n",
              "    </tr>\n",
              "    <tr>\n",
              "      <th>mean</th>\n",
              "      <td>38.581647</td>\n",
              "      <td>NaN</td>\n",
              "      <td>1.897784e+05</td>\n",
              "      <td>NaN</td>\n",
              "      <td>10.080679</td>\n",
              "      <td>NaN</td>\n",
              "      <td>NaN</td>\n",
              "      <td>NaN</td>\n",
              "      <td>NaN</td>\n",
              "      <td>NaN</td>\n",
              "      <td>1077.648844</td>\n",
              "      <td>87.303830</td>\n",
              "      <td>40.437456</td>\n",
              "      <td>NaN</td>\n",
              "      <td>NaN</td>\n",
              "    </tr>\n",
              "    <tr>\n",
              "      <th>std</th>\n",
              "      <td>13.640433</td>\n",
              "      <td>NaN</td>\n",
              "      <td>1.055500e+05</td>\n",
              "      <td>NaN</td>\n",
              "      <td>2.572720</td>\n",
              "      <td>NaN</td>\n",
              "      <td>NaN</td>\n",
              "      <td>NaN</td>\n",
              "      <td>NaN</td>\n",
              "      <td>NaN</td>\n",
              "      <td>7385.292085</td>\n",
              "      <td>402.960219</td>\n",
              "      <td>12.347429</td>\n",
              "      <td>NaN</td>\n",
              "      <td>NaN</td>\n",
              "    </tr>\n",
              "    <tr>\n",
              "      <th>min</th>\n",
              "      <td>17.000000</td>\n",
              "      <td>NaN</td>\n",
              "      <td>1.228500e+04</td>\n",
              "      <td>NaN</td>\n",
              "      <td>1.000000</td>\n",
              "      <td>NaN</td>\n",
              "      <td>NaN</td>\n",
              "      <td>NaN</td>\n",
              "      <td>NaN</td>\n",
              "      <td>NaN</td>\n",
              "      <td>0.000000</td>\n",
              "      <td>0.000000</td>\n",
              "      <td>1.000000</td>\n",
              "      <td>NaN</td>\n",
              "      <td>NaN</td>\n",
              "    </tr>\n",
              "    <tr>\n",
              "      <th>25%</th>\n",
              "      <td>28.000000</td>\n",
              "      <td>NaN</td>\n",
              "      <td>1.178270e+05</td>\n",
              "      <td>NaN</td>\n",
              "      <td>9.000000</td>\n",
              "      <td>NaN</td>\n",
              "      <td>NaN</td>\n",
              "      <td>NaN</td>\n",
              "      <td>NaN</td>\n",
              "      <td>NaN</td>\n",
              "      <td>0.000000</td>\n",
              "      <td>0.000000</td>\n",
              "      <td>40.000000</td>\n",
              "      <td>NaN</td>\n",
              "      <td>NaN</td>\n",
              "    </tr>\n",
              "    <tr>\n",
              "      <th>50%</th>\n",
              "      <td>37.000000</td>\n",
              "      <td>NaN</td>\n",
              "      <td>1.783560e+05</td>\n",
              "      <td>NaN</td>\n",
              "      <td>10.000000</td>\n",
              "      <td>NaN</td>\n",
              "      <td>NaN</td>\n",
              "      <td>NaN</td>\n",
              "      <td>NaN</td>\n",
              "      <td>NaN</td>\n",
              "      <td>0.000000</td>\n",
              "      <td>0.000000</td>\n",
              "      <td>40.000000</td>\n",
              "      <td>NaN</td>\n",
              "      <td>NaN</td>\n",
              "    </tr>\n",
              "    <tr>\n",
              "      <th>75%</th>\n",
              "      <td>48.000000</td>\n",
              "      <td>NaN</td>\n",
              "      <td>2.370510e+05</td>\n",
              "      <td>NaN</td>\n",
              "      <td>12.000000</td>\n",
              "      <td>NaN</td>\n",
              "      <td>NaN</td>\n",
              "      <td>NaN</td>\n",
              "      <td>NaN</td>\n",
              "      <td>NaN</td>\n",
              "      <td>0.000000</td>\n",
              "      <td>0.000000</td>\n",
              "      <td>45.000000</td>\n",
              "      <td>NaN</td>\n",
              "      <td>NaN</td>\n",
              "    </tr>\n",
              "    <tr>\n",
              "      <th>max</th>\n",
              "      <td>90.000000</td>\n",
              "      <td>NaN</td>\n",
              "      <td>1.484705e+06</td>\n",
              "      <td>NaN</td>\n",
              "      <td>16.000000</td>\n",
              "      <td>NaN</td>\n",
              "      <td>NaN</td>\n",
              "      <td>NaN</td>\n",
              "      <td>NaN</td>\n",
              "      <td>NaN</td>\n",
              "      <td>99999.000000</td>\n",
              "      <td>4356.000000</td>\n",
              "      <td>99.000000</td>\n",
              "      <td>NaN</td>\n",
              "      <td>NaN</td>\n",
              "    </tr>\n",
              "  </tbody>\n",
              "</table>\n",
              "</div>\n",
              "      <button class=\"colab-df-convert\" onclick=\"convertToInteractive('df-20c310c7-0b55-4f18-a440-e326ccb89f04')\"\n",
              "              title=\"Convert this dataframe to an interactive table.\"\n",
              "              style=\"display:none;\">\n",
              "        \n",
              "  <svg xmlns=\"http://www.w3.org/2000/svg\" height=\"24px\"viewBox=\"0 0 24 24\"\n",
              "       width=\"24px\">\n",
              "    <path d=\"M0 0h24v24H0V0z\" fill=\"none\"/>\n",
              "    <path d=\"M18.56 5.44l.94 2.06.94-2.06 2.06-.94-2.06-.94-.94-2.06-.94 2.06-2.06.94zm-11 1L8.5 8.5l.94-2.06 2.06-.94-2.06-.94L8.5 2.5l-.94 2.06-2.06.94zm10 10l.94 2.06.94-2.06 2.06-.94-2.06-.94-.94-2.06-.94 2.06-2.06.94z\"/><path d=\"M17.41 7.96l-1.37-1.37c-.4-.4-.92-.59-1.43-.59-.52 0-1.04.2-1.43.59L10.3 9.45l-7.72 7.72c-.78.78-.78 2.05 0 2.83L4 21.41c.39.39.9.59 1.41.59.51 0 1.02-.2 1.41-.59l7.78-7.78 2.81-2.81c.8-.78.8-2.07 0-2.86zM5.41 20L4 18.59l7.72-7.72 1.47 1.35L5.41 20z\"/>\n",
              "  </svg>\n",
              "      </button>\n",
              "      \n",
              "  <style>\n",
              "    .colab-df-container {\n",
              "      display:flex;\n",
              "      flex-wrap:wrap;\n",
              "      gap: 12px;\n",
              "    }\n",
              "\n",
              "    .colab-df-convert {\n",
              "      background-color: #E8F0FE;\n",
              "      border: none;\n",
              "      border-radius: 50%;\n",
              "      cursor: pointer;\n",
              "      display: none;\n",
              "      fill: #1967D2;\n",
              "      height: 32px;\n",
              "      padding: 0 0 0 0;\n",
              "      width: 32px;\n",
              "    }\n",
              "\n",
              "    .colab-df-convert:hover {\n",
              "      background-color: #E2EBFA;\n",
              "      box-shadow: 0px 1px 2px rgba(60, 64, 67, 0.3), 0px 1px 3px 1px rgba(60, 64, 67, 0.15);\n",
              "      fill: #174EA6;\n",
              "    }\n",
              "\n",
              "    [theme=dark] .colab-df-convert {\n",
              "      background-color: #3B4455;\n",
              "      fill: #D2E3FC;\n",
              "    }\n",
              "\n",
              "    [theme=dark] .colab-df-convert:hover {\n",
              "      background-color: #434B5C;\n",
              "      box-shadow: 0px 1px 3px 1px rgba(0, 0, 0, 0.15);\n",
              "      filter: drop-shadow(0px 1px 2px rgba(0, 0, 0, 0.3));\n",
              "      fill: #FFFFFF;\n",
              "    }\n",
              "  </style>\n",
              "\n",
              "      <script>\n",
              "        const buttonEl =\n",
              "          document.querySelector('#df-20c310c7-0b55-4f18-a440-e326ccb89f04 button.colab-df-convert');\n",
              "        buttonEl.style.display =\n",
              "          google.colab.kernel.accessAllowed ? 'block' : 'none';\n",
              "\n",
              "        async function convertToInteractive(key) {\n",
              "          const element = document.querySelector('#df-20c310c7-0b55-4f18-a440-e326ccb89f04');\n",
              "          const dataTable =\n",
              "            await google.colab.kernel.invokeFunction('convertToInteractive',\n",
              "                                                     [key], {});\n",
              "          if (!dataTable) return;\n",
              "\n",
              "          const docLinkHtml = 'Like what you see? Visit the ' +\n",
              "            '<a target=\"_blank\" href=https://colab.research.google.com/notebooks/data_table.ipynb>data table notebook</a>'\n",
              "            + ' to learn more about interactive tables.';\n",
              "          element.innerHTML = '';\n",
              "          dataTable['output_type'] = 'display_data';\n",
              "          await google.colab.output.renderOutput(dataTable, element);\n",
              "          const docLink = document.createElement('div');\n",
              "          docLink.innerHTML = docLinkHtml;\n",
              "          element.appendChild(docLink);\n",
              "        }\n",
              "      </script>\n",
              "    </div>\n",
              "  </div>\n",
              "  "
            ]
          },
          "metadata": {},
          "execution_count": 183
        }
      ],
      "source": [
        "#Place code here\n",
        "df.columns = [\"age\", \"workclass\", \"fnlwgt\", \"education\", \"education-num\", \"marital-status\", \"occupation\", \"relationship\", \"race\", \"sex\", \"capital-gain\", \"capital-loss\", \"hours-per-week\",\"native-country\", \"class\"]\n",
        "df.head()\n",
        "\n",
        "df.describe(include='all')"
      ]
    },
    {
      "cell_type": "code",
      "source": [
        "df[\"education\"].value_counts()"
      ],
      "metadata": {
        "colab": {
          "base_uri": "https://localhost:8080/",
          "height": 0
        },
        "id": "OCGGxvX8noOU",
        "outputId": "7339ddca-8373-46f1-ce54-3fa51fa9c2f8"
      },
      "execution_count": 184,
      "outputs": [
        {
          "output_type": "execute_result",
          "data": {
            "text/plain": [
              " HS-grad         10501\n",
              " Some-college     7291\n",
              " Bachelors        5355\n",
              " Masters          1723\n",
              " Assoc-voc        1382\n",
              " 11th             1175\n",
              " Assoc-acdm       1067\n",
              " 10th              933\n",
              " 7th-8th           646\n",
              " Prof-school       576\n",
              " 9th               514\n",
              " 12th              433\n",
              " Doctorate         413\n",
              " 5th-6th           333\n",
              " 1st-4th           168\n",
              " Preschool          51\n",
              "Name: education, dtype: int64"
            ]
          },
          "metadata": {},
          "execution_count": 184
        }
      ]
    },
    {
      "cell_type": "markdown",
      "metadata": {
        "id": "DzW72jtgqhFI"
      },
      "source": [
        "3\\. Select one attribute as protected. Explain the reason why you selected this attribute. (1 point)\n",
        "\n",
        "Protected attributes require the prefix protected. The outcome attribute requires the prefix target. For example, if you need to measure fairness rankings of a dataset with the columns sex and credit_score, rename the columns to protected_sex and target_credit_Score. Update the column names for our dataset (hint: you may also have to convert the target to a binary variable and create dummy variables for those that are categorical, for upcoming steps). (1 point)."
      ]
    },
    {
      "cell_type": "code",
      "execution_count": 185,
      "metadata": {
        "id": "PtX2hGMuqhFI"
      },
      "outputs": [],
      "source": [
        "#Place code here\n",
        "df[\"protected_sex\"] = df[\"sex\"]\n",
        "\n",
        "\n",
        "cols = [\"workclass\", \"education\" ,\"marital-status\", \"occupation\", \"relationship\", \"race\", \"protected_sex\", \"native-country\"]\n",
        "df = pd.get_dummies(df, columns=cols)\n",
        "\n",
        "df[\"class_binary\"] = 0\n",
        "df.loc[(df[\"class\"]==' >50K'),\"class_binary\"] = 1\n",
        "\n",
        "\n",
        "df.drop(columns=[\"sex\",\"class\"], inplace=True)"
      ]
    },
    {
      "cell_type": "code",
      "source": [
        "df[\"class_binary\"].value_counts()"
      ],
      "metadata": {
        "id": "EqYu3KNEO8wM",
        "colab": {
          "base_uri": "https://localhost:8080/",
          "height": 0
        },
        "outputId": "f64c7af0-cae0-4d8a-d025-03ce12a8ca62"
      },
      "execution_count": 186,
      "outputs": [
        {
          "output_type": "execute_result",
          "data": {
            "text/plain": [
              "0    24720\n",
              "1     7841\n",
              "Name: class_binary, dtype: int64"
            ]
          },
          "metadata": {},
          "execution_count": 186
        }
      ]
    },
    {
      "cell_type": "markdown",
      "source": [
        "There is race and gender that cna be chosen because I do not want the model to be biased towards that and to avoid Disparate treatment towards a particular class\n",
        "\n",
        "But since here they have asked only one I chose gender since we are well aware of gender disparity in salaries"
      ],
      "metadata": {
        "id": "uutBvJ1-LbWv"
      }
    },
    {
      "cell_type": "markdown",
      "metadata": {
        "id": "5AJEeLM3qhFI"
      },
      "source": [
        "#### Build a Classifier (5 points)\n",
        "\n",
        "4\\. Select a type of classifier to build for the income prediction task. Give reasoning for why you picked this type. (1 point)"
      ]
    },
    {
      "cell_type": "markdown",
      "metadata": {
        "id": "xafdEVUhqhFI"
      },
      "source": [
        "I chose decision tree because its \n",
        "1. fast, \n",
        "2. there are not many attributes so its a lot simpler \n",
        "3. only 2 classes so can easily classify them\n",
        "4. lot of categorical variables so to split and to visualise will be easy \n",
        "\n",
        "The training data is highly imbalanced I was thinking of Decision tree classifier but decision tree classifier are not sensitive to imbalanced datasets so tried XGB Boost and added balancing factor to it"
      ]
    },
    {
      "cell_type": "markdown",
      "metadata": {
        "id": "Ug-z4UtsqhFI"
      },
      "source": [
        "5\\. Split the data into training and testing. Use pandas to create two data frames: train_df and test_df, where train_df has 80% of the data chosen uniformly at random without replacement (test_df should have the other 20%). Also, make sure to write your own code to do the splits. You may use any random() function numpy but do not use the data splitting functions from Sklearn. (1 point)\n"
      ]
    },
    {
      "cell_type": "code",
      "execution_count": 187,
      "metadata": {
        "id": "57Gvo-CLqhFI"
      },
      "outputs": [],
      "source": [
        "#Place code here\n",
        "import numpy as np\n",
        "percent = np.random.rand(len(df)) <= 0.8 \n",
        "train_df = df[percent]\n",
        "test_df = df[~percent]"
      ]
    },
    {
      "cell_type": "code",
      "source": [
        "df[\"class_binary\"].value_counts()"
      ],
      "metadata": {
        "id": "5pIjhevJP9fu",
        "colab": {
          "base_uri": "https://localhost:8080/",
          "height": 0
        },
        "outputId": "af7742b5-a604-481c-86e8-3dba1f91e881"
      },
      "execution_count": 188,
      "outputs": [
        {
          "output_type": "execute_result",
          "data": {
            "text/plain": [
              "0    24720\n",
              "1     7841\n",
              "Name: class_binary, dtype: int64"
            ]
          },
          "metadata": {},
          "execution_count": 188
        }
      ]
    },
    {
      "cell_type": "markdown",
      "metadata": {
        "id": "FDo8HGSVqhFJ"
      },
      "source": [
        "6\\. On the training set, implement your classifier. Give reasoning for your choice of any hyperparameter(s). (1 point)"
      ]
    },
    {
      "cell_type": "markdown",
      "source": [
        "Chose the balancing factor in xgb model as the dataset is highly imbalanced and also ran it through gridcv for it to choose the right hyperparameters\n",
        "\n",
        "For decision tree chose min_samples_leaf 40 and min_samples_split 100 because dataset has around 30,000 data points and i did not want it to overfit"
      ],
      "metadata": {
        "id": "cV1a19hGUx8L"
      }
    },
    {
      "cell_type": "code",
      "execution_count": 189,
      "metadata": {
        "id": "35vizJXbqhFJ",
        "colab": {
          "base_uri": "https://localhost:8080/",
          "height": 0
        },
        "outputId": "85a1a685-83ca-456e-c3a0-9c00a6da69f0"
      },
      "outputs": [
        {
          "output_type": "stream",
          "name": "stdout",
          "text": [
            "Test Accuracy 0.8619201725997843\n"
          ]
        }
      ],
      "source": [
        "# DECISION TREE CLASSIFIER\n",
        "import xgboost as xgb\n",
        "from sklearn.tree import DecisionTreeClassifier\n",
        "from sklearn.linear_model import LogisticRegression\n",
        "from sklearn.metrics import accuracy_score\n",
        "dtc = DecisionTreeClassifier(criterion='entropy', min_samples_leaf = 40, min_samples_split=100) \n",
        "\n",
        "train_X = train_df.loc[:, train_df.columns != \"class_binary\"] \n",
        "train_Y = train_df[\"class_binary\"]\n",
        "\n",
        "test_X = test_df.loc[:, test_df.columns != \"class_binary\"] \n",
        "test_Y = test_df[\"class_binary\"]\n",
        "\n",
        "dtc.fit(train_X, train_Y)\n",
        "\n",
        "predtest_Y = dtc.predict(test_X)\n",
        "print(\"Test Accuracy\", accuracy_score(test_Y, predtest_Y))\n"
      ]
    },
    {
      "cell_type": "code",
      "source": [
        "# XGB CLASSIFIER\n",
        "xgb_model = xgb.XGBClassifier(booster = 'dart', eta = 0.4, max_depth = 2, objective=\"binary:logistic\")\n",
        "eval_set = [(train_X, train_Y), (test_X, test_Y)]\n",
        "xgb_model.fit(train_X, train_Y, eval_set=eval_set, eval_metric=[\"error\", \"logloss\"])\n",
        "predtest_Y = xgb_model.predict(test_X)\n",
        "acc = accuracy_score(test_Y, predtest_Y)\n",
        "print(acc)"
      ],
      "metadata": {
        "colab": {
          "base_uri": "https://localhost:8080/",
          "height": 0
        },
        "id": "zjxeBwpDaFjl",
        "outputId": "db15631d-5e97-493e-8d89-f147a0147664"
      },
      "execution_count": 190,
      "outputs": [
        {
          "output_type": "stream",
          "name": "stdout",
          "text": [
            "[0]\tvalidation_0-error:0.173213\tvalidation_0-logloss:0.645718\tvalidation_1-error:0.165973\tvalidation_1-logloss:0.644729\n",
            "[1]\tvalidation_0-error:0.173136\tvalidation_0-logloss:0.606959\tvalidation_1-error:0.167514\tvalidation_1-logloss:0.605218\n",
            "[2]\tvalidation_0-error:0.157986\tvalidation_0-logloss:0.574431\tvalidation_1-error:0.149176\tvalidation_1-logloss:0.571719\n",
            "[3]\tvalidation_0-error:0.157986\tvalidation_0-logloss:0.547022\tvalidation_1-error:0.149176\tvalidation_1-logloss:0.543723\n",
            "[4]\tvalidation_0-error:0.157986\tvalidation_0-logloss:0.523398\tvalidation_1-error:0.149176\tvalidation_1-logloss:0.519582\n",
            "[5]\tvalidation_0-error:0.157986\tvalidation_0-logloss:0.503361\tvalidation_1-error:0.149176\tvalidation_1-logloss:0.4989\n",
            "[6]\tvalidation_0-error:0.157986\tvalidation_0-logloss:0.485912\tvalidation_1-error:0.149176\tvalidation_1-logloss:0.480983\n",
            "[7]\tvalidation_0-error:0.157986\tvalidation_0-logloss:0.470985\tvalidation_1-error:0.149176\tvalidation_1-logloss:0.465536\n",
            "[8]\tvalidation_0-error:0.157986\tvalidation_0-logloss:0.457843\tvalidation_1-error:0.149176\tvalidation_1-logloss:0.452089\n",
            "[9]\tvalidation_0-error:0.157986\tvalidation_0-logloss:0.44623\tvalidation_1-error:0.149176\tvalidation_1-logloss:0.440192\n",
            "[10]\tvalidation_0-error:0.157986\tvalidation_0-logloss:0.436239\tvalidation_1-error:0.149176\tvalidation_1-logloss:0.429594\n",
            "[11]\tvalidation_0-error:0.157986\tvalidation_0-logloss:0.427253\tvalidation_1-error:0.149176\tvalidation_1-logloss:0.420426\n",
            "[12]\tvalidation_0-error:0.157986\tvalidation_0-logloss:0.419151\tvalidation_1-error:0.149176\tvalidation_1-logloss:0.412146\n",
            "[13]\tvalidation_0-error:0.157986\tvalidation_0-logloss:0.41198\tvalidation_1-error:0.149176\tvalidation_1-logloss:0.404697\n",
            "[14]\tvalidation_0-error:0.157986\tvalidation_0-logloss:0.405609\tvalidation_1-error:0.149176\tvalidation_1-logloss:0.397987\n",
            "[15]\tvalidation_0-error:0.157986\tvalidation_0-logloss:0.399605\tvalidation_1-error:0.149176\tvalidation_1-logloss:0.391825\n",
            "[16]\tvalidation_0-error:0.156605\tvalidation_0-logloss:0.394299\tvalidation_1-error:0.148097\tvalidation_1-logloss:0.386151\n",
            "[17]\tvalidation_0-error:0.156681\tvalidation_0-logloss:0.389639\tvalidation_1-error:0.148251\tvalidation_1-logloss:0.381149\n",
            "[18]\tvalidation_0-error:0.156681\tvalidation_0-logloss:0.384865\tvalidation_1-error:0.148251\tvalidation_1-logloss:0.376416\n",
            "[19]\tvalidation_0-error:0.156106\tvalidation_0-logloss:0.380679\tvalidation_1-error:0.147789\tvalidation_1-logloss:0.37187\n",
            "[20]\tvalidation_0-error:0.156451\tvalidation_0-logloss:0.377038\tvalidation_1-error:0.148097\tvalidation_1-logloss:0.36798\n",
            "[21]\tvalidation_0-error:0.154879\tvalidation_0-logloss:0.37333\tvalidation_1-error:0.147018\tvalidation_1-logloss:0.364249\n",
            "[22]\tvalidation_0-error:0.154879\tvalidation_0-logloss:0.370199\tvalidation_1-error:0.147018\tvalidation_1-logloss:0.36076\n",
            "[23]\tvalidation_0-error:0.154879\tvalidation_0-logloss:0.367098\tvalidation_1-error:0.147018\tvalidation_1-logloss:0.357403\n",
            "[24]\tvalidation_0-error:0.154764\tvalidation_0-logloss:0.364051\tvalidation_1-error:0.146864\tvalidation_1-logloss:0.354311\n",
            "[25]\tvalidation_0-error:0.154725\tvalidation_0-logloss:0.361365\tvalidation_1-error:0.14671\tvalidation_1-logloss:0.351679\n",
            "[26]\tvalidation_0-error:0.15204\tvalidation_0-logloss:0.358649\tvalidation_1-error:0.144552\tvalidation_1-logloss:0.349004\n",
            "[27]\tvalidation_0-error:0.152884\tvalidation_0-logloss:0.356437\tvalidation_1-error:0.145015\tvalidation_1-logloss:0.346516\n",
            "[28]\tvalidation_0-error:0.152731\tvalidation_0-logloss:0.354268\tvalidation_1-error:0.145015\tvalidation_1-logloss:0.344322\n",
            "[29]\tvalidation_0-error:0.151964\tvalidation_0-logloss:0.352188\tvalidation_1-error:0.145323\tvalidation_1-logloss:0.341986\n",
            "[30]\tvalidation_0-error:0.151772\tvalidation_0-logloss:0.350215\tvalidation_1-error:0.144552\tvalidation_1-logloss:0.340035\n",
            "[31]\tvalidation_0-error:0.151427\tvalidation_0-logloss:0.348253\tvalidation_1-error:0.144706\tvalidation_1-logloss:0.337926\n",
            "[32]\tvalidation_0-error:0.150506\tvalidation_0-logloss:0.346536\tvalidation_1-error:0.144398\tvalidation_1-logloss:0.336229\n",
            "[33]\tvalidation_0-error:0.149624\tvalidation_0-logloss:0.344923\tvalidation_1-error:0.143936\tvalidation_1-logloss:0.334583\n",
            "[34]\tvalidation_0-error:0.149701\tvalidation_0-logloss:0.343353\tvalidation_1-error:0.143474\tvalidation_1-logloss:0.333038\n",
            "[35]\tvalidation_0-error:0.149624\tvalidation_0-logloss:0.341472\tvalidation_1-error:0.143165\tvalidation_1-logloss:0.331276\n",
            "[36]\tvalidation_0-error:0.149624\tvalidation_0-logloss:0.3401\tvalidation_1-error:0.143319\tvalidation_1-logloss:0.329841\n",
            "[37]\tvalidation_0-error:0.148128\tvalidation_0-logloss:0.338821\tvalidation_1-error:0.142395\tvalidation_1-logloss:0.328577\n",
            "[38]\tvalidation_0-error:0.147936\tvalidation_0-logloss:0.337609\tvalidation_1-error:0.142395\tvalidation_1-logloss:0.327138\n",
            "[39]\tvalidation_0-error:0.148013\tvalidation_0-logloss:0.336067\tvalidation_1-error:0.142549\tvalidation_1-logloss:0.325835\n",
            "[40]\tvalidation_0-error:0.147591\tvalidation_0-logloss:0.334905\tvalidation_1-error:0.141778\tvalidation_1-logloss:0.32453\n",
            "[41]\tvalidation_0-error:0.147936\tvalidation_0-logloss:0.333821\tvalidation_1-error:0.142087\tvalidation_1-logloss:0.323415\n",
            "[42]\tvalidation_0-error:0.14786\tvalidation_0-logloss:0.332834\tvalidation_1-error:0.14147\tvalidation_1-logloss:0.32233\n",
            "[43]\tvalidation_0-error:0.147745\tvalidation_0-logloss:0.331848\tvalidation_1-error:0.141778\tvalidation_1-logloss:0.321369\n",
            "[44]\tvalidation_0-error:0.147246\tvalidation_0-logloss:0.330837\tvalidation_1-error:0.141008\tvalidation_1-logloss:0.320467\n",
            "[45]\tvalidation_0-error:0.147016\tvalidation_0-logloss:0.329899\tvalidation_1-error:0.141008\tvalidation_1-logloss:0.319532\n",
            "[46]\tvalidation_0-error:0.147093\tvalidation_0-logloss:0.32887\tvalidation_1-error:0.140083\tvalidation_1-logloss:0.318336\n",
            "[47]\tvalidation_0-error:0.147169\tvalidation_0-logloss:0.328011\tvalidation_1-error:0.140237\tvalidation_1-logloss:0.317378\n",
            "[48]\tvalidation_0-error:0.146978\tvalidation_0-logloss:0.327223\tvalidation_1-error:0.139775\tvalidation_1-logloss:0.316584\n",
            "[49]\tvalidation_0-error:0.147323\tvalidation_0-logloss:0.326476\tvalidation_1-error:0.140237\tvalidation_1-logloss:0.315844\n",
            "[50]\tvalidation_0-error:0.147476\tvalidation_0-logloss:0.325692\tvalidation_1-error:0.140237\tvalidation_1-logloss:0.31509\n",
            "[51]\tvalidation_0-error:0.146326\tvalidation_0-logloss:0.32484\tvalidation_1-error:0.137618\tvalidation_1-logloss:0.314076\n",
            "[52]\tvalidation_0-error:0.146364\tvalidation_0-logloss:0.324173\tvalidation_1-error:0.137772\tvalidation_1-logloss:0.313465\n",
            "[53]\tvalidation_0-error:0.14621\tvalidation_0-logloss:0.323542\tvalidation_1-error:0.137309\tvalidation_1-logloss:0.312685\n",
            "[54]\tvalidation_0-error:0.146326\tvalidation_0-logloss:0.322928\tvalidation_1-error:0.137463\tvalidation_1-logloss:0.312065\n",
            "[55]\tvalidation_0-error:0.146479\tvalidation_0-logloss:0.322223\tvalidation_1-error:0.137309\tvalidation_1-logloss:0.311223\n",
            "[56]\tvalidation_0-error:0.146287\tvalidation_0-logloss:0.321638\tvalidation_1-error:0.137309\tvalidation_1-logloss:0.310654\n",
            "[57]\tvalidation_0-error:0.146479\tvalidation_0-logloss:0.321093\tvalidation_1-error:0.137463\tvalidation_1-logloss:0.310115\n",
            "[58]\tvalidation_0-error:0.146287\tvalidation_0-logloss:0.320552\tvalidation_1-error:0.137155\tvalidation_1-logloss:0.309671\n",
            "[59]\tvalidation_0-error:0.146249\tvalidation_0-logloss:0.32006\tvalidation_1-error:0.137155\tvalidation_1-logloss:0.309175\n",
            "[60]\tvalidation_0-error:0.146326\tvalidation_0-logloss:0.319568\tvalidation_1-error:0.137309\tvalidation_1-logloss:0.308697\n",
            "[61]\tvalidation_0-error:0.14621\tvalidation_0-logloss:0.319054\tvalidation_1-error:0.137155\tvalidation_1-logloss:0.308208\n",
            "[62]\tvalidation_0-error:0.14575\tvalidation_0-logloss:0.318472\tvalidation_1-error:0.137155\tvalidation_1-logloss:0.307689\n",
            "[63]\tvalidation_0-error:0.145635\tvalidation_0-logloss:0.317996\tvalidation_1-error:0.137309\tvalidation_1-logloss:0.307237\n",
            "[64]\tvalidation_0-error:0.145635\tvalidation_0-logloss:0.317535\tvalidation_1-error:0.137463\tvalidation_1-logloss:0.306846\n",
            "[65]\tvalidation_0-error:0.145443\tvalidation_0-logloss:0.317018\tvalidation_1-error:0.137618\tvalidation_1-logloss:0.306353\n",
            "[66]\tvalidation_0-error:0.145482\tvalidation_0-logloss:0.316609\tvalidation_1-error:0.137309\tvalidation_1-logloss:0.305965\n",
            "[67]\tvalidation_0-error:0.145674\tvalidation_0-logloss:0.316165\tvalidation_1-error:0.137001\tvalidation_1-logloss:0.305378\n",
            "[68]\tvalidation_0-error:0.145558\tvalidation_0-logloss:0.315777\tvalidation_1-error:0.137001\tvalidation_1-logloss:0.305129\n",
            "[69]\tvalidation_0-error:0.145443\tvalidation_0-logloss:0.315405\tvalidation_1-error:0.136693\tvalidation_1-logloss:0.30476\n",
            "[70]\tvalidation_0-error:0.145328\tvalidation_0-logloss:0.315044\tvalidation_1-error:0.136693\tvalidation_1-logloss:0.30441\n",
            "[71]\tvalidation_0-error:0.145405\tvalidation_0-logloss:0.314707\tvalidation_1-error:0.136693\tvalidation_1-logloss:0.304052\n",
            "[72]\tvalidation_0-error:0.145252\tvalidation_0-logloss:0.314348\tvalidation_1-error:0.136847\tvalidation_1-logloss:0.303717\n",
            "[73]\tvalidation_0-error:0.145175\tvalidation_0-logloss:0.313985\tvalidation_1-error:0.136539\tvalidation_1-logloss:0.303351\n",
            "[74]\tvalidation_0-error:0.14529\tvalidation_0-logloss:0.313644\tvalidation_1-error:0.137155\tvalidation_1-logloss:0.30309\n",
            "[75]\tvalidation_0-error:0.145213\tvalidation_0-logloss:0.313349\tvalidation_1-error:0.137155\tvalidation_1-logloss:0.302846\n",
            "[76]\tvalidation_0-error:0.145175\tvalidation_0-logloss:0.313036\tvalidation_1-error:0.137155\tvalidation_1-logloss:0.302533\n",
            "[77]\tvalidation_0-error:0.145175\tvalidation_0-logloss:0.312754\tvalidation_1-error:0.137155\tvalidation_1-logloss:0.302189\n",
            "[78]\tvalidation_0-error:0.144791\tvalidation_0-logloss:0.312438\tvalidation_1-error:0.136847\tvalidation_1-logloss:0.301897\n",
            "[79]\tvalidation_0-error:0.14483\tvalidation_0-logloss:0.312154\tvalidation_1-error:0.136847\tvalidation_1-logloss:0.301648\n",
            "[80]\tvalidation_0-error:0.144945\tvalidation_0-logloss:0.311867\tvalidation_1-error:0.136539\tvalidation_1-logloss:0.301389\n",
            "[81]\tvalidation_0-error:0.144715\tvalidation_0-logloss:0.311583\tvalidation_1-error:0.135614\tvalidation_1-logloss:0.301061\n",
            "[82]\tvalidation_0-error:0.144446\tvalidation_0-logloss:0.311315\tvalidation_1-error:0.135922\tvalidation_1-logloss:0.300885\n",
            "[83]\tvalidation_0-error:0.144178\tvalidation_0-logloss:0.310978\tvalidation_1-error:0.13546\tvalidation_1-logloss:0.300612\n",
            "[84]\tvalidation_0-error:0.144254\tvalidation_0-logloss:0.310726\tvalidation_1-error:0.13546\tvalidation_1-logloss:0.300367\n",
            "[85]\tvalidation_0-error:0.144216\tvalidation_0-logloss:0.310487\tvalidation_1-error:0.135306\tvalidation_1-logloss:0.300117\n",
            "[86]\tvalidation_0-error:0.144101\tvalidation_0-logloss:0.310237\tvalidation_1-error:0.135306\tvalidation_1-logloss:0.299974\n",
            "[87]\tvalidation_0-error:0.144216\tvalidation_0-logloss:0.31001\tvalidation_1-error:0.134998\tvalidation_1-logloss:0.299817\n",
            "[88]\tvalidation_0-error:0.144101\tvalidation_0-logloss:0.309786\tvalidation_1-error:0.134844\tvalidation_1-logloss:0.29958\n",
            "[89]\tvalidation_0-error:0.144178\tvalidation_0-logloss:0.309546\tvalidation_1-error:0.134689\tvalidation_1-logloss:0.299467\n",
            "[90]\tvalidation_0-error:0.144063\tvalidation_0-logloss:0.309203\tvalidation_1-error:0.134689\tvalidation_1-logloss:0.299224\n",
            "[91]\tvalidation_0-error:0.143756\tvalidation_0-logloss:0.308968\tvalidation_1-error:0.134227\tvalidation_1-logloss:0.298985\n",
            "[92]\tvalidation_0-error:0.143794\tvalidation_0-logloss:0.308771\tvalidation_1-error:0.134227\tvalidation_1-logloss:0.298738\n",
            "[93]\tvalidation_0-error:0.143756\tvalidation_0-logloss:0.308564\tvalidation_1-error:0.134073\tvalidation_1-logloss:0.298552\n",
            "[94]\tvalidation_0-error:0.143794\tvalidation_0-logloss:0.308107\tvalidation_1-error:0.134227\tvalidation_1-logloss:0.298095\n",
            "[95]\tvalidation_0-error:0.143564\tvalidation_0-logloss:0.307908\tvalidation_1-error:0.134227\tvalidation_1-logloss:0.298012\n",
            "[96]\tvalidation_0-error:0.143717\tvalidation_0-logloss:0.307633\tvalidation_1-error:0.134535\tvalidation_1-logloss:0.297656\n",
            "[97]\tvalidation_0-error:0.143526\tvalidation_0-logloss:0.307345\tvalidation_1-error:0.134381\tvalidation_1-logloss:0.297421\n",
            "[98]\tvalidation_0-error:0.143564\tvalidation_0-logloss:0.307156\tvalidation_1-error:0.133919\tvalidation_1-logloss:0.297181\n",
            "[99]\tvalidation_0-error:0.143295\tvalidation_0-logloss:0.306758\tvalidation_1-error:0.133765\tvalidation_1-logloss:0.296774\n",
            "0.866235167206041\n"
          ]
        }
      ]
    },
    {
      "cell_type": "code",
      "source": [
        "# GRID SEARCH XGB CLASSIFIER\n",
        "from xgboost import XGBClassifier\n",
        "from sklearn.utils.class_weight import compute_sample_weight\n",
        "from sklearn.model_selection import GridSearchCV\n",
        "estimator = XGBClassifier(\n",
        "    objective= 'binary:logistic',\n",
        "    nthread=4,\n",
        "    seed=42\n",
        ")\n",
        "\n",
        "parameters = {\n",
        "    'max_depth': range (2),\n",
        "    'n_estimators': range(60),\n",
        "    'learning_rate': [0.1]\n",
        "}\n",
        "grid_search = GridSearchCV(\n",
        "    estimator=estimator,\n",
        "    param_grid=parameters,\n",
        "    scoring = 'roc_auc',\n",
        "    n_jobs = 10,\n",
        "    cv = 10,\n",
        "    verbose=True\n",
        ")\n",
        "sample_weights = compute_sample_weight(\n",
        "    class_weight='balanced',\n",
        "    y=train_Y\n",
        ")\n",
        "\n",
        "grid_search.fit(train_X, train_Y, sample_weight=sample_weights)\n",
        "print(grid_search.best_params_)\n",
        "grid_search.score(test_X, test_Y)"
      ],
      "metadata": {
        "colab": {
          "base_uri": "https://localhost:8080/",
          "height": 0
        },
        "id": "NrR2AbRTYAxW",
        "outputId": "56e9d760-80ba-4022-b235-5fc850a1682c"
      },
      "execution_count": 191,
      "outputs": [
        {
          "output_type": "stream",
          "name": "stdout",
          "text": [
            "Fitting 10 folds for each of 120 candidates, totalling 1200 fits\n",
            "{'learning_rate': 0.1, 'max_depth': 1, 'n_estimators': 57}\n"
          ]
        },
        {
          "output_type": "execute_result",
          "data": {
            "text/plain": [
              "0.9033226905320205"
            ]
          },
          "metadata": {},
          "execution_count": 191
        }
      ]
    },
    {
      "cell_type": "markdown",
      "source": [
        "90.33% accuracy xgboost model compared to decision tree of 86.2%"
      ],
      "metadata": {
        "id": "Y169Vt02xDIb"
      }
    },
    {
      "cell_type": "markdown",
      "metadata": {
        "id": "ETsYTrEAqhFJ"
      },
      "source": [
        "7\\. To demonstrate the performance of your classifier, we will now plot the AUROC. Below are two functions which you can use. What you need to add is code to plot the AUROC for all the data and as well for each value of the protected attribute (on one set of axes). (2 points)"
      ]
    },
    {
      "cell_type": "code",
      "execution_count": 200,
      "metadata": {
        "id": "o0I8dyzaqhFJ",
        "colab": {
          "base_uri": "https://localhost:8080/",
          "height": 563
        },
        "outputId": "546d7344-0e6e-4144-9c93-2f09fc91d6ac"
      },
      "outputs": [
        {
          "output_type": "stream",
          "name": "stderr",
          "text": [
            "<ipython-input-200-e5e84d334034>:27: SettingWithCopyWarning: \n",
            "A value is trying to be set on a copy of a slice from a DataFrame.\n",
            "Try using .loc[row_indexer,col_indexer] = value instead\n",
            "\n",
            "See the caveats in the documentation: https://pandas.pydata.org/pandas-docs/stable/user_guide/indexing.html#returning-a-view-versus-a-copy\n",
            "  test_df[\"prediction\"] = predtest_Y\n",
            "<ipython-input-200-e5e84d334034>:28: SettingWithCopyWarning: \n",
            "A value is trying to be set on a copy of a slice from a DataFrame.\n",
            "Try using .loc[row_indexer,col_indexer] = value instead\n",
            "\n",
            "See the caveats in the documentation: https://pandas.pydata.org/pandas-docs/stable/user_guide/indexing.html#returning-a-view-versus-a-copy\n",
            "  test_df[\"score\"] = grid_search.predict_proba(test_X)[:,1]\n"
          ]
        },
        {
          "output_type": "stream",
          "name": "stdout",
          "text": [
            "All  0.9033226905320205\n",
            "Male  0.8797646810657971\n",
            "Female  0.9332041001170831\n"
          ]
        },
        {
          "output_type": "display_data",
          "data": {
            "text/plain": [
              "<Figure size 432x288 with 1 Axes>"
            ],
            "image/png": "[encoded data removed]"
          },
          "metadata": {
            "needs_background": "light"
          }
        }
      ],
      "source": [
        "#Code for computing the AUCROC\n",
        "\n",
        "from sklearn.metrics import roc_auc_score, roc_curve, auc\n",
        "import matplotlib.pyplot as plt\n",
        "\n",
        "def getAUC(truth, pred):\n",
        "    fpr, tpr, thresholds = roc_curve(truth, pred)\n",
        "    return auc(fpr, tpr)\n",
        "\n",
        "\n",
        "def plotAUC(truth, pred, lab):\n",
        "    fpr, tpr, thresholds = roc_curve(truth, pred)\n",
        "    roc_auc = auc(fpr, tpr)\n",
        "    c = (np.random.rand(), np.random.rand(), np.random.rand())\n",
        "    plt.plot(fpr, tpr, color=c, label= lab+' (AUC = %0.2f)' % roc_auc)\n",
        "    plt.plot([0, 1], [0, 1], 'k--')\n",
        "    plt.xlim([0.0, 1.0])\n",
        "    plt.ylim([0.0, 1.0])\n",
        "    plt.xlabel('FPR')\n",
        "    plt.ylabel('TPR')\n",
        "    plt.title('ROC')\n",
        "    plt.legend(loc=\"lower right\")\n",
        "\n",
        "\n",
        "\n",
        "\n",
        "test_df[\"prediction\"] = predtest_Y\n",
        "test_df[\"score\"] = grid_search.predict_proba(test_X)[:,1]\n",
        "\n",
        "# For all values\n",
        "print(\"All \", getAUC(test_Y, test_df[\"score\"]))\n",
        "plotAUC(test_Y, test_df[\"score\"],'All')\n",
        "\n",
        "\n",
        "# For every value in protected attribute\n",
        "print(\"Male \", getAUC(test_df[test_df[\"protected_sex_ Male\"]==1][\"class_binary\"],test_df[test_df[\"protected_sex_ Male\"]==1][\"score\"]))\n",
        "plotAUC(test_df[test_df[\"protected_sex_ Male\"]==1][\"class_binary\"],test_df[test_df[\"protected_sex_ Male\"]==1][\"score\"],'Male')\n",
        "\n",
        "\n",
        "print(\"Female \",getAUC(test_df[test_df[\"protected_sex_ Female\"]==1][\"class_binary\"],test_df[test_df[\"protected_sex_ Female\"]==1][\"score\"]))\n",
        "plotAUC(test_df[test_df[\"protected_sex_ Female\"]==1][\"class_binary\"],test_df[test_df[\"protected_sex_ Female\"]==1][\"score\"],'Female')\n",
        "plt.show()\n"
      ]
    },
    {
      "cell_type": "markdown",
      "metadata": {
        "id": "0AzRqWq0qhFJ"
      },
      "source": [
        "#### Assessing algorithmic fairness (5 points)\n",
        "\n",
        "8\\. Algorithmic Fairness metrics (2 points) \n",
        "\n",
        "Pick a fairness metric to apply to the income prediction task and your selected protected attribute. Explain why you selected this metric. "
      ]
    },
    {
      "cell_type": "markdown",
      "metadata": {
        "id": "bV-xH4L-qhFJ"
      },
      "source": [
        "### ANSWER\n",
        "Statistical parity, \n",
        "Equalized odds,\n",
        "Equality of opportunity,\n",
        "Calibration\n",
        "\n",
        "\n",
        "With all the possibilities, Statistical parity is what I am favouring because I want to know if irrespective of sex the people belong to the same income bracket or not and SPD helps in even understanding which group is underpriveleged or priveleged based on the sign of value. We can also determine the impact by calculating disparate impact ratio\n",
        "\n",
        "SPD = P(Y pred =1 ∣ A=minority)−P(Y pred=1 ∣ A=majority)"
      ]
    },
    {
      "cell_type": "markdown",
      "metadata": {
        "id": "dPo8FVm7qhFJ"
      },
      "source": [
        "9\\. Compute the chosen metric for your protected attribute. Hint: this will require you to first find the threshold wiith the best when predicting on the entire data, and then computing the TPR/FPR or other necessary parameters at that threshold for each value of the protected attribute. (2 points)\n",
        "\n",
        "There are many ways we could locate the threshold with the optimal balance between the false positive rate (FPR) and true positive rate (TPR).\n",
        "\n",
        "As a reminder, the TPR is called the Sensitivity. The inverse of the false-positive rate (1-FPR) is called the Specificity.\n",
        "\n",
        "<center>Sensitivity = $\\frac{TP}{TP + FN}$\n",
        "Specificity = $\\frac{TN}{FP + TN}$</center>\n",
        "\n",
        "where:\n",
        "\n",
        "<center>Sensitivity = TPR and Specificity = 1 – FPR</center>\n",
        "\n",
        "The Geometric Mean or g-mean is a metric for imbalanced classification that, if optimized, will seek a balance between the sensitivity and the specificity.\n",
        "\n",
        "<center>g-mean = $\\sqrt{Sensitivity * Specificity}$ </center>\n",
        "\n"
      ]
    },
    {
      "cell_type": "markdown",
      "source": [
        "Using Imblearn Package"
      ],
      "metadata": {
        "id": "c_nwDmYtiMSr"
      }
    },
    {
      "cell_type": "code",
      "source": [
        "from imblearn.metrics import geometric_mean_score\n",
        "import math\n",
        "result_proba = grid_search.predict_proba(test_X)\n",
        "df_threshold = pd.DataFrame()\n",
        "threshold_lis = []\n",
        "gmean = []\n",
        "\n",
        "for i in range(0,100,1):\n",
        "  threshold = i/100\n",
        "  threshold_lis.append(threshold)\n",
        "  result_boolean2 = (result_proba[:,1] > threshold) \n",
        "  gmean.append(geometric_mean_score(test_Y,result_boolean2))\n",
        "df_threshold[\"threshold\"] = threshold_lis\n",
        "df_threshold[\"gmean\"] = gmean\n",
        "\n",
        "\n",
        "df_threshold"
      ],
      "metadata": {
        "colab": {
          "base_uri": "https://localhost:8080/",
          "height": 424
        },
        "id": "ei6Cnb1rX1-l",
        "outputId": "4e8c7167-ff55-42a5-9779-de84c7faf89b"
      },
      "execution_count": 201,
      "outputs": [
        {
          "output_type": "execute_result",
          "data": {
            "text/plain": [
              "    threshold     gmean\n",
              "0        0.00  0.000000\n",
              "1        0.01  0.000000\n",
              "2        0.02  0.000000\n",
              "3        0.03  0.000000\n",
              "4        0.04  0.000000\n",
              "..        ...       ...\n",
              "95       0.95  0.284935\n",
              "96       0.96  0.249091\n",
              "97       0.97  0.000000\n",
              "98       0.98  0.000000\n",
              "99       0.99  0.000000\n",
              "\n",
              "[100 rows x 2 columns]"
            ],
            "text/html": [
              "\n",
              "  <div id=\"df-6c38fda7-99ac-4b12-9002-ee223241e3d0\">\n",
              "    <div class=\"colab-df-container\">\n",
              "      <div>\n",
              "<style scoped>\n",
              "    .dataframe tbody tr th:only-of-type {\n",
              "        vertical-align: middle;\n",
              "    }\n",
              "\n",
              "    .dataframe tbody tr th {\n",
              "        vertical-align: top;\n",
              "    }\n",
              "\n",
              "    .dataframe thead th {\n",
              "        text-align: right;\n",
              "    }\n",
              "</style>\n",
              "<table border=\"1\" class=\"dataframe\">\n",
              "  <thead>\n",
              "    <tr style=\"text-align: right;\">\n",
              "      <th></th>\n",
              "      <th>threshold</th>\n",
              "      <th>gmean</th>\n",
              "    </tr>\n",
              "  </thead>\n",
              "  <tbody>\n",
              "    <tr>\n",
              "      <th>0</th>\n",
              "      <td>0.00</td>\n",
              "      <td>0.000000</td>\n",
              "    </tr>\n",
              "    <tr>\n",
              "      <th>1</th>\n",
              "      <td>0.01</td>\n",
              "      <td>0.000000</td>\n",
              "    </tr>\n",
              "    <tr>\n",
              "      <th>2</th>\n",
              "      <td>0.02</td>\n",
              "      <td>0.000000</td>\n",
              "    </tr>\n",
              "    <tr>\n",
              "      <th>3</th>\n",
              "      <td>0.03</td>\n",
              "      <td>0.000000</td>\n",
              "    </tr>\n",
              "    <tr>\n",
              "      <th>4</th>\n",
              "      <td>0.04</td>\n",
              "      <td>0.000000</td>\n",
              "    </tr>\n",
              "    <tr>\n",
              "      <th>...</th>\n",
              "      <td>...</td>\n",
              "      <td>...</td>\n",
              "    </tr>\n",
              "    <tr>\n",
              "      <th>95</th>\n",
              "      <td>0.95</td>\n",
              "      <td>0.284935</td>\n",
              "    </tr>\n",
              "    <tr>\n",
              "      <th>96</th>\n",
              "      <td>0.96</td>\n",
              "      <td>0.249091</td>\n",
              "    </tr>\n",
              "    <tr>\n",
              "      <th>97</th>\n",
              "      <td>0.97</td>\n",
              "      <td>0.000000</td>\n",
              "    </tr>\n",
              "    <tr>\n",
              "      <th>98</th>\n",
              "      <td>0.98</td>\n",
              "      <td>0.000000</td>\n",
              "    </tr>\n",
              "    <tr>\n",
              "      <th>99</th>\n",
              "      <td>0.99</td>\n",
              "      <td>0.000000</td>\n",
              "    </tr>\n",
              "  </tbody>\n",
              "</table>\n",
              "<p>100 rows × 2 columns</p>\n",
              "</div>\n",
              "      <button class=\"colab-df-convert\" onclick=\"convertToInteractive('df-6c38fda7-99ac-4b12-9002-ee223241e3d0')\"\n",
              "              title=\"Convert this dataframe to an interactive table.\"\n",
              "              style=\"display:none;\">\n",
              "        \n",
              "  <svg xmlns=\"http://www.w3.org/2000/svg\" height=\"24px\"viewBox=\"0 0 24 24\"\n",
              "       width=\"24px\">\n",
              "    <path d=\"M0 0h24v24H0V0z\" fill=\"none\"/>\n",
              "    <path d=\"M18.56 5.44l.94 2.06.94-2.06 2.06-.94-2.06-.94-.94-2.06-.94 2.06-2.06.94zm-11 1L8.5 8.5l.94-2.06 2.06-.94-2.06-.94L8.5 2.5l-.94 2.06-2.06.94zm10 10l.94 2.06.94-2.06 2.06-.94-2.06-.94-.94-2.06-.94 2.06-2.06.94z\"/><path d=\"M17.41 7.96l-1.37-1.37c-.4-.4-.92-.59-1.43-.59-.52 0-1.04.2-1.43.59L10.3 9.45l-7.72 7.72c-.78.78-.78 2.05 0 2.83L4 21.41c.39.39.9.59 1.41.59.51 0 1.02-.2 1.41-.59l7.78-7.78 2.81-2.81c.8-.78.8-2.07 0-2.86zM5.41 20L4 18.59l7.72-7.72 1.47 1.35L5.41 20z\"/>\n",
              "  </svg>\n",
              "      </button>\n",
              "      \n",
              "  <style>\n",
              "    .colab-df-container {\n",
              "      display:flex;\n",
              "      flex-wrap:wrap;\n",
              "      gap: 12px;\n",
              "    }\n",
              "\n",
              "    .colab-df-convert {\n",
              "      background-color: #E8F0FE;\n",
              "      border: none;\n",
              "      border-radius: 50%;\n",
              "      cursor: pointer;\n",
              "      display: none;\n",
              "      fill: #1967D2;\n",
              "      height: 32px;\n",
              "      padding: 0 0 0 0;\n",
              "      width: 32px;\n",
              "    }\n",
              "\n",
              "    .colab-df-convert:hover {\n",
              "      background-color: #E2EBFA;\n",
              "      box-shadow: 0px 1px 2px rgba(60, 64, 67, 0.3), 0px 1px 3px 1px rgba(60, 64, 67, 0.15);\n",
              "      fill: #174EA6;\n",
              "    }\n",
              "\n",
              "    [theme=dark] .colab-df-convert {\n",
              "      background-color: #3B4455;\n",
              "      fill: #D2E3FC;\n",
              "    }\n",
              "\n",
              "    [theme=dark] .colab-df-convert:hover {\n",
              "      background-color: #434B5C;\n",
              "      box-shadow: 0px 1px 3px 1px rgba(0, 0, 0, 0.15);\n",
              "      filter: drop-shadow(0px 1px 2px rgba(0, 0, 0, 0.3));\n",
              "      fill: #FFFFFF;\n",
              "    }\n",
              "  </style>\n",
              "\n",
              "      <script>\n",
              "        const buttonEl =\n",
              "          document.querySelector('#df-6c38fda7-99ac-4b12-9002-ee223241e3d0 button.colab-df-convert');\n",
              "        buttonEl.style.display =\n",
              "          google.colab.kernel.accessAllowed ? 'block' : 'none';\n",
              "\n",
              "        async function convertToInteractive(key) {\n",
              "          const element = document.querySelector('#df-6c38fda7-99ac-4b12-9002-ee223241e3d0');\n",
              "          const dataTable =\n",
              "            await google.colab.kernel.invokeFunction('convertToInteractive',\n",
              "                                                     [key], {});\n",
              "          if (!dataTable) return;\n",
              "\n",
              "          const docLinkHtml = 'Like what you see? Visit the ' +\n",
              "            '<a target=\"_blank\" href=https://colab.research.google.com/notebooks/data_table.ipynb>data table notebook</a>'\n",
              "            + ' to learn more about interactive tables.';\n",
              "          element.innerHTML = '';\n",
              "          dataTable['output_type'] = 'display_data';\n",
              "          await google.colab.output.renderOutput(dataTable, element);\n",
              "          const docLink = document.createElement('div');\n",
              "          docLink.innerHTML = docLinkHtml;\n",
              "          element.appendChild(docLink);\n",
              "        }\n",
              "      </script>\n",
              "    </div>\n",
              "  </div>\n",
              "  "
            ]
          },
          "metadata": {},
          "execution_count": 201
        }
      ]
    },
    {
      "cell_type": "markdown",
      "source": [
        "Withot imblearn and manually calcuating"
      ],
      "metadata": {
        "id": "Qu-oAfDCiO-T"
      }
    },
    {
      "cell_type": "code",
      "source": [
        "import math\n",
        "result_proba = grid_search.predict_proba(test_X)\n",
        "df_threshold = pd.DataFrame()\n",
        "threshold_lis = []\n",
        "gmean = []\n",
        "\n",
        "for i in range(0,100,1):\n",
        "  threshold = i/100\n",
        "  threshold_lis.append(threshold)\n",
        "  y_pred = (result_proba[:,1] > threshold) \n",
        "  y_true = test_Y\n",
        "\n",
        "  fp = np.sum((y_pred == 1) & (y_true == 0))\n",
        "  tp = np.sum((y_pred == 1) & (y_true == 1))\n",
        "\n",
        "  fn = np.sum((y_pred == 0) & (y_true == 1))\n",
        "  tn = np.sum((y_pred == 0) & (y_true == 0))\n",
        "\n",
        "  fpr = fp / (fp + tn)\n",
        "  tpr = tp / (tp + fn)\n",
        "  gmean.append(math.sqrt((1-fpr)*tpr))\n",
        "\n",
        "df_threshold[\"threshold\"] = threshold_lis\n",
        "df_threshold[\"gmean\"] = gmean\n",
        "\n",
        "\n",
        "df_threshold"
      ],
      "metadata": {
        "colab": {
          "base_uri": "https://localhost:8080/",
          "height": 655
        },
        "id": "a5HDgwp0cjKp",
        "outputId": "0863f2cb-9f90-407f-836b-d2d905c279c9"
      },
      "execution_count": 202,
      "outputs": [
        {
          "output_type": "execute_result",
          "data": {
            "text/plain": [
              "    threshold     gmean\n",
              "0        0.00  0.000000\n",
              "1        0.01  0.000000\n",
              "2        0.02  0.000000\n",
              "3        0.03  0.000000\n",
              "4        0.04  0.000000\n",
              "..        ...       ...\n",
              "95       0.95  0.284935\n",
              "96       0.96  0.249091\n",
              "97       0.97  0.000000\n",
              "98       0.98  0.000000\n",
              "99       0.99  0.000000\n",
              "\n",
              "[100 rows x 2 columns]"
            ],
            "text/html": [
              "\n",
              "  <div id=\"df-95b91874-1c07-4a37-86c8-b6f5ccd5d138\">\n",
              "    <div class=\"colab-df-container\">\n",
              "      <div>\n",
              "<style scoped>\n",
              "    .dataframe tbody tr th:only-of-type {\n",
              "        vertical-align: middle;\n",
              "    }\n",
              "\n",
              "    .dataframe tbody tr th {\n",
              "        vertical-align: top;\n",
              "    }\n",
              "\n",
              "    .dataframe thead th {\n",
              "        text-align: right;\n",
              "    }\n",
              "</style>\n",
              "<table border=\"1\" class=\"dataframe\">\n",
              "  <thead>\n",
              "    <tr style=\"text-align: right;\">\n",
              "      <th></th>\n",
              "      <th>threshold</th>\n",
              "      <th>gmean</th>\n",
              "    </tr>\n",
              "  </thead>\n",
              "  <tbody>\n",
              "    <tr>\n",
              "      <th>0</th>\n",
              "      <td>0.00</td>\n",
              "      <td>0.000000</td>\n",
              "    </tr>\n",
              "    <tr>\n",
              "      <th>1</th>\n",
              "      <td>0.01</td>\n",
              "      <td>0.000000</td>\n",
              "    </tr>\n",
              "    <tr>\n",
              "      <th>2</th>\n",
              "      <td>0.02</td>\n",
              "      <td>0.000000</td>\n",
              "    </tr>\n",
              "    <tr>\n",
              "      <th>3</th>\n",
              "      <td>0.03</td>\n",
              "      <td>0.000000</td>\n",
              "    </tr>\n",
              "    <tr>\n",
              "      <th>4</th>\n",
              "      <td>0.04</td>\n",
              "      <td>0.000000</td>\n",
              "    </tr>\n",
              "    <tr>\n",
              "      <th>...</th>\n",
              "      <td>...</td>\n",
              "      <td>...</td>\n",
              "    </tr>\n",
              "    <tr>\n",
              "      <th>95</th>\n",
              "      <td>0.95</td>\n",
              "      <td>0.284935</td>\n",
              "    </tr>\n",
              "    <tr>\n",
              "      <th>96</th>\n",
              "      <td>0.96</td>\n",
              "      <td>0.249091</td>\n",
              "    </tr>\n",
              "    <tr>\n",
              "      <th>97</th>\n",
              "      <td>0.97</td>\n",
              "      <td>0.000000</td>\n",
              "    </tr>\n",
              "    <tr>\n",
              "      <th>98</th>\n",
              "      <td>0.98</td>\n",
              "      <td>0.000000</td>\n",
              "    </tr>\n",
              "    <tr>\n",
              "      <th>99</th>\n",
              "      <td>0.99</td>\n",
              "      <td>0.000000</td>\n",
              "    </tr>\n",
              "  </tbody>\n",
              "</table>\n",
              "<p>100 rows × 2 columns</p>\n",
              "</div>\n",
              "      <button class=\"colab-df-convert\" onclick=\"convertToInteractive('df-95b91874-1c07-4a37-86c8-b6f5ccd5d138')\"\n",
              "              title=\"Convert this dataframe to an interactive table.\"\n",
              "              style=\"display:none;\">\n",
              "        \n",
              "  <svg xmlns=\"http://www.w3.org/2000/svg\" height=\"24px\"viewBox=\"0 0 24 24\"\n",
              "       width=\"24px\">\n",
              "    <path d=\"M0 0h24v24H0V0z\" fill=\"none\"/>\n",
              "    <path d=\"M18.56 5.44l.94 2.06.94-2.06 2.06-.94-2.06-.94-.94-2.06-.94 2.06-2.06.94zm-11 1L8.5 8.5l.94-2.06 2.06-.94-2.06-.94L8.5 2.5l-.94 2.06-2.06.94zm10 10l.94 2.06.94-2.06 2.06-.94-2.06-.94-.94-2.06-.94 2.06-2.06.94z\"/><path d=\"M17.41 7.96l-1.37-1.37c-.4-.4-.92-.59-1.43-.59-.52 0-1.04.2-1.43.59L10.3 9.45l-7.72 7.72c-.78.78-.78 2.05 0 2.83L4 21.41c.39.39.9.59 1.41.59.51 0 1.02-.2 1.41-.59l7.78-7.78 2.81-2.81c.8-.78.8-2.07 0-2.86zM5.41 20L4 18.59l7.72-7.72 1.47 1.35L5.41 20z\"/>\n",
              "  </svg>\n",
              "      </button>\n",
              "      \n",
              "  <style>\n",
              "    .colab-df-container {\n",
              "      display:flex;\n",
              "      flex-wrap:wrap;\n",
              "      gap: 12px;\n",
              "    }\n",
              "\n",
              "    .colab-df-convert {\n",
              "      background-color: #E8F0FE;\n",
              "      border: none;\n",
              "      border-radius: 50%;\n",
              "      cursor: pointer;\n",
              "      display: none;\n",
              "      fill: #1967D2;\n",
              "      height: 32px;\n",
              "      padding: 0 0 0 0;\n",
              "      width: 32px;\n",
              "    }\n",
              "\n",
              "    .colab-df-convert:hover {\n",
              "      background-color: #E2EBFA;\n",
              "      box-shadow: 0px 1px 2px rgba(60, 64, 67, 0.3), 0px 1px 3px 1px rgba(60, 64, 67, 0.15);\n",
              "      fill: #174EA6;\n",
              "    }\n",
              "\n",
              "    [theme=dark] .colab-df-convert {\n",
              "      background-color: #3B4455;\n",
              "      fill: #D2E3FC;\n",
              "    }\n",
              "\n",
              "    [theme=dark] .colab-df-convert:hover {\n",
              "      background-color: #434B5C;\n",
              "      box-shadow: 0px 1px 3px 1px rgba(0, 0, 0, 0.15);\n",
              "      filter: drop-shadow(0px 1px 2px rgba(0, 0, 0, 0.3));\n",
              "      fill: #FFFFFF;\n",
              "    }\n",
              "  </style>\n",
              "\n",
              "      <script>\n",
              "        const buttonEl =\n",
              "          document.querySelector('#df-95b91874-1c07-4a37-86c8-b6f5ccd5d138 button.colab-df-convert');\n",
              "        buttonEl.style.display =\n",
              "          google.colab.kernel.accessAllowed ? 'block' : 'none';\n",
              "\n",
              "        async function convertToInteractive(key) {\n",
              "          const element = document.querySelector('#df-95b91874-1c07-4a37-86c8-b6f5ccd5d138');\n",
              "          const dataTable =\n",
              "            await google.colab.kernel.invokeFunction('convertToInteractive',\n",
              "                                                     [key], {});\n",
              "          if (!dataTable) return;\n",
              "\n",
              "          const docLinkHtml = 'Like what you see? Visit the ' +\n",
              "            '<a target=\"_blank\" href=https://colab.research.google.com/notebooks/data_table.ipynb>data table notebook</a>'\n",
              "            + ' to learn more about interactive tables.';\n",
              "          element.innerHTML = '';\n",
              "          dataTable['output_type'] = 'display_data';\n",
              "          await google.colab.output.renderOutput(dataTable, element);\n",
              "          const docLink = document.createElement('div');\n",
              "          docLink.innerHTML = docLinkHtml;\n",
              "          element.appendChild(docLink);\n",
              "        }\n",
              "      </script>\n",
              "    </div>\n",
              "  </div>\n",
              "  "
            ]
          },
          "metadata": {},
          "execution_count": 202
        }
      ]
    },
    {
      "cell_type": "markdown",
      "source": [
        "### ANSWER\n",
        "0.56 is a threshold that gives the highest geometric mean between sensitivy and specificity, so considering that threshold\n",
        "\n",
        "\n",
        "P(Y pred =1 ∣ A=minority)−P(Y pred=1 ∣ A=majority)"
      ],
      "metadata": {
        "id": "C4XZRxjoZ9M_"
      }
    },
    {
      "cell_type": "code",
      "source": [
        "test_df[\"prediction_threshold\"] =0\n",
        "test_df.loc[(test_df[\"score\"]>0.56),\"prediction_threshold\"] = 1\n",
        "\n",
        "test_minority = test_df[test_df[\"protected_sex_ Female\"]==1]\n",
        "test_minority_class_binary = test_minority[test_minority[\"prediction_threshold\"]==1] \n",
        "\n",
        "\n",
        "test_majority = test_df[test_df[\"protected_sex_ Male\"]==1]\n",
        "test_majority_class_binary = test_majority[test_majority[\"prediction_threshold\"]==1] \n"
      ],
      "metadata": {
        "id": "n_qOPfnco5t-",
        "colab": {
          "base_uri": "https://localhost:8080/",
          "height": 0
        },
        "outputId": "0f0b4870-64f0-4334-bdfa-46274e3f5273"
      },
      "execution_count": 203,
      "outputs": [
        {
          "output_type": "stream",
          "name": "stderr",
          "text": [
            "<ipython-input-203-2e47796b02fc>:1: SettingWithCopyWarning: \n",
            "A value is trying to be set on a copy of a slice from a DataFrame.\n",
            "Try using .loc[row_indexer,col_indexer] = value instead\n",
            "\n",
            "See the caveats in the documentation: https://pandas.pydata.org/pandas-docs/stable/user_guide/indexing.html#returning-a-view-versus-a-copy\n",
            "  test_df[\"prediction_threshold\"] =0\n",
            "/usr/local/lib/python3.8/dist-packages/pandas/core/indexing.py:1817: SettingWithCopyWarning: \n",
            "A value is trying to be set on a copy of a slice from a DataFrame.\n",
            "Try using .loc[row_indexer,col_indexer] = value instead\n",
            "\n",
            "See the caveats in the documentation: https://pandas.pydata.org/pandas-docs/stable/user_guide/indexing.html#returning-a-view-versus-a-copy\n",
            "  self._setitem_single_column(loc, value, pi)\n"
          ]
        }
      ]
    },
    {
      "cell_type": "code",
      "source": [
        "SPD = len(test_minority_class_binary)/len(test_minority) - len(test_majority_class_binary)/len(test_majority)\n",
        "print(SPD)"
      ],
      "metadata": {
        "colab": {
          "base_uri": "https://localhost:8080/",
          "height": 0
        },
        "id": "AqbUdgGYhe2A",
        "outputId": "d3ff7402-90bb-4d91-cf68-96e1ccb11a1b"
      },
      "execution_count": 204,
      "outputs": [
        {
          "output_type": "stream",
          "name": "stdout",
          "text": [
            "-0.33824944428794945\n"
          ]
        }
      ]
    },
    {
      "cell_type": "markdown",
      "metadata": {
        "id": "YpHbXceVqhFK"
      },
      "source": [
        "10\\. Is there a disparity? How can we interpret its magnitude? Is such a disparity a bad thing/avoidable? (1 point)"
      ]
    },
    {
      "cell_type": "markdown",
      "metadata": {
        "id": "rY0-cGaIqhFL"
      },
      "source": [
        "### ANSWER\n",
        "There is disparity, so SPD should be 0 for it to be fair but in our case it is 0.366 which means there is disparity of income bracket between men and women\n",
        "\n",
        "-0.338 when it is supposed to be 0 shows the magnitude of it. A negative value of statistical parity difference indicates that the unprivileged group is at a disadvantage and a positive value indicates that the privileged group is at a disadvantage.\n",
        "\n",
        "\n",
        "it is sessentially calculating probabilities of a positive outcome across two groups and if its negative shows how much of disparity exists like in our case underpriveleged that is women here experiety parity difference\n",
        "\n",
        "Disparity is quite bad as it shows that women are less likely to have an income range in the >50K bracket though they are equally qualified as men. And when an ML model "
      ]
    },
    {
      "cell_type": "markdown",
      "source": [
        "Disparate Impact (DI) compares the proportion of individuals that receive a favorable outcome for two groups, a majority group and a minority group. This measure must be equal to 1 to be fair.\n"
      ],
      "metadata": {
        "id": "sxAAUvSkSJZ4"
      }
    },
    {
      "cell_type": "code",
      "source": [
        "DI = len(test_minority_class_binary)/len(test_minority)/len(test_majority_class_binary)/len(test_majority)\n",
        "print(DI)"
      ],
      "metadata": {
        "colab": {
          "base_uri": "https://localhost:8080/",
          "height": 0
        },
        "id": "3KS18mU-jxup",
        "outputId": "fd7d76da-016f-4f42-e2a4-d5d525b8c724"
      },
      "execution_count": 198,
      "outputs": [
        {
          "output_type": "stream",
          "name": "stdout",
          "text": [
            "1.5429836854912323e-08\n"
          ]
        }
      ]
    },
    {
      "cell_type": "markdown",
      "source": [
        "### ANSWER\n",
        "Value for DI was supposed to be 1 for the model to be fair but here its close to 0 so its not"
      ],
      "metadata": {
        "id": "xA_R7nRzS8d1"
      }
    },
    {
      "cell_type": "markdown",
      "source": [
        "Here, a value of  indicates fairness, values less than  indicate disadvantage faced by the unprivileged group, and values greater than  indicate disadvantage faced by the privileged group. The disparate impact ratio is also sometimes known as the relative risk ratio or the adverse impact ratio."
      ],
      "metadata": {
        "id": "RF8RFUsJiDOI"
      }
    },
    {
      "cell_type": "markdown",
      "source": [
        "Other Fairness Metrics"
      ],
      "metadata": {
        "id": "SoOMOMwhiHWs"
      }
    },
    {
      "cell_type": "markdown",
      "source": [
        "Equal Opportunity Difference (EOD) measures the deviation from the equality of opportunity, which means that the same proportion of each population receives the favorable outcome. This measure must be equal to 0 to be fair."
      ],
      "metadata": {
        "id": "9J0PYpJGSVf-"
      }
    },
    {
      "cell_type": "code",
      "source": [
        "test_minority_prediction = test_df[test_df[\"protected_sex_ Female\"]==1]\n",
        "test_minority_class_gt = test_minority_prediction[test_minority_prediction[\"class_binary\"]==1] \n",
        "test_minority = test_minority_class_gt[test_minority_class_gt[\"prediction_threshold\"]==1] \n",
        "\n",
        "\n",
        "test_majority_prediction = test_df[test_df[\"protected_sex_ Male\"]==1]\n",
        "test_majority_class_gt = test_majority_prediction[test_majority_prediction[\"class_binary\"]==1] \n",
        "test_majority = test_majority_class_gt[test_majority_class_gt[\"prediction_threshold\"]==1] \n",
        "\n",
        "EOD = len(test_minority)/len(test_minority_class_gt) - len(test_majority)/len(test_majority_class_gt)\n",
        "print(EOD)"
      ],
      "metadata": {
        "colab": {
          "base_uri": "https://localhost:8080/",
          "height": 0
        },
        "id": "FlGezPscSRoI",
        "outputId": "ff121233-033a-4e2b-f686-da5ac158b8ef"
      },
      "execution_count": 199,
      "outputs": [
        {
          "output_type": "stream",
          "name": "stdout",
          "text": [
            "-0.17569976822963096\n"
          ]
        }
      ]
    },
    {
      "cell_type": "markdown",
      "source": [
        "Value for EOD was supposed to be 0 for the model to be fair but here its 0.27 indicating it is no fair"
      ],
      "metadata": {
        "id": "FQRIGVtETpM-"
      }
    },
    {
      "cell_type": "code",
      "source": [],
      "metadata": {
        "id": "sGlxxeUITgfI"
      },
      "execution_count": 199,
      "outputs": []
    }
  ],
  "metadata": {
    "colab": {
      "provenance": []
    },
    "kernelspec": {
      "display_name": "Python 3 (ipykernel)",
      "language": "python",
      "name": "python3"
    },
    "language_info": {
      "codemirror_mode": {
        "name": "ipython",
        "version": 3
      },
      "file_extension": ".py",
      "mimetype": "text/x-python",
      "name": "python",
      "nbconvert_exporter": "python",
      "pygments_lexer": "ipython3",
      "version": "3.8.9"
    }
  },
  "nbformat": 4,
  "nbformat_minor": 0
}