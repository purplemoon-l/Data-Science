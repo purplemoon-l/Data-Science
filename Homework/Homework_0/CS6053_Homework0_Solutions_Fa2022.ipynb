{
  "cells": [
    {
      "cell_type": "markdown",
      "metadata": {
        "id": "0OYQfQUsbX38"
      },
      "source": [
        "# Foundations of Data Science\n",
        "## Homework 1 Solutions"
      ]
    },
    {
      "cell_type": "markdown",
      "source": [
        "### Part 1: Pre-class survey (5 Points)\n",
        "- Fill in [this survey](https://forms.gle/RTARKZaQmP1WDzu18) which will help our course team understand student backgrounds and interests."
      ],
      "metadata": {
        "id": "hFU9yxfucDgy"
      }
    },
    {
      "cell_type": "markdown",
      "metadata": {
        "id": "pyyS_pIdbX3-"
      },
      "source": [
        "### Part 2: Case study (5 Points)\n",
        "Problem statement about \"A question asking students to walk us through the \"Target Pregnancy Prediction\" case using the framework outlined in the first class.\""
      ]
    },
    {
      "cell_type": "markdown",
      "metadata": {
        "id": "0MPFpoAXbX3_"
      },
      "source": [
        "### Part 3: Exploring data in the command line (4 Points - 1 Point Each)\n",
        "For this part we will be using the data file located in `\"data/advertising_events.csv\"`. This file consists of records that pertain to some advertising events on a given day. There are 4 comma separated columns in this order: `userid`, `timestamp`, `domain`, and `action`. These fields are of type `int`, `int`, `string`, and `int` respectively. Answer the following questions using Linux/Unix bash commands. All questions can be answered in one line (sometimes, with pipes)! Some questions will have many possible solutions. Don't forget that in iPython notebooks you must prefix all bash commands with an exclamation point, i.e. `\"!command arguments\"`."
      ]
    },
    {
      "cell_type": "markdown",
      "metadata": {
        "id": "ljJN0MyCbX3_"
      },
      "source": [
        "1\\. How many records are in this file?"
      ]
    },
    {
      "cell_type": "code",
      "execution_count": null,
      "metadata": {
        "id": "2RdWD4cBbX3_",
        "outputId": "aef158be-0b47-4907-e92b-4d053f985a87",
        "colab": {
          "base_uri": "https://localhost:8080/"
        }
      },
      "outputs": [
        {
          "output_type": "stream",
          "name": "stdout",
          "text": [
            "wc: data/advertising_events.csv: No such file or directory\n"
          ]
        }
      ],
      "source": [
        "!wc -l data/advertising_events.csv #use wordcount"
      ]
    },
    {
      "cell_type": "markdown",
      "metadata": {
        "id": "mF0XncfrbX4A"
      },
      "source": [
        "2\\. How many unique users are in this file?"
      ]
    },
    {
      "cell_type": "code",
      "execution_count": null,
      "metadata": {
        "id": "cJmHd6NybX4B",
        "outputId": "d33db342-4cd2-4e2d-b68c-2b75fe7e0dc8",
        "colab": {
          "base_uri": "https://localhost:8080/"
        }
      },
      "outputs": [
        {
          "output_type": "stream",
          "name": "stdout",
          "text": [
            "cut: data/advertising_events.csv: No such file or directory\n",
            "0\n"
          ]
        }
      ],
      "source": [
        "#divide file into parts by column (delimiter ',') sort it and output the number of unique users (field 1)\n",
        "!cut -f1 -d',' data/advertising_events.csv | sort | uniq | wc -l "
      ]
    },
    {
      "cell_type": "markdown",
      "metadata": {
        "id": "5Mnv-kRCbX4B"
      },
      "source": [
        "3\\. Rank all domains by the number of visits they received in descending order."
      ]
    },
    {
      "cell_type": "code",
      "execution_count": null,
      "metadata": {
        "id": "wDJ4ttoWbX4B",
        "outputId": "b26d273a-cac2-4854-c44d-13b1eafb6f5b",
        "colab": {
          "base_uri": "https://localhost:8080/"
        }
      },
      "outputs": [
        {
          "output_type": "stream",
          "name": "stdout",
          "text": [
            "cut: data/advertising_events.csv: No such file or directory\n"
          ]
        }
      ],
      "source": [
        "!cut -f3 -d',' data/advertising_events.csv | sort | uniq -c | sort -nr\n",
        "#uniq -c gives counts per item"
      ]
    },
    {
      "cell_type": "markdown",
      "metadata": {
        "id": "lsFzkBrcbX4C"
      },
      "source": [
        "4\\. List all records for the user with user id 37."
      ]
    },
    {
      "cell_type": "code",
      "execution_count": null,
      "metadata": {
        "id": "oPHvlJNXbX4C",
        "outputId": "5fd52c4e-33b8-4a41-82b7-3641563f701e",
        "colab": {
          "base_uri": "https://localhost:8080/"
        }
      },
      "outputs": [
        {
          "output_type": "stream",
          "name": "stdout",
          "text": [
            "grep: data/advertising_events.csv: No such file or directory\n"
          ]
        }
      ],
      "source": [
        "!grep '^37,' data/advertising_events.csv"
      ]
    },
    {
      "cell_type": "markdown",
      "metadata": {
        "id": "dtY3HecRbX4C"
      },
      "source": [
        "### Part 4: Dealing with data Pythonically (16 Points)"
      ]
    },
    {
      "cell_type": "markdown",
      "metadata": {
        "id": "L1C1IG78bX4C"
      },
      "source": [
        "1\\. (1 Point) Download the data set `\"data/ads_dataset.tsv\"` and load it into a Python Pandas data frame called `ads`."
      ]
    },
    {
      "cell_type": "code",
      "execution_count": null,
      "metadata": {
        "id": "IQyhy3Q7bX4D"
      },
      "outputs": [],
      "source": [
        "import pandas as pd\n",
        "ads = pd.read_csv(\"ads_dataset.xlsx\", sep='\\t')"
      ]
    },
    {
      "cell_type": "markdown",
      "metadata": {
        "id": "wMvnPxm6bX4D"
      },
      "source": [
        "2\\. (4 Points) Write a Python function called `getDfSummary()` that does the following:\n",
        "- Takes as input a data frame\n",
        "- For each variable in the data frame calculates the following features:\n",
        "  - `number_nan` to count the number of missing not-a-number values\n",
        "  - Ignoring missing, NA, and Null values:\n",
        "    - `number_distinct` to count the number of distinct values a variable can take on\n",
        "    - `mean`, `max`, `min`, `std` (standard deviation), and `25%`, `50%`, `75%` to correspond to the appropriate percentiles\n",
        "- All of these new features should be loaded in a new data frame. Each row of the data frame should be a variable from the input data frame, and the columns should be the new summary features.\n",
        "- Returns this new data frame containing all of the summary information\n",
        "\n",
        "Hint: The pandas `describe()` method returns a useful series of values that can be used here.\n",
        "\n",
        "- If the code returns the correct format:\n",
        "  - if <= 30 lines -> 4 points\n",
        "  - if > 30 lines - > 3 points\n",
        "- If it doesn't return correct format -> 0 points"
      ]
    },
    {
      "cell_type": "code",
      "execution_count": null,
      "metadata": {
        "collapsed": true,
        "id": "EDE0F3-5bX4D"
      },
      "outputs": [],
      "source": [
        "import numpy as np\n",
        "\n",
        "def getDfSummary(input_data):\n",
        "    # Get a whole bunch of stats\n",
        "    output_data = input_data.describe().transpose()\n",
        "    \n",
        "    # Count NANs\n",
        "    output_data['number_nan'] = input_data.shape[0] - output_data['count']\n",
        "    \n",
        "    # Count unique values - use function that is not bound to a name at runtime (lambda -\n",
        "    # used to create a small, one-time and anonymous function object in Python)\n",
        "    output_data['number_distinct'] = ads.apply(lambda x: len(pd.unique(x)), axis=0) \n",
        "    \n",
        "    # Remove 'count' column since it wasn't asked for\n",
        "    output_data = output_data.drop('count', 1)\n",
        "    \n",
        "    return output_data"
      ]
    },
    {
      "cell_type": "markdown",
      "metadata": {
        "id": "xsI6x7AJbX4D"
      },
      "source": [
        "3\\. (1 Points) How long does it take for your `getDfSummary()` function to work on your `ads` data frame? Show us the results below.\n",
        "\n",
        "Hint: `%timeit getDfSummary(ads)`\n"
      ]
    },
    {
      "cell_type": "code",
      "execution_count": null,
      "metadata": {
        "id": "SbonCTpobX4D"
      },
      "outputs": [],
      "source": [
        "%timeit getDfSummary(ads)"
      ]
    },
    {
      "cell_type": "markdown",
      "metadata": {
        "id": "mgq-H2LPbX4E"
      },
      "source": [
        "4\\. (2 Points) Using the results returned from `getDfSummary()`, which fields, if any, contain missing `NaN` values?"
      ]
    },
    {
      "cell_type": "code",
      "execution_count": null,
      "metadata": {
        "id": "GrKlYaWwbX4E"
      },
      "outputs": [],
      "source": [
        "summary = getDfSummary(ads)\n",
        "for column in summary.index[summary['number_nan'] > 0]:\n",
        "    print(column)"
      ]
    },
    {
      "cell_type": "markdown",
      "metadata": {
        "id": "aJvwQDsHbX4E"
      },
      "source": [
        "5\\. (4 Points) For the fields with missing values, does it look like the data is missing at random? Are there any other fields that correlate perfectly, or predict that the data is missing? If missing, what should the data value be?\n",
        "\n",
        "Hint: create another data frame that has just the records with a missing value. Get a summary of this data frame using `getDfSummary()` and compare the differences. Do some feature distributions change dramatically?"
      ]
    },
    {
      "cell_type": "code",
      "execution_count": null,
      "metadata": {
        "id": "nooYX7nLbX4E"
      },
      "outputs": [],
      "source": [
        "ads_null = ads[ads.isnull().any(axis=1)]\n",
        "print(getDfSummary(ads_null))\n"
      ]
    },
    {
      "cell_type": "markdown",
      "metadata": {
        "id": "xzCn66XpbX4F"
      },
      "source": [
        "6\\. (4 Points) Which variables are binary?\n"
      ]
    },
    {
      "cell_type": "code",
      "execution_count": null,
      "metadata": {
        "id": "hOSrPUR4bX4F"
      },
      "outputs": [],
      "source": [
        "summary = getDfSummary(ads)\n",
        "\n",
        "for column in summary.index[(summary['number_distinct'] == 2) & (summary['min'] == 0) & (summary['max'] == 1)]:\n",
        "    print(column)"
      ]
    }
  ],
  "metadata": {
    "anaconda-cloud": {},
    "kernelspec": {
      "display_name": "Python 3",
      "language": "python",
      "name": "python3"
    },
    "language_info": {
      "codemirror_mode": {
        "name": "ipython",
        "version": 3
      },
      "file_extension": ".py",
      "mimetype": "text/x-python",
      "name": "python",
      "nbconvert_exporter": "python",
      "pygments_lexer": "ipython3",
      "version": "3.6.5"
    },
    "colab": {
      "provenance": []
    }
  },
  "nbformat": 4,
  "nbformat_minor": 0
}