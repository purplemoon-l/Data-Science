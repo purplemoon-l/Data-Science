{
 "cells": [
  {
   "cell_type": "markdown",
   "metadata": {
    "id": "1IWG66EBbLve"
   },
   "source": [
    "Student Name: Yamini Lakshmi Narasimhan\n",
    "\n",
    "Student Netid: yl9822"
   ]
  },
  {
   "cell_type": "markdown",
   "metadata": {
    "id": "SuO-o33fbLva"
   },
   "source": [
    "# **Foundations of Data Science Fall 2022 - Homework 0 (30 points)**\n",
    "\n",
    "---\n",
    "\n"
   ]
  },
  {
   "cell_type": "markdown",
   "metadata": {
    "id": "embhI1ZNj0OX"
   },
   "source": [
    "### **Part 1: Pre-class survey (5 Points)**\n",
    "\n",
    "---\n",
    "\n",
    "\n",
    "- Fill in [this survey](https://forms.gle/RTARKZaQmP1WDzu18) which will help our course team understand student backgrounds and interests.\n"
   ]
  },
  {
   "cell_type": "markdown",
   "metadata": {},
   "source": [
    "Done"
   ]
  },
  {
   "cell_type": "markdown",
   "metadata": {
    "id": "zNDZ8BY8bLvf"
   },
   "source": [
    "### **Part 2: Case study (5 Points)**\n",
    "\n",
    "---\n",
    "\n",
    "\n",
    "- Read [this article](https://drive.google.com/file/d/1zRxm8WrOtdeT1pQKgKcjzd3J1x8GLTtb/view?usp=sharing) in the New York Times.\n",
    "- Use what we've learned in class and from the book to describe how one could set Target's problem up as a predictive modeling problem, such that they could have gotten the results that they did.  Formulate your solution as a proposed plan using our data science terminology.  Include aspects of the Data Science Workflow that you see as relevant to solving the problem.  Be precise but concise."
   ]
  },
  {
   "cell_type": "markdown",
   "metadata": {},
   "source": [
    "Predictive Modeling Problem:\n",
    "\n",
    "1. What the question is?\n",
    "\n",
    "Problem : \n",
    "Most shoppers don’t buy everything they need at one store.\n",
    "Instead, they buy groceries at the grocery store and toys at the toy store, and they\n",
    "visit Target only when they need certain items they associate with Target — cleaning\n",
    "supplies, say, or new socks or a six-month supply of toilet paper. But Target sells\n",
    "everything from milk to stuffed animals to lawn furniture to electronics, so one of the\n",
    "company’s primary goals is convincing customers that the only store they need is\n",
    "Target. But it’s a tough message to get across, even with the most ingenious ad\n",
    "campaigns, because once consumers’ shopping habits are ingrained, it’s incredibly\n",
    "difficult to change them.\n",
    "\n",
    "Hypothesis : \n",
    "Cue, Routine, Reward - Make Target be the first company approaching the customer during the brief periods in a person’s life when old routines fall apart and buying habits are suddenly in flux like birth of a child, when parents are exhausted and\n",
    "overwhelmed and their shopping patterns and brand loyalties are up for grabs. Timing is everything, because birth records\n",
    "are usually public, the moment a couple have a new baby, they are almost instantaneously barraged with offers and incentives and advertisements from all sorts of companies. Which means that the key is to reach them earlier, before any\n",
    "other retailers know a baby is on the way.\n",
    "\n",
    "Question is : If we could identify them in their second trimester, there’s a good chance we could capture them for years and make Target one stop shop\n",
    "\n",
    "\n",
    "2. Get the data( Data Sources)\n",
    "- Target collected data and assigned each shopper a unique code(Guest ID)\n",
    "- Collected data like used credit card or coupon, filled out a survey, mailed a refund, called customer help line, open email sent by Target or even visit their website and then record it in the Guest Id\n",
    "- Link this Guest ID with demographic information like your age, marital status, location, how long it takes you, your estimated salary, whether you’ve moved recently, what credit cards you carry in your wallet and what Web sites you visit. \n",
    "- Also buys data about your ethnicity, job history, the magazines you read, if you’ve ever declaredbankruptcy or got divorced, the year you bought (or lost) your house, where you went to college, what kinds of topics you talk about online, whether you prefer certain\n",
    "\n",
    "3. Explore the data( Data Mining)\n",
    "- Target has a baby-shower registry observing how shopping habits changed as a woman approached her due date, which women on the registry had willingly disclosed. \n",
    "- Few Examples where \n",
    "    - Larger quantities of unscented lotion around the beginning of their second trimester.\n",
    "    - First 20 weeks, pregnant women loaded up on supplements like calcium, magnesium and zinc.\n",
    "    - Purchase soap and cotton balls along with scent-free soap and extra-big bags of cotton balls, in addition to hand sanitizers and washcloths, it signals they could be getting close to their delivery date.\n",
    "    - He was able to identify about 25 products that, when analyzed together, allowed him to assign each shopper a“pregnancy prediction” score.\n",
    "- Since birth records of babies are public and they also stored all these product purchases they also had labelled data that could have made it easier for supervised learning\n",
    "    \n",
    "4. Model the Data :\n",
    "- I believe there were two models in place - Classification Model and Time Series Prediction, because not only did Pole figure out if the women was pregnant or not but also found the duration of her delivery date in a small window \n",
    "Example about the fictional Target shopper named Jenny Ward, who is 23, who lives in Atlanta and in March\n",
    "bought cocoa-butter lotion, a purse large enough to double as a diaper bag, zinc and\n",
    "magnesium supplements and a bright blue rug. There’s, say, an 87 percent chance\n",
    "that she’s pregnant and that her delivery date is sometime in late August. \n",
    "- Time series gave Target the flexibility to send coupons timed to very specific stages of her pregnancy and reach the customers before other companies could do i.e preferably in the second trimester\n",
    "- First they would have started basic classification with unsupervised learning because unlabelled data would be available with them in abundance and could have improved it by using labelled data that is correcting the prediction by adding supervised learning on top.\n",
    "\n",
    "5. Share Results:\n",
    "Pole's program soon had a list of tens of thousands of women who were most likely pregnant. If they could entice those women or their husbands to visit Target and buy baby-related products, the company’s cue-routine-reward calculators could kick in\n",
    "and start pushing them to buy groceries, bathing suits, toys and clothing, as well.\n",
    "Once the model was built the problem was on how to not offend the customers and still push the idea of making them shop at Target a routine. This is where privacy and consent of tracking data comes into picture. The article says that Target denied all of this accusations but Pole's paygrade went up and was invited to meetings above his paygrade which kind of indicates that his model was successful and the stats were quite accurate. They also gave an example on how Target knows when a customer is pregnant even before their close family does, which shows how powerful and accurate it is.\n"
   ]
  },
  {
   "cell_type": "markdown",
   "metadata": {
    "id": "CCIl5aB6bLvf"
   },
   "source": [
    "\n",
    "Place your answer here!"
   ]
  },
  {
   "cell_type": "markdown",
   "metadata": {
    "id": "zre_pTeabLvg"
   },
   "source": [
    "### **Part 3: Exploring data in the command line (4 Points - 1 Point Each)**\n",
    "\n",
    "---\n",
    "\n",
    "\n",
    "\n",
    "\n",
    "*   For this part we will be using the data file `\"loansData.csv\"`. This file \n",
    "consists of records that pertain to some loan records in a local bank. There are 15 comma separated columns in this order: \n",
    ">> `CustNUm`, `Amount.Requested`,\t`Amount.Funded.By.Investors`,\t`Interest.Rate`,\t`Loan.Length`,\t`Loan.Purpose`,\t`Debt.To.Income.Ratio`,\t`State`,\t`Home.Ownership`,\t`Monthly.Income`,\t`FICO.Range`,\t`Open.CREDIT.Lines`,\t`Revolving.CREDIT.Balance`,\t`Inquiries.in.the.Last.6.Months`, and\t`Employment.Length`. \n",
    "*   These fields contain data of type `int`, `float`, and `string`, and you can also locate a file `\"data/loansData_columns.csv\"`in the data folder containing all the column names for easy reference.  Answer the following questions using Linux/Unix bash commands. All questions can be answered in one line (sometimes, with pipes)! Some questions will have many possible solutions. Don't forget that in iPython notebooks you must prefix all bash commands with an exclamation point, i.e. `\"!command arguments\"`.\n"
   ]
  },
  {
   "cell_type": "markdown",
   "metadata": {
    "id": "wPgt-hhAbLvg"
   },
   "source": [
    ">>**1**\\. *How many records (lines) are in this file?*\n",
    "\n",
    "\n"
   ]
  },
  {
   "cell_type": "code",
   "execution_count": 1,
   "metadata": {
    "id": "uMqN-CkUbLvh"
   },
   "outputs": [
    {
     "name": "stdout",
     "output_type": "stream",
     "text": [
      "    2500\n"
     ]
    }
   ],
   "source": [
    "# Place your code here\n",
    "import pandas as pd\n",
    "!tail -n+2 loansData.csv | wc -l"
   ]
  },
  {
   "cell_type": "markdown",
   "metadata": {
    "id": "j_pjxcQ8bLvi"
   },
   "source": [
    ">>**2**\\. *How many unique `State` (the 8th field) are in this file? (hint: consider the 'cut' command and use pipe operator '|')*\n",
    "\n"
   ]
  },
  {
   "cell_type": "code",
   "execution_count": 2,
   "metadata": {
    "id": "WEs1ehJhbLvj"
   },
   "outputs": [
    {
     "name": "stdout",
     "output_type": "stream",
     "text": [
      "      46\n"
     ]
    }
   ],
   "source": [
    "# Place your code here\n",
    "!tail -n+2 loansData.csv | cut -f 8 -d ,  | sort | uniq -c  | wc -l "
   ]
  },
  {
   "cell_type": "markdown",
   "metadata": {
    "id": "pJn3HfcKbLvj"
   },
   "source": [
    ">>**3**\\. *Rank all domains by the number of `Loan.Purpose` (the 6th field) they requested in descending order. (hint: consider the 'cut', 'uniq' and 'sort' commands and the pipe operator).*\n",
    "\n"
   ]
  },
  {
   "cell_type": "code",
   "execution_count": 3,
   "metadata": {
    "id": "8XA3nApCbLvk"
   },
   "outputs": [
    {
     "name": "stdout",
     "output_type": "stream",
     "text": [
      "1307 \"debt_consolidation\"\n",
      " 444 \"credit_card\"\n",
      " 201 \"other\"\n",
      " 152 \"home_improvement\"\n",
      " 101 \"major_purchase\"\n",
      "  87 \"small_business\"\n",
      "  50 \"car\"\n",
      "  39 \"wedding\"\n",
      "  30 \"medical\"\n",
      "  29 \"moving\"\n",
      "  21 \"vacation\"\n",
      "  20 \"house\"\n",
      "  15 \"educational\"\n",
      "   4 \"renewable_energy\"\n"
     ]
    }
   ],
   "source": [
    "# Place your code here\n",
    "import pandas as pd\n",
    "!tail -n+2 loansData.csv| cut -f6 -d',' |sort | uniq -c | sort -nr"
   ]
  },
  {
   "cell_type": "markdown",
   "metadata": {
    "id": "vthOuqzRbLvk"
   },
   "source": [
    ">>**4**\\. *List all records which have `FICO.Range` (the 11th field) from 815-819. (hint: this can be done using 'grep')*\n",
    "\n",
    "\n"
   ]
  },
  {
   "cell_type": "code",
   "execution_count": 4,
   "metadata": {
    "id": "uCQ0dD1XbLvl"
   },
   "outputs": [
    {
     "name": "stdout",
     "output_type": "stream",
     "text": [
      "\"64884\",9000,9000,\"6.03%\",\"36 months\",\"vacation\",\"5.58%\",\"NJ\",\"MORTGAGE\",9583.33,\"815-819\",11,675,0,\"n/a\"\n",
      "\"55501\",8000,8000,\"6.03%\",\"36 months\",\"debt_consolidation\",\"4.51%\",\"OR\",\"MORTGAGE\",3500,\"815-819\",9,6737,0,\"10+ years\"\n",
      "\"93374\",16500,16500,\"6.03%\",\"36 months\",\"debt_consolidation\",\"22.65%\",\"CA\",\"MORTGAGE\",5416.67,\"815-819\",17,14835,0,\"10+ years\"\n",
      "\"90568\",4800,4800,\"6.62%\",\"36 months\",\"car\",\"10.42%\",\"TX\",\"MORTGAGE\",7291.67,\"815-819\",14,0,0,\"< 1 year\"\n",
      "\"80302\",16800,16800,\"7.90%\",\"60 months\",\"debt_consolidation\",\"3.34%\",\"FL\",\"MORTGAGE\",10666.67,\"815-819\",7,4757,0,\"10+ years\"\n",
      "\"5906\",12800,12787.71,\"8.94%\",\"36 months\",\"debt_consolidation\",\"0.18%\",\"AZ\",\"MORTGAGE\",2833.33,\"815-819\",7,306,0,\"4 years\"\n"
     ]
    }
   ],
   "source": [
    "# Place your code here\n",
    "!cat loansData.csv | grep '815-819'   #see if you can put column 11 anywhere"
   ]
  },
  {
   "cell_type": "markdown",
   "metadata": {
    "id": "QXUZ_U1NbLvl"
   },
   "source": [
    "### **Part 4: Dealing with data Pythonically (16 Points)**\n",
    "\n",
    "---\n",
    "\n"
   ]
  },
  {
   "cell_type": "code",
   "execution_count": 5,
   "metadata": {
    "id": "SfQY_MJ2bLvl"
   },
   "outputs": [],
   "source": [
    "# You might find these packages useful. You may import any others you want!\n",
    "import pandas as pd\n",
    "import numpy as np\n",
    "import matplotlib.pyplot as plt\n",
    "%matplotlib inline"
   ]
  },
  {
   "cell_type": "markdown",
   "metadata": {
    "id": "KpbpUMXsbLvm"
   },
   "source": [
    ">>**1**\\. **(1 Point)** *Load the data set `\"data/ads_dataset.tsv\"` and load it into a Python Pandas data frame called `ads`.*\n",
    "\n",
    "\n"
   ]
  },
  {
   "cell_type": "code",
   "execution_count": 6,
   "metadata": {
    "id": "bND3bVmnbLvm"
   },
   "outputs": [
    {
     "name": "stdout",
     "output_type": "stream",
     "text": [
      "Index(['is_video_user', 'video_freq', 'call_freq', 'video_interval',\n",
      "       'call_interval', 'expected_video_time', 'expected_call_time',\n",
      "       'last_bill', 'next_bill', 'multiple_video', 'multiple_carrier',\n",
      "       'uniq_urls', 'num_texts', 'is_churn'],\n",
      "      dtype='object')\n",
      "is_video_user            int64\n",
      "video_freq             float64\n",
      "call_freq                int64\n",
      "video_interval           int64\n",
      "call_interval          float64\n",
      "expected_video_time      int64\n",
      "expected_call_time     float64\n",
      "last_bill                int64\n",
      "next_bill                int64\n",
      "multiple_video           int64\n",
      "multiple_carrier         int64\n",
      "uniq_urls                int64\n",
      "num_texts                int64\n",
      "is_churn                 int64\n",
      "dtype: object\n"
     ]
    }
   ],
   "source": [
    "# Place your code here\n",
    "ads = pd.read_csv(\"new_ads_dataset.tsv\",sep='\\t')  \n",
    "ads.head()\n",
    "print(ads.columns)\n",
    "print(ads.dtypes)"
   ]
  },
  {
   "cell_type": "markdown",
   "metadata": {
    "id": "wnd29b7YbLvm"
   },
   "source": [
    ">>**2**\\. **(4 Points)** *Write a Python function called `getDfSummary()` that does the following:*\n",
    "- *Takes as input a data frame*\n",
    "- *For each variable in the data frame calculates the following features:*\n",
    "  - *`number_nan` to count the number of missing not-a-number values*\n",
    "  - *Ignoring missing, NA, and Null values:*\n",
    "    - *`number_distinct` to count the number of distinct values a variable can take on*\n",
    "    - *`mean`, `max`, `min`, `std` (standard deviation), and `25%`, `50%`, `75%` to correspond to the appropriate percentiles*\n",
    "- *All of these new features should be loaded in a new data frame. Each row of the data frame should be a variable from the input data frame, and the columns should be the new summary features.*\n",
    "- Returns this new data frame containing all of the summary information\n",
    "*italicized text*\n",
    ">>**Hint:** *The pandas `describe()` [(manual page)](http://pandas.pydata.org/pandas-docs/stable/generated/pandas.DataFrame.describe.html) method returns a useful series of values that can be used here.*\n",
    "\n"
   ]
  },
  {
   "cell_type": "code",
   "execution_count": 15,
   "metadata": {
    "id": "uzQUyVkkbLvn",
    "tags": []
   },
   "outputs": [],
   "source": [
    "import time\n",
    "import copy \n",
    "def getDfSummary(input_data):\n",
    "    output_data={\"Variable\":[],\"count\":[],\"number_nan\":[],\"number distinct\":[],\"mean\":[],\"max\":[],\"min\":[],\"std\":[],\"25%\":[],\"50%\":[],\"75%\":[]}\n",
    "    for a in input_data.columns:\n",
    "        input_data_not_null = input_data.dropna(subset=[a])[a]\n",
    "        output_data[\"Variable\"].append(a)\n",
    "        output_data[\"number distinct\"].append(len(input_data_not_null.unique()))\n",
    "        output_data[\"number_nan\"].append(len(input_data)-len(input_data_not_null))\n",
    "        for x,y in input_data[a].describe().items():\n",
    "            output_data[x].append(y)\n",
    "\n",
    "    return pd.DataFrame.from_dict(output_data)\n",
    "\n",
    "ads_processed = getDfSummary(ads)"
   ]
  },
  {
   "cell_type": "markdown",
   "metadata": {
    "id": "ZqO-X3xBbLvn"
   },
   "source": [
    ">>**3**\\. **(1 Point)** *How long does it take for your `getDfSummary()` function to work on your `ads` data frame? Show us the results below.*\n",
    "\n",
    ">>**Hint:** *`%timeit getDfSummary(ads)`*\n",
    "\n"
   ]
  },
  {
   "cell_type": "code",
   "execution_count": 8,
   "metadata": {
    "id": "S2RhhAwjbLvo",
    "tags": []
   },
   "outputs": [
    {
     "name": "stdout",
     "output_type": "stream",
     "text": [
      "27 ms ± 366 µs per loop (mean ± std. dev. of 7 runs, 10 loops each)\n"
     ]
    }
   ],
   "source": [
    "%timeit getDfSummary(ads)"
   ]
  },
  {
   "cell_type": "markdown",
   "metadata": {
    "id": "p-imGi3EbLvo"
   },
   "source": [
    ">>**4**\\. **(2 Points)** *Using the results returned from `getDfSummary()`, which fields, if any, contain missing `NaN` values?*\n",
    "\n",
    "\n"
   ]
  },
  {
   "cell_type": "code",
   "execution_count": 17,
   "metadata": {
    "id": "TD9vzCZ6bLvo"
   },
   "outputs": [
    {
     "name": "stdout",
     "output_type": "stream",
     "text": [
      "No values in getDfSummary output contain NaN whereas video_freq column contains 52257 NaN(s) out of 54584\n",
      "\n"
     ]
    },
    {
     "data": {
      "text/html": [
       "<div>\n",
       "<style scoped>\n",
       "    .dataframe tbody tr th:only-of-type {\n",
       "        vertical-align: middle;\n",
       "    }\n",
       "\n",
       "    .dataframe tbody tr th {\n",
       "        vertical-align: top;\n",
       "    }\n",
       "\n",
       "    .dataframe thead th {\n",
       "        text-align: right;\n",
       "    }\n",
       "</style>\n",
       "<table border=\"1\" class=\"dataframe\">\n",
       "  <thead>\n",
       "    <tr style=\"text-align: right;\">\n",
       "      <th></th>\n",
       "      <th>Variable</th>\n",
       "      <th>count</th>\n",
       "      <th>number_nan</th>\n",
       "      <th>number distinct</th>\n",
       "      <th>mean</th>\n",
       "      <th>max</th>\n",
       "      <th>min</th>\n",
       "      <th>std</th>\n",
       "      <th>25%</th>\n",
       "      <th>50%</th>\n",
       "      <th>75%</th>\n",
       "    </tr>\n",
       "  </thead>\n",
       "  <tbody>\n",
       "    <tr>\n",
       "      <th>0</th>\n",
       "      <td>is_video_user</td>\n",
       "      <td>54584.0</td>\n",
       "      <td>0</td>\n",
       "      <td>2</td>\n",
       "      <td>0.042632</td>\n",
       "      <td>1.00000</td>\n",
       "      <td>0.0000</td>\n",
       "      <td>0.202027</td>\n",
       "      <td>0.000000</td>\n",
       "      <td>0.000000</td>\n",
       "      <td>0.000000</td>\n",
       "    </tr>\n",
       "    <tr>\n",
       "      <th>1</th>\n",
       "      <td>video_freq</td>\n",
       "      <td>2327.0</td>\n",
       "      <td>52257</td>\n",
       "      <td>10</td>\n",
       "      <td>1.240653</td>\n",
       "      <td>15.00000</td>\n",
       "      <td>1.0000</td>\n",
       "      <td>0.782228</td>\n",
       "      <td>1.000000</td>\n",
       "      <td>1.000000</td>\n",
       "      <td>1.000000</td>\n",
       "    </tr>\n",
       "    <tr>\n",
       "      <th>2</th>\n",
       "      <td>call_freq</td>\n",
       "      <td>54584.0</td>\n",
       "      <td>0</td>\n",
       "      <td>64</td>\n",
       "      <td>1.852777</td>\n",
       "      <td>84.00000</td>\n",
       "      <td>0.0000</td>\n",
       "      <td>2.921820</td>\n",
       "      <td>1.000000</td>\n",
       "      <td>1.000000</td>\n",
       "      <td>2.000000</td>\n",
       "    </tr>\n",
       "    <tr>\n",
       "      <th>3</th>\n",
       "      <td>video_interval</td>\n",
       "      <td>54584.0</td>\n",
       "      <td>0</td>\n",
       "      <td>121</td>\n",
       "      <td>2.570533</td>\n",
       "      <td>120.00000</td>\n",
       "      <td>0.0000</td>\n",
       "      <td>14.162418</td>\n",
       "      <td>0.000000</td>\n",
       "      <td>0.000000</td>\n",
       "      <td>0.000000</td>\n",
       "    </tr>\n",
       "    <tr>\n",
       "      <th>4</th>\n",
       "      <td>call_interval</td>\n",
       "      <td>54584.0</td>\n",
       "      <td>0</td>\n",
       "      <td>5886</td>\n",
       "      <td>5.825610</td>\n",
       "      <td>184.91670</td>\n",
       "      <td>0.0000</td>\n",
       "      <td>17.595442</td>\n",
       "      <td>0.000000</td>\n",
       "      <td>0.000000</td>\n",
       "      <td>0.104167</td>\n",
       "    </tr>\n",
       "    <tr>\n",
       "      <th>5</th>\n",
       "      <td>expected_video_time</td>\n",
       "      <td>54584.0</td>\n",
       "      <td>0</td>\n",
       "      <td>134</td>\n",
       "      <td>-0.494174</td>\n",
       "      <td>55.00000</td>\n",
       "      <td>-78.0000</td>\n",
       "      <td>8.411089</td>\n",
       "      <td>0.000000</td>\n",
       "      <td>0.000000</td>\n",
       "      <td>0.000000</td>\n",
       "    </tr>\n",
       "    <tr>\n",
       "      <th>6</th>\n",
       "      <td>expected_call_time</td>\n",
       "      <td>54584.0</td>\n",
       "      <td>0</td>\n",
       "      <td>15135</td>\n",
       "      <td>-10.210786</td>\n",
       "      <td>91.40192</td>\n",
       "      <td>-187.6156</td>\n",
       "      <td>31.879722</td>\n",
       "      <td>0.000000</td>\n",
       "      <td>0.000000</td>\n",
       "      <td>0.000000</td>\n",
       "    </tr>\n",
       "    <tr>\n",
       "      <th>7</th>\n",
       "      <td>last_bill</td>\n",
       "      <td>54584.0</td>\n",
       "      <td>0</td>\n",
       "      <td>189</td>\n",
       "      <td>64.729335</td>\n",
       "      <td>188.00000</td>\n",
       "      <td>0.0000</td>\n",
       "      <td>53.476658</td>\n",
       "      <td>18.000000</td>\n",
       "      <td>51.000000</td>\n",
       "      <td>105.000000</td>\n",
       "    </tr>\n",
       "    <tr>\n",
       "      <th>8</th>\n",
       "      <td>next_bill</td>\n",
       "      <td>54584.0</td>\n",
       "      <td>0</td>\n",
       "      <td>189</td>\n",
       "      <td>64.729335</td>\n",
       "      <td>188.00000</td>\n",
       "      <td>0.0000</td>\n",
       "      <td>53.476658</td>\n",
       "      <td>18.000000</td>\n",
       "      <td>51.000000</td>\n",
       "      <td>105.000000</td>\n",
       "    </tr>\n",
       "    <tr>\n",
       "      <th>9</th>\n",
       "      <td>multiple_video</td>\n",
       "      <td>54584.0</td>\n",
       "      <td>0</td>\n",
       "      <td>2</td>\n",
       "      <td>0.021563</td>\n",
       "      <td>1.00000</td>\n",
       "      <td>0.0000</td>\n",
       "      <td>0.145253</td>\n",
       "      <td>0.000000</td>\n",
       "      <td>0.000000</td>\n",
       "      <td>0.000000</td>\n",
       "    </tr>\n",
       "    <tr>\n",
       "      <th>10</th>\n",
       "      <td>multiple_carrier</td>\n",
       "      <td>54584.0</td>\n",
       "      <td>0</td>\n",
       "      <td>2</td>\n",
       "      <td>0.277444</td>\n",
       "      <td>1.00000</td>\n",
       "      <td>0.0000</td>\n",
       "      <td>0.447742</td>\n",
       "      <td>0.000000</td>\n",
       "      <td>0.000000</td>\n",
       "      <td>1.000000</td>\n",
       "    </tr>\n",
       "    <tr>\n",
       "      <th>11</th>\n",
       "      <td>uniq_urls</td>\n",
       "      <td>54584.0</td>\n",
       "      <td>0</td>\n",
       "      <td>207</td>\n",
       "      <td>86.569343</td>\n",
       "      <td>206.00000</td>\n",
       "      <td>-1.0000</td>\n",
       "      <td>61.969765</td>\n",
       "      <td>30.000000</td>\n",
       "      <td>75.000000</td>\n",
       "      <td>155.000000</td>\n",
       "    </tr>\n",
       "    <tr>\n",
       "      <th>12</th>\n",
       "      <td>num_texts</td>\n",
       "      <td>54584.0</td>\n",
       "      <td>0</td>\n",
       "      <td>4628</td>\n",
       "      <td>720.657592</td>\n",
       "      <td>37091.00000</td>\n",
       "      <td>1.0000</td>\n",
       "      <td>1275.727306</td>\n",
       "      <td>127.000000</td>\n",
       "      <td>319.000000</td>\n",
       "      <td>802.000000</td>\n",
       "    </tr>\n",
       "    <tr>\n",
       "      <th>13</th>\n",
       "      <td>is_churn</td>\n",
       "      <td>54584.0</td>\n",
       "      <td>0</td>\n",
       "      <td>2</td>\n",
       "      <td>0.004635</td>\n",
       "      <td>1.00000</td>\n",
       "      <td>0.0000</td>\n",
       "      <td>0.067924</td>\n",
       "      <td>0.000000</td>\n",
       "      <td>0.000000</td>\n",
       "      <td>0.000000</td>\n",
       "    </tr>\n",
       "    <tr>\n",
       "      <th>14</th>\n",
       "      <td>log_num_texts</td>\n",
       "      <td>54584.0</td>\n",
       "      <td>0</td>\n",
       "      <td>4628</td>\n",
       "      <td>5.741782</td>\n",
       "      <td>10.52113</td>\n",
       "      <td>0.0000</td>\n",
       "      <td>1.347159</td>\n",
       "      <td>4.844187</td>\n",
       "      <td>5.765191</td>\n",
       "      <td>6.687109</td>\n",
       "    </tr>\n",
       "  </tbody>\n",
       "</table>\n",
       "</div>"
      ],
      "text/plain": [
       "               Variable    count  number_nan  number distinct        mean  \\\n",
       "0         is_video_user  54584.0           0                2    0.042632   \n",
       "1            video_freq   2327.0       52257               10    1.240653   \n",
       "2             call_freq  54584.0           0               64    1.852777   \n",
       "3        video_interval  54584.0           0              121    2.570533   \n",
       "4         call_interval  54584.0           0             5886    5.825610   \n",
       "5   expected_video_time  54584.0           0              134   -0.494174   \n",
       "6    expected_call_time  54584.0           0            15135  -10.210786   \n",
       "7             last_bill  54584.0           0              189   64.729335   \n",
       "8             next_bill  54584.0           0              189   64.729335   \n",
       "9        multiple_video  54584.0           0                2    0.021563   \n",
       "10     multiple_carrier  54584.0           0                2    0.277444   \n",
       "11            uniq_urls  54584.0           0              207   86.569343   \n",
       "12            num_texts  54584.0           0             4628  720.657592   \n",
       "13             is_churn  54584.0           0                2    0.004635   \n",
       "14        log_num_texts  54584.0           0             4628    5.741782   \n",
       "\n",
       "            max       min          std         25%         50%         75%  \n",
       "0       1.00000    0.0000     0.202027    0.000000    0.000000    0.000000  \n",
       "1      15.00000    1.0000     0.782228    1.000000    1.000000    1.000000  \n",
       "2      84.00000    0.0000     2.921820    1.000000    1.000000    2.000000  \n",
       "3     120.00000    0.0000    14.162418    0.000000    0.000000    0.000000  \n",
       "4     184.91670    0.0000    17.595442    0.000000    0.000000    0.104167  \n",
       "5      55.00000  -78.0000     8.411089    0.000000    0.000000    0.000000  \n",
       "6      91.40192 -187.6156    31.879722    0.000000    0.000000    0.000000  \n",
       "7     188.00000    0.0000    53.476658   18.000000   51.000000  105.000000  \n",
       "8     188.00000    0.0000    53.476658   18.000000   51.000000  105.000000  \n",
       "9       1.00000    0.0000     0.145253    0.000000    0.000000    0.000000  \n",
       "10      1.00000    0.0000     0.447742    0.000000    0.000000    1.000000  \n",
       "11    206.00000   -1.0000    61.969765   30.000000   75.000000  155.000000  \n",
       "12  37091.00000    1.0000  1275.727306  127.000000  319.000000  802.000000  \n",
       "13      1.00000    0.0000     0.067924    0.000000    0.000000    0.000000  \n",
       "14     10.52113    0.0000     1.347159    4.844187    5.765191    6.687109  "
      ]
     },
     "execution_count": 17,
     "metadata": {},
     "output_type": "execute_result"
    }
   ],
   "source": [
    "print(\"No values in getDfSummary output contain NaN whereas video_freq column contains 52257 NaN(s) out of 54584\\n\")\n",
    "ads_processed"
   ]
  },
  {
   "cell_type": "markdown",
   "metadata": {
    "id": "Ir0uvV-gbLvo"
   },
   "source": [
    ">>**5**\\. **(4 Points)** *For the fields with missing values, does it look like the data is missing at random? Are there any other fields that correlate perfectly, or predict that the data is missing? If missing, what should the data value be?*\n",
    "\n",
    ">>**Hint:** *create another data frame that has just the records with a missing value. Get a summary of this data frame using `getDfSummary()` and compare the differences. Do some feature distributions change dramatically?*\n",
    "\n",
    ">>---\n",
    "\n"
   ]
  },
  {
   "cell_type": "code",
   "execution_count": 10,
   "metadata": {},
   "outputs": [
    {
     "data": {
      "text/html": [
       "<div>\n",
       "<style scoped>\n",
       "    .dataframe tbody tr th:only-of-type {\n",
       "        vertical-align: middle;\n",
       "    }\n",
       "\n",
       "    .dataframe tbody tr th {\n",
       "        vertical-align: top;\n",
       "    }\n",
       "\n",
       "    .dataframe thead th {\n",
       "        text-align: right;\n",
       "    }\n",
       "</style>\n",
       "<table border=\"1\" class=\"dataframe\">\n",
       "  <thead>\n",
       "    <tr style=\"text-align: right;\">\n",
       "      <th></th>\n",
       "      <th>Variable</th>\n",
       "      <th>count</th>\n",
       "      <th>number_nan</th>\n",
       "      <th>number distinct</th>\n",
       "      <th>mean</th>\n",
       "      <th>max</th>\n",
       "      <th>min</th>\n",
       "      <th>std</th>\n",
       "      <th>25%</th>\n",
       "      <th>50%</th>\n",
       "      <th>75%</th>\n",
       "    </tr>\n",
       "  </thead>\n",
       "  <tbody>\n",
       "    <tr>\n",
       "      <th>0</th>\n",
       "      <td>is_video_user</td>\n",
       "      <td>52257.0</td>\n",
       "      <td>0</td>\n",
       "      <td>1</td>\n",
       "      <td>0.000000</td>\n",
       "      <td>0.00000</td>\n",
       "      <td>0.0000</td>\n",
       "      <td>0.000000</td>\n",
       "      <td>0.0</td>\n",
       "      <td>0.0</td>\n",
       "      <td>0.000000</td>\n",
       "    </tr>\n",
       "    <tr>\n",
       "      <th>1</th>\n",
       "      <td>video_freq</td>\n",
       "      <td>0.0</td>\n",
       "      <td>52257</td>\n",
       "      <td>0</td>\n",
       "      <td>NaN</td>\n",
       "      <td>NaN</td>\n",
       "      <td>NaN</td>\n",
       "      <td>NaN</td>\n",
       "      <td>NaN</td>\n",
       "      <td>NaN</td>\n",
       "      <td>NaN</td>\n",
       "    </tr>\n",
       "    <tr>\n",
       "      <th>2</th>\n",
       "      <td>call_freq</td>\n",
       "      <td>52257.0</td>\n",
       "      <td>0</td>\n",
       "      <td>48</td>\n",
       "      <td>1.651549</td>\n",
       "      <td>84.00000</td>\n",
       "      <td>1.0000</td>\n",
       "      <td>2.147955</td>\n",
       "      <td>1.0</td>\n",
       "      <td>1.0</td>\n",
       "      <td>2.000000</td>\n",
       "    </tr>\n",
       "    <tr>\n",
       "      <th>3</th>\n",
       "      <td>video_interval</td>\n",
       "      <td>52257.0</td>\n",
       "      <td>0</td>\n",
       "      <td>1</td>\n",
       "      <td>0.000000</td>\n",
       "      <td>0.00000</td>\n",
       "      <td>0.0000</td>\n",
       "      <td>0.000000</td>\n",
       "      <td>0.0</td>\n",
       "      <td>0.0</td>\n",
       "      <td>0.000000</td>\n",
       "    </tr>\n",
       "    <tr>\n",
       "      <th>4</th>\n",
       "      <td>call_interval</td>\n",
       "      <td>52257.0</td>\n",
       "      <td>0</td>\n",
       "      <td>5112</td>\n",
       "      <td>5.686388</td>\n",
       "      <td>184.91670</td>\n",
       "      <td>0.0000</td>\n",
       "      <td>17.623555</td>\n",
       "      <td>0.0</td>\n",
       "      <td>0.0</td>\n",
       "      <td>0.041667</td>\n",
       "    </tr>\n",
       "    <tr>\n",
       "      <th>5</th>\n",
       "      <td>expected_video_time</td>\n",
       "      <td>52257.0</td>\n",
       "      <td>0</td>\n",
       "      <td>1</td>\n",
       "      <td>0.000000</td>\n",
       "      <td>0.00000</td>\n",
       "      <td>0.0000</td>\n",
       "      <td>0.000000</td>\n",
       "      <td>0.0</td>\n",
       "      <td>0.0</td>\n",
       "      <td>0.000000</td>\n",
       "    </tr>\n",
       "    <tr>\n",
       "      <th>6</th>\n",
       "      <td>expected_call_time</td>\n",
       "      <td>52257.0</td>\n",
       "      <td>0</td>\n",
       "      <td>13351</td>\n",
       "      <td>-9.669298</td>\n",
       "      <td>91.40192</td>\n",
       "      <td>-187.6156</td>\n",
       "      <td>31.239030</td>\n",
       "      <td>0.0</td>\n",
       "      <td>0.0</td>\n",
       "      <td>0.000000</td>\n",
       "    </tr>\n",
       "    <tr>\n",
       "      <th>7</th>\n",
       "      <td>last_bill</td>\n",
       "      <td>52257.0</td>\n",
       "      <td>0</td>\n",
       "      <td>189</td>\n",
       "      <td>65.741317</td>\n",
       "      <td>188.00000</td>\n",
       "      <td>0.0000</td>\n",
       "      <td>53.484622</td>\n",
       "      <td>19.0</td>\n",
       "      <td>52.0</td>\n",
       "      <td>106.000000</td>\n",
       "    </tr>\n",
       "    <tr>\n",
       "      <th>8</th>\n",
       "      <td>next_bill</td>\n",
       "      <td>52257.0</td>\n",
       "      <td>0</td>\n",
       "      <td>189</td>\n",
       "      <td>65.741317</td>\n",
       "      <td>188.00000</td>\n",
       "      <td>0.0000</td>\n",
       "      <td>53.484622</td>\n",
       "      <td>19.0</td>\n",
       "      <td>52.0</td>\n",
       "      <td>106.000000</td>\n",
       "    </tr>\n",
       "    <tr>\n",
       "      <th>9</th>\n",
       "      <td>multiple_video</td>\n",
       "      <td>52257.0</td>\n",
       "      <td>0</td>\n",
       "      <td>1</td>\n",
       "      <td>0.000000</td>\n",
       "      <td>0.00000</td>\n",
       "      <td>0.0000</td>\n",
       "      <td>0.000000</td>\n",
       "      <td>0.0</td>\n",
       "      <td>0.0</td>\n",
       "      <td>0.000000</td>\n",
       "    </tr>\n",
       "    <tr>\n",
       "      <th>10</th>\n",
       "      <td>multiple_carrier</td>\n",
       "      <td>52257.0</td>\n",
       "      <td>0</td>\n",
       "      <td>2</td>\n",
       "      <td>0.255602</td>\n",
       "      <td>1.00000</td>\n",
       "      <td>0.0000</td>\n",
       "      <td>0.436203</td>\n",
       "      <td>0.0</td>\n",
       "      <td>0.0</td>\n",
       "      <td>1.000000</td>\n",
       "    </tr>\n",
       "    <tr>\n",
       "      <th>11</th>\n",
       "      <td>uniq_urls</td>\n",
       "      <td>52257.0</td>\n",
       "      <td>0</td>\n",
       "      <td>207</td>\n",
       "      <td>86.656180</td>\n",
       "      <td>206.00000</td>\n",
       "      <td>-1.0000</td>\n",
       "      <td>61.996711</td>\n",
       "      <td>30.0</td>\n",
       "      <td>75.0</td>\n",
       "      <td>155.000000</td>\n",
       "    </tr>\n",
       "    <tr>\n",
       "      <th>12</th>\n",
       "      <td>num_texts</td>\n",
       "      <td>52257.0</td>\n",
       "      <td>0</td>\n",
       "      <td>4570</td>\n",
       "      <td>721.848518</td>\n",
       "      <td>37091.00000</td>\n",
       "      <td>1.0000</td>\n",
       "      <td>1284.504018</td>\n",
       "      <td>126.0</td>\n",
       "      <td>318.0</td>\n",
       "      <td>803.000000</td>\n",
       "    </tr>\n",
       "    <tr>\n",
       "      <th>13</th>\n",
       "      <td>is_churn</td>\n",
       "      <td>52257.0</td>\n",
       "      <td>0</td>\n",
       "      <td>2</td>\n",
       "      <td>0.003024</td>\n",
       "      <td>1.00000</td>\n",
       "      <td>0.0000</td>\n",
       "      <td>0.054904</td>\n",
       "      <td>0.0</td>\n",
       "      <td>0.0</td>\n",
       "      <td>0.000000</td>\n",
       "    </tr>\n",
       "  </tbody>\n",
       "</table>\n",
       "</div>"
      ],
      "text/plain": [
       "               Variable    count  number_nan  number distinct        mean  \\\n",
       "0         is_video_user  52257.0           0                1    0.000000   \n",
       "1            video_freq      0.0       52257                0         NaN   \n",
       "2             call_freq  52257.0           0               48    1.651549   \n",
       "3        video_interval  52257.0           0                1    0.000000   \n",
       "4         call_interval  52257.0           0             5112    5.686388   \n",
       "5   expected_video_time  52257.0           0                1    0.000000   \n",
       "6    expected_call_time  52257.0           0            13351   -9.669298   \n",
       "7             last_bill  52257.0           0              189   65.741317   \n",
       "8             next_bill  52257.0           0              189   65.741317   \n",
       "9        multiple_video  52257.0           0                1    0.000000   \n",
       "10     multiple_carrier  52257.0           0                2    0.255602   \n",
       "11            uniq_urls  52257.0           0              207   86.656180   \n",
       "12            num_texts  52257.0           0             4570  721.848518   \n",
       "13             is_churn  52257.0           0                2    0.003024   \n",
       "\n",
       "            max       min          std    25%    50%         75%  \n",
       "0       0.00000    0.0000     0.000000    0.0    0.0    0.000000  \n",
       "1           NaN       NaN          NaN    NaN    NaN         NaN  \n",
       "2      84.00000    1.0000     2.147955    1.0    1.0    2.000000  \n",
       "3       0.00000    0.0000     0.000000    0.0    0.0    0.000000  \n",
       "4     184.91670    0.0000    17.623555    0.0    0.0    0.041667  \n",
       "5       0.00000    0.0000     0.000000    0.0    0.0    0.000000  \n",
       "6      91.40192 -187.6156    31.239030    0.0    0.0    0.000000  \n",
       "7     188.00000    0.0000    53.484622   19.0   52.0  106.000000  \n",
       "8     188.00000    0.0000    53.484622   19.0   52.0  106.000000  \n",
       "9       0.00000    0.0000     0.000000    0.0    0.0    0.000000  \n",
       "10      1.00000    0.0000     0.436203    0.0    0.0    1.000000  \n",
       "11    206.00000   -1.0000    61.996711   30.0   75.0  155.000000  \n",
       "12  37091.00000    1.0000  1284.504018  126.0  318.0  803.000000  \n",
       "13      1.00000    0.0000     0.054904    0.0    0.0    0.000000  "
      ]
     },
     "metadata": {},
     "output_type": "display_data"
    },
    {
     "name": "stdout",
     "output_type": "stream",
     "text": [
      "\n",
      "\n",
      "\n",
      "\n",
      "BEFORE\n",
      "NaN     52257\n",
      "1.0      1980\n",
      "2.0       244\n",
      "3.0        55\n",
      "4.0        20\n",
      "5.0        17\n",
      "6.0         5\n",
      "11.0        2\n",
      "7.0         2\n",
      "15.0        1\n",
      "8.0         1\n",
      "Name: video_freq, dtype: int64\n",
      "\n",
      "\n",
      "\n",
      "\n",
      "AFTER\n",
      "NaN    52257\n",
      "Name: video_freq, dtype: int64\n"
     ]
    }
   ],
   "source": [
    "ads_null = ads.isnull()\n",
    "ads_has_NaN = ads_null.any(axis=1)\n",
    "ads_has_NaN_rows = ads[ads_has_NaN]\n",
    "\n",
    "\n",
    "ads_has_NaN_processsed = getDfSummary(ads_has_NaN_rows)\n",
    "\n",
    "display(ads_has_NaN_processsed)\n",
    "print(\"\\n\\n\\n\")\n",
    "print(\"BEFORE\")\n",
    "print(ads[\"video_freq\"].value_counts(dropna=False))\n",
    "print(\"\\n\\n\\n\")\n",
    "print(\"AFTER\")\n",
    "print(ads_has_NaN_rows[\"video_freq\"].value_counts(dropna=False))"
   ]
  },
  {
   "cell_type": "code",
   "execution_count": 11,
   "metadata": {},
   "outputs": [
    {
     "name": "stdout",
     "output_type": "stream",
     "text": [
      "Question : For the fields with missing values, does it look like the data is missing at random?\n",
      "Answer : Nope not in random\n",
      "\n",
      "\n",
      "\n",
      "Question : Are there any other fields that correlate perfectly, or predict that the d--ata is missing? If missing, what should the data value be?\n",
      "Answer : video_freq is NaN when there is no corresponding is_video_user = 0 and video_interval =0 so possible value for video_freq could be any number that is not possible at all like 0 or any negative number or even text 'Not Applicable' that shows its not possible to have a video_freq when there is no video\n"
     ]
    }
   ],
   "source": [
    "print(\"Question : For the fields with missing values, does it look like the data is missing at random?\")\n",
    "print(\"Answer : Nope not in random\")\n",
    "print(\"\\n\\n\")\n",
    "print(\"Question : Are there any other fields that correlate perfectly, or predict that the d--ata is missing? If missing, what should the data value be?\")\n",
    "print(\"Answer : video_freq is NaN when there is no corresponding is_video_user = 0 and video_interval =0 so possible value for video_freq could be any number that is not possible at all like 0 or any negative number or even text 'Not Applicable' that shows its not possible to have a video_freq when there is no video\")"
   ]
  },
  {
   "cell_type": "code",
   "execution_count": null,
   "metadata": {},
   "outputs": [],
   "source": []
  },
  {
   "cell_type": "markdown",
   "metadata": {
    "id": "yc1BQexKbLvo"
   },
   "source": [
    ">>**6**\\. (**2 Points)** *Which variables are binary?*\n",
    "\n",
    "\n"
   ]
  },
  {
   "cell_type": "code",
   "execution_count": 12,
   "metadata": {
    "id": "r9TsiNgZbLvp"
   },
   "outputs": [
    {
     "name": "stdout",
     "output_type": "stream",
     "text": [
      "['is_video_user', 'multiple_video', 'multiple_carrier', 'is_churn']\n"
     ]
    }
   ],
   "source": [
    "# Place your code here\n",
    "binary_cols = [col for col in ads.columns if len(ads[col].unique())==2]\n",
    "print(binary_cols)"
   ]
  },
  {
   "cell_type": "markdown",
   "metadata": {
    "id": "ufgrdnbUbLvp"
   },
   "source": [
    ">>**7**\\. **(0.5 Point)** *Let's take a deeper look into one of the features, the `num_texts`, which stands for the number of text messages. Let's try and understand the distribution of this field. We can do this using the hist() method and matplotlib. Draw a histogram graph of `num_texts` from the dataframe `ads`, set the title of the graph as `'Histogram of Number of Texts'`.*"
   ]
  },
  {
   "cell_type": "code",
   "execution_count": 13,
   "metadata": {
    "id": "eAylkv_KbLvp"
   },
   "outputs": [
    {
     "data": {
      "image/png": "[encoded data removed]",
      "text/plain": [
       "<Figure size 640x480 with 1 Axes>"
      ]
     },
     "metadata": {},
     "output_type": "display_data"
    }
   ],
   "source": [
    "# Place your code here\n",
    "import matplotlib.pyplot as plt\n",
    "ax = ads[\"num_texts\"].plot(kind='hist')\n",
    "plt.title('Histogram of Number of Texts')\n",
    "plt.show()"
   ]
  },
  {
   "cell_type": "markdown",
   "metadata": {
    "id": "1HATKInIbLvp"
   },
   "source": [
    ">>**8**\\. **(1.5 Point)** *How would you characterize the shape of this distribution? Is there anything we can do to the texts variable to make the distribution more bell curved?*\n",
    "\n",
    ">>**Hint:** *Let's create a new column in the dataframe called `'log_num_texts'` and print a histogram `'Histogram of Log(Num Texts)'` of it. What might be some advantages of making such a transformation?*"
   ]
  },
  {
   "cell_type": "code",
   "execution_count": 14,
   "metadata": {
    "id": "M44w3jNLbLvp"
   },
   "outputs": [
    {
     "name": "stdout",
     "output_type": "stream",
     "text": [
      "How would you characterize the shape of this distribution? Is there anything we can do to the texts variable to make the distribution more bell curved?\n",
      "The graph is more left inclined by that I mean majority of values exist between 0-5k than from 5k-38k\n",
      "\n",
      "\n",
      "\n",
      "\n"
     ]
    },
    {
     "data": {
      "image/png": "[encoded data removed]",
      "text/plain": [
       "<Figure size 640x480 with 1 Axes>"
      ]
     },
     "metadata": {},
     "output_type": "display_data"
    },
    {
     "name": "stdout",
     "output_type": "stream",
     "text": [
      "\n",
      "\n",
      "\n",
      "\n",
      "Mean  5.741782004917109\n",
      "Mode  4.248495242049359\n",
      "Median  5.765191102784844\n",
      "Was just checking if its normal distribution\n"
     ]
    }
   ],
   "source": [
    "# Place your code and response here\n",
    "import matplotlib.pyplot as plt\n",
    "import math\n",
    "import numpy as np\n",
    "\n",
    "print(\"How would you characterize the shape of this distribution? Is there anything we can do to the texts variable to make the distribution more bell curved?\")\n",
    "print(\"The graph is more left inclined by that I mean majority of values exist between 0-5k than from 5k-38k\")\n",
    "print(\"\\n\\n\\n\")\n",
    "\n",
    "\n",
    "ads[\"log_num_texts\"] = np.log(ads[\"num_texts\"])\n",
    "ax = ads[\"log_num_texts\"].plot(kind='hist')\n",
    "plt.title('Histogram of Log(Num Texts)')\n",
    "plt.show()\n",
    "print(\"\\n\\n\\n\")\n",
    "\n",
    "\n",
    "import statistics\n",
    "print(\"Mean \", ads[\"log_num_texts\"].describe()[\"mean\"])\n",
    "print(\"Mode \", statistics.mode(ads[\"log_num_texts\"]))\n",
    "print(\"Median \",statistics.median(ads[\"log_num_texts\"]))\n",
    "print(\"Was just checking if its normal distribution\")\n"
   ]
  },
  {
   "cell_type": "markdown",
   "metadata": {
    "id": "PF884TNzbLvp"
   },
   "source": [
    "##  **End of Homework 0**"
   ]
  },
  {
   "cell_type": "code",
   "execution_count": null,
   "metadata": {},
   "outputs": [],
   "source": []
  }
 ],
 "metadata": {
  "anaconda-cloud": {},
  "colab": {
   "collapsed_sections": [],
   "provenance": []
  },
  "kernelspec": {
   "display_name": "Python 3 (ipykernel)",
   "language": "python",
   "name": "python3"
  },
  "language_info": {
   "codemirror_mode": {
    "name": "ipython",
    "version": 3
   },
   "file_extension": ".py",
   "mimetype": "text/x-python",
   "name": "python",
   "nbconvert_exporter": "python",
   "pygments_lexer": "ipython3",
   "version": "3.8.9"
  }
 },
 "nbformat": 4,
 "nbformat_minor": 4
}
