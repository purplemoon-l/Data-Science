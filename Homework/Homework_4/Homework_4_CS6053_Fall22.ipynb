{
 "cells": [
  {
   "cell_type": "markdown",
   "metadata": {
    "id": "cfWyuZ_IaO-P"
   },
   "source": [
    "# Foundation of Data Science (25 points)\n",
    "## Homework 4 "
   ]
  },
  {
   "cell_type": "markdown",
   "metadata": {
    "id": "22PYkUOlaO-T"
   },
   "source": [
    "Student Name: Yamini Lakshmi Narasimhan\n",
    "\n",
    "Student Netid: yl9822\n",
    "***"
   ]
  },
  {
   "cell_type": "markdown",
   "metadata": {
    "id": "ISZWB6vTaO-T"
   },
   "source": [
    "### Part 1: Critique this plan (10 points)\n",
    "1\\. After a few beers your CIO invited his buddy from Green Berry consulting to propose a project using data mining to improve the targeting of the new service that you have been a principal in developing. The service has been quite successful so far, being marketed over the last 6 months via your ingenious, and very inexpensive, word-of-mouth campaign. You've already garnered a pretty large customer base without any targeting, and you've been seeing this success as your best stepping stone to bigger and better things in the firm. \n",
    "\n",
    "After some reflection, you've decided that your best course of action is to play a key role in ensuring the success of this data mining project as well. You agree with your CIO's statement in a meeting with Green Berry, that accurate targeting might cost-effectively expand your audience substantially to consumers that word-of-mouth would not reach. You accept that what Green Berry says about the characteristics of your service is accurate.\n",
    "\n",
    "Based on what we have covered in class, identify the four most serious weaknesses/flaws in this abridged version of Green Berry's proposal, and suggest how to ameliorate them.  Your answer should be 4 bullet points, each comprising 2-4 sentences: 1-2 sentences stating each weakness, and 1-2 sentences suggesting a better alternative.  Maximal credit will be given when the 4 points are as independent as possible.\n",
    "\n",
    "\n",
    "```\n",
    "--- -------------------------------------------------------------------------- ---\n",
    "                            Targeted Audience Expansion             \n",
    "                      Prepared by Green Berry Consulting, Inc.\n",
    "\n",
    "Your problem is to expand the audience of your new service.  We (Green Berry) have a \n",
    "large database of consumers who can be targeted.  We will build a predictive model \n",
    "to estimate which of these consumers are the most likely to adopt the product, and\n",
    "then target them with the special offer you have designed.\n",
    "\n",
    "More specifically, we will build a decision tree (DT) model to predict adop-\n",
    "tion of the service by a consumer, based on the data on your current customers of \n",
    "this service.  The model will be based on their demographics and their usage of \n",
    "the service. We believe that DT is the best choice of method be-\n",
    "cause it is a tried-and-true modeling technique, and we can easily \n",
    "interpret the model to infer whether the attributes make sense. We will apply the model to our large \n",
    "database of consumers, and select out those who have not yet subscribed and whom\n",
    "the DT model predicts to be likely to subscribe.  To these we will send \n",
    "the targeted offer. As this is a fixed-profit-per-customer service, this also \n",
    "will in effect rank them by expected profit.\n",
    "--- -------------------------------------------------------------------------- ---\n",
    "```"
   ]
  },
  {
   "cell_type": "markdown",
   "metadata": {
    "id": "9EsboGuO-Q1u"
   },
   "source": [
    "**Write your answer here.**"
   ]
  },
  {
   "cell_type": "markdown",
   "metadata": {
    "id": "4SnyptqvaO-c"
   },
   "source": [
    "### Part 2: Working with Time Series (15 points + option for 4 bonus points)\n",
    "\n",
    "Here we will analyze a timeseries of number of Yellow Fever cases from a specific Asian country by year. The data is from 1700 – 2008 (use file cases.csv for this section)."
   ]
  },
  {
   "cell_type": "markdown",
   "metadata": {
    "id": "ABtgguSaaO-c"
   },
   "source": [
    "1\\. Load the timeseries data set, and prepare the dataset by converting the variables to date-time format (hint: use date tools and the library statsmodels). (1 point)"
   ]
  },
  {
   "cell_type": "code",
   "execution_count": 23,
   "metadata": {
    "id": "l-jil5EzaO-c"
   },
   "outputs": [
    {
     "data": {
      "text/html": [
       "<div>\n",
       "<style scoped>\n",
       "    .dataframe tbody tr th:only-of-type {\n",
       "        vertical-align: middle;\n",
       "    }\n",
       "\n",
       "    .dataframe tbody tr th {\n",
       "        vertical-align: top;\n",
       "    }\n",
       "\n",
       "    .dataframe thead th {\n",
       "        text-align: right;\n",
       "    }\n",
       "</style>\n",
       "<table border=\"1\" class=\"dataframe\">\n",
       "  <thead>\n",
       "    <tr style=\"text-align: right;\">\n",
       "      <th></th>\n",
       "      <th>YEAR</th>\n",
       "      <th>YFCASES</th>\n",
       "      <th>YEAR_date</th>\n",
       "    </tr>\n",
       "  </thead>\n",
       "  <tbody>\n",
       "    <tr>\n",
       "      <th>0</th>\n",
       "      <td>1700</td>\n",
       "      <td>5.0</td>\n",
       "      <td>1970-01-01 00:00:00.000001700</td>\n",
       "    </tr>\n",
       "    <tr>\n",
       "      <th>1</th>\n",
       "      <td>1701</td>\n",
       "      <td>11.0</td>\n",
       "      <td>1970-01-01 00:00:00.000001701</td>\n",
       "    </tr>\n",
       "    <tr>\n",
       "      <th>2</th>\n",
       "      <td>1702</td>\n",
       "      <td>16.0</td>\n",
       "      <td>1970-01-01 00:00:00.000001702</td>\n",
       "    </tr>\n",
       "    <tr>\n",
       "      <th>3</th>\n",
       "      <td>1703</td>\n",
       "      <td>23.0</td>\n",
       "      <td>1970-01-01 00:00:00.000001703</td>\n",
       "    </tr>\n",
       "    <tr>\n",
       "      <th>4</th>\n",
       "      <td>1704</td>\n",
       "      <td>36.0</td>\n",
       "      <td>1970-01-01 00:00:00.000001704</td>\n",
       "    </tr>\n",
       "    <tr>\n",
       "      <th>...</th>\n",
       "      <td>...</td>\n",
       "      <td>...</td>\n",
       "      <td>...</td>\n",
       "    </tr>\n",
       "    <tr>\n",
       "      <th>304</th>\n",
       "      <td>2004</td>\n",
       "      <td>40.4</td>\n",
       "      <td>1970-01-01 00:00:00.000002004</td>\n",
       "    </tr>\n",
       "    <tr>\n",
       "      <th>305</th>\n",
       "      <td>2005</td>\n",
       "      <td>29.8</td>\n",
       "      <td>1970-01-01 00:00:00.000002005</td>\n",
       "    </tr>\n",
       "    <tr>\n",
       "      <th>306</th>\n",
       "      <td>2006</td>\n",
       "      <td>15.2</td>\n",
       "      <td>1970-01-01 00:00:00.000002006</td>\n",
       "    </tr>\n",
       "    <tr>\n",
       "      <th>307</th>\n",
       "      <td>2007</td>\n",
       "      <td>7.5</td>\n",
       "      <td>1970-01-01 00:00:00.000002007</td>\n",
       "    </tr>\n",
       "    <tr>\n",
       "      <th>308</th>\n",
       "      <td>2008</td>\n",
       "      <td>2.9</td>\n",
       "      <td>1970-01-01 00:00:00.000002008</td>\n",
       "    </tr>\n",
       "  </tbody>\n",
       "</table>\n",
       "<p>309 rows × 3 columns</p>\n",
       "</div>"
      ],
      "text/plain": [
       "     YEAR  YFCASES                     YEAR_date\n",
       "0    1700      5.0 1970-01-01 00:00:00.000001700\n",
       "1    1701     11.0 1970-01-01 00:00:00.000001701\n",
       "2    1702     16.0 1970-01-01 00:00:00.000001702\n",
       "3    1703     23.0 1970-01-01 00:00:00.000001703\n",
       "4    1704     36.0 1970-01-01 00:00:00.000001704\n",
       "..    ...      ...                           ...\n",
       "304  2004     40.4 1970-01-01 00:00:00.000002004\n",
       "305  2005     29.8 1970-01-01 00:00:00.000002005\n",
       "306  2006     15.2 1970-01-01 00:00:00.000002006\n",
       "307  2007      7.5 1970-01-01 00:00:00.000002007\n",
       "308  2008      2.9 1970-01-01 00:00:00.000002008\n",
       "\n",
       "[309 rows x 3 columns]"
      ]
     },
     "execution_count": 23,
     "metadata": {},
     "output_type": "execute_result"
    }
   ],
   "source": [
    "#write your code here\n",
    "import pandas as pd\n",
    "from datetime import datetime\n",
    "df = pd.read_csv(\"./cases (2).csv\")\n",
    "a = df[\"YEAR\"][0]\n",
    "\n",
    "df['YEAR_date'] = pd.to_datetime(df['YEAR'])\n",
    "df\n",
    "\n",
    "#df[\"YEAR_date\"] = date_object = datetime.strptime(df[\"YEAR\"].astype(str), '%Y').date().year"
   ]
  },
  {
   "cell_type": "markdown",
   "metadata": {
    "id": "E2NaDCfD78vV"
   },
   "source": [
    "2\\. Plot the autocorrelation function (ACF) for the cases timeseries (hint: use statsmodels plot_acf for that). (2 points)\n",
    "\n",
    "To learn more about how to interpret these graphs, you may find this useful: https://medium.com/analytics-vidhya/interpreting-acf-or-auto-correlation-plot-d12e9051cd14"
   ]
  },
  {
   "cell_type": "code",
   "execution_count": null,
   "metadata": {
    "id": "voyyfG2f-gkJ"
   },
   "outputs": [],
   "source": [
    "#write your code here"
   ]
  },
  {
   "cell_type": "markdown",
   "metadata": {
    "id": "hZH0NvHJaO-d"
   },
   "source": [
    "3\\. An approach to assess the presence of a significant autocorrelation in the data is to use the Durbin-Waton (DW) statistic. The value of the DW statistic is close to 2 if the errors are uncorrelated. What is the DW for our data? Does this suggest that the data has a relatively high or a relatively low autocorrelation? (2 point) "
   ]
  },
  {
   "cell_type": "code",
   "execution_count": null,
   "metadata": {
    "id": "jWMRwxXtaO-d"
   },
   "outputs": [],
   "source": [
    "#write your code here\n"
   ]
  },
  {
   "cell_type": "markdown",
   "metadata": {
    "id": "iaWlmShPS_K2"
   },
   "source": [
    "4. Now we will make a forecast on this time series. What time horizon will you use and how do you pick it? (2 points)"
   ]
  },
  {
   "cell_type": "code",
   "execution_count": null,
   "metadata": {
    "id": "BJbIJW47TWXe"
   },
   "outputs": [],
   "source": [
    "#place your code here"
   ]
  },
  {
   "cell_type": "markdown",
   "metadata": {
    "id": "iTY7B-HMaHYQ"
   },
   "source": [
    ">> Place your analysis here"
   ]
  },
  {
   "cell_type": "markdown",
   "metadata": {
    "id": "FTgrWBePTYh0"
   },
   "source": [
    "5. Now use a simple moving average. Show plots for a forecast for your horizon with a series of different averaging windows, to show how you can pick one (3 points)"
   ]
  },
  {
   "cell_type": "code",
   "execution_count": null,
   "metadata": {
    "id": "cnuEInvXTgok"
   },
   "outputs": [],
   "source": [
    "#place your code here"
   ]
  },
  {
   "cell_type": "markdown",
   "metadata": {
    "id": "7rQoFXoVZo_u"
   },
   "source": [
    ">> Place your analysis here"
   ]
  },
  {
   "cell_type": "markdown",
   "metadata": {
    "id": "2a_CAeLwTmF-"
   },
   "source": [
    "6. Will a weighted moving average be helpful here? (2 points)"
   ]
  },
  {
   "cell_type": "markdown",
   "metadata": {
    "id": "IG35Pw-RZwbP"
   },
   "source": [
    ">> Place your analysis here"
   ]
  },
  {
   "cell_type": "markdown",
   "metadata": {
    "id": "iCeiRAQBTuh-"
   },
   "source": [
    "7. Evaluate your selected moving average with an appropriate evaluation metric. What do you use and what does it show you? (3 points)"
   ]
  },
  {
   "cell_type": "code",
   "execution_count": null,
   "metadata": {
    "id": "GcgRV8fdT0eM"
   },
   "outputs": [],
   "source": [
    "#place your code here"
   ]
  },
  {
   "cell_type": "markdown",
   "metadata": {
    "id": "HzQO3MtNZ4k4"
   },
   "source": [
    ">> Place your analysis here"
   ]
  },
  {
   "cell_type": "markdown",
   "metadata": {
    "id": "G1Fq5-aqT3bs"
   },
   "source": [
    "8. (Bonus). You can also investigate if removing the trend and seasonal components of the time series help with forecasting. First remove those (hint, use differencing), and implement any forecasting method you like. Does it improve over the moving average? (up to 4 bonus points)."
   ]
  },
  {
   "cell_type": "code",
   "execution_count": null,
   "metadata": {
    "id": "lgZln8GjT_sj"
   },
   "outputs": [],
   "source": [
    "#place your code here"
   ]
  },
  {
   "cell_type": "markdown",
   "metadata": {
    "id": "G3C6I_wzZ7Uh"
   },
   "source": [
    ">> Place your analysis here"
   ]
  }
 ],
 "metadata": {
  "colab": {
   "collapsed_sections": [],
   "provenance": []
  },
  "kernelspec": {
   "display_name": "Python 3 (ipykernel)",
   "language": "python",
   "name": "python3"
  },
  "language_info": {
   "codemirror_mode": {
    "name": "ipython",
    "version": 3
   },
   "file_extension": ".py",
   "mimetype": "text/x-python",
   "name": "python",
   "nbconvert_exporter": "python",
   "pygments_lexer": "ipython3",
   "version": "3.8.9"
  }
 },
 "nbformat": 4,
 "nbformat_minor": 4
}
